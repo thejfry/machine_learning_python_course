{
 "cells": [
  {
   "cell_type": "markdown",
   "metadata": {},
   "source": [
    "___\n",
    "\n",
    "<a href='http://www.pieriandata.com'> <img src='../Pierian_Data_Logo.png' /></a>\n",
    "___\n",
    "# Plotly and Cufflinks"
   ]
  },
  {
   "cell_type": "markdown",
   "metadata": {},
   "source": [
    "Plotly is a library that allows you to create interactive plots that you can use in dashboards or websites (you can save them as html files or static images).\n",
    "\n",
    "## Installation\n",
    "\n",
    "In order for this all to work, you'll need to install plotly and cufflinks to call plots directly off of a pandas dataframe. These libraries are not currently available through **conda** but are available through **pip**. Install the libraries at your command line/terminal using:\n",
    "\n",
    "    pip install plotly\n",
    "    pip install cufflinks\n",
    "\n",
    "** NOTE: Make sure you only have one installation of Python on your computer when you do this, otherwise the installation may not work. **\n",
    "\n",
    "## Imports and Set-up"
   ]
  },
  {
   "cell_type": "code",
   "execution_count": 1,
   "metadata": {},
   "outputs": [],
   "source": [
    "import pandas as pd\n",
    "import numpy as np\n",
    "%matplotlib inline"
   ]
  },
  {
   "cell_type": "code",
   "execution_count": 2,
   "metadata": {},
   "outputs": [
    {
     "name": "stdout",
     "output_type": "stream",
     "text": [
      "4.4.1\n"
     ]
    }
   ],
   "source": [
    "from plotly import __version__\n",
    "from plotly.offline import download_plotlyjs, init_notebook_mode, plot, iplot\n",
    "\n",
    "print(__version__) # requires version >= 1.9.0"
   ]
  },
  {
   "cell_type": "code",
   "execution_count": 3,
   "metadata": {},
   "outputs": [],
   "source": [
    "import cufflinks as cf"
   ]
  },
  {
   "cell_type": "code",
   "execution_count": 4,
   "metadata": {},
   "outputs": [
    {
     "data": {
      "text/html": [
       "        <script type=\"text/javascript\">\n",
       "        window.PlotlyConfig = {MathJaxConfig: 'local'};\n",
       "        if (window.MathJax) {MathJax.Hub.Config({SVG: {font: \"STIX-Web\"}});}\n",
       "        if (typeof require !== 'undefined') {\n",
       "        require.undef(\"plotly\");\n",
       "        requirejs.config({\n",
       "            paths: {\n",
       "                'plotly': ['https://cdn.plot.ly/plotly-latest.min']\n",
       "            }\n",
       "        });\n",
       "        require(['plotly'], function(Plotly) {\n",
       "            window._Plotly = Plotly;\n",
       "        });\n",
       "        }\n",
       "        </script>\n",
       "        "
      ]
     },
     "metadata": {},
     "output_type": "display_data"
    }
   ],
   "source": [
    "# For Notebooks\n",
    "init_notebook_mode(connected=True)"
   ]
  },
  {
   "cell_type": "code",
   "execution_count": 10,
   "metadata": {},
   "outputs": [
    {
     "data": {
      "text/html": [
       "        <script type=\"text/javascript\">\n",
       "        window.PlotlyConfig = {MathJaxConfig: 'local'};\n",
       "        if (window.MathJax) {MathJax.Hub.Config({SVG: {font: \"STIX-Web\"}});}\n",
       "        if (typeof require !== 'undefined') {\n",
       "        require.undef(\"plotly\");\n",
       "        requirejs.config({\n",
       "            paths: {\n",
       "                'plotly': ['https://cdn.plot.ly/plotly-latest.min']\n",
       "            }\n",
       "        });\n",
       "        require(['plotly'], function(Plotly) {\n",
       "            window._Plotly = Plotly;\n",
       "        });\n",
       "        }\n",
       "        </script>\n",
       "        "
      ]
     },
     "metadata": {},
     "output_type": "display_data"
    }
   ],
   "source": [
    "# For offline use\n",
    "cf.go_offline()"
   ]
  },
  {
   "cell_type": "markdown",
   "metadata": {},
   "source": [
    "### Fake Data"
   ]
  },
  {
   "cell_type": "code",
   "execution_count": 5,
   "metadata": {},
   "outputs": [],
   "source": [
    "df = pd.DataFrame(np.random.randn(100,4),columns='A B C D'.split())"
   ]
  },
  {
   "cell_type": "code",
   "execution_count": 6,
   "metadata": {},
   "outputs": [
    {
     "data": {
      "text/html": [
       "<div>\n",
       "<style scoped>\n",
       "    .dataframe tbody tr th:only-of-type {\n",
       "        vertical-align: middle;\n",
       "    }\n",
       "\n",
       "    .dataframe tbody tr th {\n",
       "        vertical-align: top;\n",
       "    }\n",
       "\n",
       "    .dataframe thead th {\n",
       "        text-align: right;\n",
       "    }\n",
       "</style>\n",
       "<table border=\"1\" class=\"dataframe\">\n",
       "  <thead>\n",
       "    <tr style=\"text-align: right;\">\n",
       "      <th></th>\n",
       "      <th>A</th>\n",
       "      <th>B</th>\n",
       "      <th>C</th>\n",
       "      <th>D</th>\n",
       "    </tr>\n",
       "  </thead>\n",
       "  <tbody>\n",
       "    <tr>\n",
       "      <td>0</td>\n",
       "      <td>0.089024</td>\n",
       "      <td>-0.358513</td>\n",
       "      <td>-0.112759</td>\n",
       "      <td>-0.327852</td>\n",
       "    </tr>\n",
       "    <tr>\n",
       "      <td>1</td>\n",
       "      <td>-0.878715</td>\n",
       "      <td>0.896456</td>\n",
       "      <td>0.347680</td>\n",
       "      <td>-0.067858</td>\n",
       "    </tr>\n",
       "    <tr>\n",
       "      <td>2</td>\n",
       "      <td>-0.597753</td>\n",
       "      <td>0.866885</td>\n",
       "      <td>-0.422228</td>\n",
       "      <td>0.205313</td>\n",
       "    </tr>\n",
       "    <tr>\n",
       "      <td>3</td>\n",
       "      <td>1.069811</td>\n",
       "      <td>1.320110</td>\n",
       "      <td>0.553389</td>\n",
       "      <td>1.195190</td>\n",
       "    </tr>\n",
       "    <tr>\n",
       "      <td>4</td>\n",
       "      <td>-0.798892</td>\n",
       "      <td>0.852163</td>\n",
       "      <td>-1.261894</td>\n",
       "      <td>-1.397662</td>\n",
       "    </tr>\n",
       "  </tbody>\n",
       "</table>\n",
       "</div>"
      ],
      "text/plain": [
       "          A         B         C         D\n",
       "0  0.089024 -0.358513 -0.112759 -0.327852\n",
       "1 -0.878715  0.896456  0.347680 -0.067858\n",
       "2 -0.597753  0.866885 -0.422228  0.205313\n",
       "3  1.069811  1.320110  0.553389  1.195190\n",
       "4 -0.798892  0.852163 -1.261894 -1.397662"
      ]
     },
     "execution_count": 6,
     "metadata": {},
     "output_type": "execute_result"
    }
   ],
   "source": [
    "df.head()"
   ]
  },
  {
   "cell_type": "code",
   "execution_count": 7,
   "metadata": {},
   "outputs": [],
   "source": [
    "df2 = pd.DataFrame({'Category':['A','B','C'],'Values':[32,43,50]})"
   ]
  },
  {
   "cell_type": "code",
   "execution_count": 8,
   "metadata": {},
   "outputs": [
    {
     "data": {
      "text/html": [
       "<div>\n",
       "<style scoped>\n",
       "    .dataframe tbody tr th:only-of-type {\n",
       "        vertical-align: middle;\n",
       "    }\n",
       "\n",
       "    .dataframe tbody tr th {\n",
       "        vertical-align: top;\n",
       "    }\n",
       "\n",
       "    .dataframe thead th {\n",
       "        text-align: right;\n",
       "    }\n",
       "</style>\n",
       "<table border=\"1\" class=\"dataframe\">\n",
       "  <thead>\n",
       "    <tr style=\"text-align: right;\">\n",
       "      <th></th>\n",
       "      <th>Category</th>\n",
       "      <th>Values</th>\n",
       "    </tr>\n",
       "  </thead>\n",
       "  <tbody>\n",
       "    <tr>\n",
       "      <td>0</td>\n",
       "      <td>A</td>\n",
       "      <td>32</td>\n",
       "    </tr>\n",
       "    <tr>\n",
       "      <td>1</td>\n",
       "      <td>B</td>\n",
       "      <td>43</td>\n",
       "    </tr>\n",
       "    <tr>\n",
       "      <td>2</td>\n",
       "      <td>C</td>\n",
       "      <td>50</td>\n",
       "    </tr>\n",
       "  </tbody>\n",
       "</table>\n",
       "</div>"
      ],
      "text/plain": [
       "  Category  Values\n",
       "0        A      32\n",
       "1        B      43\n",
       "2        C      50"
      ]
     },
     "execution_count": 8,
     "metadata": {},
     "output_type": "execute_result"
    }
   ],
   "source": [
    "df2.head()"
   ]
  },
  {
   "cell_type": "markdown",
   "metadata": {},
   "source": [
    "## Using Cufflinks and iplot()\n",
    "\n",
    "* scatter\n",
    "* bar\n",
    "* box\n",
    "* spread\n",
    "* ratio\n",
    "* heatmap\n",
    "* surface\n",
    "* histogram\n",
    "* bubble"
   ]
  },
  {
   "cell_type": "markdown",
   "metadata": {},
   "source": [
    "## Scatter"
   ]
  },
  {
   "cell_type": "code",
   "execution_count": 11,
   "metadata": {},
   "outputs": [
    {
     "data": {
      "application/vnd.plotly.v1+json": {
       "config": {
        "linkText": "Export to plot.ly",
        "plotlyServerURL": "https://plot.ly",
        "showLink": true
       },
       "data": [
        {
         "line": {
          "color": "rgba(255, 153, 51, 1.0)",
          "dash": "solid",
          "shape": "linear",
          "width": 1.3
         },
         "marker": {
          "size": 10,
          "symbol": "circle"
         },
         "mode": "markers",
         "name": "B",
         "text": "",
         "type": "scatter",
         "x": [
          0.0890236266217388,
          -0.8787154704351006,
          -0.5977533695209157,
          1.0698110062679522,
          -0.7988921083264098,
          0.5832383049156543,
          -0.24864835278907027,
          -0.7060503899937032,
          -0.17782255970080588,
          -0.5971957707353813,
          -0.2848860906535149,
          -0.3742407187026039,
          0.4907659776092099,
          0.8454677262211716,
          -0.2397947222641649,
          -2.0292890390339724,
          -1.2343508942203125,
          -0.581627027911337,
          -1.0059985872873767,
          0.5190498956176977,
          -0.8050834897018041,
          -1.2332096157124222,
          0.24081560942118724,
          0.21907435531661296,
          1.0790880176319952,
          0.28539811590176767,
          0.7275582865688938,
          -1.3737352892335288,
          1.5015902347610783,
          -0.7633820933736835,
          0.24237512494715135,
          0.8172121522015262,
          1.8896732207751532,
          -0.6351466997131315,
          2.005318523682665,
          -0.580700518779291,
          0.7512582762225731,
          -0.8321393543297784,
          -0.3153980856329165,
          -0.02040788440319213,
          -2.2934222272134384,
          1.6394351565028256,
          -0.6005020999661731,
          -0.20898877817830225,
          -0.4939393931678909,
          -1.0223010529305525,
          -1.2450682862014761,
          -0.3750143012290298,
          -0.708562296521142,
          0.38878227084235917,
          -2.0559894255214224,
          1.4177343229429362,
          1.0125524763703015,
          0.2736842677201433,
          -1.690076207277851,
          0.5740214411230689,
          -1.4218587639089526,
          1.131981541075113,
          1.128790595206288,
          -1.7793271621875348,
          0.41361726580124564,
          0.06515589060216231,
          0.4932317233002984,
          -0.7378656158118205,
          -1.2319379637683658,
          -1.0507998526899458,
          1.0849106188488342,
          -0.2797600190915077,
          -1.4551367052371373,
          0.1544462179019029,
          -0.202836471763666,
          -0.71769159845839,
          1.2309494921041828,
          1.2092282398002012,
          0.3235255842564463,
          1.3316864092620504,
          0.1513431336912556,
          0.21827249329865175,
          -0.9835328681268078,
          -1.0362844907669773,
          -0.32551882727349163,
          -1.0723468668606093,
          -0.45027418094012583,
          1.799000436413313,
          -0.7762852907022613,
          -0.3060841118077056,
          -0.20171888994438966,
          1.1142185433582568,
          -0.2855190215679157,
          -0.7151109629949621,
          -0.15342200469247758,
          1.3878568278354564,
          -0.3913794385268874,
          -0.33413504032172014,
          1.2125676256249207,
          -0.6690852370697338,
          0.7818229887533782,
          1.1108926635943865,
          0.9868797129047022,
          0.8217126939072327
         ],
         "y": [
          -0.35851340747689664,
          0.8964559064908013,
          0.8668851979644124,
          1.3201101066639465,
          0.8521632636565618,
          0.1678193389215071,
          0.7956218856845063,
          -1.485779184225525,
          -0.9397594214955171,
          -0.7276192600413182,
          0.48133426516235733,
          -1.5591885658424542,
          -0.686558641849801,
          2.18044367413078,
          -0.8224954720950357,
          0.834264245771014,
          1.1392133327228213,
          -0.056959375116270236,
          -0.08899218349335206,
          -0.770943166891278,
          1.2796388775496115,
          -0.3275552737219343,
          -0.9163903526244046,
          1.0538233753656439,
          -0.6853188384421511,
          -0.6275853279554117,
          0.9179813481937266,
          0.5189780842294516,
          0.3712018800035291,
          -1.8252779744693999,
          -0.34236610898251557,
          -0.019428628026250238,
          -0.8881594465059595,
          0.13060694430664255,
          -0.4121062043857643,
          -0.33180243234711787,
          -0.9683207227407323,
          0.009546301482904817,
          0.1895164509826522,
          -1.372607398389755,
          -0.2182857407326223,
          -0.9615140141635607,
          -0.7493604427082969,
          -0.2067713992218754,
          0.7429830323549378,
          -0.7720878333472194,
          -0.31734743841448415,
          0.3272924971873089,
          1.1832213404981857,
          -0.33702307554729777,
          -0.7105241760247889,
          -0.029703270945312988,
          -0.004807880039269839,
          -1.9973825785516937,
          2.5737789599651775,
          0.865139824506424,
          -1.6945802437900994,
          -0.5994672286457641,
          -0.5028030406421471,
          -0.02329024402120451,
          -0.5017263309388669,
          0.5785837836357898,
          -0.10987225399527062,
          1.6049998267882604,
          1.310629774867115,
          2.0585814106620783,
          -0.37476648312106,
          -0.6251191985799067,
          0.33967135556511246,
          0.09113891525380655,
          -0.2050970211327267,
          0.9770296374343848,
          -0.13155365069047867,
          1.4927636399521946,
          0.047661367603270104,
          -0.16380451935485263,
          -0.2037109505915858,
          0.8456429731125856,
          -2.293700224952948,
          1.14918628891375,
          -1.335207693057455,
          -0.41671154448101944,
          1.199664637188824,
          -0.12133532891653313,
          -0.6475928932098416,
          2.2874969525600846,
          -0.09027141045421477,
          -1.4881781082705703,
          -1.8618720474290251,
          0.2864564719476295,
          -1.0643714350281643,
          0.532804778438827,
          0.07101988852484521,
          1.2534553647894944,
          -0.609962890435716,
          1.301392841865941,
          0.008793702127127,
          0.9942304385437866,
          0.03762531473621305,
          -2.1766597195451514
         ]
        }
       ],
       "layout": {
        "legend": {
         "bgcolor": "#F5F6F9",
         "font": {
          "color": "#4D5663"
         }
        },
        "paper_bgcolor": "#F5F6F9",
        "plot_bgcolor": "#F5F6F9",
        "template": {
         "data": {
          "bar": [
           {
            "error_x": {
             "color": "#2a3f5f"
            },
            "error_y": {
             "color": "#2a3f5f"
            },
            "marker": {
             "line": {
              "color": "#E5ECF6",
              "width": 0.5
             }
            },
            "type": "bar"
           }
          ],
          "barpolar": [
           {
            "marker": {
             "line": {
              "color": "#E5ECF6",
              "width": 0.5
             }
            },
            "type": "barpolar"
           }
          ],
          "carpet": [
           {
            "aaxis": {
             "endlinecolor": "#2a3f5f",
             "gridcolor": "white",
             "linecolor": "white",
             "minorgridcolor": "white",
             "startlinecolor": "#2a3f5f"
            },
            "baxis": {
             "endlinecolor": "#2a3f5f",
             "gridcolor": "white",
             "linecolor": "white",
             "minorgridcolor": "white",
             "startlinecolor": "#2a3f5f"
            },
            "type": "carpet"
           }
          ],
          "choropleth": [
           {
            "colorbar": {
             "outlinewidth": 0,
             "ticks": ""
            },
            "type": "choropleth"
           }
          ],
          "contour": [
           {
            "colorbar": {
             "outlinewidth": 0,
             "ticks": ""
            },
            "colorscale": [
             [
              0,
              "#0d0887"
             ],
             [
              0.1111111111111111,
              "#46039f"
             ],
             [
              0.2222222222222222,
              "#7201a8"
             ],
             [
              0.3333333333333333,
              "#9c179e"
             ],
             [
              0.4444444444444444,
              "#bd3786"
             ],
             [
              0.5555555555555556,
              "#d8576b"
             ],
             [
              0.6666666666666666,
              "#ed7953"
             ],
             [
              0.7777777777777778,
              "#fb9f3a"
             ],
             [
              0.8888888888888888,
              "#fdca26"
             ],
             [
              1,
              "#f0f921"
             ]
            ],
            "type": "contour"
           }
          ],
          "contourcarpet": [
           {
            "colorbar": {
             "outlinewidth": 0,
             "ticks": ""
            },
            "type": "contourcarpet"
           }
          ],
          "heatmap": [
           {
            "colorbar": {
             "outlinewidth": 0,
             "ticks": ""
            },
            "colorscale": [
             [
              0,
              "#0d0887"
             ],
             [
              0.1111111111111111,
              "#46039f"
             ],
             [
              0.2222222222222222,
              "#7201a8"
             ],
             [
              0.3333333333333333,
              "#9c179e"
             ],
             [
              0.4444444444444444,
              "#bd3786"
             ],
             [
              0.5555555555555556,
              "#d8576b"
             ],
             [
              0.6666666666666666,
              "#ed7953"
             ],
             [
              0.7777777777777778,
              "#fb9f3a"
             ],
             [
              0.8888888888888888,
              "#fdca26"
             ],
             [
              1,
              "#f0f921"
             ]
            ],
            "type": "heatmap"
           }
          ],
          "heatmapgl": [
           {
            "colorbar": {
             "outlinewidth": 0,
             "ticks": ""
            },
            "colorscale": [
             [
              0,
              "#0d0887"
             ],
             [
              0.1111111111111111,
              "#46039f"
             ],
             [
              0.2222222222222222,
              "#7201a8"
             ],
             [
              0.3333333333333333,
              "#9c179e"
             ],
             [
              0.4444444444444444,
              "#bd3786"
             ],
             [
              0.5555555555555556,
              "#d8576b"
             ],
             [
              0.6666666666666666,
              "#ed7953"
             ],
             [
              0.7777777777777778,
              "#fb9f3a"
             ],
             [
              0.8888888888888888,
              "#fdca26"
             ],
             [
              1,
              "#f0f921"
             ]
            ],
            "type": "heatmapgl"
           }
          ],
          "histogram": [
           {
            "marker": {
             "colorbar": {
              "outlinewidth": 0,
              "ticks": ""
             }
            },
            "type": "histogram"
           }
          ],
          "histogram2d": [
           {
            "colorbar": {
             "outlinewidth": 0,
             "ticks": ""
            },
            "colorscale": [
             [
              0,
              "#0d0887"
             ],
             [
              0.1111111111111111,
              "#46039f"
             ],
             [
              0.2222222222222222,
              "#7201a8"
             ],
             [
              0.3333333333333333,
              "#9c179e"
             ],
             [
              0.4444444444444444,
              "#bd3786"
             ],
             [
              0.5555555555555556,
              "#d8576b"
             ],
             [
              0.6666666666666666,
              "#ed7953"
             ],
             [
              0.7777777777777778,
              "#fb9f3a"
             ],
             [
              0.8888888888888888,
              "#fdca26"
             ],
             [
              1,
              "#f0f921"
             ]
            ],
            "type": "histogram2d"
           }
          ],
          "histogram2dcontour": [
           {
            "colorbar": {
             "outlinewidth": 0,
             "ticks": ""
            },
            "colorscale": [
             [
              0,
              "#0d0887"
             ],
             [
              0.1111111111111111,
              "#46039f"
             ],
             [
              0.2222222222222222,
              "#7201a8"
             ],
             [
              0.3333333333333333,
              "#9c179e"
             ],
             [
              0.4444444444444444,
              "#bd3786"
             ],
             [
              0.5555555555555556,
              "#d8576b"
             ],
             [
              0.6666666666666666,
              "#ed7953"
             ],
             [
              0.7777777777777778,
              "#fb9f3a"
             ],
             [
              0.8888888888888888,
              "#fdca26"
             ],
             [
              1,
              "#f0f921"
             ]
            ],
            "type": "histogram2dcontour"
           }
          ],
          "mesh3d": [
           {
            "colorbar": {
             "outlinewidth": 0,
             "ticks": ""
            },
            "type": "mesh3d"
           }
          ],
          "parcoords": [
           {
            "line": {
             "colorbar": {
              "outlinewidth": 0,
              "ticks": ""
             }
            },
            "type": "parcoords"
           }
          ],
          "pie": [
           {
            "automargin": true,
            "type": "pie"
           }
          ],
          "scatter": [
           {
            "marker": {
             "colorbar": {
              "outlinewidth": 0,
              "ticks": ""
             }
            },
            "type": "scatter"
           }
          ],
          "scatter3d": [
           {
            "line": {
             "colorbar": {
              "outlinewidth": 0,
              "ticks": ""
             }
            },
            "marker": {
             "colorbar": {
              "outlinewidth": 0,
              "ticks": ""
             }
            },
            "type": "scatter3d"
           }
          ],
          "scattercarpet": [
           {
            "marker": {
             "colorbar": {
              "outlinewidth": 0,
              "ticks": ""
             }
            },
            "type": "scattercarpet"
           }
          ],
          "scattergeo": [
           {
            "marker": {
             "colorbar": {
              "outlinewidth": 0,
              "ticks": ""
             }
            },
            "type": "scattergeo"
           }
          ],
          "scattergl": [
           {
            "marker": {
             "colorbar": {
              "outlinewidth": 0,
              "ticks": ""
             }
            },
            "type": "scattergl"
           }
          ],
          "scattermapbox": [
           {
            "marker": {
             "colorbar": {
              "outlinewidth": 0,
              "ticks": ""
             }
            },
            "type": "scattermapbox"
           }
          ],
          "scatterpolar": [
           {
            "marker": {
             "colorbar": {
              "outlinewidth": 0,
              "ticks": ""
             }
            },
            "type": "scatterpolar"
           }
          ],
          "scatterpolargl": [
           {
            "marker": {
             "colorbar": {
              "outlinewidth": 0,
              "ticks": ""
             }
            },
            "type": "scatterpolargl"
           }
          ],
          "scatterternary": [
           {
            "marker": {
             "colorbar": {
              "outlinewidth": 0,
              "ticks": ""
             }
            },
            "type": "scatterternary"
           }
          ],
          "surface": [
           {
            "colorbar": {
             "outlinewidth": 0,
             "ticks": ""
            },
            "colorscale": [
             [
              0,
              "#0d0887"
             ],
             [
              0.1111111111111111,
              "#46039f"
             ],
             [
              0.2222222222222222,
              "#7201a8"
             ],
             [
              0.3333333333333333,
              "#9c179e"
             ],
             [
              0.4444444444444444,
              "#bd3786"
             ],
             [
              0.5555555555555556,
              "#d8576b"
             ],
             [
              0.6666666666666666,
              "#ed7953"
             ],
             [
              0.7777777777777778,
              "#fb9f3a"
             ],
             [
              0.8888888888888888,
              "#fdca26"
             ],
             [
              1,
              "#f0f921"
             ]
            ],
            "type": "surface"
           }
          ],
          "table": [
           {
            "cells": {
             "fill": {
              "color": "#EBF0F8"
             },
             "line": {
              "color": "white"
             }
            },
            "header": {
             "fill": {
              "color": "#C8D4E3"
             },
             "line": {
              "color": "white"
             }
            },
            "type": "table"
           }
          ]
         },
         "layout": {
          "annotationdefaults": {
           "arrowcolor": "#2a3f5f",
           "arrowhead": 0,
           "arrowwidth": 1
          },
          "coloraxis": {
           "colorbar": {
            "outlinewidth": 0,
            "ticks": ""
           }
          },
          "colorscale": {
           "diverging": [
            [
             0,
             "#8e0152"
            ],
            [
             0.1,
             "#c51b7d"
            ],
            [
             0.2,
             "#de77ae"
            ],
            [
             0.3,
             "#f1b6da"
            ],
            [
             0.4,
             "#fde0ef"
            ],
            [
             0.5,
             "#f7f7f7"
            ],
            [
             0.6,
             "#e6f5d0"
            ],
            [
             0.7,
             "#b8e186"
            ],
            [
             0.8,
             "#7fbc41"
            ],
            [
             0.9,
             "#4d9221"
            ],
            [
             1,
             "#276419"
            ]
           ],
           "sequential": [
            [
             0,
             "#0d0887"
            ],
            [
             0.1111111111111111,
             "#46039f"
            ],
            [
             0.2222222222222222,
             "#7201a8"
            ],
            [
             0.3333333333333333,
             "#9c179e"
            ],
            [
             0.4444444444444444,
             "#bd3786"
            ],
            [
             0.5555555555555556,
             "#d8576b"
            ],
            [
             0.6666666666666666,
             "#ed7953"
            ],
            [
             0.7777777777777778,
             "#fb9f3a"
            ],
            [
             0.8888888888888888,
             "#fdca26"
            ],
            [
             1,
             "#f0f921"
            ]
           ],
           "sequentialminus": [
            [
             0,
             "#0d0887"
            ],
            [
             0.1111111111111111,
             "#46039f"
            ],
            [
             0.2222222222222222,
             "#7201a8"
            ],
            [
             0.3333333333333333,
             "#9c179e"
            ],
            [
             0.4444444444444444,
             "#bd3786"
            ],
            [
             0.5555555555555556,
             "#d8576b"
            ],
            [
             0.6666666666666666,
             "#ed7953"
            ],
            [
             0.7777777777777778,
             "#fb9f3a"
            ],
            [
             0.8888888888888888,
             "#fdca26"
            ],
            [
             1,
             "#f0f921"
            ]
           ]
          },
          "colorway": [
           "#636efa",
           "#EF553B",
           "#00cc96",
           "#ab63fa",
           "#FFA15A",
           "#19d3f3",
           "#FF6692",
           "#B6E880",
           "#FF97FF",
           "#FECB52"
          ],
          "font": {
           "color": "#2a3f5f"
          },
          "geo": {
           "bgcolor": "white",
           "lakecolor": "white",
           "landcolor": "#E5ECF6",
           "showlakes": true,
           "showland": true,
           "subunitcolor": "white"
          },
          "hoverlabel": {
           "align": "left"
          },
          "hovermode": "closest",
          "mapbox": {
           "style": "light"
          },
          "paper_bgcolor": "white",
          "plot_bgcolor": "#E5ECF6",
          "polar": {
           "angularaxis": {
            "gridcolor": "white",
            "linecolor": "white",
            "ticks": ""
           },
           "bgcolor": "#E5ECF6",
           "radialaxis": {
            "gridcolor": "white",
            "linecolor": "white",
            "ticks": ""
           }
          },
          "scene": {
           "xaxis": {
            "backgroundcolor": "#E5ECF6",
            "gridcolor": "white",
            "gridwidth": 2,
            "linecolor": "white",
            "showbackground": true,
            "ticks": "",
            "zerolinecolor": "white"
           },
           "yaxis": {
            "backgroundcolor": "#E5ECF6",
            "gridcolor": "white",
            "gridwidth": 2,
            "linecolor": "white",
            "showbackground": true,
            "ticks": "",
            "zerolinecolor": "white"
           },
           "zaxis": {
            "backgroundcolor": "#E5ECF6",
            "gridcolor": "white",
            "gridwidth": 2,
            "linecolor": "white",
            "showbackground": true,
            "ticks": "",
            "zerolinecolor": "white"
           }
          },
          "shapedefaults": {
           "line": {
            "color": "#2a3f5f"
           }
          },
          "ternary": {
           "aaxis": {
            "gridcolor": "white",
            "linecolor": "white",
            "ticks": ""
           },
           "baxis": {
            "gridcolor": "white",
            "linecolor": "white",
            "ticks": ""
           },
           "bgcolor": "#E5ECF6",
           "caxis": {
            "gridcolor": "white",
            "linecolor": "white",
            "ticks": ""
           }
          },
          "title": {
           "x": 0.05
          },
          "xaxis": {
           "automargin": true,
           "gridcolor": "white",
           "linecolor": "white",
           "ticks": "",
           "title": {
            "standoff": 15
           },
           "zerolinecolor": "white",
           "zerolinewidth": 2
          },
          "yaxis": {
           "automargin": true,
           "gridcolor": "white",
           "linecolor": "white",
           "ticks": "",
           "title": {
            "standoff": 15
           },
           "zerolinecolor": "white",
           "zerolinewidth": 2
          }
         }
        },
        "title": {
         "font": {
          "color": "#4D5663"
         }
        },
        "xaxis": {
         "gridcolor": "#E1E5ED",
         "showgrid": true,
         "tickfont": {
          "color": "#4D5663"
         },
         "title": {
          "font": {
           "color": "#4D5663"
          },
          "text": ""
         },
         "zerolinecolor": "#E1E5ED"
        },
        "yaxis": {
         "gridcolor": "#E1E5ED",
         "showgrid": true,
         "tickfont": {
          "color": "#4D5663"
         },
         "title": {
          "font": {
           "color": "#4D5663"
          },
          "text": ""
         },
         "zerolinecolor": "#E1E5ED"
        }
       }
      },
      "text/html": [
       "<div>\n",
       "        \n",
       "        \n",
       "            <div id=\"6dee263d-85f7-4a31-8bf0-69c08075923f\" class=\"plotly-graph-div\" style=\"height:525px; width:100%;\"></div>\n",
       "            <script type=\"text/javascript\">\n",
       "                require([\"plotly\"], function(Plotly) {\n",
       "                    window.PLOTLYENV=window.PLOTLYENV || {};\n",
       "                    window.PLOTLYENV.BASE_URL='https://plot.ly';\n",
       "                    \n",
       "                if (document.getElementById(\"6dee263d-85f7-4a31-8bf0-69c08075923f\")) {\n",
       "                    Plotly.newPlot(\n",
       "                        '6dee263d-85f7-4a31-8bf0-69c08075923f',\n",
       "                        [{\"line\": {\"color\": \"rgba(255, 153, 51, 1.0)\", \"dash\": \"solid\", \"shape\": \"linear\", \"width\": 1.3}, \"marker\": {\"size\": 10, \"symbol\": \"circle\"}, \"mode\": \"markers\", \"name\": \"B\", \"text\": \"\", \"type\": \"scatter\", \"x\": [0.0890236266217388, -0.8787154704351006, -0.5977533695209157, 1.0698110062679522, -0.7988921083264098, 0.5832383049156543, -0.24864835278907027, -0.7060503899937032, -0.17782255970080588, -0.5971957707353813, -0.2848860906535149, -0.3742407187026039, 0.4907659776092099, 0.8454677262211716, -0.2397947222641649, -2.0292890390339724, -1.2343508942203125, -0.581627027911337, -1.0059985872873767, 0.5190498956176977, -0.8050834897018041, -1.2332096157124222, 0.24081560942118724, 0.21907435531661296, 1.0790880176319952, 0.28539811590176767, 0.7275582865688938, -1.3737352892335288, 1.5015902347610783, -0.7633820933736835, 0.24237512494715135, 0.8172121522015262, 1.8896732207751532, -0.6351466997131315, 2.005318523682665, -0.580700518779291, 0.7512582762225731, -0.8321393543297784, -0.3153980856329165, -0.02040788440319213, -2.2934222272134384, 1.6394351565028256, -0.6005020999661731, -0.20898877817830225, -0.4939393931678909, -1.0223010529305525, -1.2450682862014761, -0.3750143012290298, -0.708562296521142, 0.38878227084235917, -2.0559894255214224, 1.4177343229429362, 1.0125524763703015, 0.2736842677201433, -1.690076207277851, 0.5740214411230689, -1.4218587639089526, 1.131981541075113, 1.128790595206288, -1.7793271621875348, 0.41361726580124564, 0.06515589060216231, 0.4932317233002984, -0.7378656158118205, -1.2319379637683658, -1.0507998526899458, 1.0849106188488342, -0.2797600190915077, -1.4551367052371373, 0.1544462179019029, -0.202836471763666, -0.71769159845839, 1.2309494921041828, 1.2092282398002012, 0.3235255842564463, 1.3316864092620504, 0.1513431336912556, 0.21827249329865175, -0.9835328681268078, -1.0362844907669773, -0.32551882727349163, -1.0723468668606093, -0.45027418094012583, 1.799000436413313, -0.7762852907022613, -0.3060841118077056, -0.20171888994438966, 1.1142185433582568, -0.2855190215679157, -0.7151109629949621, -0.15342200469247758, 1.3878568278354564, -0.3913794385268874, -0.33413504032172014, 1.2125676256249207, -0.6690852370697338, 0.7818229887533782, 1.1108926635943865, 0.9868797129047022, 0.8217126939072327], \"y\": [-0.35851340747689664, 0.8964559064908013, 0.8668851979644124, 1.3201101066639465, 0.8521632636565618, 0.1678193389215071, 0.7956218856845063, -1.485779184225525, -0.9397594214955171, -0.7276192600413182, 0.48133426516235733, -1.5591885658424542, -0.686558641849801, 2.18044367413078, -0.8224954720950357, 0.834264245771014, 1.1392133327228213, -0.056959375116270236, -0.08899218349335206, -0.770943166891278, 1.2796388775496115, -0.3275552737219343, -0.9163903526244046, 1.0538233753656439, -0.6853188384421511, -0.6275853279554117, 0.9179813481937266, 0.5189780842294516, 0.3712018800035291, -1.8252779744693999, -0.34236610898251557, -0.019428628026250238, -0.8881594465059595, 0.13060694430664255, -0.4121062043857643, -0.33180243234711787, -0.9683207227407323, 0.009546301482904817, 0.1895164509826522, -1.372607398389755, -0.2182857407326223, -0.9615140141635607, -0.7493604427082969, -0.2067713992218754, 0.7429830323549378, -0.7720878333472194, -0.31734743841448415, 0.3272924971873089, 1.1832213404981857, -0.33702307554729777, -0.7105241760247889, -0.029703270945312988, -0.004807880039269839, -1.9973825785516937, 2.5737789599651775, 0.865139824506424, -1.6945802437900994, -0.5994672286457641, -0.5028030406421471, -0.02329024402120451, -0.5017263309388669, 0.5785837836357898, -0.10987225399527062, 1.6049998267882604, 1.310629774867115, 2.0585814106620783, -0.37476648312106, -0.6251191985799067, 0.33967135556511246, 0.09113891525380655, -0.2050970211327267, 0.9770296374343848, -0.13155365069047867, 1.4927636399521946, 0.047661367603270104, -0.16380451935485263, -0.2037109505915858, 0.8456429731125856, -2.293700224952948, 1.14918628891375, -1.335207693057455, -0.41671154448101944, 1.199664637188824, -0.12133532891653313, -0.6475928932098416, 2.2874969525600846, -0.09027141045421477, -1.4881781082705703, -1.8618720474290251, 0.2864564719476295, -1.0643714350281643, 0.532804778438827, 0.07101988852484521, 1.2534553647894944, -0.609962890435716, 1.301392841865941, 0.008793702127127, 0.9942304385437866, 0.03762531473621305, -2.1766597195451514]}],\n",
       "                        {\"legend\": {\"bgcolor\": \"#F5F6F9\", \"font\": {\"color\": \"#4D5663\"}}, \"paper_bgcolor\": \"#F5F6F9\", \"plot_bgcolor\": \"#F5F6F9\", \"template\": {\"data\": {\"bar\": [{\"error_x\": {\"color\": \"#2a3f5f\"}, \"error_y\": {\"color\": \"#2a3f5f\"}, \"marker\": {\"line\": {\"color\": \"#E5ECF6\", \"width\": 0.5}}, \"type\": \"bar\"}], \"barpolar\": [{\"marker\": {\"line\": {\"color\": \"#E5ECF6\", \"width\": 0.5}}, \"type\": \"barpolar\"}], \"carpet\": [{\"aaxis\": {\"endlinecolor\": \"#2a3f5f\", \"gridcolor\": \"white\", \"linecolor\": \"white\", \"minorgridcolor\": \"white\", \"startlinecolor\": \"#2a3f5f\"}, \"baxis\": {\"endlinecolor\": \"#2a3f5f\", \"gridcolor\": \"white\", \"linecolor\": \"white\", \"minorgridcolor\": \"white\", \"startlinecolor\": \"#2a3f5f\"}, \"type\": \"carpet\"}], \"choropleth\": [{\"colorbar\": {\"outlinewidth\": 0, \"ticks\": \"\"}, \"type\": \"choropleth\"}], \"contour\": [{\"colorbar\": {\"outlinewidth\": 0, \"ticks\": \"\"}, \"colorscale\": [[0.0, \"#0d0887\"], [0.1111111111111111, \"#46039f\"], [0.2222222222222222, \"#7201a8\"], [0.3333333333333333, \"#9c179e\"], [0.4444444444444444, \"#bd3786\"], [0.5555555555555556, \"#d8576b\"], [0.6666666666666666, \"#ed7953\"], [0.7777777777777778, \"#fb9f3a\"], [0.8888888888888888, \"#fdca26\"], [1.0, \"#f0f921\"]], \"type\": \"contour\"}], \"contourcarpet\": [{\"colorbar\": {\"outlinewidth\": 0, \"ticks\": \"\"}, \"type\": \"contourcarpet\"}], \"heatmap\": [{\"colorbar\": {\"outlinewidth\": 0, \"ticks\": \"\"}, \"colorscale\": [[0.0, \"#0d0887\"], [0.1111111111111111, \"#46039f\"], [0.2222222222222222, \"#7201a8\"], [0.3333333333333333, \"#9c179e\"], [0.4444444444444444, \"#bd3786\"], [0.5555555555555556, \"#d8576b\"], [0.6666666666666666, \"#ed7953\"], [0.7777777777777778, \"#fb9f3a\"], [0.8888888888888888, \"#fdca26\"], [1.0, \"#f0f921\"]], \"type\": \"heatmap\"}], \"heatmapgl\": [{\"colorbar\": {\"outlinewidth\": 0, \"ticks\": \"\"}, \"colorscale\": [[0.0, \"#0d0887\"], [0.1111111111111111, \"#46039f\"], [0.2222222222222222, \"#7201a8\"], [0.3333333333333333, \"#9c179e\"], [0.4444444444444444, \"#bd3786\"], [0.5555555555555556, \"#d8576b\"], [0.6666666666666666, \"#ed7953\"], [0.7777777777777778, \"#fb9f3a\"], [0.8888888888888888, \"#fdca26\"], [1.0, \"#f0f921\"]], \"type\": \"heatmapgl\"}], \"histogram\": [{\"marker\": {\"colorbar\": {\"outlinewidth\": 0, \"ticks\": \"\"}}, \"type\": \"histogram\"}], \"histogram2d\": [{\"colorbar\": {\"outlinewidth\": 0, \"ticks\": \"\"}, \"colorscale\": [[0.0, \"#0d0887\"], [0.1111111111111111, \"#46039f\"], [0.2222222222222222, \"#7201a8\"], [0.3333333333333333, \"#9c179e\"], [0.4444444444444444, \"#bd3786\"], [0.5555555555555556, \"#d8576b\"], [0.6666666666666666, \"#ed7953\"], [0.7777777777777778, \"#fb9f3a\"], [0.8888888888888888, \"#fdca26\"], [1.0, \"#f0f921\"]], \"type\": \"histogram2d\"}], \"histogram2dcontour\": [{\"colorbar\": {\"outlinewidth\": 0, \"ticks\": \"\"}, \"colorscale\": [[0.0, \"#0d0887\"], [0.1111111111111111, \"#46039f\"], [0.2222222222222222, \"#7201a8\"], [0.3333333333333333, \"#9c179e\"], [0.4444444444444444, \"#bd3786\"], [0.5555555555555556, \"#d8576b\"], [0.6666666666666666, \"#ed7953\"], [0.7777777777777778, \"#fb9f3a\"], [0.8888888888888888, \"#fdca26\"], [1.0, \"#f0f921\"]], \"type\": \"histogram2dcontour\"}], \"mesh3d\": [{\"colorbar\": {\"outlinewidth\": 0, \"ticks\": \"\"}, \"type\": \"mesh3d\"}], \"parcoords\": [{\"line\": {\"colorbar\": {\"outlinewidth\": 0, \"ticks\": \"\"}}, \"type\": \"parcoords\"}], \"pie\": [{\"automargin\": true, \"type\": \"pie\"}], \"scatter\": [{\"marker\": {\"colorbar\": {\"outlinewidth\": 0, \"ticks\": \"\"}}, \"type\": \"scatter\"}], \"scatter3d\": [{\"line\": {\"colorbar\": {\"outlinewidth\": 0, \"ticks\": \"\"}}, \"marker\": {\"colorbar\": {\"outlinewidth\": 0, \"ticks\": \"\"}}, \"type\": \"scatter3d\"}], \"scattercarpet\": [{\"marker\": {\"colorbar\": {\"outlinewidth\": 0, \"ticks\": \"\"}}, \"type\": \"scattercarpet\"}], \"scattergeo\": [{\"marker\": {\"colorbar\": {\"outlinewidth\": 0, \"ticks\": \"\"}}, \"type\": \"scattergeo\"}], \"scattergl\": [{\"marker\": {\"colorbar\": {\"outlinewidth\": 0, \"ticks\": \"\"}}, \"type\": \"scattergl\"}], \"scattermapbox\": [{\"marker\": {\"colorbar\": {\"outlinewidth\": 0, \"ticks\": \"\"}}, \"type\": \"scattermapbox\"}], \"scatterpolar\": [{\"marker\": {\"colorbar\": {\"outlinewidth\": 0, \"ticks\": \"\"}}, \"type\": \"scatterpolar\"}], \"scatterpolargl\": [{\"marker\": {\"colorbar\": {\"outlinewidth\": 0, \"ticks\": \"\"}}, \"type\": \"scatterpolargl\"}], \"scatterternary\": [{\"marker\": {\"colorbar\": {\"outlinewidth\": 0, \"ticks\": \"\"}}, \"type\": \"scatterternary\"}], \"surface\": [{\"colorbar\": {\"outlinewidth\": 0, \"ticks\": \"\"}, \"colorscale\": [[0.0, \"#0d0887\"], [0.1111111111111111, \"#46039f\"], [0.2222222222222222, \"#7201a8\"], [0.3333333333333333, \"#9c179e\"], [0.4444444444444444, \"#bd3786\"], [0.5555555555555556, \"#d8576b\"], [0.6666666666666666, \"#ed7953\"], [0.7777777777777778, \"#fb9f3a\"], [0.8888888888888888, \"#fdca26\"], [1.0, \"#f0f921\"]], \"type\": \"surface\"}], \"table\": [{\"cells\": {\"fill\": {\"color\": \"#EBF0F8\"}, \"line\": {\"color\": \"white\"}}, \"header\": {\"fill\": {\"color\": \"#C8D4E3\"}, \"line\": {\"color\": \"white\"}}, \"type\": \"table\"}]}, \"layout\": {\"annotationdefaults\": {\"arrowcolor\": \"#2a3f5f\", \"arrowhead\": 0, \"arrowwidth\": 1}, \"coloraxis\": {\"colorbar\": {\"outlinewidth\": 0, \"ticks\": \"\"}}, \"colorscale\": {\"diverging\": [[0, \"#8e0152\"], [0.1, \"#c51b7d\"], [0.2, \"#de77ae\"], [0.3, \"#f1b6da\"], [0.4, \"#fde0ef\"], [0.5, \"#f7f7f7\"], [0.6, \"#e6f5d0\"], [0.7, \"#b8e186\"], [0.8, \"#7fbc41\"], [0.9, \"#4d9221\"], [1, \"#276419\"]], \"sequential\": [[0.0, \"#0d0887\"], [0.1111111111111111, \"#46039f\"], [0.2222222222222222, \"#7201a8\"], [0.3333333333333333, \"#9c179e\"], [0.4444444444444444, \"#bd3786\"], [0.5555555555555556, \"#d8576b\"], [0.6666666666666666, \"#ed7953\"], [0.7777777777777778, \"#fb9f3a\"], [0.8888888888888888, \"#fdca26\"], [1.0, \"#f0f921\"]], \"sequentialminus\": [[0.0, \"#0d0887\"], [0.1111111111111111, \"#46039f\"], [0.2222222222222222, \"#7201a8\"], [0.3333333333333333, \"#9c179e\"], [0.4444444444444444, \"#bd3786\"], [0.5555555555555556, \"#d8576b\"], [0.6666666666666666, \"#ed7953\"], [0.7777777777777778, \"#fb9f3a\"], [0.8888888888888888, \"#fdca26\"], [1.0, \"#f0f921\"]]}, \"colorway\": [\"#636efa\", \"#EF553B\", \"#00cc96\", \"#ab63fa\", \"#FFA15A\", \"#19d3f3\", \"#FF6692\", \"#B6E880\", \"#FF97FF\", \"#FECB52\"], \"font\": {\"color\": \"#2a3f5f\"}, \"geo\": {\"bgcolor\": \"white\", \"lakecolor\": \"white\", \"landcolor\": \"#E5ECF6\", \"showlakes\": true, \"showland\": true, \"subunitcolor\": \"white\"}, \"hoverlabel\": {\"align\": \"left\"}, \"hovermode\": \"closest\", \"mapbox\": {\"style\": \"light\"}, \"paper_bgcolor\": \"white\", \"plot_bgcolor\": \"#E5ECF6\", \"polar\": {\"angularaxis\": {\"gridcolor\": \"white\", \"linecolor\": \"white\", \"ticks\": \"\"}, \"bgcolor\": \"#E5ECF6\", \"radialaxis\": {\"gridcolor\": \"white\", \"linecolor\": \"white\", \"ticks\": \"\"}}, \"scene\": {\"xaxis\": {\"backgroundcolor\": \"#E5ECF6\", \"gridcolor\": \"white\", \"gridwidth\": 2, \"linecolor\": \"white\", \"showbackground\": true, \"ticks\": \"\", \"zerolinecolor\": \"white\"}, \"yaxis\": {\"backgroundcolor\": \"#E5ECF6\", \"gridcolor\": \"white\", \"gridwidth\": 2, \"linecolor\": \"white\", \"showbackground\": true, \"ticks\": \"\", \"zerolinecolor\": \"white\"}, \"zaxis\": {\"backgroundcolor\": \"#E5ECF6\", \"gridcolor\": \"white\", \"gridwidth\": 2, \"linecolor\": \"white\", \"showbackground\": true, \"ticks\": \"\", \"zerolinecolor\": \"white\"}}, \"shapedefaults\": {\"line\": {\"color\": \"#2a3f5f\"}}, \"ternary\": {\"aaxis\": {\"gridcolor\": \"white\", \"linecolor\": \"white\", \"ticks\": \"\"}, \"baxis\": {\"gridcolor\": \"white\", \"linecolor\": \"white\", \"ticks\": \"\"}, \"bgcolor\": \"#E5ECF6\", \"caxis\": {\"gridcolor\": \"white\", \"linecolor\": \"white\", \"ticks\": \"\"}}, \"title\": {\"x\": 0.05}, \"xaxis\": {\"automargin\": true, \"gridcolor\": \"white\", \"linecolor\": \"white\", \"ticks\": \"\", \"title\": {\"standoff\": 15}, \"zerolinecolor\": \"white\", \"zerolinewidth\": 2}, \"yaxis\": {\"automargin\": true, \"gridcolor\": \"white\", \"linecolor\": \"white\", \"ticks\": \"\", \"title\": {\"standoff\": 15}, \"zerolinecolor\": \"white\", \"zerolinewidth\": 2}}}, \"title\": {\"font\": {\"color\": \"#4D5663\"}}, \"xaxis\": {\"gridcolor\": \"#E1E5ED\", \"showgrid\": true, \"tickfont\": {\"color\": \"#4D5663\"}, \"title\": {\"font\": {\"color\": \"#4D5663\"}, \"text\": \"\"}, \"zerolinecolor\": \"#E1E5ED\"}, \"yaxis\": {\"gridcolor\": \"#E1E5ED\", \"showgrid\": true, \"tickfont\": {\"color\": \"#4D5663\"}, \"title\": {\"font\": {\"color\": \"#4D5663\"}, \"text\": \"\"}, \"zerolinecolor\": \"#E1E5ED\"}},\n",
       "                        {\"showLink\": true, \"linkText\": \"Export to plot.ly\", \"plotlyServerURL\": \"https://plot.ly\", \"responsive\": true}\n",
       "                    ).then(function(){\n",
       "                            \n",
       "var gd = document.getElementById('6dee263d-85f7-4a31-8bf0-69c08075923f');\n",
       "var x = new MutationObserver(function (mutations, observer) {{\n",
       "        var display = window.getComputedStyle(gd).display;\n",
       "        if (!display || display === 'none') {{\n",
       "            console.log([gd, 'removed!']);\n",
       "            Plotly.purge(gd);\n",
       "            observer.disconnect();\n",
       "        }}\n",
       "}});\n",
       "\n",
       "// Listen for the removal of the full notebook cells\n",
       "var notebookContainer = gd.closest('#notebook-container');\n",
       "if (notebookContainer) {{\n",
       "    x.observe(notebookContainer, {childList: true});\n",
       "}}\n",
       "\n",
       "// Listen for the clearing of the current output cell\n",
       "var outputEl = gd.closest('.output');\n",
       "if (outputEl) {{\n",
       "    x.observe(outputEl, {childList: true});\n",
       "}}\n",
       "\n",
       "                        })\n",
       "                };\n",
       "                });\n",
       "            </script>\n",
       "        </div>"
      ]
     },
     "metadata": {},
     "output_type": "display_data"
    }
   ],
   "source": [
    "df.iplot(kind='scatter',x='A',y='B',mode='markers',size=10)"
   ]
  },
  {
   "cell_type": "markdown",
   "metadata": {},
   "source": [
    "## Bar Plots"
   ]
  },
  {
   "cell_type": "code",
   "execution_count": 12,
   "metadata": {},
   "outputs": [
    {
     "data": {
      "application/vnd.plotly.v1+json": {
       "config": {
        "linkText": "Export to plot.ly",
        "plotlyServerURL": "https://plot.ly",
        "showLink": true
       },
       "data": [
        {
         "marker": {
          "color": "rgba(255, 153, 51, 0.6)",
          "line": {
           "color": "rgba(255, 153, 51, 1.0)",
           "width": 1
          }
         },
         "name": "Values",
         "orientation": "v",
         "text": "",
         "type": "bar",
         "x": [
          "A",
          "B",
          "C"
         ],
         "y": [
          32,
          43,
          50
         ]
        }
       ],
       "layout": {
        "legend": {
         "bgcolor": "#F5F6F9",
         "font": {
          "color": "#4D5663"
         }
        },
        "paper_bgcolor": "#F5F6F9",
        "plot_bgcolor": "#F5F6F9",
        "template": {
         "data": {
          "bar": [
           {
            "error_x": {
             "color": "#2a3f5f"
            },
            "error_y": {
             "color": "#2a3f5f"
            },
            "marker": {
             "line": {
              "color": "#E5ECF6",
              "width": 0.5
             }
            },
            "type": "bar"
           }
          ],
          "barpolar": [
           {
            "marker": {
             "line": {
              "color": "#E5ECF6",
              "width": 0.5
             }
            },
            "type": "barpolar"
           }
          ],
          "carpet": [
           {
            "aaxis": {
             "endlinecolor": "#2a3f5f",
             "gridcolor": "white",
             "linecolor": "white",
             "minorgridcolor": "white",
             "startlinecolor": "#2a3f5f"
            },
            "baxis": {
             "endlinecolor": "#2a3f5f",
             "gridcolor": "white",
             "linecolor": "white",
             "minorgridcolor": "white",
             "startlinecolor": "#2a3f5f"
            },
            "type": "carpet"
           }
          ],
          "choropleth": [
           {
            "colorbar": {
             "outlinewidth": 0,
             "ticks": ""
            },
            "type": "choropleth"
           }
          ],
          "contour": [
           {
            "colorbar": {
             "outlinewidth": 0,
             "ticks": ""
            },
            "colorscale": [
             [
              0,
              "#0d0887"
             ],
             [
              0.1111111111111111,
              "#46039f"
             ],
             [
              0.2222222222222222,
              "#7201a8"
             ],
             [
              0.3333333333333333,
              "#9c179e"
             ],
             [
              0.4444444444444444,
              "#bd3786"
             ],
             [
              0.5555555555555556,
              "#d8576b"
             ],
             [
              0.6666666666666666,
              "#ed7953"
             ],
             [
              0.7777777777777778,
              "#fb9f3a"
             ],
             [
              0.8888888888888888,
              "#fdca26"
             ],
             [
              1,
              "#f0f921"
             ]
            ],
            "type": "contour"
           }
          ],
          "contourcarpet": [
           {
            "colorbar": {
             "outlinewidth": 0,
             "ticks": ""
            },
            "type": "contourcarpet"
           }
          ],
          "heatmap": [
           {
            "colorbar": {
             "outlinewidth": 0,
             "ticks": ""
            },
            "colorscale": [
             [
              0,
              "#0d0887"
             ],
             [
              0.1111111111111111,
              "#46039f"
             ],
             [
              0.2222222222222222,
              "#7201a8"
             ],
             [
              0.3333333333333333,
              "#9c179e"
             ],
             [
              0.4444444444444444,
              "#bd3786"
             ],
             [
              0.5555555555555556,
              "#d8576b"
             ],
             [
              0.6666666666666666,
              "#ed7953"
             ],
             [
              0.7777777777777778,
              "#fb9f3a"
             ],
             [
              0.8888888888888888,
              "#fdca26"
             ],
             [
              1,
              "#f0f921"
             ]
            ],
            "type": "heatmap"
           }
          ],
          "heatmapgl": [
           {
            "colorbar": {
             "outlinewidth": 0,
             "ticks": ""
            },
            "colorscale": [
             [
              0,
              "#0d0887"
             ],
             [
              0.1111111111111111,
              "#46039f"
             ],
             [
              0.2222222222222222,
              "#7201a8"
             ],
             [
              0.3333333333333333,
              "#9c179e"
             ],
             [
              0.4444444444444444,
              "#bd3786"
             ],
             [
              0.5555555555555556,
              "#d8576b"
             ],
             [
              0.6666666666666666,
              "#ed7953"
             ],
             [
              0.7777777777777778,
              "#fb9f3a"
             ],
             [
              0.8888888888888888,
              "#fdca26"
             ],
             [
              1,
              "#f0f921"
             ]
            ],
            "type": "heatmapgl"
           }
          ],
          "histogram": [
           {
            "marker": {
             "colorbar": {
              "outlinewidth": 0,
              "ticks": ""
             }
            },
            "type": "histogram"
           }
          ],
          "histogram2d": [
           {
            "colorbar": {
             "outlinewidth": 0,
             "ticks": ""
            },
            "colorscale": [
             [
              0,
              "#0d0887"
             ],
             [
              0.1111111111111111,
              "#46039f"
             ],
             [
              0.2222222222222222,
              "#7201a8"
             ],
             [
              0.3333333333333333,
              "#9c179e"
             ],
             [
              0.4444444444444444,
              "#bd3786"
             ],
             [
              0.5555555555555556,
              "#d8576b"
             ],
             [
              0.6666666666666666,
              "#ed7953"
             ],
             [
              0.7777777777777778,
              "#fb9f3a"
             ],
             [
              0.8888888888888888,
              "#fdca26"
             ],
             [
              1,
              "#f0f921"
             ]
            ],
            "type": "histogram2d"
           }
          ],
          "histogram2dcontour": [
           {
            "colorbar": {
             "outlinewidth": 0,
             "ticks": ""
            },
            "colorscale": [
             [
              0,
              "#0d0887"
             ],
             [
              0.1111111111111111,
              "#46039f"
             ],
             [
              0.2222222222222222,
              "#7201a8"
             ],
             [
              0.3333333333333333,
              "#9c179e"
             ],
             [
              0.4444444444444444,
              "#bd3786"
             ],
             [
              0.5555555555555556,
              "#d8576b"
             ],
             [
              0.6666666666666666,
              "#ed7953"
             ],
             [
              0.7777777777777778,
              "#fb9f3a"
             ],
             [
              0.8888888888888888,
              "#fdca26"
             ],
             [
              1,
              "#f0f921"
             ]
            ],
            "type": "histogram2dcontour"
           }
          ],
          "mesh3d": [
           {
            "colorbar": {
             "outlinewidth": 0,
             "ticks": ""
            },
            "type": "mesh3d"
           }
          ],
          "parcoords": [
           {
            "line": {
             "colorbar": {
              "outlinewidth": 0,
              "ticks": ""
             }
            },
            "type": "parcoords"
           }
          ],
          "pie": [
           {
            "automargin": true,
            "type": "pie"
           }
          ],
          "scatter": [
           {
            "marker": {
             "colorbar": {
              "outlinewidth": 0,
              "ticks": ""
             }
            },
            "type": "scatter"
           }
          ],
          "scatter3d": [
           {
            "line": {
             "colorbar": {
              "outlinewidth": 0,
              "ticks": ""
             }
            },
            "marker": {
             "colorbar": {
              "outlinewidth": 0,
              "ticks": ""
             }
            },
            "type": "scatter3d"
           }
          ],
          "scattercarpet": [
           {
            "marker": {
             "colorbar": {
              "outlinewidth": 0,
              "ticks": ""
             }
            },
            "type": "scattercarpet"
           }
          ],
          "scattergeo": [
           {
            "marker": {
             "colorbar": {
              "outlinewidth": 0,
              "ticks": ""
             }
            },
            "type": "scattergeo"
           }
          ],
          "scattergl": [
           {
            "marker": {
             "colorbar": {
              "outlinewidth": 0,
              "ticks": ""
             }
            },
            "type": "scattergl"
           }
          ],
          "scattermapbox": [
           {
            "marker": {
             "colorbar": {
              "outlinewidth": 0,
              "ticks": ""
             }
            },
            "type": "scattermapbox"
           }
          ],
          "scatterpolar": [
           {
            "marker": {
             "colorbar": {
              "outlinewidth": 0,
              "ticks": ""
             }
            },
            "type": "scatterpolar"
           }
          ],
          "scatterpolargl": [
           {
            "marker": {
             "colorbar": {
              "outlinewidth": 0,
              "ticks": ""
             }
            },
            "type": "scatterpolargl"
           }
          ],
          "scatterternary": [
           {
            "marker": {
             "colorbar": {
              "outlinewidth": 0,
              "ticks": ""
             }
            },
            "type": "scatterternary"
           }
          ],
          "surface": [
           {
            "colorbar": {
             "outlinewidth": 0,
             "ticks": ""
            },
            "colorscale": [
             [
              0,
              "#0d0887"
             ],
             [
              0.1111111111111111,
              "#46039f"
             ],
             [
              0.2222222222222222,
              "#7201a8"
             ],
             [
              0.3333333333333333,
              "#9c179e"
             ],
             [
              0.4444444444444444,
              "#bd3786"
             ],
             [
              0.5555555555555556,
              "#d8576b"
             ],
             [
              0.6666666666666666,
              "#ed7953"
             ],
             [
              0.7777777777777778,
              "#fb9f3a"
             ],
             [
              0.8888888888888888,
              "#fdca26"
             ],
             [
              1,
              "#f0f921"
             ]
            ],
            "type": "surface"
           }
          ],
          "table": [
           {
            "cells": {
             "fill": {
              "color": "#EBF0F8"
             },
             "line": {
              "color": "white"
             }
            },
            "header": {
             "fill": {
              "color": "#C8D4E3"
             },
             "line": {
              "color": "white"
             }
            },
            "type": "table"
           }
          ]
         },
         "layout": {
          "annotationdefaults": {
           "arrowcolor": "#2a3f5f",
           "arrowhead": 0,
           "arrowwidth": 1
          },
          "coloraxis": {
           "colorbar": {
            "outlinewidth": 0,
            "ticks": ""
           }
          },
          "colorscale": {
           "diverging": [
            [
             0,
             "#8e0152"
            ],
            [
             0.1,
             "#c51b7d"
            ],
            [
             0.2,
             "#de77ae"
            ],
            [
             0.3,
             "#f1b6da"
            ],
            [
             0.4,
             "#fde0ef"
            ],
            [
             0.5,
             "#f7f7f7"
            ],
            [
             0.6,
             "#e6f5d0"
            ],
            [
             0.7,
             "#b8e186"
            ],
            [
             0.8,
             "#7fbc41"
            ],
            [
             0.9,
             "#4d9221"
            ],
            [
             1,
             "#276419"
            ]
           ],
           "sequential": [
            [
             0,
             "#0d0887"
            ],
            [
             0.1111111111111111,
             "#46039f"
            ],
            [
             0.2222222222222222,
             "#7201a8"
            ],
            [
             0.3333333333333333,
             "#9c179e"
            ],
            [
             0.4444444444444444,
             "#bd3786"
            ],
            [
             0.5555555555555556,
             "#d8576b"
            ],
            [
             0.6666666666666666,
             "#ed7953"
            ],
            [
             0.7777777777777778,
             "#fb9f3a"
            ],
            [
             0.8888888888888888,
             "#fdca26"
            ],
            [
             1,
             "#f0f921"
            ]
           ],
           "sequentialminus": [
            [
             0,
             "#0d0887"
            ],
            [
             0.1111111111111111,
             "#46039f"
            ],
            [
             0.2222222222222222,
             "#7201a8"
            ],
            [
             0.3333333333333333,
             "#9c179e"
            ],
            [
             0.4444444444444444,
             "#bd3786"
            ],
            [
             0.5555555555555556,
             "#d8576b"
            ],
            [
             0.6666666666666666,
             "#ed7953"
            ],
            [
             0.7777777777777778,
             "#fb9f3a"
            ],
            [
             0.8888888888888888,
             "#fdca26"
            ],
            [
             1,
             "#f0f921"
            ]
           ]
          },
          "colorway": [
           "#636efa",
           "#EF553B",
           "#00cc96",
           "#ab63fa",
           "#FFA15A",
           "#19d3f3",
           "#FF6692",
           "#B6E880",
           "#FF97FF",
           "#FECB52"
          ],
          "font": {
           "color": "#2a3f5f"
          },
          "geo": {
           "bgcolor": "white",
           "lakecolor": "white",
           "landcolor": "#E5ECF6",
           "showlakes": true,
           "showland": true,
           "subunitcolor": "white"
          },
          "hoverlabel": {
           "align": "left"
          },
          "hovermode": "closest",
          "mapbox": {
           "style": "light"
          },
          "paper_bgcolor": "white",
          "plot_bgcolor": "#E5ECF6",
          "polar": {
           "angularaxis": {
            "gridcolor": "white",
            "linecolor": "white",
            "ticks": ""
           },
           "bgcolor": "#E5ECF6",
           "radialaxis": {
            "gridcolor": "white",
            "linecolor": "white",
            "ticks": ""
           }
          },
          "scene": {
           "xaxis": {
            "backgroundcolor": "#E5ECF6",
            "gridcolor": "white",
            "gridwidth": 2,
            "linecolor": "white",
            "showbackground": true,
            "ticks": "",
            "zerolinecolor": "white"
           },
           "yaxis": {
            "backgroundcolor": "#E5ECF6",
            "gridcolor": "white",
            "gridwidth": 2,
            "linecolor": "white",
            "showbackground": true,
            "ticks": "",
            "zerolinecolor": "white"
           },
           "zaxis": {
            "backgroundcolor": "#E5ECF6",
            "gridcolor": "white",
            "gridwidth": 2,
            "linecolor": "white",
            "showbackground": true,
            "ticks": "",
            "zerolinecolor": "white"
           }
          },
          "shapedefaults": {
           "line": {
            "color": "#2a3f5f"
           }
          },
          "ternary": {
           "aaxis": {
            "gridcolor": "white",
            "linecolor": "white",
            "ticks": ""
           },
           "baxis": {
            "gridcolor": "white",
            "linecolor": "white",
            "ticks": ""
           },
           "bgcolor": "#E5ECF6",
           "caxis": {
            "gridcolor": "white",
            "linecolor": "white",
            "ticks": ""
           }
          },
          "title": {
           "x": 0.05
          },
          "xaxis": {
           "automargin": true,
           "gridcolor": "white",
           "linecolor": "white",
           "ticks": "",
           "title": {
            "standoff": 15
           },
           "zerolinecolor": "white",
           "zerolinewidth": 2
          },
          "yaxis": {
           "automargin": true,
           "gridcolor": "white",
           "linecolor": "white",
           "ticks": "",
           "title": {
            "standoff": 15
           },
           "zerolinecolor": "white",
           "zerolinewidth": 2
          }
         }
        },
        "title": {
         "font": {
          "color": "#4D5663"
         }
        },
        "xaxis": {
         "gridcolor": "#E1E5ED",
         "showgrid": true,
         "tickfont": {
          "color": "#4D5663"
         },
         "title": {
          "font": {
           "color": "#4D5663"
          },
          "text": ""
         },
         "zerolinecolor": "#E1E5ED"
        },
        "yaxis": {
         "gridcolor": "#E1E5ED",
         "showgrid": true,
         "tickfont": {
          "color": "#4D5663"
         },
         "title": {
          "font": {
           "color": "#4D5663"
          },
          "text": ""
         },
         "zerolinecolor": "#E1E5ED"
        }
       }
      },
      "text/html": [
       "<div>\n",
       "        \n",
       "        \n",
       "            <div id=\"7a7cf2c3-61e4-4a28-9172-ca6d6f8b5584\" class=\"plotly-graph-div\" style=\"height:525px; width:100%;\"></div>\n",
       "            <script type=\"text/javascript\">\n",
       "                require([\"plotly\"], function(Plotly) {\n",
       "                    window.PLOTLYENV=window.PLOTLYENV || {};\n",
       "                    window.PLOTLYENV.BASE_URL='https://plot.ly';\n",
       "                    \n",
       "                if (document.getElementById(\"7a7cf2c3-61e4-4a28-9172-ca6d6f8b5584\")) {\n",
       "                    Plotly.newPlot(\n",
       "                        '7a7cf2c3-61e4-4a28-9172-ca6d6f8b5584',\n",
       "                        [{\"marker\": {\"color\": \"rgba(255, 153, 51, 0.6)\", \"line\": {\"color\": \"rgba(255, 153, 51, 1.0)\", \"width\": 1}}, \"name\": \"Values\", \"orientation\": \"v\", \"text\": \"\", \"type\": \"bar\", \"x\": [\"A\", \"B\", \"C\"], \"y\": [32, 43, 50]}],\n",
       "                        {\"legend\": {\"bgcolor\": \"#F5F6F9\", \"font\": {\"color\": \"#4D5663\"}}, \"paper_bgcolor\": \"#F5F6F9\", \"plot_bgcolor\": \"#F5F6F9\", \"template\": {\"data\": {\"bar\": [{\"error_x\": {\"color\": \"#2a3f5f\"}, \"error_y\": {\"color\": \"#2a3f5f\"}, \"marker\": {\"line\": {\"color\": \"#E5ECF6\", \"width\": 0.5}}, \"type\": \"bar\"}], \"barpolar\": [{\"marker\": {\"line\": {\"color\": \"#E5ECF6\", \"width\": 0.5}}, \"type\": \"barpolar\"}], \"carpet\": [{\"aaxis\": {\"endlinecolor\": \"#2a3f5f\", \"gridcolor\": \"white\", \"linecolor\": \"white\", \"minorgridcolor\": \"white\", \"startlinecolor\": \"#2a3f5f\"}, \"baxis\": {\"endlinecolor\": \"#2a3f5f\", \"gridcolor\": \"white\", \"linecolor\": \"white\", \"minorgridcolor\": \"white\", \"startlinecolor\": \"#2a3f5f\"}, \"type\": \"carpet\"}], \"choropleth\": [{\"colorbar\": {\"outlinewidth\": 0, \"ticks\": \"\"}, \"type\": \"choropleth\"}], \"contour\": [{\"colorbar\": {\"outlinewidth\": 0, \"ticks\": \"\"}, \"colorscale\": [[0.0, \"#0d0887\"], [0.1111111111111111, \"#46039f\"], [0.2222222222222222, \"#7201a8\"], [0.3333333333333333, \"#9c179e\"], [0.4444444444444444, \"#bd3786\"], [0.5555555555555556, \"#d8576b\"], [0.6666666666666666, \"#ed7953\"], [0.7777777777777778, \"#fb9f3a\"], [0.8888888888888888, \"#fdca26\"], [1.0, \"#f0f921\"]], \"type\": \"contour\"}], \"contourcarpet\": [{\"colorbar\": {\"outlinewidth\": 0, \"ticks\": \"\"}, \"type\": \"contourcarpet\"}], \"heatmap\": [{\"colorbar\": {\"outlinewidth\": 0, \"ticks\": \"\"}, \"colorscale\": [[0.0, \"#0d0887\"], [0.1111111111111111, \"#46039f\"], [0.2222222222222222, \"#7201a8\"], [0.3333333333333333, \"#9c179e\"], [0.4444444444444444, \"#bd3786\"], [0.5555555555555556, \"#d8576b\"], [0.6666666666666666, \"#ed7953\"], [0.7777777777777778, \"#fb9f3a\"], [0.8888888888888888, \"#fdca26\"], [1.0, \"#f0f921\"]], \"type\": \"heatmap\"}], \"heatmapgl\": [{\"colorbar\": {\"outlinewidth\": 0, \"ticks\": \"\"}, \"colorscale\": [[0.0, \"#0d0887\"], [0.1111111111111111, \"#46039f\"], [0.2222222222222222, \"#7201a8\"], [0.3333333333333333, \"#9c179e\"], [0.4444444444444444, \"#bd3786\"], [0.5555555555555556, \"#d8576b\"], [0.6666666666666666, \"#ed7953\"], [0.7777777777777778, \"#fb9f3a\"], [0.8888888888888888, \"#fdca26\"], [1.0, \"#f0f921\"]], \"type\": \"heatmapgl\"}], \"histogram\": [{\"marker\": {\"colorbar\": {\"outlinewidth\": 0, \"ticks\": \"\"}}, \"type\": \"histogram\"}], \"histogram2d\": [{\"colorbar\": {\"outlinewidth\": 0, \"ticks\": \"\"}, \"colorscale\": [[0.0, \"#0d0887\"], [0.1111111111111111, \"#46039f\"], [0.2222222222222222, \"#7201a8\"], [0.3333333333333333, \"#9c179e\"], [0.4444444444444444, \"#bd3786\"], [0.5555555555555556, \"#d8576b\"], [0.6666666666666666, \"#ed7953\"], [0.7777777777777778, \"#fb9f3a\"], [0.8888888888888888, \"#fdca26\"], [1.0, \"#f0f921\"]], \"type\": \"histogram2d\"}], \"histogram2dcontour\": [{\"colorbar\": {\"outlinewidth\": 0, \"ticks\": \"\"}, \"colorscale\": [[0.0, \"#0d0887\"], [0.1111111111111111, \"#46039f\"], [0.2222222222222222, \"#7201a8\"], [0.3333333333333333, \"#9c179e\"], [0.4444444444444444, \"#bd3786\"], [0.5555555555555556, \"#d8576b\"], [0.6666666666666666, \"#ed7953\"], [0.7777777777777778, \"#fb9f3a\"], [0.8888888888888888, \"#fdca26\"], [1.0, \"#f0f921\"]], \"type\": \"histogram2dcontour\"}], \"mesh3d\": [{\"colorbar\": {\"outlinewidth\": 0, \"ticks\": \"\"}, \"type\": \"mesh3d\"}], \"parcoords\": [{\"line\": {\"colorbar\": {\"outlinewidth\": 0, \"ticks\": \"\"}}, \"type\": \"parcoords\"}], \"pie\": [{\"automargin\": true, \"type\": \"pie\"}], \"scatter\": [{\"marker\": {\"colorbar\": {\"outlinewidth\": 0, \"ticks\": \"\"}}, \"type\": \"scatter\"}], \"scatter3d\": [{\"line\": {\"colorbar\": {\"outlinewidth\": 0, \"ticks\": \"\"}}, \"marker\": {\"colorbar\": {\"outlinewidth\": 0, \"ticks\": \"\"}}, \"type\": \"scatter3d\"}], \"scattercarpet\": [{\"marker\": {\"colorbar\": {\"outlinewidth\": 0, \"ticks\": \"\"}}, \"type\": \"scattercarpet\"}], \"scattergeo\": [{\"marker\": {\"colorbar\": {\"outlinewidth\": 0, \"ticks\": \"\"}}, \"type\": \"scattergeo\"}], \"scattergl\": [{\"marker\": {\"colorbar\": {\"outlinewidth\": 0, \"ticks\": \"\"}}, \"type\": \"scattergl\"}], \"scattermapbox\": [{\"marker\": {\"colorbar\": {\"outlinewidth\": 0, \"ticks\": \"\"}}, \"type\": \"scattermapbox\"}], \"scatterpolar\": [{\"marker\": {\"colorbar\": {\"outlinewidth\": 0, \"ticks\": \"\"}}, \"type\": \"scatterpolar\"}], \"scatterpolargl\": [{\"marker\": {\"colorbar\": {\"outlinewidth\": 0, \"ticks\": \"\"}}, \"type\": \"scatterpolargl\"}], \"scatterternary\": [{\"marker\": {\"colorbar\": {\"outlinewidth\": 0, \"ticks\": \"\"}}, \"type\": \"scatterternary\"}], \"surface\": [{\"colorbar\": {\"outlinewidth\": 0, \"ticks\": \"\"}, \"colorscale\": [[0.0, \"#0d0887\"], [0.1111111111111111, \"#46039f\"], [0.2222222222222222, \"#7201a8\"], [0.3333333333333333, \"#9c179e\"], [0.4444444444444444, \"#bd3786\"], [0.5555555555555556, \"#d8576b\"], [0.6666666666666666, \"#ed7953\"], [0.7777777777777778, \"#fb9f3a\"], [0.8888888888888888, \"#fdca26\"], [1.0, \"#f0f921\"]], \"type\": \"surface\"}], \"table\": [{\"cells\": {\"fill\": {\"color\": \"#EBF0F8\"}, \"line\": {\"color\": \"white\"}}, \"header\": {\"fill\": {\"color\": \"#C8D4E3\"}, \"line\": {\"color\": \"white\"}}, \"type\": \"table\"}]}, \"layout\": {\"annotationdefaults\": {\"arrowcolor\": \"#2a3f5f\", \"arrowhead\": 0, \"arrowwidth\": 1}, \"coloraxis\": {\"colorbar\": {\"outlinewidth\": 0, \"ticks\": \"\"}}, \"colorscale\": {\"diverging\": [[0, \"#8e0152\"], [0.1, \"#c51b7d\"], [0.2, \"#de77ae\"], [0.3, \"#f1b6da\"], [0.4, \"#fde0ef\"], [0.5, \"#f7f7f7\"], [0.6, \"#e6f5d0\"], [0.7, \"#b8e186\"], [0.8, \"#7fbc41\"], [0.9, \"#4d9221\"], [1, \"#276419\"]], \"sequential\": [[0.0, \"#0d0887\"], [0.1111111111111111, \"#46039f\"], [0.2222222222222222, \"#7201a8\"], [0.3333333333333333, \"#9c179e\"], [0.4444444444444444, \"#bd3786\"], [0.5555555555555556, \"#d8576b\"], [0.6666666666666666, \"#ed7953\"], [0.7777777777777778, \"#fb9f3a\"], [0.8888888888888888, \"#fdca26\"], [1.0, \"#f0f921\"]], \"sequentialminus\": [[0.0, \"#0d0887\"], [0.1111111111111111, \"#46039f\"], [0.2222222222222222, \"#7201a8\"], [0.3333333333333333, \"#9c179e\"], [0.4444444444444444, \"#bd3786\"], [0.5555555555555556, \"#d8576b\"], [0.6666666666666666, \"#ed7953\"], [0.7777777777777778, \"#fb9f3a\"], [0.8888888888888888, \"#fdca26\"], [1.0, \"#f0f921\"]]}, \"colorway\": [\"#636efa\", \"#EF553B\", \"#00cc96\", \"#ab63fa\", \"#FFA15A\", \"#19d3f3\", \"#FF6692\", \"#B6E880\", \"#FF97FF\", \"#FECB52\"], \"font\": {\"color\": \"#2a3f5f\"}, \"geo\": {\"bgcolor\": \"white\", \"lakecolor\": \"white\", \"landcolor\": \"#E5ECF6\", \"showlakes\": true, \"showland\": true, \"subunitcolor\": \"white\"}, \"hoverlabel\": {\"align\": \"left\"}, \"hovermode\": \"closest\", \"mapbox\": {\"style\": \"light\"}, \"paper_bgcolor\": \"white\", \"plot_bgcolor\": \"#E5ECF6\", \"polar\": {\"angularaxis\": {\"gridcolor\": \"white\", \"linecolor\": \"white\", \"ticks\": \"\"}, \"bgcolor\": \"#E5ECF6\", \"radialaxis\": {\"gridcolor\": \"white\", \"linecolor\": \"white\", \"ticks\": \"\"}}, \"scene\": {\"xaxis\": {\"backgroundcolor\": \"#E5ECF6\", \"gridcolor\": \"white\", \"gridwidth\": 2, \"linecolor\": \"white\", \"showbackground\": true, \"ticks\": \"\", \"zerolinecolor\": \"white\"}, \"yaxis\": {\"backgroundcolor\": \"#E5ECF6\", \"gridcolor\": \"white\", \"gridwidth\": 2, \"linecolor\": \"white\", \"showbackground\": true, \"ticks\": \"\", \"zerolinecolor\": \"white\"}, \"zaxis\": {\"backgroundcolor\": \"#E5ECF6\", \"gridcolor\": \"white\", \"gridwidth\": 2, \"linecolor\": \"white\", \"showbackground\": true, \"ticks\": \"\", \"zerolinecolor\": \"white\"}}, \"shapedefaults\": {\"line\": {\"color\": \"#2a3f5f\"}}, \"ternary\": {\"aaxis\": {\"gridcolor\": \"white\", \"linecolor\": \"white\", \"ticks\": \"\"}, \"baxis\": {\"gridcolor\": \"white\", \"linecolor\": \"white\", \"ticks\": \"\"}, \"bgcolor\": \"#E5ECF6\", \"caxis\": {\"gridcolor\": \"white\", \"linecolor\": \"white\", \"ticks\": \"\"}}, \"title\": {\"x\": 0.05}, \"xaxis\": {\"automargin\": true, \"gridcolor\": \"white\", \"linecolor\": \"white\", \"ticks\": \"\", \"title\": {\"standoff\": 15}, \"zerolinecolor\": \"white\", \"zerolinewidth\": 2}, \"yaxis\": {\"automargin\": true, \"gridcolor\": \"white\", \"linecolor\": \"white\", \"ticks\": \"\", \"title\": {\"standoff\": 15}, \"zerolinecolor\": \"white\", \"zerolinewidth\": 2}}}, \"title\": {\"font\": {\"color\": \"#4D5663\"}}, \"xaxis\": {\"gridcolor\": \"#E1E5ED\", \"showgrid\": true, \"tickfont\": {\"color\": \"#4D5663\"}, \"title\": {\"font\": {\"color\": \"#4D5663\"}, \"text\": \"\"}, \"zerolinecolor\": \"#E1E5ED\"}, \"yaxis\": {\"gridcolor\": \"#E1E5ED\", \"showgrid\": true, \"tickfont\": {\"color\": \"#4D5663\"}, \"title\": {\"font\": {\"color\": \"#4D5663\"}, \"text\": \"\"}, \"zerolinecolor\": \"#E1E5ED\"}},\n",
       "                        {\"showLink\": true, \"linkText\": \"Export to plot.ly\", \"plotlyServerURL\": \"https://plot.ly\", \"responsive\": true}\n",
       "                    ).then(function(){\n",
       "                            \n",
       "var gd = document.getElementById('7a7cf2c3-61e4-4a28-9172-ca6d6f8b5584');\n",
       "var x = new MutationObserver(function (mutations, observer) {{\n",
       "        var display = window.getComputedStyle(gd).display;\n",
       "        if (!display || display === 'none') {{\n",
       "            console.log([gd, 'removed!']);\n",
       "            Plotly.purge(gd);\n",
       "            observer.disconnect();\n",
       "        }}\n",
       "}});\n",
       "\n",
       "// Listen for the removal of the full notebook cells\n",
       "var notebookContainer = gd.closest('#notebook-container');\n",
       "if (notebookContainer) {{\n",
       "    x.observe(notebookContainer, {childList: true});\n",
       "}}\n",
       "\n",
       "// Listen for the clearing of the current output cell\n",
       "var outputEl = gd.closest('.output');\n",
       "if (outputEl) {{\n",
       "    x.observe(outputEl, {childList: true});\n",
       "}}\n",
       "\n",
       "                        })\n",
       "                };\n",
       "                });\n",
       "            </script>\n",
       "        </div>"
      ]
     },
     "metadata": {},
     "output_type": "display_data"
    }
   ],
   "source": [
    "df2.iplot(kind='bar',x='Category',y='Values')"
   ]
  },
  {
   "cell_type": "code",
   "execution_count": 13,
   "metadata": {},
   "outputs": [
    {
     "data": {
      "application/vnd.plotly.v1+json": {
       "config": {
        "linkText": "Export to plot.ly",
        "plotlyServerURL": "https://plot.ly",
        "showLink": true
       },
       "data": [
        {
         "marker": {
          "color": "rgba(255, 153, 51, 0.6)",
          "line": {
           "color": "rgba(255, 153, 51, 1.0)",
           "width": 1
          }
         },
         "name": "None",
         "orientation": "v",
         "text": "",
         "type": "bar",
         "x": [
          "A",
          "B",
          "C",
          "D"
         ],
         "y": [
          100,
          100,
          100,
          100
         ]
        }
       ],
       "layout": {
        "legend": {
         "bgcolor": "#F5F6F9",
         "font": {
          "color": "#4D5663"
         }
        },
        "paper_bgcolor": "#F5F6F9",
        "plot_bgcolor": "#F5F6F9",
        "template": {
         "data": {
          "bar": [
           {
            "error_x": {
             "color": "#2a3f5f"
            },
            "error_y": {
             "color": "#2a3f5f"
            },
            "marker": {
             "line": {
              "color": "#E5ECF6",
              "width": 0.5
             }
            },
            "type": "bar"
           }
          ],
          "barpolar": [
           {
            "marker": {
             "line": {
              "color": "#E5ECF6",
              "width": 0.5
             }
            },
            "type": "barpolar"
           }
          ],
          "carpet": [
           {
            "aaxis": {
             "endlinecolor": "#2a3f5f",
             "gridcolor": "white",
             "linecolor": "white",
             "minorgridcolor": "white",
             "startlinecolor": "#2a3f5f"
            },
            "baxis": {
             "endlinecolor": "#2a3f5f",
             "gridcolor": "white",
             "linecolor": "white",
             "minorgridcolor": "white",
             "startlinecolor": "#2a3f5f"
            },
            "type": "carpet"
           }
          ],
          "choropleth": [
           {
            "colorbar": {
             "outlinewidth": 0,
             "ticks": ""
            },
            "type": "choropleth"
           }
          ],
          "contour": [
           {
            "colorbar": {
             "outlinewidth": 0,
             "ticks": ""
            },
            "colorscale": [
             [
              0,
              "#0d0887"
             ],
             [
              0.1111111111111111,
              "#46039f"
             ],
             [
              0.2222222222222222,
              "#7201a8"
             ],
             [
              0.3333333333333333,
              "#9c179e"
             ],
             [
              0.4444444444444444,
              "#bd3786"
             ],
             [
              0.5555555555555556,
              "#d8576b"
             ],
             [
              0.6666666666666666,
              "#ed7953"
             ],
             [
              0.7777777777777778,
              "#fb9f3a"
             ],
             [
              0.8888888888888888,
              "#fdca26"
             ],
             [
              1,
              "#f0f921"
             ]
            ],
            "type": "contour"
           }
          ],
          "contourcarpet": [
           {
            "colorbar": {
             "outlinewidth": 0,
             "ticks": ""
            },
            "type": "contourcarpet"
           }
          ],
          "heatmap": [
           {
            "colorbar": {
             "outlinewidth": 0,
             "ticks": ""
            },
            "colorscale": [
             [
              0,
              "#0d0887"
             ],
             [
              0.1111111111111111,
              "#46039f"
             ],
             [
              0.2222222222222222,
              "#7201a8"
             ],
             [
              0.3333333333333333,
              "#9c179e"
             ],
             [
              0.4444444444444444,
              "#bd3786"
             ],
             [
              0.5555555555555556,
              "#d8576b"
             ],
             [
              0.6666666666666666,
              "#ed7953"
             ],
             [
              0.7777777777777778,
              "#fb9f3a"
             ],
             [
              0.8888888888888888,
              "#fdca26"
             ],
             [
              1,
              "#f0f921"
             ]
            ],
            "type": "heatmap"
           }
          ],
          "heatmapgl": [
           {
            "colorbar": {
             "outlinewidth": 0,
             "ticks": ""
            },
            "colorscale": [
             [
              0,
              "#0d0887"
             ],
             [
              0.1111111111111111,
              "#46039f"
             ],
             [
              0.2222222222222222,
              "#7201a8"
             ],
             [
              0.3333333333333333,
              "#9c179e"
             ],
             [
              0.4444444444444444,
              "#bd3786"
             ],
             [
              0.5555555555555556,
              "#d8576b"
             ],
             [
              0.6666666666666666,
              "#ed7953"
             ],
             [
              0.7777777777777778,
              "#fb9f3a"
             ],
             [
              0.8888888888888888,
              "#fdca26"
             ],
             [
              1,
              "#f0f921"
             ]
            ],
            "type": "heatmapgl"
           }
          ],
          "histogram": [
           {
            "marker": {
             "colorbar": {
              "outlinewidth": 0,
              "ticks": ""
             }
            },
            "type": "histogram"
           }
          ],
          "histogram2d": [
           {
            "colorbar": {
             "outlinewidth": 0,
             "ticks": ""
            },
            "colorscale": [
             [
              0,
              "#0d0887"
             ],
             [
              0.1111111111111111,
              "#46039f"
             ],
             [
              0.2222222222222222,
              "#7201a8"
             ],
             [
              0.3333333333333333,
              "#9c179e"
             ],
             [
              0.4444444444444444,
              "#bd3786"
             ],
             [
              0.5555555555555556,
              "#d8576b"
             ],
             [
              0.6666666666666666,
              "#ed7953"
             ],
             [
              0.7777777777777778,
              "#fb9f3a"
             ],
             [
              0.8888888888888888,
              "#fdca26"
             ],
             [
              1,
              "#f0f921"
             ]
            ],
            "type": "histogram2d"
           }
          ],
          "histogram2dcontour": [
           {
            "colorbar": {
             "outlinewidth": 0,
             "ticks": ""
            },
            "colorscale": [
             [
              0,
              "#0d0887"
             ],
             [
              0.1111111111111111,
              "#46039f"
             ],
             [
              0.2222222222222222,
              "#7201a8"
             ],
             [
              0.3333333333333333,
              "#9c179e"
             ],
             [
              0.4444444444444444,
              "#bd3786"
             ],
             [
              0.5555555555555556,
              "#d8576b"
             ],
             [
              0.6666666666666666,
              "#ed7953"
             ],
             [
              0.7777777777777778,
              "#fb9f3a"
             ],
             [
              0.8888888888888888,
              "#fdca26"
             ],
             [
              1,
              "#f0f921"
             ]
            ],
            "type": "histogram2dcontour"
           }
          ],
          "mesh3d": [
           {
            "colorbar": {
             "outlinewidth": 0,
             "ticks": ""
            },
            "type": "mesh3d"
           }
          ],
          "parcoords": [
           {
            "line": {
             "colorbar": {
              "outlinewidth": 0,
              "ticks": ""
             }
            },
            "type": "parcoords"
           }
          ],
          "pie": [
           {
            "automargin": true,
            "type": "pie"
           }
          ],
          "scatter": [
           {
            "marker": {
             "colorbar": {
              "outlinewidth": 0,
              "ticks": ""
             }
            },
            "type": "scatter"
           }
          ],
          "scatter3d": [
           {
            "line": {
             "colorbar": {
              "outlinewidth": 0,
              "ticks": ""
             }
            },
            "marker": {
             "colorbar": {
              "outlinewidth": 0,
              "ticks": ""
             }
            },
            "type": "scatter3d"
           }
          ],
          "scattercarpet": [
           {
            "marker": {
             "colorbar": {
              "outlinewidth": 0,
              "ticks": ""
             }
            },
            "type": "scattercarpet"
           }
          ],
          "scattergeo": [
           {
            "marker": {
             "colorbar": {
              "outlinewidth": 0,
              "ticks": ""
             }
            },
            "type": "scattergeo"
           }
          ],
          "scattergl": [
           {
            "marker": {
             "colorbar": {
              "outlinewidth": 0,
              "ticks": ""
             }
            },
            "type": "scattergl"
           }
          ],
          "scattermapbox": [
           {
            "marker": {
             "colorbar": {
              "outlinewidth": 0,
              "ticks": ""
             }
            },
            "type": "scattermapbox"
           }
          ],
          "scatterpolar": [
           {
            "marker": {
             "colorbar": {
              "outlinewidth": 0,
              "ticks": ""
             }
            },
            "type": "scatterpolar"
           }
          ],
          "scatterpolargl": [
           {
            "marker": {
             "colorbar": {
              "outlinewidth": 0,
              "ticks": ""
             }
            },
            "type": "scatterpolargl"
           }
          ],
          "scatterternary": [
           {
            "marker": {
             "colorbar": {
              "outlinewidth": 0,
              "ticks": ""
             }
            },
            "type": "scatterternary"
           }
          ],
          "surface": [
           {
            "colorbar": {
             "outlinewidth": 0,
             "ticks": ""
            },
            "colorscale": [
             [
              0,
              "#0d0887"
             ],
             [
              0.1111111111111111,
              "#46039f"
             ],
             [
              0.2222222222222222,
              "#7201a8"
             ],
             [
              0.3333333333333333,
              "#9c179e"
             ],
             [
              0.4444444444444444,
              "#bd3786"
             ],
             [
              0.5555555555555556,
              "#d8576b"
             ],
             [
              0.6666666666666666,
              "#ed7953"
             ],
             [
              0.7777777777777778,
              "#fb9f3a"
             ],
             [
              0.8888888888888888,
              "#fdca26"
             ],
             [
              1,
              "#f0f921"
             ]
            ],
            "type": "surface"
           }
          ],
          "table": [
           {
            "cells": {
             "fill": {
              "color": "#EBF0F8"
             },
             "line": {
              "color": "white"
             }
            },
            "header": {
             "fill": {
              "color": "#C8D4E3"
             },
             "line": {
              "color": "white"
             }
            },
            "type": "table"
           }
          ]
         },
         "layout": {
          "annotationdefaults": {
           "arrowcolor": "#2a3f5f",
           "arrowhead": 0,
           "arrowwidth": 1
          },
          "coloraxis": {
           "colorbar": {
            "outlinewidth": 0,
            "ticks": ""
           }
          },
          "colorscale": {
           "diverging": [
            [
             0,
             "#8e0152"
            ],
            [
             0.1,
             "#c51b7d"
            ],
            [
             0.2,
             "#de77ae"
            ],
            [
             0.3,
             "#f1b6da"
            ],
            [
             0.4,
             "#fde0ef"
            ],
            [
             0.5,
             "#f7f7f7"
            ],
            [
             0.6,
             "#e6f5d0"
            ],
            [
             0.7,
             "#b8e186"
            ],
            [
             0.8,
             "#7fbc41"
            ],
            [
             0.9,
             "#4d9221"
            ],
            [
             1,
             "#276419"
            ]
           ],
           "sequential": [
            [
             0,
             "#0d0887"
            ],
            [
             0.1111111111111111,
             "#46039f"
            ],
            [
             0.2222222222222222,
             "#7201a8"
            ],
            [
             0.3333333333333333,
             "#9c179e"
            ],
            [
             0.4444444444444444,
             "#bd3786"
            ],
            [
             0.5555555555555556,
             "#d8576b"
            ],
            [
             0.6666666666666666,
             "#ed7953"
            ],
            [
             0.7777777777777778,
             "#fb9f3a"
            ],
            [
             0.8888888888888888,
             "#fdca26"
            ],
            [
             1,
             "#f0f921"
            ]
           ],
           "sequentialminus": [
            [
             0,
             "#0d0887"
            ],
            [
             0.1111111111111111,
             "#46039f"
            ],
            [
             0.2222222222222222,
             "#7201a8"
            ],
            [
             0.3333333333333333,
             "#9c179e"
            ],
            [
             0.4444444444444444,
             "#bd3786"
            ],
            [
             0.5555555555555556,
             "#d8576b"
            ],
            [
             0.6666666666666666,
             "#ed7953"
            ],
            [
             0.7777777777777778,
             "#fb9f3a"
            ],
            [
             0.8888888888888888,
             "#fdca26"
            ],
            [
             1,
             "#f0f921"
            ]
           ]
          },
          "colorway": [
           "#636efa",
           "#EF553B",
           "#00cc96",
           "#ab63fa",
           "#FFA15A",
           "#19d3f3",
           "#FF6692",
           "#B6E880",
           "#FF97FF",
           "#FECB52"
          ],
          "font": {
           "color": "#2a3f5f"
          },
          "geo": {
           "bgcolor": "white",
           "lakecolor": "white",
           "landcolor": "#E5ECF6",
           "showlakes": true,
           "showland": true,
           "subunitcolor": "white"
          },
          "hoverlabel": {
           "align": "left"
          },
          "hovermode": "closest",
          "mapbox": {
           "style": "light"
          },
          "paper_bgcolor": "white",
          "plot_bgcolor": "#E5ECF6",
          "polar": {
           "angularaxis": {
            "gridcolor": "white",
            "linecolor": "white",
            "ticks": ""
           },
           "bgcolor": "#E5ECF6",
           "radialaxis": {
            "gridcolor": "white",
            "linecolor": "white",
            "ticks": ""
           }
          },
          "scene": {
           "xaxis": {
            "backgroundcolor": "#E5ECF6",
            "gridcolor": "white",
            "gridwidth": 2,
            "linecolor": "white",
            "showbackground": true,
            "ticks": "",
            "zerolinecolor": "white"
           },
           "yaxis": {
            "backgroundcolor": "#E5ECF6",
            "gridcolor": "white",
            "gridwidth": 2,
            "linecolor": "white",
            "showbackground": true,
            "ticks": "",
            "zerolinecolor": "white"
           },
           "zaxis": {
            "backgroundcolor": "#E5ECF6",
            "gridcolor": "white",
            "gridwidth": 2,
            "linecolor": "white",
            "showbackground": true,
            "ticks": "",
            "zerolinecolor": "white"
           }
          },
          "shapedefaults": {
           "line": {
            "color": "#2a3f5f"
           }
          },
          "ternary": {
           "aaxis": {
            "gridcolor": "white",
            "linecolor": "white",
            "ticks": ""
           },
           "baxis": {
            "gridcolor": "white",
            "linecolor": "white",
            "ticks": ""
           },
           "bgcolor": "#E5ECF6",
           "caxis": {
            "gridcolor": "white",
            "linecolor": "white",
            "ticks": ""
           }
          },
          "title": {
           "x": 0.05
          },
          "xaxis": {
           "automargin": true,
           "gridcolor": "white",
           "linecolor": "white",
           "ticks": "",
           "title": {
            "standoff": 15
           },
           "zerolinecolor": "white",
           "zerolinewidth": 2
          },
          "yaxis": {
           "automargin": true,
           "gridcolor": "white",
           "linecolor": "white",
           "ticks": "",
           "title": {
            "standoff": 15
           },
           "zerolinecolor": "white",
           "zerolinewidth": 2
          }
         }
        },
        "title": {
         "font": {
          "color": "#4D5663"
         }
        },
        "xaxis": {
         "gridcolor": "#E1E5ED",
         "showgrid": true,
         "tickfont": {
          "color": "#4D5663"
         },
         "title": {
          "font": {
           "color": "#4D5663"
          },
          "text": ""
         },
         "zerolinecolor": "#E1E5ED"
        },
        "yaxis": {
         "gridcolor": "#E1E5ED",
         "showgrid": true,
         "tickfont": {
          "color": "#4D5663"
         },
         "title": {
          "font": {
           "color": "#4D5663"
          },
          "text": ""
         },
         "zerolinecolor": "#E1E5ED"
        }
       }
      },
      "text/html": [
       "<div>\n",
       "        \n",
       "        \n",
       "            <div id=\"c220b924-9a8b-4847-be87-ef74fe206f17\" class=\"plotly-graph-div\" style=\"height:525px; width:100%;\"></div>\n",
       "            <script type=\"text/javascript\">\n",
       "                require([\"plotly\"], function(Plotly) {\n",
       "                    window.PLOTLYENV=window.PLOTLYENV || {};\n",
       "                    window.PLOTLYENV.BASE_URL='https://plot.ly';\n",
       "                    \n",
       "                if (document.getElementById(\"c220b924-9a8b-4847-be87-ef74fe206f17\")) {\n",
       "                    Plotly.newPlot(\n",
       "                        'c220b924-9a8b-4847-be87-ef74fe206f17',\n",
       "                        [{\"marker\": {\"color\": \"rgba(255, 153, 51, 0.6)\", \"line\": {\"color\": \"rgba(255, 153, 51, 1.0)\", \"width\": 1}}, \"name\": \"None\", \"orientation\": \"v\", \"text\": \"\", \"type\": \"bar\", \"x\": [\"A\", \"B\", \"C\", \"D\"], \"y\": [100, 100, 100, 100]}],\n",
       "                        {\"legend\": {\"bgcolor\": \"#F5F6F9\", \"font\": {\"color\": \"#4D5663\"}}, \"paper_bgcolor\": \"#F5F6F9\", \"plot_bgcolor\": \"#F5F6F9\", \"template\": {\"data\": {\"bar\": [{\"error_x\": {\"color\": \"#2a3f5f\"}, \"error_y\": {\"color\": \"#2a3f5f\"}, \"marker\": {\"line\": {\"color\": \"#E5ECF6\", \"width\": 0.5}}, \"type\": \"bar\"}], \"barpolar\": [{\"marker\": {\"line\": {\"color\": \"#E5ECF6\", \"width\": 0.5}}, \"type\": \"barpolar\"}], \"carpet\": [{\"aaxis\": {\"endlinecolor\": \"#2a3f5f\", \"gridcolor\": \"white\", \"linecolor\": \"white\", \"minorgridcolor\": \"white\", \"startlinecolor\": \"#2a3f5f\"}, \"baxis\": {\"endlinecolor\": \"#2a3f5f\", \"gridcolor\": \"white\", \"linecolor\": \"white\", \"minorgridcolor\": \"white\", \"startlinecolor\": \"#2a3f5f\"}, \"type\": \"carpet\"}], \"choropleth\": [{\"colorbar\": {\"outlinewidth\": 0, \"ticks\": \"\"}, \"type\": \"choropleth\"}], \"contour\": [{\"colorbar\": {\"outlinewidth\": 0, \"ticks\": \"\"}, \"colorscale\": [[0.0, \"#0d0887\"], [0.1111111111111111, \"#46039f\"], [0.2222222222222222, \"#7201a8\"], [0.3333333333333333, \"#9c179e\"], [0.4444444444444444, \"#bd3786\"], [0.5555555555555556, \"#d8576b\"], [0.6666666666666666, \"#ed7953\"], [0.7777777777777778, \"#fb9f3a\"], [0.8888888888888888, \"#fdca26\"], [1.0, \"#f0f921\"]], \"type\": \"contour\"}], \"contourcarpet\": [{\"colorbar\": {\"outlinewidth\": 0, \"ticks\": \"\"}, \"type\": \"contourcarpet\"}], \"heatmap\": [{\"colorbar\": {\"outlinewidth\": 0, \"ticks\": \"\"}, \"colorscale\": [[0.0, \"#0d0887\"], [0.1111111111111111, \"#46039f\"], [0.2222222222222222, \"#7201a8\"], [0.3333333333333333, \"#9c179e\"], [0.4444444444444444, \"#bd3786\"], [0.5555555555555556, \"#d8576b\"], [0.6666666666666666, \"#ed7953\"], [0.7777777777777778, \"#fb9f3a\"], [0.8888888888888888, \"#fdca26\"], [1.0, \"#f0f921\"]], \"type\": \"heatmap\"}], \"heatmapgl\": [{\"colorbar\": {\"outlinewidth\": 0, \"ticks\": \"\"}, \"colorscale\": [[0.0, \"#0d0887\"], [0.1111111111111111, \"#46039f\"], [0.2222222222222222, \"#7201a8\"], [0.3333333333333333, \"#9c179e\"], [0.4444444444444444, \"#bd3786\"], [0.5555555555555556, \"#d8576b\"], [0.6666666666666666, \"#ed7953\"], [0.7777777777777778, \"#fb9f3a\"], [0.8888888888888888, \"#fdca26\"], [1.0, \"#f0f921\"]], \"type\": \"heatmapgl\"}], \"histogram\": [{\"marker\": {\"colorbar\": {\"outlinewidth\": 0, \"ticks\": \"\"}}, \"type\": \"histogram\"}], \"histogram2d\": [{\"colorbar\": {\"outlinewidth\": 0, \"ticks\": \"\"}, \"colorscale\": [[0.0, \"#0d0887\"], [0.1111111111111111, \"#46039f\"], [0.2222222222222222, \"#7201a8\"], [0.3333333333333333, \"#9c179e\"], [0.4444444444444444, \"#bd3786\"], [0.5555555555555556, \"#d8576b\"], [0.6666666666666666, \"#ed7953\"], [0.7777777777777778, \"#fb9f3a\"], [0.8888888888888888, \"#fdca26\"], [1.0, \"#f0f921\"]], \"type\": \"histogram2d\"}], \"histogram2dcontour\": [{\"colorbar\": {\"outlinewidth\": 0, \"ticks\": \"\"}, \"colorscale\": [[0.0, \"#0d0887\"], [0.1111111111111111, \"#46039f\"], [0.2222222222222222, \"#7201a8\"], [0.3333333333333333, \"#9c179e\"], [0.4444444444444444, \"#bd3786\"], [0.5555555555555556, \"#d8576b\"], [0.6666666666666666, \"#ed7953\"], [0.7777777777777778, \"#fb9f3a\"], [0.8888888888888888, \"#fdca26\"], [1.0, \"#f0f921\"]], \"type\": \"histogram2dcontour\"}], \"mesh3d\": [{\"colorbar\": {\"outlinewidth\": 0, \"ticks\": \"\"}, \"type\": \"mesh3d\"}], \"parcoords\": [{\"line\": {\"colorbar\": {\"outlinewidth\": 0, \"ticks\": \"\"}}, \"type\": \"parcoords\"}], \"pie\": [{\"automargin\": true, \"type\": \"pie\"}], \"scatter\": [{\"marker\": {\"colorbar\": {\"outlinewidth\": 0, \"ticks\": \"\"}}, \"type\": \"scatter\"}], \"scatter3d\": [{\"line\": {\"colorbar\": {\"outlinewidth\": 0, \"ticks\": \"\"}}, \"marker\": {\"colorbar\": {\"outlinewidth\": 0, \"ticks\": \"\"}}, \"type\": \"scatter3d\"}], \"scattercarpet\": [{\"marker\": {\"colorbar\": {\"outlinewidth\": 0, \"ticks\": \"\"}}, \"type\": \"scattercarpet\"}], \"scattergeo\": [{\"marker\": {\"colorbar\": {\"outlinewidth\": 0, \"ticks\": \"\"}}, \"type\": \"scattergeo\"}], \"scattergl\": [{\"marker\": {\"colorbar\": {\"outlinewidth\": 0, \"ticks\": \"\"}}, \"type\": \"scattergl\"}], \"scattermapbox\": [{\"marker\": {\"colorbar\": {\"outlinewidth\": 0, \"ticks\": \"\"}}, \"type\": \"scattermapbox\"}], \"scatterpolar\": [{\"marker\": {\"colorbar\": {\"outlinewidth\": 0, \"ticks\": \"\"}}, \"type\": \"scatterpolar\"}], \"scatterpolargl\": [{\"marker\": {\"colorbar\": {\"outlinewidth\": 0, \"ticks\": \"\"}}, \"type\": \"scatterpolargl\"}], \"scatterternary\": [{\"marker\": {\"colorbar\": {\"outlinewidth\": 0, \"ticks\": \"\"}}, \"type\": \"scatterternary\"}], \"surface\": [{\"colorbar\": {\"outlinewidth\": 0, \"ticks\": \"\"}, \"colorscale\": [[0.0, \"#0d0887\"], [0.1111111111111111, \"#46039f\"], [0.2222222222222222, \"#7201a8\"], [0.3333333333333333, \"#9c179e\"], [0.4444444444444444, \"#bd3786\"], [0.5555555555555556, \"#d8576b\"], [0.6666666666666666, \"#ed7953\"], [0.7777777777777778, \"#fb9f3a\"], [0.8888888888888888, \"#fdca26\"], [1.0, \"#f0f921\"]], \"type\": \"surface\"}], \"table\": [{\"cells\": {\"fill\": {\"color\": \"#EBF0F8\"}, \"line\": {\"color\": \"white\"}}, \"header\": {\"fill\": {\"color\": \"#C8D4E3\"}, \"line\": {\"color\": \"white\"}}, \"type\": \"table\"}]}, \"layout\": {\"annotationdefaults\": {\"arrowcolor\": \"#2a3f5f\", \"arrowhead\": 0, \"arrowwidth\": 1}, \"coloraxis\": {\"colorbar\": {\"outlinewidth\": 0, \"ticks\": \"\"}}, \"colorscale\": {\"diverging\": [[0, \"#8e0152\"], [0.1, \"#c51b7d\"], [0.2, \"#de77ae\"], [0.3, \"#f1b6da\"], [0.4, \"#fde0ef\"], [0.5, \"#f7f7f7\"], [0.6, \"#e6f5d0\"], [0.7, \"#b8e186\"], [0.8, \"#7fbc41\"], [0.9, \"#4d9221\"], [1, \"#276419\"]], \"sequential\": [[0.0, \"#0d0887\"], [0.1111111111111111, \"#46039f\"], [0.2222222222222222, \"#7201a8\"], [0.3333333333333333, \"#9c179e\"], [0.4444444444444444, \"#bd3786\"], [0.5555555555555556, \"#d8576b\"], [0.6666666666666666, \"#ed7953\"], [0.7777777777777778, \"#fb9f3a\"], [0.8888888888888888, \"#fdca26\"], [1.0, \"#f0f921\"]], \"sequentialminus\": [[0.0, \"#0d0887\"], [0.1111111111111111, \"#46039f\"], [0.2222222222222222, \"#7201a8\"], [0.3333333333333333, \"#9c179e\"], [0.4444444444444444, \"#bd3786\"], [0.5555555555555556, \"#d8576b\"], [0.6666666666666666, \"#ed7953\"], [0.7777777777777778, \"#fb9f3a\"], [0.8888888888888888, \"#fdca26\"], [1.0, \"#f0f921\"]]}, \"colorway\": [\"#636efa\", \"#EF553B\", \"#00cc96\", \"#ab63fa\", \"#FFA15A\", \"#19d3f3\", \"#FF6692\", \"#B6E880\", \"#FF97FF\", \"#FECB52\"], \"font\": {\"color\": \"#2a3f5f\"}, \"geo\": {\"bgcolor\": \"white\", \"lakecolor\": \"white\", \"landcolor\": \"#E5ECF6\", \"showlakes\": true, \"showland\": true, \"subunitcolor\": \"white\"}, \"hoverlabel\": {\"align\": \"left\"}, \"hovermode\": \"closest\", \"mapbox\": {\"style\": \"light\"}, \"paper_bgcolor\": \"white\", \"plot_bgcolor\": \"#E5ECF6\", \"polar\": {\"angularaxis\": {\"gridcolor\": \"white\", \"linecolor\": \"white\", \"ticks\": \"\"}, \"bgcolor\": \"#E5ECF6\", \"radialaxis\": {\"gridcolor\": \"white\", \"linecolor\": \"white\", \"ticks\": \"\"}}, \"scene\": {\"xaxis\": {\"backgroundcolor\": \"#E5ECF6\", \"gridcolor\": \"white\", \"gridwidth\": 2, \"linecolor\": \"white\", \"showbackground\": true, \"ticks\": \"\", \"zerolinecolor\": \"white\"}, \"yaxis\": {\"backgroundcolor\": \"#E5ECF6\", \"gridcolor\": \"white\", \"gridwidth\": 2, \"linecolor\": \"white\", \"showbackground\": true, \"ticks\": \"\", \"zerolinecolor\": \"white\"}, \"zaxis\": {\"backgroundcolor\": \"#E5ECF6\", \"gridcolor\": \"white\", \"gridwidth\": 2, \"linecolor\": \"white\", \"showbackground\": true, \"ticks\": \"\", \"zerolinecolor\": \"white\"}}, \"shapedefaults\": {\"line\": {\"color\": \"#2a3f5f\"}}, \"ternary\": {\"aaxis\": {\"gridcolor\": \"white\", \"linecolor\": \"white\", \"ticks\": \"\"}, \"baxis\": {\"gridcolor\": \"white\", \"linecolor\": \"white\", \"ticks\": \"\"}, \"bgcolor\": \"#E5ECF6\", \"caxis\": {\"gridcolor\": \"white\", \"linecolor\": \"white\", \"ticks\": \"\"}}, \"title\": {\"x\": 0.05}, \"xaxis\": {\"automargin\": true, \"gridcolor\": \"white\", \"linecolor\": \"white\", \"ticks\": \"\", \"title\": {\"standoff\": 15}, \"zerolinecolor\": \"white\", \"zerolinewidth\": 2}, \"yaxis\": {\"automargin\": true, \"gridcolor\": \"white\", \"linecolor\": \"white\", \"ticks\": \"\", \"title\": {\"standoff\": 15}, \"zerolinecolor\": \"white\", \"zerolinewidth\": 2}}}, \"title\": {\"font\": {\"color\": \"#4D5663\"}}, \"xaxis\": {\"gridcolor\": \"#E1E5ED\", \"showgrid\": true, \"tickfont\": {\"color\": \"#4D5663\"}, \"title\": {\"font\": {\"color\": \"#4D5663\"}, \"text\": \"\"}, \"zerolinecolor\": \"#E1E5ED\"}, \"yaxis\": {\"gridcolor\": \"#E1E5ED\", \"showgrid\": true, \"tickfont\": {\"color\": \"#4D5663\"}, \"title\": {\"font\": {\"color\": \"#4D5663\"}, \"text\": \"\"}, \"zerolinecolor\": \"#E1E5ED\"}},\n",
       "                        {\"showLink\": true, \"linkText\": \"Export to plot.ly\", \"plotlyServerURL\": \"https://plot.ly\", \"responsive\": true}\n",
       "                    ).then(function(){\n",
       "                            \n",
       "var gd = document.getElementById('c220b924-9a8b-4847-be87-ef74fe206f17');\n",
       "var x = new MutationObserver(function (mutations, observer) {{\n",
       "        var display = window.getComputedStyle(gd).display;\n",
       "        if (!display || display === 'none') {{\n",
       "            console.log([gd, 'removed!']);\n",
       "            Plotly.purge(gd);\n",
       "            observer.disconnect();\n",
       "        }}\n",
       "}});\n",
       "\n",
       "// Listen for the removal of the full notebook cells\n",
       "var notebookContainer = gd.closest('#notebook-container');\n",
       "if (notebookContainer) {{\n",
       "    x.observe(notebookContainer, {childList: true});\n",
       "}}\n",
       "\n",
       "// Listen for the clearing of the current output cell\n",
       "var outputEl = gd.closest('.output');\n",
       "if (outputEl) {{\n",
       "    x.observe(outputEl, {childList: true});\n",
       "}}\n",
       "\n",
       "                        })\n",
       "                };\n",
       "                });\n",
       "            </script>\n",
       "        </div>"
      ]
     },
     "metadata": {},
     "output_type": "display_data"
    }
   ],
   "source": [
    "df.count().iplot(kind='bar')"
   ]
  },
  {
   "cell_type": "markdown",
   "metadata": {},
   "source": [
    "## Boxplots"
   ]
  },
  {
   "cell_type": "code",
   "execution_count": 14,
   "metadata": {},
   "outputs": [
    {
     "data": {
      "application/vnd.plotly.v1+json": {
       "config": {
        "linkText": "Export to plot.ly",
        "plotlyServerURL": "https://plot.ly",
        "showLink": true
       },
       "data": [
        {
         "boxpoints": false,
         "line": {
          "width": 1.3
         },
         "marker": {
          "color": "rgba(255, 153, 51, 1.0)"
         },
         "name": "A",
         "orientation": "v",
         "type": "box",
         "y": [
          0.0890236266217388,
          -0.8787154704351006,
          -0.5977533695209157,
          1.0698110062679522,
          -0.7988921083264098,
          0.5832383049156543,
          -0.24864835278907027,
          -0.7060503899937032,
          -0.17782255970080588,
          -0.5971957707353813,
          -0.2848860906535149,
          -0.3742407187026039,
          0.4907659776092099,
          0.8454677262211716,
          -0.2397947222641649,
          -2.0292890390339724,
          -1.2343508942203125,
          -0.581627027911337,
          -1.0059985872873767,
          0.5190498956176977,
          -0.8050834897018041,
          -1.2332096157124222,
          0.24081560942118724,
          0.21907435531661296,
          1.0790880176319952,
          0.28539811590176767,
          0.7275582865688938,
          -1.3737352892335288,
          1.5015902347610783,
          -0.7633820933736835,
          0.24237512494715135,
          0.8172121522015262,
          1.8896732207751532,
          -0.6351466997131315,
          2.005318523682665,
          -0.580700518779291,
          0.7512582762225731,
          -0.8321393543297784,
          -0.3153980856329165,
          -0.02040788440319213,
          -2.2934222272134384,
          1.6394351565028256,
          -0.6005020999661731,
          -0.20898877817830225,
          -0.4939393931678909,
          -1.0223010529305525,
          -1.2450682862014761,
          -0.3750143012290298,
          -0.708562296521142,
          0.38878227084235917,
          -2.0559894255214224,
          1.4177343229429362,
          1.0125524763703015,
          0.2736842677201433,
          -1.690076207277851,
          0.5740214411230689,
          -1.4218587639089526,
          1.131981541075113,
          1.128790595206288,
          -1.7793271621875348,
          0.41361726580124564,
          0.06515589060216231,
          0.4932317233002984,
          -0.7378656158118205,
          -1.2319379637683658,
          -1.0507998526899458,
          1.0849106188488342,
          -0.2797600190915077,
          -1.4551367052371373,
          0.1544462179019029,
          -0.202836471763666,
          -0.71769159845839,
          1.2309494921041828,
          1.2092282398002012,
          0.3235255842564463,
          1.3316864092620504,
          0.1513431336912556,
          0.21827249329865175,
          -0.9835328681268078,
          -1.0362844907669773,
          -0.32551882727349163,
          -1.0723468668606093,
          -0.45027418094012583,
          1.799000436413313,
          -0.7762852907022613,
          -0.3060841118077056,
          -0.20171888994438966,
          1.1142185433582568,
          -0.2855190215679157,
          -0.7151109629949621,
          -0.15342200469247758,
          1.3878568278354564,
          -0.3913794385268874,
          -0.33413504032172014,
          1.2125676256249207,
          -0.6690852370697338,
          0.7818229887533782,
          1.1108926635943865,
          0.9868797129047022,
          0.8217126939072327
         ]
        },
        {
         "boxpoints": false,
         "line": {
          "width": 1.3
         },
         "marker": {
          "color": "rgba(55, 128, 191, 1.0)"
         },
         "name": "B",
         "orientation": "v",
         "type": "box",
         "y": [
          -0.35851340747689664,
          0.8964559064908013,
          0.8668851979644124,
          1.3201101066639465,
          0.8521632636565618,
          0.1678193389215071,
          0.7956218856845063,
          -1.485779184225525,
          -0.9397594214955171,
          -0.7276192600413182,
          0.48133426516235733,
          -1.5591885658424542,
          -0.686558641849801,
          2.18044367413078,
          -0.8224954720950357,
          0.834264245771014,
          1.1392133327228213,
          -0.056959375116270236,
          -0.08899218349335206,
          -0.770943166891278,
          1.2796388775496115,
          -0.3275552737219343,
          -0.9163903526244046,
          1.0538233753656439,
          -0.6853188384421511,
          -0.6275853279554117,
          0.9179813481937266,
          0.5189780842294516,
          0.3712018800035291,
          -1.8252779744693999,
          -0.34236610898251557,
          -0.019428628026250238,
          -0.8881594465059595,
          0.13060694430664255,
          -0.4121062043857643,
          -0.33180243234711787,
          -0.9683207227407323,
          0.009546301482904817,
          0.1895164509826522,
          -1.372607398389755,
          -0.2182857407326223,
          -0.9615140141635607,
          -0.7493604427082969,
          -0.2067713992218754,
          0.7429830323549378,
          -0.7720878333472194,
          -0.31734743841448415,
          0.3272924971873089,
          1.1832213404981857,
          -0.33702307554729777,
          -0.7105241760247889,
          -0.029703270945312988,
          -0.004807880039269839,
          -1.9973825785516937,
          2.5737789599651775,
          0.865139824506424,
          -1.6945802437900994,
          -0.5994672286457641,
          -0.5028030406421471,
          -0.02329024402120451,
          -0.5017263309388669,
          0.5785837836357898,
          -0.10987225399527062,
          1.6049998267882604,
          1.310629774867115,
          2.0585814106620783,
          -0.37476648312106,
          -0.6251191985799067,
          0.33967135556511246,
          0.09113891525380655,
          -0.2050970211327267,
          0.9770296374343848,
          -0.13155365069047867,
          1.4927636399521946,
          0.047661367603270104,
          -0.16380451935485263,
          -0.2037109505915858,
          0.8456429731125856,
          -2.293700224952948,
          1.14918628891375,
          -1.335207693057455,
          -0.41671154448101944,
          1.199664637188824,
          -0.12133532891653313,
          -0.6475928932098416,
          2.2874969525600846,
          -0.09027141045421477,
          -1.4881781082705703,
          -1.8618720474290251,
          0.2864564719476295,
          -1.0643714350281643,
          0.532804778438827,
          0.07101988852484521,
          1.2534553647894944,
          -0.609962890435716,
          1.301392841865941,
          0.008793702127127,
          0.9942304385437866,
          0.03762531473621305,
          -2.1766597195451514
         ]
        },
        {
         "boxpoints": false,
         "line": {
          "width": 1.3
         },
         "marker": {
          "color": "rgba(50, 171, 96, 1.0)"
         },
         "name": "C",
         "orientation": "v",
         "type": "box",
         "y": [
          -0.11275925141961757,
          0.3476799754393253,
          -0.4222275113565367,
          0.5533885742370918,
          -1.2618938484167306,
          -0.5225563147703599,
          -2.4637488309598474,
          -0.32297644342073123,
          1.655453076134819,
          0.5611652676172526,
          -0.1463547139411557,
          0.22294346660957187,
          -1.2848909161847697,
          -2.8953873095258653,
          -1.2858758734249582,
          0.3150031005153985,
          -0.5241827171605921,
          -0.9677883853597803,
          -0.41615752366769,
          -2.138197601571739,
          -0.4856048104597748,
          -2.208874988217804,
          0.7766175342969884,
          0.003981694482013667,
          -0.5760140059397335,
          1.733478462455027,
          0.648449369253872,
          0.14815875081281407,
          -0.7938797605490059,
          0.5120027211135333,
          -0.4473141501599969,
          0.9570576074312408,
          -0.4167440712465049,
          0.13046875318394702,
          -0.2989690625987172,
          1.8900651522155112,
          -1.134321957221086,
          -0.3371303733545989,
          -0.4949685301033872,
          -2.4028955664079303,
          -1.3764338656713238,
          1.709581760931209,
          -0.8547303860428226,
          -0.3149556010230478,
          -0.374553916081469,
          0.43515801975860335,
          0.09649635852917099,
          1.418215881721197,
          1.1220089708810042,
          -0.20618963037628144,
          0.46011134015735206,
          0.6360593891343618,
          -0.8147195954404538,
          0.06409563637292645,
          0.781220903119957,
          1.0754186229775857,
          -0.07728213237324322,
          0.9616681430757147,
          1.5127215679977948,
          1.8749832102624002,
          0.1977303749530275,
          -0.20031516120938428,
          2.0446348592707735,
          -0.7238402077148619,
          0.8928523950448867,
          -0.09669631361290285,
          1.8832892333063425,
          0.784132498196328,
          0.8290132687489427,
          -0.1585240196211482,
          0.445792973227965,
          1.8722297239655787,
          0.18973706149240266,
          1.244891218326293,
          0.2401429256485272,
          -1.6090592771705234,
          1.5485034332944003,
          0.1653515824228414,
          -0.27592835675953226,
          1.1048075195682239,
          1.3176340005226554,
          0.36589922365388666,
          0.6115832779061945,
          -0.08736946889834596,
          -0.36000692139755774,
          -0.3667361367016704,
          -0.14460340722744572,
          -1.0873584985226108,
          -1.8492459999215174,
          1.0231139215358867,
          0.14559327389942203,
          1.3358572110183067,
          -0.7173796458946975,
          0.4212905502749479,
          -0.4152493201284364,
          1.8217397831118682,
          0.0036652386587695874,
          -1.782871248603041,
          -0.8529133973128455,
          1.596156020677351
         ]
        },
        {
         "boxpoints": false,
         "line": {
          "width": 1.3
         },
         "marker": {
          "color": "rgba(128, 0, 128, 1.0)"
         },
         "name": "D",
         "orientation": "v",
         "type": "box",
         "y": [
          -0.32785208772956326,
          -0.06785803886552143,
          0.20531277500386613,
          1.1951903582338812,
          -1.3976623215796298,
          -0.05871598819976506,
          -0.5294115576305654,
          1.4731210019457235,
          0.4112288382342981,
          -2.5170159355144417,
          0.10801255709274726,
          -0.3807757452226713,
          2.044644936930708,
          0.24499358691169149,
          -0.7666279920351564,
          0.6104682681053788,
          0.3362963098401381,
          -0.8537002883618845,
          -0.5691842677127584,
          0.3133093675134218,
          1.67455516186429,
          0.6624779633708933,
          -2.564941929444399,
          0.9497679680477368,
          -0.26468253669595415,
          -0.8030759549069167,
          1.6064268390110041,
          -0.5904341907257554,
          -0.3253397858315221,
          -0.24463358595745335,
          0.5394263995862915,
          -0.24304145750373965,
          -0.4188003240686415,
          -0.9593082349504745,
          -0.9571437349163218,
          2.4554534048231234,
          1.0456371545377205,
          -0.1603843503282899,
          0.9821803641723885,
          0.22763427608915662,
          -0.1493895459373003,
          0.5712932576948321,
          0.453468290428403,
          0.14368171659714662,
          -1.9274903782955992,
          -0.5360630198493472,
          0.9334914802418602,
          -0.7529071572883291,
          0.041681949193690324,
          -0.41794614524461193,
          1.339952326312011,
          0.566465592776908,
          -0.5974302780754731,
          2.0051855211135137,
          -1.1486865592916764,
          -0.5819448606996918,
          -0.34736492823631593,
          0.026228848500067313,
          1.1794267510272693,
          0.7905500286476467,
          -1.061605327673259,
          -0.7139254327582141,
          -1.341527939318605,
          0.38222804304121344,
          -2.8238152736465336,
          -0.9123395223296985,
          1.8251162865311854,
          0.2797056325200032,
          -0.38842532149643644,
          1.4783250956420955,
          1.5364754691186921,
          1.1896479818453225,
          -1.5938518041805747,
          0.840228873308692,
          -0.7754603383189963,
          2.2701265901423278,
          1.5034880861574493,
          2.2081760131045667,
          1.2588621415207644,
          2.701189047720629,
          -0.2688536704889822,
          0.2367784995191865,
          0.7194877791314278,
          0.4963944188483984,
          -1.0703684430172578,
          -0.9213741542279265,
          -0.009955609904234169,
          -1.7982565873940162,
          0.8761520296140257,
          0.3446337763129536,
          -0.8364595748617735,
          1.746335937290738,
          -0.7441707689549959,
          -0.1276963160568414,
          0.8617653680657681,
          0.6155834742815333,
          0.9728811960262296,
          -0.6265655910074107,
          1.6701753458924138,
          2.3141180106435315
         ]
        }
       ],
       "layout": {
        "legend": {
         "bgcolor": "#F5F6F9",
         "font": {
          "color": "#4D5663"
         }
        },
        "paper_bgcolor": "#F5F6F9",
        "plot_bgcolor": "#F5F6F9",
        "template": {
         "data": {
          "bar": [
           {
            "error_x": {
             "color": "#2a3f5f"
            },
            "error_y": {
             "color": "#2a3f5f"
            },
            "marker": {
             "line": {
              "color": "#E5ECF6",
              "width": 0.5
             }
            },
            "type": "bar"
           }
          ],
          "barpolar": [
           {
            "marker": {
             "line": {
              "color": "#E5ECF6",
              "width": 0.5
             }
            },
            "type": "barpolar"
           }
          ],
          "carpet": [
           {
            "aaxis": {
             "endlinecolor": "#2a3f5f",
             "gridcolor": "white",
             "linecolor": "white",
             "minorgridcolor": "white",
             "startlinecolor": "#2a3f5f"
            },
            "baxis": {
             "endlinecolor": "#2a3f5f",
             "gridcolor": "white",
             "linecolor": "white",
             "minorgridcolor": "white",
             "startlinecolor": "#2a3f5f"
            },
            "type": "carpet"
           }
          ],
          "choropleth": [
           {
            "colorbar": {
             "outlinewidth": 0,
             "ticks": ""
            },
            "type": "choropleth"
           }
          ],
          "contour": [
           {
            "colorbar": {
             "outlinewidth": 0,
             "ticks": ""
            },
            "colorscale": [
             [
              0,
              "#0d0887"
             ],
             [
              0.1111111111111111,
              "#46039f"
             ],
             [
              0.2222222222222222,
              "#7201a8"
             ],
             [
              0.3333333333333333,
              "#9c179e"
             ],
             [
              0.4444444444444444,
              "#bd3786"
             ],
             [
              0.5555555555555556,
              "#d8576b"
             ],
             [
              0.6666666666666666,
              "#ed7953"
             ],
             [
              0.7777777777777778,
              "#fb9f3a"
             ],
             [
              0.8888888888888888,
              "#fdca26"
             ],
             [
              1,
              "#f0f921"
             ]
            ],
            "type": "contour"
           }
          ],
          "contourcarpet": [
           {
            "colorbar": {
             "outlinewidth": 0,
             "ticks": ""
            },
            "type": "contourcarpet"
           }
          ],
          "heatmap": [
           {
            "colorbar": {
             "outlinewidth": 0,
             "ticks": ""
            },
            "colorscale": [
             [
              0,
              "#0d0887"
             ],
             [
              0.1111111111111111,
              "#46039f"
             ],
             [
              0.2222222222222222,
              "#7201a8"
             ],
             [
              0.3333333333333333,
              "#9c179e"
             ],
             [
              0.4444444444444444,
              "#bd3786"
             ],
             [
              0.5555555555555556,
              "#d8576b"
             ],
             [
              0.6666666666666666,
              "#ed7953"
             ],
             [
              0.7777777777777778,
              "#fb9f3a"
             ],
             [
              0.8888888888888888,
              "#fdca26"
             ],
             [
              1,
              "#f0f921"
             ]
            ],
            "type": "heatmap"
           }
          ],
          "heatmapgl": [
           {
            "colorbar": {
             "outlinewidth": 0,
             "ticks": ""
            },
            "colorscale": [
             [
              0,
              "#0d0887"
             ],
             [
              0.1111111111111111,
              "#46039f"
             ],
             [
              0.2222222222222222,
              "#7201a8"
             ],
             [
              0.3333333333333333,
              "#9c179e"
             ],
             [
              0.4444444444444444,
              "#bd3786"
             ],
             [
              0.5555555555555556,
              "#d8576b"
             ],
             [
              0.6666666666666666,
              "#ed7953"
             ],
             [
              0.7777777777777778,
              "#fb9f3a"
             ],
             [
              0.8888888888888888,
              "#fdca26"
             ],
             [
              1,
              "#f0f921"
             ]
            ],
            "type": "heatmapgl"
           }
          ],
          "histogram": [
           {
            "marker": {
             "colorbar": {
              "outlinewidth": 0,
              "ticks": ""
             }
            },
            "type": "histogram"
           }
          ],
          "histogram2d": [
           {
            "colorbar": {
             "outlinewidth": 0,
             "ticks": ""
            },
            "colorscale": [
             [
              0,
              "#0d0887"
             ],
             [
              0.1111111111111111,
              "#46039f"
             ],
             [
              0.2222222222222222,
              "#7201a8"
             ],
             [
              0.3333333333333333,
              "#9c179e"
             ],
             [
              0.4444444444444444,
              "#bd3786"
             ],
             [
              0.5555555555555556,
              "#d8576b"
             ],
             [
              0.6666666666666666,
              "#ed7953"
             ],
             [
              0.7777777777777778,
              "#fb9f3a"
             ],
             [
              0.8888888888888888,
              "#fdca26"
             ],
             [
              1,
              "#f0f921"
             ]
            ],
            "type": "histogram2d"
           }
          ],
          "histogram2dcontour": [
           {
            "colorbar": {
             "outlinewidth": 0,
             "ticks": ""
            },
            "colorscale": [
             [
              0,
              "#0d0887"
             ],
             [
              0.1111111111111111,
              "#46039f"
             ],
             [
              0.2222222222222222,
              "#7201a8"
             ],
             [
              0.3333333333333333,
              "#9c179e"
             ],
             [
              0.4444444444444444,
              "#bd3786"
             ],
             [
              0.5555555555555556,
              "#d8576b"
             ],
             [
              0.6666666666666666,
              "#ed7953"
             ],
             [
              0.7777777777777778,
              "#fb9f3a"
             ],
             [
              0.8888888888888888,
              "#fdca26"
             ],
             [
              1,
              "#f0f921"
             ]
            ],
            "type": "histogram2dcontour"
           }
          ],
          "mesh3d": [
           {
            "colorbar": {
             "outlinewidth": 0,
             "ticks": ""
            },
            "type": "mesh3d"
           }
          ],
          "parcoords": [
           {
            "line": {
             "colorbar": {
              "outlinewidth": 0,
              "ticks": ""
             }
            },
            "type": "parcoords"
           }
          ],
          "pie": [
           {
            "automargin": true,
            "type": "pie"
           }
          ],
          "scatter": [
           {
            "marker": {
             "colorbar": {
              "outlinewidth": 0,
              "ticks": ""
             }
            },
            "type": "scatter"
           }
          ],
          "scatter3d": [
           {
            "line": {
             "colorbar": {
              "outlinewidth": 0,
              "ticks": ""
             }
            },
            "marker": {
             "colorbar": {
              "outlinewidth": 0,
              "ticks": ""
             }
            },
            "type": "scatter3d"
           }
          ],
          "scattercarpet": [
           {
            "marker": {
             "colorbar": {
              "outlinewidth": 0,
              "ticks": ""
             }
            },
            "type": "scattercarpet"
           }
          ],
          "scattergeo": [
           {
            "marker": {
             "colorbar": {
              "outlinewidth": 0,
              "ticks": ""
             }
            },
            "type": "scattergeo"
           }
          ],
          "scattergl": [
           {
            "marker": {
             "colorbar": {
              "outlinewidth": 0,
              "ticks": ""
             }
            },
            "type": "scattergl"
           }
          ],
          "scattermapbox": [
           {
            "marker": {
             "colorbar": {
              "outlinewidth": 0,
              "ticks": ""
             }
            },
            "type": "scattermapbox"
           }
          ],
          "scatterpolar": [
           {
            "marker": {
             "colorbar": {
              "outlinewidth": 0,
              "ticks": ""
             }
            },
            "type": "scatterpolar"
           }
          ],
          "scatterpolargl": [
           {
            "marker": {
             "colorbar": {
              "outlinewidth": 0,
              "ticks": ""
             }
            },
            "type": "scatterpolargl"
           }
          ],
          "scatterternary": [
           {
            "marker": {
             "colorbar": {
              "outlinewidth": 0,
              "ticks": ""
             }
            },
            "type": "scatterternary"
           }
          ],
          "surface": [
           {
            "colorbar": {
             "outlinewidth": 0,
             "ticks": ""
            },
            "colorscale": [
             [
              0,
              "#0d0887"
             ],
             [
              0.1111111111111111,
              "#46039f"
             ],
             [
              0.2222222222222222,
              "#7201a8"
             ],
             [
              0.3333333333333333,
              "#9c179e"
             ],
             [
              0.4444444444444444,
              "#bd3786"
             ],
             [
              0.5555555555555556,
              "#d8576b"
             ],
             [
              0.6666666666666666,
              "#ed7953"
             ],
             [
              0.7777777777777778,
              "#fb9f3a"
             ],
             [
              0.8888888888888888,
              "#fdca26"
             ],
             [
              1,
              "#f0f921"
             ]
            ],
            "type": "surface"
           }
          ],
          "table": [
           {
            "cells": {
             "fill": {
              "color": "#EBF0F8"
             },
             "line": {
              "color": "white"
             }
            },
            "header": {
             "fill": {
              "color": "#C8D4E3"
             },
             "line": {
              "color": "white"
             }
            },
            "type": "table"
           }
          ]
         },
         "layout": {
          "annotationdefaults": {
           "arrowcolor": "#2a3f5f",
           "arrowhead": 0,
           "arrowwidth": 1
          },
          "coloraxis": {
           "colorbar": {
            "outlinewidth": 0,
            "ticks": ""
           }
          },
          "colorscale": {
           "diverging": [
            [
             0,
             "#8e0152"
            ],
            [
             0.1,
             "#c51b7d"
            ],
            [
             0.2,
             "#de77ae"
            ],
            [
             0.3,
             "#f1b6da"
            ],
            [
             0.4,
             "#fde0ef"
            ],
            [
             0.5,
             "#f7f7f7"
            ],
            [
             0.6,
             "#e6f5d0"
            ],
            [
             0.7,
             "#b8e186"
            ],
            [
             0.8,
             "#7fbc41"
            ],
            [
             0.9,
             "#4d9221"
            ],
            [
             1,
             "#276419"
            ]
           ],
           "sequential": [
            [
             0,
             "#0d0887"
            ],
            [
             0.1111111111111111,
             "#46039f"
            ],
            [
             0.2222222222222222,
             "#7201a8"
            ],
            [
             0.3333333333333333,
             "#9c179e"
            ],
            [
             0.4444444444444444,
             "#bd3786"
            ],
            [
             0.5555555555555556,
             "#d8576b"
            ],
            [
             0.6666666666666666,
             "#ed7953"
            ],
            [
             0.7777777777777778,
             "#fb9f3a"
            ],
            [
             0.8888888888888888,
             "#fdca26"
            ],
            [
             1,
             "#f0f921"
            ]
           ],
           "sequentialminus": [
            [
             0,
             "#0d0887"
            ],
            [
             0.1111111111111111,
             "#46039f"
            ],
            [
             0.2222222222222222,
             "#7201a8"
            ],
            [
             0.3333333333333333,
             "#9c179e"
            ],
            [
             0.4444444444444444,
             "#bd3786"
            ],
            [
             0.5555555555555556,
             "#d8576b"
            ],
            [
             0.6666666666666666,
             "#ed7953"
            ],
            [
             0.7777777777777778,
             "#fb9f3a"
            ],
            [
             0.8888888888888888,
             "#fdca26"
            ],
            [
             1,
             "#f0f921"
            ]
           ]
          },
          "colorway": [
           "#636efa",
           "#EF553B",
           "#00cc96",
           "#ab63fa",
           "#FFA15A",
           "#19d3f3",
           "#FF6692",
           "#B6E880",
           "#FF97FF",
           "#FECB52"
          ],
          "font": {
           "color": "#2a3f5f"
          },
          "geo": {
           "bgcolor": "white",
           "lakecolor": "white",
           "landcolor": "#E5ECF6",
           "showlakes": true,
           "showland": true,
           "subunitcolor": "white"
          },
          "hoverlabel": {
           "align": "left"
          },
          "hovermode": "closest",
          "mapbox": {
           "style": "light"
          },
          "paper_bgcolor": "white",
          "plot_bgcolor": "#E5ECF6",
          "polar": {
           "angularaxis": {
            "gridcolor": "white",
            "linecolor": "white",
            "ticks": ""
           },
           "bgcolor": "#E5ECF6",
           "radialaxis": {
            "gridcolor": "white",
            "linecolor": "white",
            "ticks": ""
           }
          },
          "scene": {
           "xaxis": {
            "backgroundcolor": "#E5ECF6",
            "gridcolor": "white",
            "gridwidth": 2,
            "linecolor": "white",
            "showbackground": true,
            "ticks": "",
            "zerolinecolor": "white"
           },
           "yaxis": {
            "backgroundcolor": "#E5ECF6",
            "gridcolor": "white",
            "gridwidth": 2,
            "linecolor": "white",
            "showbackground": true,
            "ticks": "",
            "zerolinecolor": "white"
           },
           "zaxis": {
            "backgroundcolor": "#E5ECF6",
            "gridcolor": "white",
            "gridwidth": 2,
            "linecolor": "white",
            "showbackground": true,
            "ticks": "",
            "zerolinecolor": "white"
           }
          },
          "shapedefaults": {
           "line": {
            "color": "#2a3f5f"
           }
          },
          "ternary": {
           "aaxis": {
            "gridcolor": "white",
            "linecolor": "white",
            "ticks": ""
           },
           "baxis": {
            "gridcolor": "white",
            "linecolor": "white",
            "ticks": ""
           },
           "bgcolor": "#E5ECF6",
           "caxis": {
            "gridcolor": "white",
            "linecolor": "white",
            "ticks": ""
           }
          },
          "title": {
           "x": 0.05
          },
          "xaxis": {
           "automargin": true,
           "gridcolor": "white",
           "linecolor": "white",
           "ticks": "",
           "title": {
            "standoff": 15
           },
           "zerolinecolor": "white",
           "zerolinewidth": 2
          },
          "yaxis": {
           "automargin": true,
           "gridcolor": "white",
           "linecolor": "white",
           "ticks": "",
           "title": {
            "standoff": 15
           },
           "zerolinecolor": "white",
           "zerolinewidth": 2
          }
         }
        },
        "title": {
         "font": {
          "color": "#4D5663"
         }
        },
        "xaxis": {
         "gridcolor": "#E1E5ED",
         "showgrid": true,
         "tickfont": {
          "color": "#4D5663"
         },
         "title": {
          "font": {
           "color": "#4D5663"
          },
          "text": ""
         },
         "zerolinecolor": "#E1E5ED"
        },
        "yaxis": {
         "gridcolor": "#E1E5ED",
         "showgrid": true,
         "tickfont": {
          "color": "#4D5663"
         },
         "title": {
          "font": {
           "color": "#4D5663"
          },
          "text": ""
         },
         "zerolinecolor": "#E1E5ED"
        }
       }
      },
      "text/html": [
       "<div>\n",
       "        \n",
       "        \n",
       "            <div id=\"c4990e46-01bd-452a-901b-c2c30bb4001f\" class=\"plotly-graph-div\" style=\"height:525px; width:100%;\"></div>\n",
       "            <script type=\"text/javascript\">\n",
       "                require([\"plotly\"], function(Plotly) {\n",
       "                    window.PLOTLYENV=window.PLOTLYENV || {};\n",
       "                    window.PLOTLYENV.BASE_URL='https://plot.ly';\n",
       "                    \n",
       "                if (document.getElementById(\"c4990e46-01bd-452a-901b-c2c30bb4001f\")) {\n",
       "                    Plotly.newPlot(\n",
       "                        'c4990e46-01bd-452a-901b-c2c30bb4001f',\n",
       "                        [{\"boxpoints\": false, \"line\": {\"width\": 1.3}, \"marker\": {\"color\": \"rgba(255, 153, 51, 1.0)\"}, \"name\": \"A\", \"orientation\": \"v\", \"type\": \"box\", \"y\": [0.0890236266217388, -0.8787154704351006, -0.5977533695209157, 1.0698110062679522, -0.7988921083264098, 0.5832383049156543, -0.24864835278907027, -0.7060503899937032, -0.17782255970080588, -0.5971957707353813, -0.2848860906535149, -0.3742407187026039, 0.4907659776092099, 0.8454677262211716, -0.2397947222641649, -2.0292890390339724, -1.2343508942203125, -0.581627027911337, -1.0059985872873767, 0.5190498956176977, -0.8050834897018041, -1.2332096157124222, 0.24081560942118724, 0.21907435531661296, 1.0790880176319952, 0.28539811590176767, 0.7275582865688938, -1.3737352892335288, 1.5015902347610783, -0.7633820933736835, 0.24237512494715135, 0.8172121522015262, 1.8896732207751532, -0.6351466997131315, 2.005318523682665, -0.580700518779291, 0.7512582762225731, -0.8321393543297784, -0.3153980856329165, -0.02040788440319213, -2.2934222272134384, 1.6394351565028256, -0.6005020999661731, -0.20898877817830225, -0.4939393931678909, -1.0223010529305525, -1.2450682862014761, -0.3750143012290298, -0.708562296521142, 0.38878227084235917, -2.0559894255214224, 1.4177343229429362, 1.0125524763703015, 0.2736842677201433, -1.690076207277851, 0.5740214411230689, -1.4218587639089526, 1.131981541075113, 1.128790595206288, -1.7793271621875348, 0.41361726580124564, 0.06515589060216231, 0.4932317233002984, -0.7378656158118205, -1.2319379637683658, -1.0507998526899458, 1.0849106188488342, -0.2797600190915077, -1.4551367052371373, 0.1544462179019029, -0.202836471763666, -0.71769159845839, 1.2309494921041828, 1.2092282398002012, 0.3235255842564463, 1.3316864092620504, 0.1513431336912556, 0.21827249329865175, -0.9835328681268078, -1.0362844907669773, -0.32551882727349163, -1.0723468668606093, -0.45027418094012583, 1.799000436413313, -0.7762852907022613, -0.3060841118077056, -0.20171888994438966, 1.1142185433582568, -0.2855190215679157, -0.7151109629949621, -0.15342200469247758, 1.3878568278354564, -0.3913794385268874, -0.33413504032172014, 1.2125676256249207, -0.6690852370697338, 0.7818229887533782, 1.1108926635943865, 0.9868797129047022, 0.8217126939072327]}, {\"boxpoints\": false, \"line\": {\"width\": 1.3}, \"marker\": {\"color\": \"rgba(55, 128, 191, 1.0)\"}, \"name\": \"B\", \"orientation\": \"v\", \"type\": \"box\", \"y\": [-0.35851340747689664, 0.8964559064908013, 0.8668851979644124, 1.3201101066639465, 0.8521632636565618, 0.1678193389215071, 0.7956218856845063, -1.485779184225525, -0.9397594214955171, -0.7276192600413182, 0.48133426516235733, -1.5591885658424542, -0.686558641849801, 2.18044367413078, -0.8224954720950357, 0.834264245771014, 1.1392133327228213, -0.056959375116270236, -0.08899218349335206, -0.770943166891278, 1.2796388775496115, -0.3275552737219343, -0.9163903526244046, 1.0538233753656439, -0.6853188384421511, -0.6275853279554117, 0.9179813481937266, 0.5189780842294516, 0.3712018800035291, -1.8252779744693999, -0.34236610898251557, -0.019428628026250238, -0.8881594465059595, 0.13060694430664255, -0.4121062043857643, -0.33180243234711787, -0.9683207227407323, 0.009546301482904817, 0.1895164509826522, -1.372607398389755, -0.2182857407326223, -0.9615140141635607, -0.7493604427082969, -0.2067713992218754, 0.7429830323549378, -0.7720878333472194, -0.31734743841448415, 0.3272924971873089, 1.1832213404981857, -0.33702307554729777, -0.7105241760247889, -0.029703270945312988, -0.004807880039269839, -1.9973825785516937, 2.5737789599651775, 0.865139824506424, -1.6945802437900994, -0.5994672286457641, -0.5028030406421471, -0.02329024402120451, -0.5017263309388669, 0.5785837836357898, -0.10987225399527062, 1.6049998267882604, 1.310629774867115, 2.0585814106620783, -0.37476648312106, -0.6251191985799067, 0.33967135556511246, 0.09113891525380655, -0.2050970211327267, 0.9770296374343848, -0.13155365069047867, 1.4927636399521946, 0.047661367603270104, -0.16380451935485263, -0.2037109505915858, 0.8456429731125856, -2.293700224952948, 1.14918628891375, -1.335207693057455, -0.41671154448101944, 1.199664637188824, -0.12133532891653313, -0.6475928932098416, 2.2874969525600846, -0.09027141045421477, -1.4881781082705703, -1.8618720474290251, 0.2864564719476295, -1.0643714350281643, 0.532804778438827, 0.07101988852484521, 1.2534553647894944, -0.609962890435716, 1.301392841865941, 0.008793702127127, 0.9942304385437866, 0.03762531473621305, -2.1766597195451514]}, {\"boxpoints\": false, \"line\": {\"width\": 1.3}, \"marker\": {\"color\": \"rgba(50, 171, 96, 1.0)\"}, \"name\": \"C\", \"orientation\": \"v\", \"type\": \"box\", \"y\": [-0.11275925141961757, 0.3476799754393253, -0.4222275113565367, 0.5533885742370918, -1.2618938484167306, -0.5225563147703599, -2.4637488309598474, -0.32297644342073123, 1.655453076134819, 0.5611652676172526, -0.1463547139411557, 0.22294346660957187, -1.2848909161847697, -2.8953873095258653, -1.2858758734249582, 0.3150031005153985, -0.5241827171605921, -0.9677883853597803, -0.41615752366769, -2.138197601571739, -0.4856048104597748, -2.208874988217804, 0.7766175342969884, 0.003981694482013667, -0.5760140059397335, 1.733478462455027, 0.648449369253872, 0.14815875081281407, -0.7938797605490059, 0.5120027211135333, -0.4473141501599969, 0.9570576074312408, -0.4167440712465049, 0.13046875318394702, -0.2989690625987172, 1.8900651522155112, -1.134321957221086, -0.3371303733545989, -0.4949685301033872, -2.4028955664079303, -1.3764338656713238, 1.709581760931209, -0.8547303860428226, -0.3149556010230478, -0.374553916081469, 0.43515801975860335, 0.09649635852917099, 1.418215881721197, 1.1220089708810042, -0.20618963037628144, 0.46011134015735206, 0.6360593891343618, -0.8147195954404538, 0.06409563637292645, 0.781220903119957, 1.0754186229775857, -0.07728213237324322, 0.9616681430757147, 1.5127215679977948, 1.8749832102624002, 0.1977303749530275, -0.20031516120938428, 2.0446348592707735, -0.7238402077148619, 0.8928523950448867, -0.09669631361290285, 1.8832892333063425, 0.784132498196328, 0.8290132687489427, -0.1585240196211482, 0.445792973227965, 1.8722297239655787, 0.18973706149240266, 1.244891218326293, 0.2401429256485272, -1.6090592771705234, 1.5485034332944003, 0.1653515824228414, -0.27592835675953226, 1.1048075195682239, 1.3176340005226554, 0.36589922365388666, 0.6115832779061945, -0.08736946889834596, -0.36000692139755774, -0.3667361367016704, -0.14460340722744572, -1.0873584985226108, -1.8492459999215174, 1.0231139215358867, 0.14559327389942203, 1.3358572110183067, -0.7173796458946975, 0.4212905502749479, -0.4152493201284364, 1.8217397831118682, 0.0036652386587695874, -1.782871248603041, -0.8529133973128455, 1.596156020677351]}, {\"boxpoints\": false, \"line\": {\"width\": 1.3}, \"marker\": {\"color\": \"rgba(128, 0, 128, 1.0)\"}, \"name\": \"D\", \"orientation\": \"v\", \"type\": \"box\", \"y\": [-0.32785208772956326, -0.06785803886552143, 0.20531277500386613, 1.1951903582338812, -1.3976623215796298, -0.05871598819976506, -0.5294115576305654, 1.4731210019457235, 0.4112288382342981, -2.5170159355144417, 0.10801255709274726, -0.3807757452226713, 2.044644936930708, 0.24499358691169149, -0.7666279920351564, 0.6104682681053788, 0.3362963098401381, -0.8537002883618845, -0.5691842677127584, 0.3133093675134218, 1.67455516186429, 0.6624779633708933, -2.564941929444399, 0.9497679680477368, -0.26468253669595415, -0.8030759549069167, 1.6064268390110041, -0.5904341907257554, -0.3253397858315221, -0.24463358595745335, 0.5394263995862915, -0.24304145750373965, -0.4188003240686415, -0.9593082349504745, -0.9571437349163218, 2.4554534048231234, 1.0456371545377205, -0.1603843503282899, 0.9821803641723885, 0.22763427608915662, -0.1493895459373003, 0.5712932576948321, 0.453468290428403, 0.14368171659714662, -1.9274903782955992, -0.5360630198493472, 0.9334914802418602, -0.7529071572883291, 0.041681949193690324, -0.41794614524461193, 1.339952326312011, 0.566465592776908, -0.5974302780754731, 2.0051855211135137, -1.1486865592916764, -0.5819448606996918, -0.34736492823631593, 0.026228848500067313, 1.1794267510272693, 0.7905500286476467, -1.061605327673259, -0.7139254327582141, -1.341527939318605, 0.38222804304121344, -2.8238152736465336, -0.9123395223296985, 1.8251162865311854, 0.2797056325200032, -0.38842532149643644, 1.4783250956420955, 1.5364754691186921, 1.1896479818453225, -1.5938518041805747, 0.840228873308692, -0.7754603383189963, 2.2701265901423278, 1.5034880861574493, 2.2081760131045667, 1.2588621415207644, 2.701189047720629, -0.2688536704889822, 0.2367784995191865, 0.7194877791314278, 0.4963944188483984, -1.0703684430172578, -0.9213741542279265, -0.009955609904234169, -1.7982565873940162, 0.8761520296140257, 0.3446337763129536, -0.8364595748617735, 1.746335937290738, -0.7441707689549959, -0.1276963160568414, 0.8617653680657681, 0.6155834742815333, 0.9728811960262296, -0.6265655910074107, 1.6701753458924138, 2.3141180106435315]}],\n",
       "                        {\"legend\": {\"bgcolor\": \"#F5F6F9\", \"font\": {\"color\": \"#4D5663\"}}, \"paper_bgcolor\": \"#F5F6F9\", \"plot_bgcolor\": \"#F5F6F9\", \"template\": {\"data\": {\"bar\": [{\"error_x\": {\"color\": \"#2a3f5f\"}, \"error_y\": {\"color\": \"#2a3f5f\"}, \"marker\": {\"line\": {\"color\": \"#E5ECF6\", \"width\": 0.5}}, \"type\": \"bar\"}], \"barpolar\": [{\"marker\": {\"line\": {\"color\": \"#E5ECF6\", \"width\": 0.5}}, \"type\": \"barpolar\"}], \"carpet\": [{\"aaxis\": {\"endlinecolor\": \"#2a3f5f\", \"gridcolor\": \"white\", \"linecolor\": \"white\", \"minorgridcolor\": \"white\", \"startlinecolor\": \"#2a3f5f\"}, \"baxis\": {\"endlinecolor\": \"#2a3f5f\", \"gridcolor\": \"white\", \"linecolor\": \"white\", \"minorgridcolor\": \"white\", \"startlinecolor\": \"#2a3f5f\"}, \"type\": \"carpet\"}], \"choropleth\": [{\"colorbar\": {\"outlinewidth\": 0, \"ticks\": \"\"}, \"type\": \"choropleth\"}], \"contour\": [{\"colorbar\": {\"outlinewidth\": 0, \"ticks\": \"\"}, \"colorscale\": [[0.0, \"#0d0887\"], [0.1111111111111111, \"#46039f\"], [0.2222222222222222, \"#7201a8\"], [0.3333333333333333, \"#9c179e\"], [0.4444444444444444, \"#bd3786\"], [0.5555555555555556, \"#d8576b\"], [0.6666666666666666, \"#ed7953\"], [0.7777777777777778, \"#fb9f3a\"], [0.8888888888888888, \"#fdca26\"], [1.0, \"#f0f921\"]], \"type\": \"contour\"}], \"contourcarpet\": [{\"colorbar\": {\"outlinewidth\": 0, \"ticks\": \"\"}, \"type\": \"contourcarpet\"}], \"heatmap\": [{\"colorbar\": {\"outlinewidth\": 0, \"ticks\": \"\"}, \"colorscale\": [[0.0, \"#0d0887\"], [0.1111111111111111, \"#46039f\"], [0.2222222222222222, \"#7201a8\"], [0.3333333333333333, \"#9c179e\"], [0.4444444444444444, \"#bd3786\"], [0.5555555555555556, \"#d8576b\"], [0.6666666666666666, \"#ed7953\"], [0.7777777777777778, \"#fb9f3a\"], [0.8888888888888888, \"#fdca26\"], [1.0, \"#f0f921\"]], \"type\": \"heatmap\"}], \"heatmapgl\": [{\"colorbar\": {\"outlinewidth\": 0, \"ticks\": \"\"}, \"colorscale\": [[0.0, \"#0d0887\"], [0.1111111111111111, \"#46039f\"], [0.2222222222222222, \"#7201a8\"], [0.3333333333333333, \"#9c179e\"], [0.4444444444444444, \"#bd3786\"], [0.5555555555555556, \"#d8576b\"], [0.6666666666666666, \"#ed7953\"], [0.7777777777777778, \"#fb9f3a\"], [0.8888888888888888, \"#fdca26\"], [1.0, \"#f0f921\"]], \"type\": \"heatmapgl\"}], \"histogram\": [{\"marker\": {\"colorbar\": {\"outlinewidth\": 0, \"ticks\": \"\"}}, \"type\": \"histogram\"}], \"histogram2d\": [{\"colorbar\": {\"outlinewidth\": 0, \"ticks\": \"\"}, \"colorscale\": [[0.0, \"#0d0887\"], [0.1111111111111111, \"#46039f\"], [0.2222222222222222, \"#7201a8\"], [0.3333333333333333, \"#9c179e\"], [0.4444444444444444, \"#bd3786\"], [0.5555555555555556, \"#d8576b\"], [0.6666666666666666, \"#ed7953\"], [0.7777777777777778, \"#fb9f3a\"], [0.8888888888888888, \"#fdca26\"], [1.0, \"#f0f921\"]], \"type\": \"histogram2d\"}], \"histogram2dcontour\": [{\"colorbar\": {\"outlinewidth\": 0, \"ticks\": \"\"}, \"colorscale\": [[0.0, \"#0d0887\"], [0.1111111111111111, \"#46039f\"], [0.2222222222222222, \"#7201a8\"], [0.3333333333333333, \"#9c179e\"], [0.4444444444444444, \"#bd3786\"], [0.5555555555555556, \"#d8576b\"], [0.6666666666666666, \"#ed7953\"], [0.7777777777777778, \"#fb9f3a\"], [0.8888888888888888, \"#fdca26\"], [1.0, \"#f0f921\"]], \"type\": \"histogram2dcontour\"}], \"mesh3d\": [{\"colorbar\": {\"outlinewidth\": 0, \"ticks\": \"\"}, \"type\": \"mesh3d\"}], \"parcoords\": [{\"line\": {\"colorbar\": {\"outlinewidth\": 0, \"ticks\": \"\"}}, \"type\": \"parcoords\"}], \"pie\": [{\"automargin\": true, \"type\": \"pie\"}], \"scatter\": [{\"marker\": {\"colorbar\": {\"outlinewidth\": 0, \"ticks\": \"\"}}, \"type\": \"scatter\"}], \"scatter3d\": [{\"line\": {\"colorbar\": {\"outlinewidth\": 0, \"ticks\": \"\"}}, \"marker\": {\"colorbar\": {\"outlinewidth\": 0, \"ticks\": \"\"}}, \"type\": \"scatter3d\"}], \"scattercarpet\": [{\"marker\": {\"colorbar\": {\"outlinewidth\": 0, \"ticks\": \"\"}}, \"type\": \"scattercarpet\"}], \"scattergeo\": [{\"marker\": {\"colorbar\": {\"outlinewidth\": 0, \"ticks\": \"\"}}, \"type\": \"scattergeo\"}], \"scattergl\": [{\"marker\": {\"colorbar\": {\"outlinewidth\": 0, \"ticks\": \"\"}}, \"type\": \"scattergl\"}], \"scattermapbox\": [{\"marker\": {\"colorbar\": {\"outlinewidth\": 0, \"ticks\": \"\"}}, \"type\": \"scattermapbox\"}], \"scatterpolar\": [{\"marker\": {\"colorbar\": {\"outlinewidth\": 0, \"ticks\": \"\"}}, \"type\": \"scatterpolar\"}], \"scatterpolargl\": [{\"marker\": {\"colorbar\": {\"outlinewidth\": 0, \"ticks\": \"\"}}, \"type\": \"scatterpolargl\"}], \"scatterternary\": [{\"marker\": {\"colorbar\": {\"outlinewidth\": 0, \"ticks\": \"\"}}, \"type\": \"scatterternary\"}], \"surface\": [{\"colorbar\": {\"outlinewidth\": 0, \"ticks\": \"\"}, \"colorscale\": [[0.0, \"#0d0887\"], [0.1111111111111111, \"#46039f\"], [0.2222222222222222, \"#7201a8\"], [0.3333333333333333, \"#9c179e\"], [0.4444444444444444, \"#bd3786\"], [0.5555555555555556, \"#d8576b\"], [0.6666666666666666, \"#ed7953\"], [0.7777777777777778, \"#fb9f3a\"], [0.8888888888888888, \"#fdca26\"], [1.0, \"#f0f921\"]], \"type\": \"surface\"}], \"table\": [{\"cells\": {\"fill\": {\"color\": \"#EBF0F8\"}, \"line\": {\"color\": \"white\"}}, \"header\": {\"fill\": {\"color\": \"#C8D4E3\"}, \"line\": {\"color\": \"white\"}}, \"type\": \"table\"}]}, \"layout\": {\"annotationdefaults\": {\"arrowcolor\": \"#2a3f5f\", \"arrowhead\": 0, \"arrowwidth\": 1}, \"coloraxis\": {\"colorbar\": {\"outlinewidth\": 0, \"ticks\": \"\"}}, \"colorscale\": {\"diverging\": [[0, \"#8e0152\"], [0.1, \"#c51b7d\"], [0.2, \"#de77ae\"], [0.3, \"#f1b6da\"], [0.4, \"#fde0ef\"], [0.5, \"#f7f7f7\"], [0.6, \"#e6f5d0\"], [0.7, \"#b8e186\"], [0.8, \"#7fbc41\"], [0.9, \"#4d9221\"], [1, \"#276419\"]], \"sequential\": [[0.0, \"#0d0887\"], [0.1111111111111111, \"#46039f\"], [0.2222222222222222, \"#7201a8\"], [0.3333333333333333, \"#9c179e\"], [0.4444444444444444, \"#bd3786\"], [0.5555555555555556, \"#d8576b\"], [0.6666666666666666, \"#ed7953\"], [0.7777777777777778, \"#fb9f3a\"], [0.8888888888888888, \"#fdca26\"], [1.0, \"#f0f921\"]], \"sequentialminus\": [[0.0, \"#0d0887\"], [0.1111111111111111, \"#46039f\"], [0.2222222222222222, \"#7201a8\"], [0.3333333333333333, \"#9c179e\"], [0.4444444444444444, \"#bd3786\"], [0.5555555555555556, \"#d8576b\"], [0.6666666666666666, \"#ed7953\"], [0.7777777777777778, \"#fb9f3a\"], [0.8888888888888888, \"#fdca26\"], [1.0, \"#f0f921\"]]}, \"colorway\": [\"#636efa\", \"#EF553B\", \"#00cc96\", \"#ab63fa\", \"#FFA15A\", \"#19d3f3\", \"#FF6692\", \"#B6E880\", \"#FF97FF\", \"#FECB52\"], \"font\": {\"color\": \"#2a3f5f\"}, \"geo\": {\"bgcolor\": \"white\", \"lakecolor\": \"white\", \"landcolor\": \"#E5ECF6\", \"showlakes\": true, \"showland\": true, \"subunitcolor\": \"white\"}, \"hoverlabel\": {\"align\": \"left\"}, \"hovermode\": \"closest\", \"mapbox\": {\"style\": \"light\"}, \"paper_bgcolor\": \"white\", \"plot_bgcolor\": \"#E5ECF6\", \"polar\": {\"angularaxis\": {\"gridcolor\": \"white\", \"linecolor\": \"white\", \"ticks\": \"\"}, \"bgcolor\": \"#E5ECF6\", \"radialaxis\": {\"gridcolor\": \"white\", \"linecolor\": \"white\", \"ticks\": \"\"}}, \"scene\": {\"xaxis\": {\"backgroundcolor\": \"#E5ECF6\", \"gridcolor\": \"white\", \"gridwidth\": 2, \"linecolor\": \"white\", \"showbackground\": true, \"ticks\": \"\", \"zerolinecolor\": \"white\"}, \"yaxis\": {\"backgroundcolor\": \"#E5ECF6\", \"gridcolor\": \"white\", \"gridwidth\": 2, \"linecolor\": \"white\", \"showbackground\": true, \"ticks\": \"\", \"zerolinecolor\": \"white\"}, \"zaxis\": {\"backgroundcolor\": \"#E5ECF6\", \"gridcolor\": \"white\", \"gridwidth\": 2, \"linecolor\": \"white\", \"showbackground\": true, \"ticks\": \"\", \"zerolinecolor\": \"white\"}}, \"shapedefaults\": {\"line\": {\"color\": \"#2a3f5f\"}}, \"ternary\": {\"aaxis\": {\"gridcolor\": \"white\", \"linecolor\": \"white\", \"ticks\": \"\"}, \"baxis\": {\"gridcolor\": \"white\", \"linecolor\": \"white\", \"ticks\": \"\"}, \"bgcolor\": \"#E5ECF6\", \"caxis\": {\"gridcolor\": \"white\", \"linecolor\": \"white\", \"ticks\": \"\"}}, \"title\": {\"x\": 0.05}, \"xaxis\": {\"automargin\": true, \"gridcolor\": \"white\", \"linecolor\": \"white\", \"ticks\": \"\", \"title\": {\"standoff\": 15}, \"zerolinecolor\": \"white\", \"zerolinewidth\": 2}, \"yaxis\": {\"automargin\": true, \"gridcolor\": \"white\", \"linecolor\": \"white\", \"ticks\": \"\", \"title\": {\"standoff\": 15}, \"zerolinecolor\": \"white\", \"zerolinewidth\": 2}}}, \"title\": {\"font\": {\"color\": \"#4D5663\"}}, \"xaxis\": {\"gridcolor\": \"#E1E5ED\", \"showgrid\": true, \"tickfont\": {\"color\": \"#4D5663\"}, \"title\": {\"font\": {\"color\": \"#4D5663\"}, \"text\": \"\"}, \"zerolinecolor\": \"#E1E5ED\"}, \"yaxis\": {\"gridcolor\": \"#E1E5ED\", \"showgrid\": true, \"tickfont\": {\"color\": \"#4D5663\"}, \"title\": {\"font\": {\"color\": \"#4D5663\"}, \"text\": \"\"}, \"zerolinecolor\": \"#E1E5ED\"}},\n",
       "                        {\"showLink\": true, \"linkText\": \"Export to plot.ly\", \"plotlyServerURL\": \"https://plot.ly\", \"responsive\": true}\n",
       "                    ).then(function(){\n",
       "                            \n",
       "var gd = document.getElementById('c4990e46-01bd-452a-901b-c2c30bb4001f');\n",
       "var x = new MutationObserver(function (mutations, observer) {{\n",
       "        var display = window.getComputedStyle(gd).display;\n",
       "        if (!display || display === 'none') {{\n",
       "            console.log([gd, 'removed!']);\n",
       "            Plotly.purge(gd);\n",
       "            observer.disconnect();\n",
       "        }}\n",
       "}});\n",
       "\n",
       "// Listen for the removal of the full notebook cells\n",
       "var notebookContainer = gd.closest('#notebook-container');\n",
       "if (notebookContainer) {{\n",
       "    x.observe(notebookContainer, {childList: true});\n",
       "}}\n",
       "\n",
       "// Listen for the clearing of the current output cell\n",
       "var outputEl = gd.closest('.output');\n",
       "if (outputEl) {{\n",
       "    x.observe(outputEl, {childList: true});\n",
       "}}\n",
       "\n",
       "                        })\n",
       "                };\n",
       "                });\n",
       "            </script>\n",
       "        </div>"
      ]
     },
     "metadata": {},
     "output_type": "display_data"
    }
   ],
   "source": [
    "df.iplot(kind='box')"
   ]
  },
  {
   "cell_type": "markdown",
   "metadata": {},
   "source": [
    "## 3d Surface"
   ]
  },
  {
   "cell_type": "code",
   "execution_count": 15,
   "metadata": {},
   "outputs": [
    {
     "data": {
      "application/vnd.plotly.v1+json": {
       "config": {
        "linkText": "Export to plot.ly",
        "plotlyServerURL": "https://plot.ly",
        "showLink": true
       },
       "data": [
        {
         "colorscale": [
          [
           0,
           "rgb(165,0,38)"
          ],
          [
           0.1,
           "rgb(215,48,39)"
          ],
          [
           0.2,
           "rgb(244,109,67)"
          ],
          [
           0.3,
           "rgb(253,174,97)"
          ],
          [
           0.4,
           "rgb(254,224,144)"
          ],
          [
           0.5,
           "rgb(255,255,191)"
          ],
          [
           0.6,
           "rgb(224,243,248)"
          ],
          [
           0.7,
           "rgb(171,217,233)"
          ],
          [
           0.8,
           "rgb(116,173,209)"
          ],
          [
           0.9,
           "rgb(69,117,180)"
          ],
          [
           1,
           "rgb(49,54,149)"
          ]
         ],
         "type": "surface",
         "x": [
          0,
          1,
          2,
          3,
          4
         ],
         "y": [
          "x",
          "y",
          "z"
         ],
         "z": [
          [
           1,
           2,
           3,
           4,
           5
          ],
          [
           10,
           20,
           30,
           20,
           10
          ],
          [
           5,
           4,
           3,
           2,
           1
          ]
         ]
        }
       ],
       "layout": {
        "legend": {
         "bgcolor": "#F5F6F9",
         "font": {
          "color": "#4D5663"
         }
        },
        "paper_bgcolor": "#F5F6F9",
        "plot_bgcolor": "#F5F6F9",
        "template": {
         "data": {
          "bar": [
           {
            "error_x": {
             "color": "#2a3f5f"
            },
            "error_y": {
             "color": "#2a3f5f"
            },
            "marker": {
             "line": {
              "color": "#E5ECF6",
              "width": 0.5
             }
            },
            "type": "bar"
           }
          ],
          "barpolar": [
           {
            "marker": {
             "line": {
              "color": "#E5ECF6",
              "width": 0.5
             }
            },
            "type": "barpolar"
           }
          ],
          "carpet": [
           {
            "aaxis": {
             "endlinecolor": "#2a3f5f",
             "gridcolor": "white",
             "linecolor": "white",
             "minorgridcolor": "white",
             "startlinecolor": "#2a3f5f"
            },
            "baxis": {
             "endlinecolor": "#2a3f5f",
             "gridcolor": "white",
             "linecolor": "white",
             "minorgridcolor": "white",
             "startlinecolor": "#2a3f5f"
            },
            "type": "carpet"
           }
          ],
          "choropleth": [
           {
            "colorbar": {
             "outlinewidth": 0,
             "ticks": ""
            },
            "type": "choropleth"
           }
          ],
          "contour": [
           {
            "colorbar": {
             "outlinewidth": 0,
             "ticks": ""
            },
            "colorscale": [
             [
              0,
              "#0d0887"
             ],
             [
              0.1111111111111111,
              "#46039f"
             ],
             [
              0.2222222222222222,
              "#7201a8"
             ],
             [
              0.3333333333333333,
              "#9c179e"
             ],
             [
              0.4444444444444444,
              "#bd3786"
             ],
             [
              0.5555555555555556,
              "#d8576b"
             ],
             [
              0.6666666666666666,
              "#ed7953"
             ],
             [
              0.7777777777777778,
              "#fb9f3a"
             ],
             [
              0.8888888888888888,
              "#fdca26"
             ],
             [
              1,
              "#f0f921"
             ]
            ],
            "type": "contour"
           }
          ],
          "contourcarpet": [
           {
            "colorbar": {
             "outlinewidth": 0,
             "ticks": ""
            },
            "type": "contourcarpet"
           }
          ],
          "heatmap": [
           {
            "colorbar": {
             "outlinewidth": 0,
             "ticks": ""
            },
            "colorscale": [
             [
              0,
              "#0d0887"
             ],
             [
              0.1111111111111111,
              "#46039f"
             ],
             [
              0.2222222222222222,
              "#7201a8"
             ],
             [
              0.3333333333333333,
              "#9c179e"
             ],
             [
              0.4444444444444444,
              "#bd3786"
             ],
             [
              0.5555555555555556,
              "#d8576b"
             ],
             [
              0.6666666666666666,
              "#ed7953"
             ],
             [
              0.7777777777777778,
              "#fb9f3a"
             ],
             [
              0.8888888888888888,
              "#fdca26"
             ],
             [
              1,
              "#f0f921"
             ]
            ],
            "type": "heatmap"
           }
          ],
          "heatmapgl": [
           {
            "colorbar": {
             "outlinewidth": 0,
             "ticks": ""
            },
            "colorscale": [
             [
              0,
              "#0d0887"
             ],
             [
              0.1111111111111111,
              "#46039f"
             ],
             [
              0.2222222222222222,
              "#7201a8"
             ],
             [
              0.3333333333333333,
              "#9c179e"
             ],
             [
              0.4444444444444444,
              "#bd3786"
             ],
             [
              0.5555555555555556,
              "#d8576b"
             ],
             [
              0.6666666666666666,
              "#ed7953"
             ],
             [
              0.7777777777777778,
              "#fb9f3a"
             ],
             [
              0.8888888888888888,
              "#fdca26"
             ],
             [
              1,
              "#f0f921"
             ]
            ],
            "type": "heatmapgl"
           }
          ],
          "histogram": [
           {
            "marker": {
             "colorbar": {
              "outlinewidth": 0,
              "ticks": ""
             }
            },
            "type": "histogram"
           }
          ],
          "histogram2d": [
           {
            "colorbar": {
             "outlinewidth": 0,
             "ticks": ""
            },
            "colorscale": [
             [
              0,
              "#0d0887"
             ],
             [
              0.1111111111111111,
              "#46039f"
             ],
             [
              0.2222222222222222,
              "#7201a8"
             ],
             [
              0.3333333333333333,
              "#9c179e"
             ],
             [
              0.4444444444444444,
              "#bd3786"
             ],
             [
              0.5555555555555556,
              "#d8576b"
             ],
             [
              0.6666666666666666,
              "#ed7953"
             ],
             [
              0.7777777777777778,
              "#fb9f3a"
             ],
             [
              0.8888888888888888,
              "#fdca26"
             ],
             [
              1,
              "#f0f921"
             ]
            ],
            "type": "histogram2d"
           }
          ],
          "histogram2dcontour": [
           {
            "colorbar": {
             "outlinewidth": 0,
             "ticks": ""
            },
            "colorscale": [
             [
              0,
              "#0d0887"
             ],
             [
              0.1111111111111111,
              "#46039f"
             ],
             [
              0.2222222222222222,
              "#7201a8"
             ],
             [
              0.3333333333333333,
              "#9c179e"
             ],
             [
              0.4444444444444444,
              "#bd3786"
             ],
             [
              0.5555555555555556,
              "#d8576b"
             ],
             [
              0.6666666666666666,
              "#ed7953"
             ],
             [
              0.7777777777777778,
              "#fb9f3a"
             ],
             [
              0.8888888888888888,
              "#fdca26"
             ],
             [
              1,
              "#f0f921"
             ]
            ],
            "type": "histogram2dcontour"
           }
          ],
          "mesh3d": [
           {
            "colorbar": {
             "outlinewidth": 0,
             "ticks": ""
            },
            "type": "mesh3d"
           }
          ],
          "parcoords": [
           {
            "line": {
             "colorbar": {
              "outlinewidth": 0,
              "ticks": ""
             }
            },
            "type": "parcoords"
           }
          ],
          "pie": [
           {
            "automargin": true,
            "type": "pie"
           }
          ],
          "scatter": [
           {
            "marker": {
             "colorbar": {
              "outlinewidth": 0,
              "ticks": ""
             }
            },
            "type": "scatter"
           }
          ],
          "scatter3d": [
           {
            "line": {
             "colorbar": {
              "outlinewidth": 0,
              "ticks": ""
             }
            },
            "marker": {
             "colorbar": {
              "outlinewidth": 0,
              "ticks": ""
             }
            },
            "type": "scatter3d"
           }
          ],
          "scattercarpet": [
           {
            "marker": {
             "colorbar": {
              "outlinewidth": 0,
              "ticks": ""
             }
            },
            "type": "scattercarpet"
           }
          ],
          "scattergeo": [
           {
            "marker": {
             "colorbar": {
              "outlinewidth": 0,
              "ticks": ""
             }
            },
            "type": "scattergeo"
           }
          ],
          "scattergl": [
           {
            "marker": {
             "colorbar": {
              "outlinewidth": 0,
              "ticks": ""
             }
            },
            "type": "scattergl"
           }
          ],
          "scattermapbox": [
           {
            "marker": {
             "colorbar": {
              "outlinewidth": 0,
              "ticks": ""
             }
            },
            "type": "scattermapbox"
           }
          ],
          "scatterpolar": [
           {
            "marker": {
             "colorbar": {
              "outlinewidth": 0,
              "ticks": ""
             }
            },
            "type": "scatterpolar"
           }
          ],
          "scatterpolargl": [
           {
            "marker": {
             "colorbar": {
              "outlinewidth": 0,
              "ticks": ""
             }
            },
            "type": "scatterpolargl"
           }
          ],
          "scatterternary": [
           {
            "marker": {
             "colorbar": {
              "outlinewidth": 0,
              "ticks": ""
             }
            },
            "type": "scatterternary"
           }
          ],
          "surface": [
           {
            "colorbar": {
             "outlinewidth": 0,
             "ticks": ""
            },
            "colorscale": [
             [
              0,
              "#0d0887"
             ],
             [
              0.1111111111111111,
              "#46039f"
             ],
             [
              0.2222222222222222,
              "#7201a8"
             ],
             [
              0.3333333333333333,
              "#9c179e"
             ],
             [
              0.4444444444444444,
              "#bd3786"
             ],
             [
              0.5555555555555556,
              "#d8576b"
             ],
             [
              0.6666666666666666,
              "#ed7953"
             ],
             [
              0.7777777777777778,
              "#fb9f3a"
             ],
             [
              0.8888888888888888,
              "#fdca26"
             ],
             [
              1,
              "#f0f921"
             ]
            ],
            "type": "surface"
           }
          ],
          "table": [
           {
            "cells": {
             "fill": {
              "color": "#EBF0F8"
             },
             "line": {
              "color": "white"
             }
            },
            "header": {
             "fill": {
              "color": "#C8D4E3"
             },
             "line": {
              "color": "white"
             }
            },
            "type": "table"
           }
          ]
         },
         "layout": {
          "annotationdefaults": {
           "arrowcolor": "#2a3f5f",
           "arrowhead": 0,
           "arrowwidth": 1
          },
          "coloraxis": {
           "colorbar": {
            "outlinewidth": 0,
            "ticks": ""
           }
          },
          "colorscale": {
           "diverging": [
            [
             0,
             "#8e0152"
            ],
            [
             0.1,
             "#c51b7d"
            ],
            [
             0.2,
             "#de77ae"
            ],
            [
             0.3,
             "#f1b6da"
            ],
            [
             0.4,
             "#fde0ef"
            ],
            [
             0.5,
             "#f7f7f7"
            ],
            [
             0.6,
             "#e6f5d0"
            ],
            [
             0.7,
             "#b8e186"
            ],
            [
             0.8,
             "#7fbc41"
            ],
            [
             0.9,
             "#4d9221"
            ],
            [
             1,
             "#276419"
            ]
           ],
           "sequential": [
            [
             0,
             "#0d0887"
            ],
            [
             0.1111111111111111,
             "#46039f"
            ],
            [
             0.2222222222222222,
             "#7201a8"
            ],
            [
             0.3333333333333333,
             "#9c179e"
            ],
            [
             0.4444444444444444,
             "#bd3786"
            ],
            [
             0.5555555555555556,
             "#d8576b"
            ],
            [
             0.6666666666666666,
             "#ed7953"
            ],
            [
             0.7777777777777778,
             "#fb9f3a"
            ],
            [
             0.8888888888888888,
             "#fdca26"
            ],
            [
             1,
             "#f0f921"
            ]
           ],
           "sequentialminus": [
            [
             0,
             "#0d0887"
            ],
            [
             0.1111111111111111,
             "#46039f"
            ],
            [
             0.2222222222222222,
             "#7201a8"
            ],
            [
             0.3333333333333333,
             "#9c179e"
            ],
            [
             0.4444444444444444,
             "#bd3786"
            ],
            [
             0.5555555555555556,
             "#d8576b"
            ],
            [
             0.6666666666666666,
             "#ed7953"
            ],
            [
             0.7777777777777778,
             "#fb9f3a"
            ],
            [
             0.8888888888888888,
             "#fdca26"
            ],
            [
             1,
             "#f0f921"
            ]
           ]
          },
          "colorway": [
           "#636efa",
           "#EF553B",
           "#00cc96",
           "#ab63fa",
           "#FFA15A",
           "#19d3f3",
           "#FF6692",
           "#B6E880",
           "#FF97FF",
           "#FECB52"
          ],
          "font": {
           "color": "#2a3f5f"
          },
          "geo": {
           "bgcolor": "white",
           "lakecolor": "white",
           "landcolor": "#E5ECF6",
           "showlakes": true,
           "showland": true,
           "subunitcolor": "white"
          },
          "hoverlabel": {
           "align": "left"
          },
          "hovermode": "closest",
          "mapbox": {
           "style": "light"
          },
          "paper_bgcolor": "white",
          "plot_bgcolor": "#E5ECF6",
          "polar": {
           "angularaxis": {
            "gridcolor": "white",
            "linecolor": "white",
            "ticks": ""
           },
           "bgcolor": "#E5ECF6",
           "radialaxis": {
            "gridcolor": "white",
            "linecolor": "white",
            "ticks": ""
           }
          },
          "scene": {
           "xaxis": {
            "backgroundcolor": "#E5ECF6",
            "gridcolor": "white",
            "gridwidth": 2,
            "linecolor": "white",
            "showbackground": true,
            "ticks": "",
            "zerolinecolor": "white"
           },
           "yaxis": {
            "backgroundcolor": "#E5ECF6",
            "gridcolor": "white",
            "gridwidth": 2,
            "linecolor": "white",
            "showbackground": true,
            "ticks": "",
            "zerolinecolor": "white"
           },
           "zaxis": {
            "backgroundcolor": "#E5ECF6",
            "gridcolor": "white",
            "gridwidth": 2,
            "linecolor": "white",
            "showbackground": true,
            "ticks": "",
            "zerolinecolor": "white"
           }
          },
          "shapedefaults": {
           "line": {
            "color": "#2a3f5f"
           }
          },
          "ternary": {
           "aaxis": {
            "gridcolor": "white",
            "linecolor": "white",
            "ticks": ""
           },
           "baxis": {
            "gridcolor": "white",
            "linecolor": "white",
            "ticks": ""
           },
           "bgcolor": "#E5ECF6",
           "caxis": {
            "gridcolor": "white",
            "linecolor": "white",
            "ticks": ""
           }
          },
          "title": {
           "x": 0.05
          },
          "xaxis": {
           "automargin": true,
           "gridcolor": "white",
           "linecolor": "white",
           "ticks": "",
           "title": {
            "standoff": 15
           },
           "zerolinecolor": "white",
           "zerolinewidth": 2
          },
          "yaxis": {
           "automargin": true,
           "gridcolor": "white",
           "linecolor": "white",
           "ticks": "",
           "title": {
            "standoff": 15
           },
           "zerolinecolor": "white",
           "zerolinewidth": 2
          }
         }
        },
        "title": {
         "font": {
          "color": "#4D5663"
         }
        },
        "xaxis": {
         "gridcolor": "#E1E5ED",
         "showgrid": true,
         "tickfont": {
          "color": "#4D5663"
         },
         "title": {
          "font": {
           "color": "#4D5663"
          },
          "text": ""
         },
         "zerolinecolor": "#E1E5ED"
        },
        "yaxis": {
         "gridcolor": "#E1E5ED",
         "showgrid": true,
         "tickfont": {
          "color": "#4D5663"
         },
         "title": {
          "font": {
           "color": "#4D5663"
          },
          "text": ""
         },
         "zerolinecolor": "#E1E5ED"
        }
       }
      },
      "text/html": [
       "<div>\n",
       "        \n",
       "        \n",
       "            <div id=\"810a6897-ff6b-4a34-a51d-5fb08efbef51\" class=\"plotly-graph-div\" style=\"height:525px; width:100%;\"></div>\n",
       "            <script type=\"text/javascript\">\n",
       "                require([\"plotly\"], function(Plotly) {\n",
       "                    window.PLOTLYENV=window.PLOTLYENV || {};\n",
       "                    window.PLOTLYENV.BASE_URL='https://plot.ly';\n",
       "                    \n",
       "                if (document.getElementById(\"810a6897-ff6b-4a34-a51d-5fb08efbef51\")) {\n",
       "                    Plotly.newPlot(\n",
       "                        '810a6897-ff6b-4a34-a51d-5fb08efbef51',\n",
       "                        [{\"colorscale\": [[0.0, \"rgb(165,0,38)\"], [0.1, \"rgb(215,48,39)\"], [0.2, \"rgb(244,109,67)\"], [0.3, \"rgb(253,174,97)\"], [0.4, \"rgb(254,224,144)\"], [0.5, \"rgb(255,255,191)\"], [0.6, \"rgb(224,243,248)\"], [0.7, \"rgb(171,217,233)\"], [0.8, \"rgb(116,173,209)\"], [0.9, \"rgb(69,117,180)\"], [1.0, \"rgb(49,54,149)\"]], \"type\": \"surface\", \"x\": [0, 1, 2, 3, 4], \"y\": [\"x\", \"y\", \"z\"], \"z\": [[1, 2, 3, 4, 5], [10, 20, 30, 20, 10], [5, 4, 3, 2, 1]]}],\n",
       "                        {\"legend\": {\"bgcolor\": \"#F5F6F9\", \"font\": {\"color\": \"#4D5663\"}}, \"paper_bgcolor\": \"#F5F6F9\", \"plot_bgcolor\": \"#F5F6F9\", \"template\": {\"data\": {\"bar\": [{\"error_x\": {\"color\": \"#2a3f5f\"}, \"error_y\": {\"color\": \"#2a3f5f\"}, \"marker\": {\"line\": {\"color\": \"#E5ECF6\", \"width\": 0.5}}, \"type\": \"bar\"}], \"barpolar\": [{\"marker\": {\"line\": {\"color\": \"#E5ECF6\", \"width\": 0.5}}, \"type\": \"barpolar\"}], \"carpet\": [{\"aaxis\": {\"endlinecolor\": \"#2a3f5f\", \"gridcolor\": \"white\", \"linecolor\": \"white\", \"minorgridcolor\": \"white\", \"startlinecolor\": \"#2a3f5f\"}, \"baxis\": {\"endlinecolor\": \"#2a3f5f\", \"gridcolor\": \"white\", \"linecolor\": \"white\", \"minorgridcolor\": \"white\", \"startlinecolor\": \"#2a3f5f\"}, \"type\": \"carpet\"}], \"choropleth\": [{\"colorbar\": {\"outlinewidth\": 0, \"ticks\": \"\"}, \"type\": \"choropleth\"}], \"contour\": [{\"colorbar\": {\"outlinewidth\": 0, \"ticks\": \"\"}, \"colorscale\": [[0.0, \"#0d0887\"], [0.1111111111111111, \"#46039f\"], [0.2222222222222222, \"#7201a8\"], [0.3333333333333333, \"#9c179e\"], [0.4444444444444444, \"#bd3786\"], [0.5555555555555556, \"#d8576b\"], [0.6666666666666666, \"#ed7953\"], [0.7777777777777778, \"#fb9f3a\"], [0.8888888888888888, \"#fdca26\"], [1.0, \"#f0f921\"]], \"type\": \"contour\"}], \"contourcarpet\": [{\"colorbar\": {\"outlinewidth\": 0, \"ticks\": \"\"}, \"type\": \"contourcarpet\"}], \"heatmap\": [{\"colorbar\": {\"outlinewidth\": 0, \"ticks\": \"\"}, \"colorscale\": [[0.0, \"#0d0887\"], [0.1111111111111111, \"#46039f\"], [0.2222222222222222, \"#7201a8\"], [0.3333333333333333, \"#9c179e\"], [0.4444444444444444, \"#bd3786\"], [0.5555555555555556, \"#d8576b\"], [0.6666666666666666, \"#ed7953\"], [0.7777777777777778, \"#fb9f3a\"], [0.8888888888888888, \"#fdca26\"], [1.0, \"#f0f921\"]], \"type\": \"heatmap\"}], \"heatmapgl\": [{\"colorbar\": {\"outlinewidth\": 0, \"ticks\": \"\"}, \"colorscale\": [[0.0, \"#0d0887\"], [0.1111111111111111, \"#46039f\"], [0.2222222222222222, \"#7201a8\"], [0.3333333333333333, \"#9c179e\"], [0.4444444444444444, \"#bd3786\"], [0.5555555555555556, \"#d8576b\"], [0.6666666666666666, \"#ed7953\"], [0.7777777777777778, \"#fb9f3a\"], [0.8888888888888888, \"#fdca26\"], [1.0, \"#f0f921\"]], \"type\": \"heatmapgl\"}], \"histogram\": [{\"marker\": {\"colorbar\": {\"outlinewidth\": 0, \"ticks\": \"\"}}, \"type\": \"histogram\"}], \"histogram2d\": [{\"colorbar\": {\"outlinewidth\": 0, \"ticks\": \"\"}, \"colorscale\": [[0.0, \"#0d0887\"], [0.1111111111111111, \"#46039f\"], [0.2222222222222222, \"#7201a8\"], [0.3333333333333333, \"#9c179e\"], [0.4444444444444444, \"#bd3786\"], [0.5555555555555556, \"#d8576b\"], [0.6666666666666666, \"#ed7953\"], [0.7777777777777778, \"#fb9f3a\"], [0.8888888888888888, \"#fdca26\"], [1.0, \"#f0f921\"]], \"type\": \"histogram2d\"}], \"histogram2dcontour\": [{\"colorbar\": {\"outlinewidth\": 0, \"ticks\": \"\"}, \"colorscale\": [[0.0, \"#0d0887\"], [0.1111111111111111, \"#46039f\"], [0.2222222222222222, \"#7201a8\"], [0.3333333333333333, \"#9c179e\"], [0.4444444444444444, \"#bd3786\"], [0.5555555555555556, \"#d8576b\"], [0.6666666666666666, \"#ed7953\"], [0.7777777777777778, \"#fb9f3a\"], [0.8888888888888888, \"#fdca26\"], [1.0, \"#f0f921\"]], \"type\": \"histogram2dcontour\"}], \"mesh3d\": [{\"colorbar\": {\"outlinewidth\": 0, \"ticks\": \"\"}, \"type\": \"mesh3d\"}], \"parcoords\": [{\"line\": {\"colorbar\": {\"outlinewidth\": 0, \"ticks\": \"\"}}, \"type\": \"parcoords\"}], \"pie\": [{\"automargin\": true, \"type\": \"pie\"}], \"scatter\": [{\"marker\": {\"colorbar\": {\"outlinewidth\": 0, \"ticks\": \"\"}}, \"type\": \"scatter\"}], \"scatter3d\": [{\"line\": {\"colorbar\": {\"outlinewidth\": 0, \"ticks\": \"\"}}, \"marker\": {\"colorbar\": {\"outlinewidth\": 0, \"ticks\": \"\"}}, \"type\": \"scatter3d\"}], \"scattercarpet\": [{\"marker\": {\"colorbar\": {\"outlinewidth\": 0, \"ticks\": \"\"}}, \"type\": \"scattercarpet\"}], \"scattergeo\": [{\"marker\": {\"colorbar\": {\"outlinewidth\": 0, \"ticks\": \"\"}}, \"type\": \"scattergeo\"}], \"scattergl\": [{\"marker\": {\"colorbar\": {\"outlinewidth\": 0, \"ticks\": \"\"}}, \"type\": \"scattergl\"}], \"scattermapbox\": [{\"marker\": {\"colorbar\": {\"outlinewidth\": 0, \"ticks\": \"\"}}, \"type\": \"scattermapbox\"}], \"scatterpolar\": [{\"marker\": {\"colorbar\": {\"outlinewidth\": 0, \"ticks\": \"\"}}, \"type\": \"scatterpolar\"}], \"scatterpolargl\": [{\"marker\": {\"colorbar\": {\"outlinewidth\": 0, \"ticks\": \"\"}}, \"type\": \"scatterpolargl\"}], \"scatterternary\": [{\"marker\": {\"colorbar\": {\"outlinewidth\": 0, \"ticks\": \"\"}}, \"type\": \"scatterternary\"}], \"surface\": [{\"colorbar\": {\"outlinewidth\": 0, \"ticks\": \"\"}, \"colorscale\": [[0.0, \"#0d0887\"], [0.1111111111111111, \"#46039f\"], [0.2222222222222222, \"#7201a8\"], [0.3333333333333333, \"#9c179e\"], [0.4444444444444444, \"#bd3786\"], [0.5555555555555556, \"#d8576b\"], [0.6666666666666666, \"#ed7953\"], [0.7777777777777778, \"#fb9f3a\"], [0.8888888888888888, \"#fdca26\"], [1.0, \"#f0f921\"]], \"type\": \"surface\"}], \"table\": [{\"cells\": {\"fill\": {\"color\": \"#EBF0F8\"}, \"line\": {\"color\": \"white\"}}, \"header\": {\"fill\": {\"color\": \"#C8D4E3\"}, \"line\": {\"color\": \"white\"}}, \"type\": \"table\"}]}, \"layout\": {\"annotationdefaults\": {\"arrowcolor\": \"#2a3f5f\", \"arrowhead\": 0, \"arrowwidth\": 1}, \"coloraxis\": {\"colorbar\": {\"outlinewidth\": 0, \"ticks\": \"\"}}, \"colorscale\": {\"diverging\": [[0, \"#8e0152\"], [0.1, \"#c51b7d\"], [0.2, \"#de77ae\"], [0.3, \"#f1b6da\"], [0.4, \"#fde0ef\"], [0.5, \"#f7f7f7\"], [0.6, \"#e6f5d0\"], [0.7, \"#b8e186\"], [0.8, \"#7fbc41\"], [0.9, \"#4d9221\"], [1, \"#276419\"]], \"sequential\": [[0.0, \"#0d0887\"], [0.1111111111111111, \"#46039f\"], [0.2222222222222222, \"#7201a8\"], [0.3333333333333333, \"#9c179e\"], [0.4444444444444444, \"#bd3786\"], [0.5555555555555556, \"#d8576b\"], [0.6666666666666666, \"#ed7953\"], [0.7777777777777778, \"#fb9f3a\"], [0.8888888888888888, \"#fdca26\"], [1.0, \"#f0f921\"]], \"sequentialminus\": [[0.0, \"#0d0887\"], [0.1111111111111111, \"#46039f\"], [0.2222222222222222, \"#7201a8\"], [0.3333333333333333, \"#9c179e\"], [0.4444444444444444, \"#bd3786\"], [0.5555555555555556, \"#d8576b\"], [0.6666666666666666, \"#ed7953\"], [0.7777777777777778, \"#fb9f3a\"], [0.8888888888888888, \"#fdca26\"], [1.0, \"#f0f921\"]]}, \"colorway\": [\"#636efa\", \"#EF553B\", \"#00cc96\", \"#ab63fa\", \"#FFA15A\", \"#19d3f3\", \"#FF6692\", \"#B6E880\", \"#FF97FF\", \"#FECB52\"], \"font\": {\"color\": \"#2a3f5f\"}, \"geo\": {\"bgcolor\": \"white\", \"lakecolor\": \"white\", \"landcolor\": \"#E5ECF6\", \"showlakes\": true, \"showland\": true, \"subunitcolor\": \"white\"}, \"hoverlabel\": {\"align\": \"left\"}, \"hovermode\": \"closest\", \"mapbox\": {\"style\": \"light\"}, \"paper_bgcolor\": \"white\", \"plot_bgcolor\": \"#E5ECF6\", \"polar\": {\"angularaxis\": {\"gridcolor\": \"white\", \"linecolor\": \"white\", \"ticks\": \"\"}, \"bgcolor\": \"#E5ECF6\", \"radialaxis\": {\"gridcolor\": \"white\", \"linecolor\": \"white\", \"ticks\": \"\"}}, \"scene\": {\"xaxis\": {\"backgroundcolor\": \"#E5ECF6\", \"gridcolor\": \"white\", \"gridwidth\": 2, \"linecolor\": \"white\", \"showbackground\": true, \"ticks\": \"\", \"zerolinecolor\": \"white\"}, \"yaxis\": {\"backgroundcolor\": \"#E5ECF6\", \"gridcolor\": \"white\", \"gridwidth\": 2, \"linecolor\": \"white\", \"showbackground\": true, \"ticks\": \"\", \"zerolinecolor\": \"white\"}, \"zaxis\": {\"backgroundcolor\": \"#E5ECF6\", \"gridcolor\": \"white\", \"gridwidth\": 2, \"linecolor\": \"white\", \"showbackground\": true, \"ticks\": \"\", \"zerolinecolor\": \"white\"}}, \"shapedefaults\": {\"line\": {\"color\": \"#2a3f5f\"}}, \"ternary\": {\"aaxis\": {\"gridcolor\": \"white\", \"linecolor\": \"white\", \"ticks\": \"\"}, \"baxis\": {\"gridcolor\": \"white\", \"linecolor\": \"white\", \"ticks\": \"\"}, \"bgcolor\": \"#E5ECF6\", \"caxis\": {\"gridcolor\": \"white\", \"linecolor\": \"white\", \"ticks\": \"\"}}, \"title\": {\"x\": 0.05}, \"xaxis\": {\"automargin\": true, \"gridcolor\": \"white\", \"linecolor\": \"white\", \"ticks\": \"\", \"title\": {\"standoff\": 15}, \"zerolinecolor\": \"white\", \"zerolinewidth\": 2}, \"yaxis\": {\"automargin\": true, \"gridcolor\": \"white\", \"linecolor\": \"white\", \"ticks\": \"\", \"title\": {\"standoff\": 15}, \"zerolinecolor\": \"white\", \"zerolinewidth\": 2}}}, \"title\": {\"font\": {\"color\": \"#4D5663\"}}, \"xaxis\": {\"gridcolor\": \"#E1E5ED\", \"showgrid\": true, \"tickfont\": {\"color\": \"#4D5663\"}, \"title\": {\"font\": {\"color\": \"#4D5663\"}, \"text\": \"\"}, \"zerolinecolor\": \"#E1E5ED\"}, \"yaxis\": {\"gridcolor\": \"#E1E5ED\", \"showgrid\": true, \"tickfont\": {\"color\": \"#4D5663\"}, \"title\": {\"font\": {\"color\": \"#4D5663\"}, \"text\": \"\"}, \"zerolinecolor\": \"#E1E5ED\"}},\n",
       "                        {\"showLink\": true, \"linkText\": \"Export to plot.ly\", \"plotlyServerURL\": \"https://plot.ly\", \"responsive\": true}\n",
       "                    ).then(function(){\n",
       "                            \n",
       "var gd = document.getElementById('810a6897-ff6b-4a34-a51d-5fb08efbef51');\n",
       "var x = new MutationObserver(function (mutations, observer) {{\n",
       "        var display = window.getComputedStyle(gd).display;\n",
       "        if (!display || display === 'none') {{\n",
       "            console.log([gd, 'removed!']);\n",
       "            Plotly.purge(gd);\n",
       "            observer.disconnect();\n",
       "        }}\n",
       "}});\n",
       "\n",
       "// Listen for the removal of the full notebook cells\n",
       "var notebookContainer = gd.closest('#notebook-container');\n",
       "if (notebookContainer) {{\n",
       "    x.observe(notebookContainer, {childList: true});\n",
       "}}\n",
       "\n",
       "// Listen for the clearing of the current output cell\n",
       "var outputEl = gd.closest('.output');\n",
       "if (outputEl) {{\n",
       "    x.observe(outputEl, {childList: true});\n",
       "}}\n",
       "\n",
       "                        })\n",
       "                };\n",
       "                });\n",
       "            </script>\n",
       "        </div>"
      ]
     },
     "metadata": {},
     "output_type": "display_data"
    }
   ],
   "source": [
    "df3 = pd.DataFrame({'x':[1,2,3,4,5],'y':[10,20,30,20,10],'z':[5,4,3,2,1]})\n",
    "df3.iplot(kind='surface',colorscale='rdylbu')"
   ]
  },
  {
   "cell_type": "markdown",
   "metadata": {},
   "source": [
    "## Spread"
   ]
  },
  {
   "cell_type": "code",
   "execution_count": 16,
   "metadata": {},
   "outputs": [
    {
     "data": {
      "application/vnd.plotly.v1+json": {
       "config": {
        "linkText": "Export to plot.ly",
        "plotlyServerURL": "https://plot.ly",
        "showLink": true
       },
       "data": [
        {
         "line": {
          "color": "rgba(255, 153, 51, 1.0)",
          "dash": "solid",
          "shape": "linear",
          "width": 1.3
         },
         "mode": "lines",
         "name": "A",
         "text": "",
         "type": "scatter",
         "x": [
          0,
          1,
          2,
          3,
          4,
          5,
          6,
          7,
          8,
          9,
          10,
          11,
          12,
          13,
          14,
          15,
          16,
          17,
          18,
          19,
          20,
          21,
          22,
          23,
          24,
          25,
          26,
          27,
          28,
          29,
          30,
          31,
          32,
          33,
          34,
          35,
          36,
          37,
          38,
          39,
          40,
          41,
          42,
          43,
          44,
          45,
          46,
          47,
          48,
          49,
          50,
          51,
          52,
          53,
          54,
          55,
          56,
          57,
          58,
          59,
          60,
          61,
          62,
          63,
          64,
          65,
          66,
          67,
          68,
          69,
          70,
          71,
          72,
          73,
          74,
          75,
          76,
          77,
          78,
          79,
          80,
          81,
          82,
          83,
          84,
          85,
          86,
          87,
          88,
          89,
          90,
          91,
          92,
          93,
          94,
          95,
          96,
          97,
          98,
          99
         ],
         "y": [
          0.0890236266217388,
          -0.8787154704351006,
          -0.5977533695209157,
          1.0698110062679522,
          -0.7988921083264098,
          0.5832383049156543,
          -0.24864835278907027,
          -0.7060503899937032,
          -0.17782255970080588,
          -0.5971957707353813,
          -0.2848860906535149,
          -0.3742407187026039,
          0.4907659776092099,
          0.8454677262211716,
          -0.2397947222641649,
          -2.0292890390339724,
          -1.2343508942203125,
          -0.581627027911337,
          -1.0059985872873767,
          0.5190498956176977,
          -0.8050834897018041,
          -1.2332096157124222,
          0.24081560942118724,
          0.21907435531661296,
          1.0790880176319952,
          0.28539811590176767,
          0.7275582865688938,
          -1.3737352892335288,
          1.5015902347610783,
          -0.7633820933736835,
          0.24237512494715135,
          0.8172121522015262,
          1.8896732207751532,
          -0.6351466997131315,
          2.005318523682665,
          -0.580700518779291,
          0.7512582762225731,
          -0.8321393543297784,
          -0.3153980856329165,
          -0.02040788440319213,
          -2.2934222272134384,
          1.6394351565028256,
          -0.6005020999661731,
          -0.20898877817830225,
          -0.4939393931678909,
          -1.0223010529305525,
          -1.2450682862014761,
          -0.3750143012290298,
          -0.708562296521142,
          0.38878227084235917,
          -2.0559894255214224,
          1.4177343229429362,
          1.0125524763703015,
          0.2736842677201433,
          -1.690076207277851,
          0.5740214411230689,
          -1.4218587639089526,
          1.131981541075113,
          1.128790595206288,
          -1.7793271621875348,
          0.41361726580124564,
          0.06515589060216231,
          0.4932317233002984,
          -0.7378656158118205,
          -1.2319379637683658,
          -1.0507998526899458,
          1.0849106188488342,
          -0.2797600190915077,
          -1.4551367052371373,
          0.1544462179019029,
          -0.202836471763666,
          -0.71769159845839,
          1.2309494921041828,
          1.2092282398002012,
          0.3235255842564463,
          1.3316864092620504,
          0.1513431336912556,
          0.21827249329865175,
          -0.9835328681268078,
          -1.0362844907669773,
          -0.32551882727349163,
          -1.0723468668606093,
          -0.45027418094012583,
          1.799000436413313,
          -0.7762852907022613,
          -0.3060841118077056,
          -0.20171888994438966,
          1.1142185433582568,
          -0.2855190215679157,
          -0.7151109629949621,
          -0.15342200469247758,
          1.3878568278354564,
          -0.3913794385268874,
          -0.33413504032172014,
          1.2125676256249207,
          -0.6690852370697338,
          0.7818229887533782,
          1.1108926635943865,
          0.9868797129047022,
          0.8217126939072327
         ]
        },
        {
         "line": {
          "color": "rgba(55, 128, 191, 1.0)",
          "dash": "solid",
          "shape": "linear",
          "width": 1.3
         },
         "mode": "lines",
         "name": "B",
         "text": "",
         "type": "scatter",
         "x": [
          0,
          1,
          2,
          3,
          4,
          5,
          6,
          7,
          8,
          9,
          10,
          11,
          12,
          13,
          14,
          15,
          16,
          17,
          18,
          19,
          20,
          21,
          22,
          23,
          24,
          25,
          26,
          27,
          28,
          29,
          30,
          31,
          32,
          33,
          34,
          35,
          36,
          37,
          38,
          39,
          40,
          41,
          42,
          43,
          44,
          45,
          46,
          47,
          48,
          49,
          50,
          51,
          52,
          53,
          54,
          55,
          56,
          57,
          58,
          59,
          60,
          61,
          62,
          63,
          64,
          65,
          66,
          67,
          68,
          69,
          70,
          71,
          72,
          73,
          74,
          75,
          76,
          77,
          78,
          79,
          80,
          81,
          82,
          83,
          84,
          85,
          86,
          87,
          88,
          89,
          90,
          91,
          92,
          93,
          94,
          95,
          96,
          97,
          98,
          99
         ],
         "y": [
          -0.35851340747689664,
          0.8964559064908013,
          0.8668851979644124,
          1.3201101066639465,
          0.8521632636565618,
          0.1678193389215071,
          0.7956218856845063,
          -1.485779184225525,
          -0.9397594214955171,
          -0.7276192600413182,
          0.48133426516235733,
          -1.5591885658424542,
          -0.686558641849801,
          2.18044367413078,
          -0.8224954720950357,
          0.834264245771014,
          1.1392133327228213,
          -0.056959375116270236,
          -0.08899218349335206,
          -0.770943166891278,
          1.2796388775496115,
          -0.3275552737219343,
          -0.9163903526244046,
          1.0538233753656439,
          -0.6853188384421511,
          -0.6275853279554117,
          0.9179813481937266,
          0.5189780842294516,
          0.3712018800035291,
          -1.8252779744693999,
          -0.34236610898251557,
          -0.019428628026250238,
          -0.8881594465059595,
          0.13060694430664255,
          -0.4121062043857643,
          -0.33180243234711787,
          -0.9683207227407323,
          0.009546301482904817,
          0.1895164509826522,
          -1.372607398389755,
          -0.2182857407326223,
          -0.9615140141635607,
          -0.7493604427082969,
          -0.2067713992218754,
          0.7429830323549378,
          -0.7720878333472194,
          -0.31734743841448415,
          0.3272924971873089,
          1.1832213404981857,
          -0.33702307554729777,
          -0.7105241760247889,
          -0.029703270945312988,
          -0.004807880039269839,
          -1.9973825785516937,
          2.5737789599651775,
          0.865139824506424,
          -1.6945802437900994,
          -0.5994672286457641,
          -0.5028030406421471,
          -0.02329024402120451,
          -0.5017263309388669,
          0.5785837836357898,
          -0.10987225399527062,
          1.6049998267882604,
          1.310629774867115,
          2.0585814106620783,
          -0.37476648312106,
          -0.6251191985799067,
          0.33967135556511246,
          0.09113891525380655,
          -0.2050970211327267,
          0.9770296374343848,
          -0.13155365069047867,
          1.4927636399521946,
          0.047661367603270104,
          -0.16380451935485263,
          -0.2037109505915858,
          0.8456429731125856,
          -2.293700224952948,
          1.14918628891375,
          -1.335207693057455,
          -0.41671154448101944,
          1.199664637188824,
          -0.12133532891653313,
          -0.6475928932098416,
          2.2874969525600846,
          -0.09027141045421477,
          -1.4881781082705703,
          -1.8618720474290251,
          0.2864564719476295,
          -1.0643714350281643,
          0.532804778438827,
          0.07101988852484521,
          1.2534553647894944,
          -0.609962890435716,
          1.301392841865941,
          0.008793702127127,
          0.9942304385437866,
          0.03762531473621305,
          -2.1766597195451514
         ]
        },
        {
         "connectgaps": false,
         "fill": "tozeroy",
         "line": {
          "color": "green",
          "dash": "solid",
          "shape": "linear",
          "width": 0.5
         },
         "mode": "lines",
         "name": "Spread",
         "showlegend": false,
         "type": "scatter",
         "x": [
          0,
          1,
          2,
          3,
          4,
          5,
          6,
          7,
          8,
          9,
          10,
          11,
          12,
          13,
          14,
          15,
          16,
          17,
          18,
          19,
          20,
          21,
          22,
          23,
          24,
          25,
          26,
          27,
          28,
          29,
          30,
          31,
          32,
          33,
          34,
          35,
          36,
          37,
          38,
          39,
          40,
          41,
          42,
          43,
          44,
          45,
          46,
          47,
          48,
          49,
          50,
          51,
          52,
          53,
          54,
          55,
          56,
          57,
          58,
          59,
          60,
          61,
          62,
          63,
          64,
          65,
          66,
          67,
          68,
          69,
          70,
          71,
          72,
          73,
          74,
          75,
          76,
          77,
          78,
          79,
          80,
          81,
          82,
          83,
          84,
          85,
          86,
          87,
          88,
          89,
          90,
          91,
          92,
          93,
          94,
          95,
          96,
          97,
          98,
          99
         ],
         "xaxis": "x2",
         "y": [
          0.44753703409863543,
          "",
          "",
          "",
          "",
          0.4154189659941472,
          "",
          0.7797287942318218,
          0.7619368617947112,
          0.13042348930593683,
          "",
          1.1849478471398505,
          1.1773246194590108,
          "",
          0.5827007498308708,
          "",
          "",
          "",
          "",
          1.2899930625089757,
          "",
          "",
          1.157205962045592,
          "",
          1.7644068560741464,
          0.9129834438571793,
          "",
          "",
          1.1303883547575493,
          1.0618958810957164,
          0.5847412339296669,
          0.8366407802277764,
          2.7778326672811127,
          "",
          2.4174247280684296,
          "",
          1.7195789989633055,
          "",
          "",
          1.352199513986563,
          "",
          2.6009491706663863,
          0.14885834274212384,
          "",
          "",
          "",
          "",
          "",
          "",
          0.725805346389657,
          "",
          1.447437593888249,
          1.0173603564095715,
          2.271066846271837,
          "",
          "",
          0.2727214798811468,
          1.7314487697208771,
          1.631593635848435,
          "",
          0.9153435967401125,
          "",
          0.6031039772955691,
          "",
          "",
          "",
          1.4596771019698942,
          0.345359179488399,
          "",
          0.06330730264809636,
          0.0022605493690606993,
          "",
          1.3625031427946614,
          "",
          0.2758642166531762,
          1.4954909286169031,
          0.3550540842828414,
          "",
          1.3101673568261403,
          "",
          1.0096888657839633,
          "",
          "",
          1.920335765329846,
          "",
          "",
          "",
          2.602396651628827,
          1.5763530258611094,
          "",
          0.9109494303356868,
          0.8550520493966294,
          "",
          "",
          1.8225305160606369,
          "",
          0.7730292866262511,
          0.11666222505059998,
          0.9492543981684892,
          2.998372413452384
         ],
         "yaxis": "y2"
        },
        {
         "connectgaps": false,
         "fill": "tozeroy",
         "line": {
          "color": "red",
          "dash": "solid",
          "shape": "linear",
          "width": 0.5
         },
         "mode": "lines",
         "name": "Spread",
         "showlegend": false,
         "type": "scatter",
         "x": [
          0,
          1,
          2,
          3,
          4,
          5,
          6,
          7,
          8,
          9,
          10,
          11,
          12,
          13,
          14,
          15,
          16,
          17,
          18,
          19,
          20,
          21,
          22,
          23,
          24,
          25,
          26,
          27,
          28,
          29,
          30,
          31,
          32,
          33,
          34,
          35,
          36,
          37,
          38,
          39,
          40,
          41,
          42,
          43,
          44,
          45,
          46,
          47,
          48,
          49,
          50,
          51,
          52,
          53,
          54,
          55,
          56,
          57,
          58,
          59,
          60,
          61,
          62,
          63,
          64,
          65,
          66,
          67,
          68,
          69,
          70,
          71,
          72,
          73,
          74,
          75,
          76,
          77,
          78,
          79,
          80,
          81,
          82,
          83,
          84,
          85,
          86,
          87,
          88,
          89,
          90,
          91,
          92,
          93,
          94,
          95,
          96,
          97,
          98,
          99
         ],
         "xaxis": "x2",
         "y": [
          "",
          -1.7751713769259019,
          -1.4646385674853282,
          -0.25029910039599423,
          -1.6510553719829715,
          "",
          -1.0442702384735765,
          "",
          "",
          "",
          -0.7662203558158722,
          "",
          "",
          -1.3349759479096084,
          "",
          -2.8635532848049863,
          -2.3735642269431336,
          -0.5246676527950668,
          -0.9170064037940246,
          "",
          -2.0847223672514157,
          -0.9056543419904879,
          "",
          -0.8347490200490308,
          "",
          "",
          -0.1904230616248328,
          -1.8927133734629804,
          "",
          "",
          "",
          "",
          "",
          -0.7657536440197741,
          "",
          -0.2488980864321731,
          "",
          -0.8416856558126832,
          -0.5049145366155687,
          "",
          -2.075136486480816,
          "",
          "",
          -0.0022173789564268465,
          -1.2369224255228288,
          -0.2502132195833331,
          -0.927720847786992,
          -0.7023067984163387,
          -1.8917836370193277,
          "",
          -1.3454652494966335,
          "",
          "",
          "",
          -4.263855167243029,
          -0.29111838338335516,
          "",
          "",
          "",
          -1.7560369181663302,
          "",
          -0.5134278930336275,
          "",
          -2.342865442600081,
          -2.542567738635481,
          -3.109381263352024,
          "",
          "",
          -1.7948080608022499,
          "",
          "",
          -1.6947212358927748,
          "",
          -0.2835354001519934,
          "",
          "",
          "",
          -0.6273704798139339,
          "",
          -2.1854707796807276,
          "",
          -0.6556353223795899,
          -1.6499388181289498,
          "",
          -0.12869239749241967,
          -2.59358106436779,
          -0.11144747949017489,
          "",
          "",
          -1.0015674349425916,
          "",
          "",
          -0.4623993270517326,
          -1.5875904051112144,
          "",
          -1.9704780789356748,
          "",
          "",
          "",
          ""
         ],
         "yaxis": "y2"
        }
       ],
       "layout": {
        "hovermode": "x",
        "legend": {
         "bgcolor": "#F5F6F9",
         "font": {
          "color": "#4D5663"
         }
        },
        "paper_bgcolor": "#F5F6F9",
        "plot_bgcolor": "#F5F6F9",
        "template": {
         "data": {
          "bar": [
           {
            "error_x": {
             "color": "#2a3f5f"
            },
            "error_y": {
             "color": "#2a3f5f"
            },
            "marker": {
             "line": {
              "color": "#E5ECF6",
              "width": 0.5
             }
            },
            "type": "bar"
           }
          ],
          "barpolar": [
           {
            "marker": {
             "line": {
              "color": "#E5ECF6",
              "width": 0.5
             }
            },
            "type": "barpolar"
           }
          ],
          "carpet": [
           {
            "aaxis": {
             "endlinecolor": "#2a3f5f",
             "gridcolor": "white",
             "linecolor": "white",
             "minorgridcolor": "white",
             "startlinecolor": "#2a3f5f"
            },
            "baxis": {
             "endlinecolor": "#2a3f5f",
             "gridcolor": "white",
             "linecolor": "white",
             "minorgridcolor": "white",
             "startlinecolor": "#2a3f5f"
            },
            "type": "carpet"
           }
          ],
          "choropleth": [
           {
            "colorbar": {
             "outlinewidth": 0,
             "ticks": ""
            },
            "type": "choropleth"
           }
          ],
          "contour": [
           {
            "colorbar": {
             "outlinewidth": 0,
             "ticks": ""
            },
            "colorscale": [
             [
              0,
              "#0d0887"
             ],
             [
              0.1111111111111111,
              "#46039f"
             ],
             [
              0.2222222222222222,
              "#7201a8"
             ],
             [
              0.3333333333333333,
              "#9c179e"
             ],
             [
              0.4444444444444444,
              "#bd3786"
             ],
             [
              0.5555555555555556,
              "#d8576b"
             ],
             [
              0.6666666666666666,
              "#ed7953"
             ],
             [
              0.7777777777777778,
              "#fb9f3a"
             ],
             [
              0.8888888888888888,
              "#fdca26"
             ],
             [
              1,
              "#f0f921"
             ]
            ],
            "type": "contour"
           }
          ],
          "contourcarpet": [
           {
            "colorbar": {
             "outlinewidth": 0,
             "ticks": ""
            },
            "type": "contourcarpet"
           }
          ],
          "heatmap": [
           {
            "colorbar": {
             "outlinewidth": 0,
             "ticks": ""
            },
            "colorscale": [
             [
              0,
              "#0d0887"
             ],
             [
              0.1111111111111111,
              "#46039f"
             ],
             [
              0.2222222222222222,
              "#7201a8"
             ],
             [
              0.3333333333333333,
              "#9c179e"
             ],
             [
              0.4444444444444444,
              "#bd3786"
             ],
             [
              0.5555555555555556,
              "#d8576b"
             ],
             [
              0.6666666666666666,
              "#ed7953"
             ],
             [
              0.7777777777777778,
              "#fb9f3a"
             ],
             [
              0.8888888888888888,
              "#fdca26"
             ],
             [
              1,
              "#f0f921"
             ]
            ],
            "type": "heatmap"
           }
          ],
          "heatmapgl": [
           {
            "colorbar": {
             "outlinewidth": 0,
             "ticks": ""
            },
            "colorscale": [
             [
              0,
              "#0d0887"
             ],
             [
              0.1111111111111111,
              "#46039f"
             ],
             [
              0.2222222222222222,
              "#7201a8"
             ],
             [
              0.3333333333333333,
              "#9c179e"
             ],
             [
              0.4444444444444444,
              "#bd3786"
             ],
             [
              0.5555555555555556,
              "#d8576b"
             ],
             [
              0.6666666666666666,
              "#ed7953"
             ],
             [
              0.7777777777777778,
              "#fb9f3a"
             ],
             [
              0.8888888888888888,
              "#fdca26"
             ],
             [
              1,
              "#f0f921"
             ]
            ],
            "type": "heatmapgl"
           }
          ],
          "histogram": [
           {
            "marker": {
             "colorbar": {
              "outlinewidth": 0,
              "ticks": ""
             }
            },
            "type": "histogram"
           }
          ],
          "histogram2d": [
           {
            "colorbar": {
             "outlinewidth": 0,
             "ticks": ""
            },
            "colorscale": [
             [
              0,
              "#0d0887"
             ],
             [
              0.1111111111111111,
              "#46039f"
             ],
             [
              0.2222222222222222,
              "#7201a8"
             ],
             [
              0.3333333333333333,
              "#9c179e"
             ],
             [
              0.4444444444444444,
              "#bd3786"
             ],
             [
              0.5555555555555556,
              "#d8576b"
             ],
             [
              0.6666666666666666,
              "#ed7953"
             ],
             [
              0.7777777777777778,
              "#fb9f3a"
             ],
             [
              0.8888888888888888,
              "#fdca26"
             ],
             [
              1,
              "#f0f921"
             ]
            ],
            "type": "histogram2d"
           }
          ],
          "histogram2dcontour": [
           {
            "colorbar": {
             "outlinewidth": 0,
             "ticks": ""
            },
            "colorscale": [
             [
              0,
              "#0d0887"
             ],
             [
              0.1111111111111111,
              "#46039f"
             ],
             [
              0.2222222222222222,
              "#7201a8"
             ],
             [
              0.3333333333333333,
              "#9c179e"
             ],
             [
              0.4444444444444444,
              "#bd3786"
             ],
             [
              0.5555555555555556,
              "#d8576b"
             ],
             [
              0.6666666666666666,
              "#ed7953"
             ],
             [
              0.7777777777777778,
              "#fb9f3a"
             ],
             [
              0.8888888888888888,
              "#fdca26"
             ],
             [
              1,
              "#f0f921"
             ]
            ],
            "type": "histogram2dcontour"
           }
          ],
          "mesh3d": [
           {
            "colorbar": {
             "outlinewidth": 0,
             "ticks": ""
            },
            "type": "mesh3d"
           }
          ],
          "parcoords": [
           {
            "line": {
             "colorbar": {
              "outlinewidth": 0,
              "ticks": ""
             }
            },
            "type": "parcoords"
           }
          ],
          "pie": [
           {
            "automargin": true,
            "type": "pie"
           }
          ],
          "scatter": [
           {
            "marker": {
             "colorbar": {
              "outlinewidth": 0,
              "ticks": ""
             }
            },
            "type": "scatter"
           }
          ],
          "scatter3d": [
           {
            "line": {
             "colorbar": {
              "outlinewidth": 0,
              "ticks": ""
             }
            },
            "marker": {
             "colorbar": {
              "outlinewidth": 0,
              "ticks": ""
             }
            },
            "type": "scatter3d"
           }
          ],
          "scattercarpet": [
           {
            "marker": {
             "colorbar": {
              "outlinewidth": 0,
              "ticks": ""
             }
            },
            "type": "scattercarpet"
           }
          ],
          "scattergeo": [
           {
            "marker": {
             "colorbar": {
              "outlinewidth": 0,
              "ticks": ""
             }
            },
            "type": "scattergeo"
           }
          ],
          "scattergl": [
           {
            "marker": {
             "colorbar": {
              "outlinewidth": 0,
              "ticks": ""
             }
            },
            "type": "scattergl"
           }
          ],
          "scattermapbox": [
           {
            "marker": {
             "colorbar": {
              "outlinewidth": 0,
              "ticks": ""
             }
            },
            "type": "scattermapbox"
           }
          ],
          "scatterpolar": [
           {
            "marker": {
             "colorbar": {
              "outlinewidth": 0,
              "ticks": ""
             }
            },
            "type": "scatterpolar"
           }
          ],
          "scatterpolargl": [
           {
            "marker": {
             "colorbar": {
              "outlinewidth": 0,
              "ticks": ""
             }
            },
            "type": "scatterpolargl"
           }
          ],
          "scatterternary": [
           {
            "marker": {
             "colorbar": {
              "outlinewidth": 0,
              "ticks": ""
             }
            },
            "type": "scatterternary"
           }
          ],
          "surface": [
           {
            "colorbar": {
             "outlinewidth": 0,
             "ticks": ""
            },
            "colorscale": [
             [
              0,
              "#0d0887"
             ],
             [
              0.1111111111111111,
              "#46039f"
             ],
             [
              0.2222222222222222,
              "#7201a8"
             ],
             [
              0.3333333333333333,
              "#9c179e"
             ],
             [
              0.4444444444444444,
              "#bd3786"
             ],
             [
              0.5555555555555556,
              "#d8576b"
             ],
             [
              0.6666666666666666,
              "#ed7953"
             ],
             [
              0.7777777777777778,
              "#fb9f3a"
             ],
             [
              0.8888888888888888,
              "#fdca26"
             ],
             [
              1,
              "#f0f921"
             ]
            ],
            "type": "surface"
           }
          ],
          "table": [
           {
            "cells": {
             "fill": {
              "color": "#EBF0F8"
             },
             "line": {
              "color": "white"
             }
            },
            "header": {
             "fill": {
              "color": "#C8D4E3"
             },
             "line": {
              "color": "white"
             }
            },
            "type": "table"
           }
          ]
         },
         "layout": {
          "annotationdefaults": {
           "arrowcolor": "#2a3f5f",
           "arrowhead": 0,
           "arrowwidth": 1
          },
          "coloraxis": {
           "colorbar": {
            "outlinewidth": 0,
            "ticks": ""
           }
          },
          "colorscale": {
           "diverging": [
            [
             0,
             "#8e0152"
            ],
            [
             0.1,
             "#c51b7d"
            ],
            [
             0.2,
             "#de77ae"
            ],
            [
             0.3,
             "#f1b6da"
            ],
            [
             0.4,
             "#fde0ef"
            ],
            [
             0.5,
             "#f7f7f7"
            ],
            [
             0.6,
             "#e6f5d0"
            ],
            [
             0.7,
             "#b8e186"
            ],
            [
             0.8,
             "#7fbc41"
            ],
            [
             0.9,
             "#4d9221"
            ],
            [
             1,
             "#276419"
            ]
           ],
           "sequential": [
            [
             0,
             "#0d0887"
            ],
            [
             0.1111111111111111,
             "#46039f"
            ],
            [
             0.2222222222222222,
             "#7201a8"
            ],
            [
             0.3333333333333333,
             "#9c179e"
            ],
            [
             0.4444444444444444,
             "#bd3786"
            ],
            [
             0.5555555555555556,
             "#d8576b"
            ],
            [
             0.6666666666666666,
             "#ed7953"
            ],
            [
             0.7777777777777778,
             "#fb9f3a"
            ],
            [
             0.8888888888888888,
             "#fdca26"
            ],
            [
             1,
             "#f0f921"
            ]
           ],
           "sequentialminus": [
            [
             0,
             "#0d0887"
            ],
            [
             0.1111111111111111,
             "#46039f"
            ],
            [
             0.2222222222222222,
             "#7201a8"
            ],
            [
             0.3333333333333333,
             "#9c179e"
            ],
            [
             0.4444444444444444,
             "#bd3786"
            ],
            [
             0.5555555555555556,
             "#d8576b"
            ],
            [
             0.6666666666666666,
             "#ed7953"
            ],
            [
             0.7777777777777778,
             "#fb9f3a"
            ],
            [
             0.8888888888888888,
             "#fdca26"
            ],
            [
             1,
             "#f0f921"
            ]
           ]
          },
          "colorway": [
           "#636efa",
           "#EF553B",
           "#00cc96",
           "#ab63fa",
           "#FFA15A",
           "#19d3f3",
           "#FF6692",
           "#B6E880",
           "#FF97FF",
           "#FECB52"
          ],
          "font": {
           "color": "#2a3f5f"
          },
          "geo": {
           "bgcolor": "white",
           "lakecolor": "white",
           "landcolor": "#E5ECF6",
           "showlakes": true,
           "showland": true,
           "subunitcolor": "white"
          },
          "hoverlabel": {
           "align": "left"
          },
          "hovermode": "closest",
          "mapbox": {
           "style": "light"
          },
          "paper_bgcolor": "white",
          "plot_bgcolor": "#E5ECF6",
          "polar": {
           "angularaxis": {
            "gridcolor": "white",
            "linecolor": "white",
            "ticks": ""
           },
           "bgcolor": "#E5ECF6",
           "radialaxis": {
            "gridcolor": "white",
            "linecolor": "white",
            "ticks": ""
           }
          },
          "scene": {
           "xaxis": {
            "backgroundcolor": "#E5ECF6",
            "gridcolor": "white",
            "gridwidth": 2,
            "linecolor": "white",
            "showbackground": true,
            "ticks": "",
            "zerolinecolor": "white"
           },
           "yaxis": {
            "backgroundcolor": "#E5ECF6",
            "gridcolor": "white",
            "gridwidth": 2,
            "linecolor": "white",
            "showbackground": true,
            "ticks": "",
            "zerolinecolor": "white"
           },
           "zaxis": {
            "backgroundcolor": "#E5ECF6",
            "gridcolor": "white",
            "gridwidth": 2,
            "linecolor": "white",
            "showbackground": true,
            "ticks": "",
            "zerolinecolor": "white"
           }
          },
          "shapedefaults": {
           "line": {
            "color": "#2a3f5f"
           }
          },
          "ternary": {
           "aaxis": {
            "gridcolor": "white",
            "linecolor": "white",
            "ticks": ""
           },
           "baxis": {
            "gridcolor": "white",
            "linecolor": "white",
            "ticks": ""
           },
           "bgcolor": "#E5ECF6",
           "caxis": {
            "gridcolor": "white",
            "linecolor": "white",
            "ticks": ""
           }
          },
          "title": {
           "x": 0.05
          },
          "xaxis": {
           "automargin": true,
           "gridcolor": "white",
           "linecolor": "white",
           "ticks": "",
           "title": {
            "standoff": 15
           },
           "zerolinecolor": "white",
           "zerolinewidth": 2
          },
          "yaxis": {
           "automargin": true,
           "gridcolor": "white",
           "linecolor": "white",
           "ticks": "",
           "title": {
            "standoff": 15
           },
           "zerolinecolor": "white",
           "zerolinewidth": 2
          }
         }
        },
        "title": {
         "font": {
          "color": "#4D5663"
         }
        },
        "xaxis": {
         "gridcolor": "#E1E5ED",
         "showgrid": true,
         "tickfont": {
          "color": "#4D5663"
         },
         "title": {
          "font": {
           "color": "#4D5663"
          },
          "text": ""
         },
         "zerolinecolor": "#E1E5ED"
        },
        "xaxis2": {
         "anchor": "y2",
         "gridcolor": "#E1E5ED",
         "showgrid": true,
         "showticklabels": false,
         "tickfont": {
          "color": "#4D5663"
         },
         "title": {
          "font": {
           "color": "#4D5663"
          },
          "text": ""
         },
         "zerolinecolor": "#E1E5ED"
        },
        "yaxis": {
         "domain": [
          0.3,
          1
         ],
         "gridcolor": "#E1E5ED",
         "showgrid": true,
         "tickfont": {
          "color": "#4D5663"
         },
         "title": {
          "font": {
           "color": "#4D5663"
          },
          "text": ""
         },
         "zerolinecolor": "#E1E5ED"
        },
        "yaxis2": {
         "domain": [
          0,
          0.25
         ],
         "gridcolor": "#E1E5ED",
         "showgrid": true,
         "tickfont": {
          "color": "#4D5663"
         },
         "title": {
          "font": {
           "color": "#4D5663"
          },
          "text": "Spread"
         },
         "zerolinecolor": "#E1E5ED"
        }
       }
      },
      "text/html": [
       "<div>\n",
       "        \n",
       "        \n",
       "            <div id=\"6a5f1338-1734-4079-848d-bcb56b64a770\" class=\"plotly-graph-div\" style=\"height:525px; width:100%;\"></div>\n",
       "            <script type=\"text/javascript\">\n",
       "                require([\"plotly\"], function(Plotly) {\n",
       "                    window.PLOTLYENV=window.PLOTLYENV || {};\n",
       "                    window.PLOTLYENV.BASE_URL='https://plot.ly';\n",
       "                    \n",
       "                if (document.getElementById(\"6a5f1338-1734-4079-848d-bcb56b64a770\")) {\n",
       "                    Plotly.newPlot(\n",
       "                        '6a5f1338-1734-4079-848d-bcb56b64a770',\n",
       "                        [{\"line\": {\"color\": \"rgba(255, 153, 51, 1.0)\", \"dash\": \"solid\", \"shape\": \"linear\", \"width\": 1.3}, \"mode\": \"lines\", \"name\": \"A\", \"text\": \"\", \"type\": \"scatter\", \"x\": [0, 1, 2, 3, 4, 5, 6, 7, 8, 9, 10, 11, 12, 13, 14, 15, 16, 17, 18, 19, 20, 21, 22, 23, 24, 25, 26, 27, 28, 29, 30, 31, 32, 33, 34, 35, 36, 37, 38, 39, 40, 41, 42, 43, 44, 45, 46, 47, 48, 49, 50, 51, 52, 53, 54, 55, 56, 57, 58, 59, 60, 61, 62, 63, 64, 65, 66, 67, 68, 69, 70, 71, 72, 73, 74, 75, 76, 77, 78, 79, 80, 81, 82, 83, 84, 85, 86, 87, 88, 89, 90, 91, 92, 93, 94, 95, 96, 97, 98, 99], \"y\": [0.0890236266217388, -0.8787154704351006, -0.5977533695209157, 1.0698110062679522, -0.7988921083264098, 0.5832383049156543, -0.24864835278907027, -0.7060503899937032, -0.17782255970080588, -0.5971957707353813, -0.2848860906535149, -0.3742407187026039, 0.4907659776092099, 0.8454677262211716, -0.2397947222641649, -2.0292890390339724, -1.2343508942203125, -0.581627027911337, -1.0059985872873767, 0.5190498956176977, -0.8050834897018041, -1.2332096157124222, 0.24081560942118724, 0.21907435531661296, 1.0790880176319952, 0.28539811590176767, 0.7275582865688938, -1.3737352892335288, 1.5015902347610783, -0.7633820933736835, 0.24237512494715135, 0.8172121522015262, 1.8896732207751532, -0.6351466997131315, 2.005318523682665, -0.580700518779291, 0.7512582762225731, -0.8321393543297784, -0.3153980856329165, -0.02040788440319213, -2.2934222272134384, 1.6394351565028256, -0.6005020999661731, -0.20898877817830225, -0.4939393931678909, -1.0223010529305525, -1.2450682862014761, -0.3750143012290298, -0.708562296521142, 0.38878227084235917, -2.0559894255214224, 1.4177343229429362, 1.0125524763703015, 0.2736842677201433, -1.690076207277851, 0.5740214411230689, -1.4218587639089526, 1.131981541075113, 1.128790595206288, -1.7793271621875348, 0.41361726580124564, 0.06515589060216231, 0.4932317233002984, -0.7378656158118205, -1.2319379637683658, -1.0507998526899458, 1.0849106188488342, -0.2797600190915077, -1.4551367052371373, 0.1544462179019029, -0.202836471763666, -0.71769159845839, 1.2309494921041828, 1.2092282398002012, 0.3235255842564463, 1.3316864092620504, 0.1513431336912556, 0.21827249329865175, -0.9835328681268078, -1.0362844907669773, -0.32551882727349163, -1.0723468668606093, -0.45027418094012583, 1.799000436413313, -0.7762852907022613, -0.3060841118077056, -0.20171888994438966, 1.1142185433582568, -0.2855190215679157, -0.7151109629949621, -0.15342200469247758, 1.3878568278354564, -0.3913794385268874, -0.33413504032172014, 1.2125676256249207, -0.6690852370697338, 0.7818229887533782, 1.1108926635943865, 0.9868797129047022, 0.8217126939072327]}, {\"line\": {\"color\": \"rgba(55, 128, 191, 1.0)\", \"dash\": \"solid\", \"shape\": \"linear\", \"width\": 1.3}, \"mode\": \"lines\", \"name\": \"B\", \"text\": \"\", \"type\": \"scatter\", \"x\": [0, 1, 2, 3, 4, 5, 6, 7, 8, 9, 10, 11, 12, 13, 14, 15, 16, 17, 18, 19, 20, 21, 22, 23, 24, 25, 26, 27, 28, 29, 30, 31, 32, 33, 34, 35, 36, 37, 38, 39, 40, 41, 42, 43, 44, 45, 46, 47, 48, 49, 50, 51, 52, 53, 54, 55, 56, 57, 58, 59, 60, 61, 62, 63, 64, 65, 66, 67, 68, 69, 70, 71, 72, 73, 74, 75, 76, 77, 78, 79, 80, 81, 82, 83, 84, 85, 86, 87, 88, 89, 90, 91, 92, 93, 94, 95, 96, 97, 98, 99], \"y\": [-0.35851340747689664, 0.8964559064908013, 0.8668851979644124, 1.3201101066639465, 0.8521632636565618, 0.1678193389215071, 0.7956218856845063, -1.485779184225525, -0.9397594214955171, -0.7276192600413182, 0.48133426516235733, -1.5591885658424542, -0.686558641849801, 2.18044367413078, -0.8224954720950357, 0.834264245771014, 1.1392133327228213, -0.056959375116270236, -0.08899218349335206, -0.770943166891278, 1.2796388775496115, -0.3275552737219343, -0.9163903526244046, 1.0538233753656439, -0.6853188384421511, -0.6275853279554117, 0.9179813481937266, 0.5189780842294516, 0.3712018800035291, -1.8252779744693999, -0.34236610898251557, -0.019428628026250238, -0.8881594465059595, 0.13060694430664255, -0.4121062043857643, -0.33180243234711787, -0.9683207227407323, 0.009546301482904817, 0.1895164509826522, -1.372607398389755, -0.2182857407326223, -0.9615140141635607, -0.7493604427082969, -0.2067713992218754, 0.7429830323549378, -0.7720878333472194, -0.31734743841448415, 0.3272924971873089, 1.1832213404981857, -0.33702307554729777, -0.7105241760247889, -0.029703270945312988, -0.004807880039269839, -1.9973825785516937, 2.5737789599651775, 0.865139824506424, -1.6945802437900994, -0.5994672286457641, -0.5028030406421471, -0.02329024402120451, -0.5017263309388669, 0.5785837836357898, -0.10987225399527062, 1.6049998267882604, 1.310629774867115, 2.0585814106620783, -0.37476648312106, -0.6251191985799067, 0.33967135556511246, 0.09113891525380655, -0.2050970211327267, 0.9770296374343848, -0.13155365069047867, 1.4927636399521946, 0.047661367603270104, -0.16380451935485263, -0.2037109505915858, 0.8456429731125856, -2.293700224952948, 1.14918628891375, -1.335207693057455, -0.41671154448101944, 1.199664637188824, -0.12133532891653313, -0.6475928932098416, 2.2874969525600846, -0.09027141045421477, -1.4881781082705703, -1.8618720474290251, 0.2864564719476295, -1.0643714350281643, 0.532804778438827, 0.07101988852484521, 1.2534553647894944, -0.609962890435716, 1.301392841865941, 0.008793702127127, 0.9942304385437866, 0.03762531473621305, -2.1766597195451514]}, {\"connectgaps\": false, \"fill\": \"tozeroy\", \"line\": {\"color\": \"green\", \"dash\": \"solid\", \"shape\": \"linear\", \"width\": 0.5}, \"mode\": \"lines\", \"name\": \"Spread\", \"showlegend\": false, \"type\": \"scatter\", \"x\": [0, 1, 2, 3, 4, 5, 6, 7, 8, 9, 10, 11, 12, 13, 14, 15, 16, 17, 18, 19, 20, 21, 22, 23, 24, 25, 26, 27, 28, 29, 30, 31, 32, 33, 34, 35, 36, 37, 38, 39, 40, 41, 42, 43, 44, 45, 46, 47, 48, 49, 50, 51, 52, 53, 54, 55, 56, 57, 58, 59, 60, 61, 62, 63, 64, 65, 66, 67, 68, 69, 70, 71, 72, 73, 74, 75, 76, 77, 78, 79, 80, 81, 82, 83, 84, 85, 86, 87, 88, 89, 90, 91, 92, 93, 94, 95, 96, 97, 98, 99], \"xaxis\": \"x2\", \"y\": [0.44753703409863543, \"\", \"\", \"\", \"\", 0.4154189659941472, \"\", 0.7797287942318218, 0.7619368617947112, 0.13042348930593683, \"\", 1.1849478471398505, 1.1773246194590108, \"\", 0.5827007498308708, \"\", \"\", \"\", \"\", 1.2899930625089757, \"\", \"\", 1.157205962045592, \"\", 1.7644068560741464, 0.9129834438571793, \"\", \"\", 1.1303883547575493, 1.0618958810957164, 0.5847412339296669, 0.8366407802277764, 2.7778326672811127, \"\", 2.4174247280684296, \"\", 1.7195789989633055, \"\", \"\", 1.352199513986563, \"\", 2.6009491706663863, 0.14885834274212384, \"\", \"\", \"\", \"\", \"\", \"\", 0.725805346389657, \"\", 1.447437593888249, 1.0173603564095715, 2.271066846271837, \"\", \"\", 0.2727214798811468, 1.7314487697208771, 1.631593635848435, \"\", 0.9153435967401125, \"\", 0.6031039772955691, \"\", \"\", \"\", 1.4596771019698942, 0.345359179488399, \"\", 0.06330730264809636, 0.0022605493690606993, \"\", 1.3625031427946614, \"\", 0.2758642166531762, 1.4954909286169031, 0.3550540842828414, \"\", 1.3101673568261403, \"\", 1.0096888657839633, \"\", \"\", 1.920335765329846, \"\", \"\", \"\", 2.602396651628827, 1.5763530258611094, \"\", 0.9109494303356868, 0.8550520493966294, \"\", \"\", 1.8225305160606369, \"\", 0.7730292866262511, 0.11666222505059998, 0.9492543981684892, 2.998372413452384], \"yaxis\": \"y2\"}, {\"connectgaps\": false, \"fill\": \"tozeroy\", \"line\": {\"color\": \"red\", \"dash\": \"solid\", \"shape\": \"linear\", \"width\": 0.5}, \"mode\": \"lines\", \"name\": \"Spread\", \"showlegend\": false, \"type\": \"scatter\", \"x\": [0, 1, 2, 3, 4, 5, 6, 7, 8, 9, 10, 11, 12, 13, 14, 15, 16, 17, 18, 19, 20, 21, 22, 23, 24, 25, 26, 27, 28, 29, 30, 31, 32, 33, 34, 35, 36, 37, 38, 39, 40, 41, 42, 43, 44, 45, 46, 47, 48, 49, 50, 51, 52, 53, 54, 55, 56, 57, 58, 59, 60, 61, 62, 63, 64, 65, 66, 67, 68, 69, 70, 71, 72, 73, 74, 75, 76, 77, 78, 79, 80, 81, 82, 83, 84, 85, 86, 87, 88, 89, 90, 91, 92, 93, 94, 95, 96, 97, 98, 99], \"xaxis\": \"x2\", \"y\": [\"\", -1.7751713769259019, -1.4646385674853282, -0.25029910039599423, -1.6510553719829715, \"\", -1.0442702384735765, \"\", \"\", \"\", -0.7662203558158722, \"\", \"\", -1.3349759479096084, \"\", -2.8635532848049863, -2.3735642269431336, -0.5246676527950668, -0.9170064037940246, \"\", -2.0847223672514157, -0.9056543419904879, \"\", -0.8347490200490308, \"\", \"\", -0.1904230616248328, -1.8927133734629804, \"\", \"\", \"\", \"\", \"\", -0.7657536440197741, \"\", -0.2488980864321731, \"\", -0.8416856558126832, -0.5049145366155687, \"\", -2.075136486480816, \"\", \"\", -0.0022173789564268465, -1.2369224255228288, -0.2502132195833331, -0.927720847786992, -0.7023067984163387, -1.8917836370193277, \"\", -1.3454652494966335, \"\", \"\", \"\", -4.263855167243029, -0.29111838338335516, \"\", \"\", \"\", -1.7560369181663302, \"\", -0.5134278930336275, \"\", -2.342865442600081, -2.542567738635481, -3.109381263352024, \"\", \"\", -1.7948080608022499, \"\", \"\", -1.6947212358927748, \"\", -0.2835354001519934, \"\", \"\", \"\", -0.6273704798139339, \"\", -2.1854707796807276, \"\", -0.6556353223795899, -1.6499388181289498, \"\", -0.12869239749241967, -2.59358106436779, -0.11144747949017489, \"\", \"\", -1.0015674349425916, \"\", \"\", -0.4623993270517326, -1.5875904051112144, \"\", -1.9704780789356748, \"\", \"\", \"\", \"\"], \"yaxis\": \"y2\"}],\n",
       "                        {\"hovermode\": \"x\", \"legend\": {\"bgcolor\": \"#F5F6F9\", \"font\": {\"color\": \"#4D5663\"}}, \"paper_bgcolor\": \"#F5F6F9\", \"plot_bgcolor\": \"#F5F6F9\", \"template\": {\"data\": {\"bar\": [{\"error_x\": {\"color\": \"#2a3f5f\"}, \"error_y\": {\"color\": \"#2a3f5f\"}, \"marker\": {\"line\": {\"color\": \"#E5ECF6\", \"width\": 0.5}}, \"type\": \"bar\"}], \"barpolar\": [{\"marker\": {\"line\": {\"color\": \"#E5ECF6\", \"width\": 0.5}}, \"type\": \"barpolar\"}], \"carpet\": [{\"aaxis\": {\"endlinecolor\": \"#2a3f5f\", \"gridcolor\": \"white\", \"linecolor\": \"white\", \"minorgridcolor\": \"white\", \"startlinecolor\": \"#2a3f5f\"}, \"baxis\": {\"endlinecolor\": \"#2a3f5f\", \"gridcolor\": \"white\", \"linecolor\": \"white\", \"minorgridcolor\": \"white\", \"startlinecolor\": \"#2a3f5f\"}, \"type\": \"carpet\"}], \"choropleth\": [{\"colorbar\": {\"outlinewidth\": 0, \"ticks\": \"\"}, \"type\": \"choropleth\"}], \"contour\": [{\"colorbar\": {\"outlinewidth\": 0, \"ticks\": \"\"}, \"colorscale\": [[0.0, \"#0d0887\"], [0.1111111111111111, \"#46039f\"], [0.2222222222222222, \"#7201a8\"], [0.3333333333333333, \"#9c179e\"], [0.4444444444444444, \"#bd3786\"], [0.5555555555555556, \"#d8576b\"], [0.6666666666666666, \"#ed7953\"], [0.7777777777777778, \"#fb9f3a\"], [0.8888888888888888, \"#fdca26\"], [1.0, \"#f0f921\"]], \"type\": \"contour\"}], \"contourcarpet\": [{\"colorbar\": {\"outlinewidth\": 0, \"ticks\": \"\"}, \"type\": \"contourcarpet\"}], \"heatmap\": [{\"colorbar\": {\"outlinewidth\": 0, \"ticks\": \"\"}, \"colorscale\": [[0.0, \"#0d0887\"], [0.1111111111111111, \"#46039f\"], [0.2222222222222222, \"#7201a8\"], [0.3333333333333333, \"#9c179e\"], [0.4444444444444444, \"#bd3786\"], [0.5555555555555556, \"#d8576b\"], [0.6666666666666666, \"#ed7953\"], [0.7777777777777778, \"#fb9f3a\"], [0.8888888888888888, \"#fdca26\"], [1.0, \"#f0f921\"]], \"type\": \"heatmap\"}], \"heatmapgl\": [{\"colorbar\": {\"outlinewidth\": 0, \"ticks\": \"\"}, \"colorscale\": [[0.0, \"#0d0887\"], [0.1111111111111111, \"#46039f\"], [0.2222222222222222, \"#7201a8\"], [0.3333333333333333, \"#9c179e\"], [0.4444444444444444, \"#bd3786\"], [0.5555555555555556, \"#d8576b\"], [0.6666666666666666, \"#ed7953\"], [0.7777777777777778, \"#fb9f3a\"], [0.8888888888888888, \"#fdca26\"], [1.0, \"#f0f921\"]], \"type\": \"heatmapgl\"}], \"histogram\": [{\"marker\": {\"colorbar\": {\"outlinewidth\": 0, \"ticks\": \"\"}}, \"type\": \"histogram\"}], \"histogram2d\": [{\"colorbar\": {\"outlinewidth\": 0, \"ticks\": \"\"}, \"colorscale\": [[0.0, \"#0d0887\"], [0.1111111111111111, \"#46039f\"], [0.2222222222222222, \"#7201a8\"], [0.3333333333333333, \"#9c179e\"], [0.4444444444444444, \"#bd3786\"], [0.5555555555555556, \"#d8576b\"], [0.6666666666666666, \"#ed7953\"], [0.7777777777777778, \"#fb9f3a\"], [0.8888888888888888, \"#fdca26\"], [1.0, \"#f0f921\"]], \"type\": \"histogram2d\"}], \"histogram2dcontour\": [{\"colorbar\": {\"outlinewidth\": 0, \"ticks\": \"\"}, \"colorscale\": [[0.0, \"#0d0887\"], [0.1111111111111111, \"#46039f\"], [0.2222222222222222, \"#7201a8\"], [0.3333333333333333, \"#9c179e\"], [0.4444444444444444, \"#bd3786\"], [0.5555555555555556, \"#d8576b\"], [0.6666666666666666, \"#ed7953\"], [0.7777777777777778, \"#fb9f3a\"], [0.8888888888888888, \"#fdca26\"], [1.0, \"#f0f921\"]], \"type\": \"histogram2dcontour\"}], \"mesh3d\": [{\"colorbar\": {\"outlinewidth\": 0, \"ticks\": \"\"}, \"type\": \"mesh3d\"}], \"parcoords\": [{\"line\": {\"colorbar\": {\"outlinewidth\": 0, \"ticks\": \"\"}}, \"type\": \"parcoords\"}], \"pie\": [{\"automargin\": true, \"type\": \"pie\"}], \"scatter\": [{\"marker\": {\"colorbar\": {\"outlinewidth\": 0, \"ticks\": \"\"}}, \"type\": \"scatter\"}], \"scatter3d\": [{\"line\": {\"colorbar\": {\"outlinewidth\": 0, \"ticks\": \"\"}}, \"marker\": {\"colorbar\": {\"outlinewidth\": 0, \"ticks\": \"\"}}, \"type\": \"scatter3d\"}], \"scattercarpet\": [{\"marker\": {\"colorbar\": {\"outlinewidth\": 0, \"ticks\": \"\"}}, \"type\": \"scattercarpet\"}], \"scattergeo\": [{\"marker\": {\"colorbar\": {\"outlinewidth\": 0, \"ticks\": \"\"}}, \"type\": \"scattergeo\"}], \"scattergl\": [{\"marker\": {\"colorbar\": {\"outlinewidth\": 0, \"ticks\": \"\"}}, \"type\": \"scattergl\"}], \"scattermapbox\": [{\"marker\": {\"colorbar\": {\"outlinewidth\": 0, \"ticks\": \"\"}}, \"type\": \"scattermapbox\"}], \"scatterpolar\": [{\"marker\": {\"colorbar\": {\"outlinewidth\": 0, \"ticks\": \"\"}}, \"type\": \"scatterpolar\"}], \"scatterpolargl\": [{\"marker\": {\"colorbar\": {\"outlinewidth\": 0, \"ticks\": \"\"}}, \"type\": \"scatterpolargl\"}], \"scatterternary\": [{\"marker\": {\"colorbar\": {\"outlinewidth\": 0, \"ticks\": \"\"}}, \"type\": \"scatterternary\"}], \"surface\": [{\"colorbar\": {\"outlinewidth\": 0, \"ticks\": \"\"}, \"colorscale\": [[0.0, \"#0d0887\"], [0.1111111111111111, \"#46039f\"], [0.2222222222222222, \"#7201a8\"], [0.3333333333333333, \"#9c179e\"], [0.4444444444444444, \"#bd3786\"], [0.5555555555555556, \"#d8576b\"], [0.6666666666666666, \"#ed7953\"], [0.7777777777777778, \"#fb9f3a\"], [0.8888888888888888, \"#fdca26\"], [1.0, \"#f0f921\"]], \"type\": \"surface\"}], \"table\": [{\"cells\": {\"fill\": {\"color\": \"#EBF0F8\"}, \"line\": {\"color\": \"white\"}}, \"header\": {\"fill\": {\"color\": \"#C8D4E3\"}, \"line\": {\"color\": \"white\"}}, \"type\": \"table\"}]}, \"layout\": {\"annotationdefaults\": {\"arrowcolor\": \"#2a3f5f\", \"arrowhead\": 0, \"arrowwidth\": 1}, \"coloraxis\": {\"colorbar\": {\"outlinewidth\": 0, \"ticks\": \"\"}}, \"colorscale\": {\"diverging\": [[0, \"#8e0152\"], [0.1, \"#c51b7d\"], [0.2, \"#de77ae\"], [0.3, \"#f1b6da\"], [0.4, \"#fde0ef\"], [0.5, \"#f7f7f7\"], [0.6, \"#e6f5d0\"], [0.7, \"#b8e186\"], [0.8, \"#7fbc41\"], [0.9, \"#4d9221\"], [1, \"#276419\"]], \"sequential\": [[0.0, \"#0d0887\"], [0.1111111111111111, \"#46039f\"], [0.2222222222222222, \"#7201a8\"], [0.3333333333333333, \"#9c179e\"], [0.4444444444444444, \"#bd3786\"], [0.5555555555555556, \"#d8576b\"], [0.6666666666666666, \"#ed7953\"], [0.7777777777777778, \"#fb9f3a\"], [0.8888888888888888, \"#fdca26\"], [1.0, \"#f0f921\"]], \"sequentialminus\": [[0.0, \"#0d0887\"], [0.1111111111111111, \"#46039f\"], [0.2222222222222222, \"#7201a8\"], [0.3333333333333333, \"#9c179e\"], [0.4444444444444444, \"#bd3786\"], [0.5555555555555556, \"#d8576b\"], [0.6666666666666666, \"#ed7953\"], [0.7777777777777778, \"#fb9f3a\"], [0.8888888888888888, \"#fdca26\"], [1.0, \"#f0f921\"]]}, \"colorway\": [\"#636efa\", \"#EF553B\", \"#00cc96\", \"#ab63fa\", \"#FFA15A\", \"#19d3f3\", \"#FF6692\", \"#B6E880\", \"#FF97FF\", \"#FECB52\"], \"font\": {\"color\": \"#2a3f5f\"}, \"geo\": {\"bgcolor\": \"white\", \"lakecolor\": \"white\", \"landcolor\": \"#E5ECF6\", \"showlakes\": true, \"showland\": true, \"subunitcolor\": \"white\"}, \"hoverlabel\": {\"align\": \"left\"}, \"hovermode\": \"closest\", \"mapbox\": {\"style\": \"light\"}, \"paper_bgcolor\": \"white\", \"plot_bgcolor\": \"#E5ECF6\", \"polar\": {\"angularaxis\": {\"gridcolor\": \"white\", \"linecolor\": \"white\", \"ticks\": \"\"}, \"bgcolor\": \"#E5ECF6\", \"radialaxis\": {\"gridcolor\": \"white\", \"linecolor\": \"white\", \"ticks\": \"\"}}, \"scene\": {\"xaxis\": {\"backgroundcolor\": \"#E5ECF6\", \"gridcolor\": \"white\", \"gridwidth\": 2, \"linecolor\": \"white\", \"showbackground\": true, \"ticks\": \"\", \"zerolinecolor\": \"white\"}, \"yaxis\": {\"backgroundcolor\": \"#E5ECF6\", \"gridcolor\": \"white\", \"gridwidth\": 2, \"linecolor\": \"white\", \"showbackground\": true, \"ticks\": \"\", \"zerolinecolor\": \"white\"}, \"zaxis\": {\"backgroundcolor\": \"#E5ECF6\", \"gridcolor\": \"white\", \"gridwidth\": 2, \"linecolor\": \"white\", \"showbackground\": true, \"ticks\": \"\", \"zerolinecolor\": \"white\"}}, \"shapedefaults\": {\"line\": {\"color\": \"#2a3f5f\"}}, \"ternary\": {\"aaxis\": {\"gridcolor\": \"white\", \"linecolor\": \"white\", \"ticks\": \"\"}, \"baxis\": {\"gridcolor\": \"white\", \"linecolor\": \"white\", \"ticks\": \"\"}, \"bgcolor\": \"#E5ECF6\", \"caxis\": {\"gridcolor\": \"white\", \"linecolor\": \"white\", \"ticks\": \"\"}}, \"title\": {\"x\": 0.05}, \"xaxis\": {\"automargin\": true, \"gridcolor\": \"white\", \"linecolor\": \"white\", \"ticks\": \"\", \"title\": {\"standoff\": 15}, \"zerolinecolor\": \"white\", \"zerolinewidth\": 2}, \"yaxis\": {\"automargin\": true, \"gridcolor\": \"white\", \"linecolor\": \"white\", \"ticks\": \"\", \"title\": {\"standoff\": 15}, \"zerolinecolor\": \"white\", \"zerolinewidth\": 2}}}, \"title\": {\"font\": {\"color\": \"#4D5663\"}}, \"xaxis\": {\"gridcolor\": \"#E1E5ED\", \"showgrid\": true, \"tickfont\": {\"color\": \"#4D5663\"}, \"title\": {\"font\": {\"color\": \"#4D5663\"}, \"text\": \"\"}, \"zerolinecolor\": \"#E1E5ED\"}, \"xaxis2\": {\"anchor\": \"y2\", \"gridcolor\": \"#E1E5ED\", \"showgrid\": true, \"showticklabels\": false, \"tickfont\": {\"color\": \"#4D5663\"}, \"title\": {\"font\": {\"color\": \"#4D5663\"}, \"text\": \"\"}, \"zerolinecolor\": \"#E1E5ED\"}, \"yaxis\": {\"domain\": [0.3, 1], \"gridcolor\": \"#E1E5ED\", \"showgrid\": true, \"tickfont\": {\"color\": \"#4D5663\"}, \"title\": {\"font\": {\"color\": \"#4D5663\"}, \"text\": \"\"}, \"zerolinecolor\": \"#E1E5ED\"}, \"yaxis2\": {\"domain\": [0, 0.25], \"gridcolor\": \"#E1E5ED\", \"showgrid\": true, \"tickfont\": {\"color\": \"#4D5663\"}, \"title\": {\"font\": {\"color\": \"#4D5663\"}, \"text\": \"Spread\"}, \"zerolinecolor\": \"#E1E5ED\"}},\n",
       "                        {\"showLink\": true, \"linkText\": \"Export to plot.ly\", \"plotlyServerURL\": \"https://plot.ly\", \"responsive\": true}\n",
       "                    ).then(function(){\n",
       "                            \n",
       "var gd = document.getElementById('6a5f1338-1734-4079-848d-bcb56b64a770');\n",
       "var x = new MutationObserver(function (mutations, observer) {{\n",
       "        var display = window.getComputedStyle(gd).display;\n",
       "        if (!display || display === 'none') {{\n",
       "            console.log([gd, 'removed!']);\n",
       "            Plotly.purge(gd);\n",
       "            observer.disconnect();\n",
       "        }}\n",
       "}});\n",
       "\n",
       "// Listen for the removal of the full notebook cells\n",
       "var notebookContainer = gd.closest('#notebook-container');\n",
       "if (notebookContainer) {{\n",
       "    x.observe(notebookContainer, {childList: true});\n",
       "}}\n",
       "\n",
       "// Listen for the clearing of the current output cell\n",
       "var outputEl = gd.closest('.output');\n",
       "if (outputEl) {{\n",
       "    x.observe(outputEl, {childList: true});\n",
       "}}\n",
       "\n",
       "                        })\n",
       "                };\n",
       "                });\n",
       "            </script>\n",
       "        </div>"
      ]
     },
     "metadata": {},
     "output_type": "display_data"
    }
   ],
   "source": [
    "df[['A','B']].iplot(kind='spread')"
   ]
  },
  {
   "cell_type": "markdown",
   "metadata": {},
   "source": [
    "## histogram"
   ]
  },
  {
   "cell_type": "code",
   "execution_count": 17,
   "metadata": {},
   "outputs": [
    {
     "data": {
      "application/vnd.plotly.v1+json": {
       "config": {
        "linkText": "Export to plot.ly",
        "plotlyServerURL": "https://plot.ly",
        "showLink": true
       },
       "data": [
        {
         "histfunc": "count",
         "histnorm": "",
         "marker": {
          "color": "rgba(255, 153, 51, 1.0)",
          "line": {
           "color": "#4D5663",
           "width": 1.3
          }
         },
         "name": "A",
         "nbinsx": 25,
         "opacity": 0.8,
         "orientation": "v",
         "type": "histogram",
         "x": [
          0.0890236266217388,
          -0.8787154704351006,
          -0.5977533695209157,
          1.0698110062679522,
          -0.7988921083264098,
          0.5832383049156543,
          -0.24864835278907027,
          -0.7060503899937032,
          -0.17782255970080588,
          -0.5971957707353813,
          -0.2848860906535149,
          -0.3742407187026039,
          0.4907659776092099,
          0.8454677262211716,
          -0.2397947222641649,
          -2.0292890390339724,
          -1.2343508942203125,
          -0.581627027911337,
          -1.0059985872873767,
          0.5190498956176977,
          -0.8050834897018041,
          -1.2332096157124222,
          0.24081560942118724,
          0.21907435531661296,
          1.0790880176319952,
          0.28539811590176767,
          0.7275582865688938,
          -1.3737352892335288,
          1.5015902347610783,
          -0.7633820933736835,
          0.24237512494715135,
          0.8172121522015262,
          1.8896732207751532,
          -0.6351466997131315,
          2.005318523682665,
          -0.580700518779291,
          0.7512582762225731,
          -0.8321393543297784,
          -0.3153980856329165,
          -0.02040788440319213,
          -2.2934222272134384,
          1.6394351565028256,
          -0.6005020999661731,
          -0.20898877817830225,
          -0.4939393931678909,
          -1.0223010529305525,
          -1.2450682862014761,
          -0.3750143012290298,
          -0.708562296521142,
          0.38878227084235917,
          -2.0559894255214224,
          1.4177343229429362,
          1.0125524763703015,
          0.2736842677201433,
          -1.690076207277851,
          0.5740214411230689,
          -1.4218587639089526,
          1.131981541075113,
          1.128790595206288,
          -1.7793271621875348,
          0.41361726580124564,
          0.06515589060216231,
          0.4932317233002984,
          -0.7378656158118205,
          -1.2319379637683658,
          -1.0507998526899458,
          1.0849106188488342,
          -0.2797600190915077,
          -1.4551367052371373,
          0.1544462179019029,
          -0.202836471763666,
          -0.71769159845839,
          1.2309494921041828,
          1.2092282398002012,
          0.3235255842564463,
          1.3316864092620504,
          0.1513431336912556,
          0.21827249329865175,
          -0.9835328681268078,
          -1.0362844907669773,
          -0.32551882727349163,
          -1.0723468668606093,
          -0.45027418094012583,
          1.799000436413313,
          -0.7762852907022613,
          -0.3060841118077056,
          -0.20171888994438966,
          1.1142185433582568,
          -0.2855190215679157,
          -0.7151109629949621,
          -0.15342200469247758,
          1.3878568278354564,
          -0.3913794385268874,
          -0.33413504032172014,
          1.2125676256249207,
          -0.6690852370697338,
          0.7818229887533782,
          1.1108926635943865,
          0.9868797129047022,
          0.8217126939072327
         ]
        }
       ],
       "layout": {
        "barmode": "overlay",
        "legend": {
         "bgcolor": "#F5F6F9",
         "font": {
          "color": "#4D5663"
         }
        },
        "paper_bgcolor": "#F5F6F9",
        "plot_bgcolor": "#F5F6F9",
        "template": {
         "data": {
          "bar": [
           {
            "error_x": {
             "color": "#2a3f5f"
            },
            "error_y": {
             "color": "#2a3f5f"
            },
            "marker": {
             "line": {
              "color": "#E5ECF6",
              "width": 0.5
             }
            },
            "type": "bar"
           }
          ],
          "barpolar": [
           {
            "marker": {
             "line": {
              "color": "#E5ECF6",
              "width": 0.5
             }
            },
            "type": "barpolar"
           }
          ],
          "carpet": [
           {
            "aaxis": {
             "endlinecolor": "#2a3f5f",
             "gridcolor": "white",
             "linecolor": "white",
             "minorgridcolor": "white",
             "startlinecolor": "#2a3f5f"
            },
            "baxis": {
             "endlinecolor": "#2a3f5f",
             "gridcolor": "white",
             "linecolor": "white",
             "minorgridcolor": "white",
             "startlinecolor": "#2a3f5f"
            },
            "type": "carpet"
           }
          ],
          "choropleth": [
           {
            "colorbar": {
             "outlinewidth": 0,
             "ticks": ""
            },
            "type": "choropleth"
           }
          ],
          "contour": [
           {
            "colorbar": {
             "outlinewidth": 0,
             "ticks": ""
            },
            "colorscale": [
             [
              0,
              "#0d0887"
             ],
             [
              0.1111111111111111,
              "#46039f"
             ],
             [
              0.2222222222222222,
              "#7201a8"
             ],
             [
              0.3333333333333333,
              "#9c179e"
             ],
             [
              0.4444444444444444,
              "#bd3786"
             ],
             [
              0.5555555555555556,
              "#d8576b"
             ],
             [
              0.6666666666666666,
              "#ed7953"
             ],
             [
              0.7777777777777778,
              "#fb9f3a"
             ],
             [
              0.8888888888888888,
              "#fdca26"
             ],
             [
              1,
              "#f0f921"
             ]
            ],
            "type": "contour"
           }
          ],
          "contourcarpet": [
           {
            "colorbar": {
             "outlinewidth": 0,
             "ticks": ""
            },
            "type": "contourcarpet"
           }
          ],
          "heatmap": [
           {
            "colorbar": {
             "outlinewidth": 0,
             "ticks": ""
            },
            "colorscale": [
             [
              0,
              "#0d0887"
             ],
             [
              0.1111111111111111,
              "#46039f"
             ],
             [
              0.2222222222222222,
              "#7201a8"
             ],
             [
              0.3333333333333333,
              "#9c179e"
             ],
             [
              0.4444444444444444,
              "#bd3786"
             ],
             [
              0.5555555555555556,
              "#d8576b"
             ],
             [
              0.6666666666666666,
              "#ed7953"
             ],
             [
              0.7777777777777778,
              "#fb9f3a"
             ],
             [
              0.8888888888888888,
              "#fdca26"
             ],
             [
              1,
              "#f0f921"
             ]
            ],
            "type": "heatmap"
           }
          ],
          "heatmapgl": [
           {
            "colorbar": {
             "outlinewidth": 0,
             "ticks": ""
            },
            "colorscale": [
             [
              0,
              "#0d0887"
             ],
             [
              0.1111111111111111,
              "#46039f"
             ],
             [
              0.2222222222222222,
              "#7201a8"
             ],
             [
              0.3333333333333333,
              "#9c179e"
             ],
             [
              0.4444444444444444,
              "#bd3786"
             ],
             [
              0.5555555555555556,
              "#d8576b"
             ],
             [
              0.6666666666666666,
              "#ed7953"
             ],
             [
              0.7777777777777778,
              "#fb9f3a"
             ],
             [
              0.8888888888888888,
              "#fdca26"
             ],
             [
              1,
              "#f0f921"
             ]
            ],
            "type": "heatmapgl"
           }
          ],
          "histogram": [
           {
            "marker": {
             "colorbar": {
              "outlinewidth": 0,
              "ticks": ""
             }
            },
            "type": "histogram"
           }
          ],
          "histogram2d": [
           {
            "colorbar": {
             "outlinewidth": 0,
             "ticks": ""
            },
            "colorscale": [
             [
              0,
              "#0d0887"
             ],
             [
              0.1111111111111111,
              "#46039f"
             ],
             [
              0.2222222222222222,
              "#7201a8"
             ],
             [
              0.3333333333333333,
              "#9c179e"
             ],
             [
              0.4444444444444444,
              "#bd3786"
             ],
             [
              0.5555555555555556,
              "#d8576b"
             ],
             [
              0.6666666666666666,
              "#ed7953"
             ],
             [
              0.7777777777777778,
              "#fb9f3a"
             ],
             [
              0.8888888888888888,
              "#fdca26"
             ],
             [
              1,
              "#f0f921"
             ]
            ],
            "type": "histogram2d"
           }
          ],
          "histogram2dcontour": [
           {
            "colorbar": {
             "outlinewidth": 0,
             "ticks": ""
            },
            "colorscale": [
             [
              0,
              "#0d0887"
             ],
             [
              0.1111111111111111,
              "#46039f"
             ],
             [
              0.2222222222222222,
              "#7201a8"
             ],
             [
              0.3333333333333333,
              "#9c179e"
             ],
             [
              0.4444444444444444,
              "#bd3786"
             ],
             [
              0.5555555555555556,
              "#d8576b"
             ],
             [
              0.6666666666666666,
              "#ed7953"
             ],
             [
              0.7777777777777778,
              "#fb9f3a"
             ],
             [
              0.8888888888888888,
              "#fdca26"
             ],
             [
              1,
              "#f0f921"
             ]
            ],
            "type": "histogram2dcontour"
           }
          ],
          "mesh3d": [
           {
            "colorbar": {
             "outlinewidth": 0,
             "ticks": ""
            },
            "type": "mesh3d"
           }
          ],
          "parcoords": [
           {
            "line": {
             "colorbar": {
              "outlinewidth": 0,
              "ticks": ""
             }
            },
            "type": "parcoords"
           }
          ],
          "pie": [
           {
            "automargin": true,
            "type": "pie"
           }
          ],
          "scatter": [
           {
            "marker": {
             "colorbar": {
              "outlinewidth": 0,
              "ticks": ""
             }
            },
            "type": "scatter"
           }
          ],
          "scatter3d": [
           {
            "line": {
             "colorbar": {
              "outlinewidth": 0,
              "ticks": ""
             }
            },
            "marker": {
             "colorbar": {
              "outlinewidth": 0,
              "ticks": ""
             }
            },
            "type": "scatter3d"
           }
          ],
          "scattercarpet": [
           {
            "marker": {
             "colorbar": {
              "outlinewidth": 0,
              "ticks": ""
             }
            },
            "type": "scattercarpet"
           }
          ],
          "scattergeo": [
           {
            "marker": {
             "colorbar": {
              "outlinewidth": 0,
              "ticks": ""
             }
            },
            "type": "scattergeo"
           }
          ],
          "scattergl": [
           {
            "marker": {
             "colorbar": {
              "outlinewidth": 0,
              "ticks": ""
             }
            },
            "type": "scattergl"
           }
          ],
          "scattermapbox": [
           {
            "marker": {
             "colorbar": {
              "outlinewidth": 0,
              "ticks": ""
             }
            },
            "type": "scattermapbox"
           }
          ],
          "scatterpolar": [
           {
            "marker": {
             "colorbar": {
              "outlinewidth": 0,
              "ticks": ""
             }
            },
            "type": "scatterpolar"
           }
          ],
          "scatterpolargl": [
           {
            "marker": {
             "colorbar": {
              "outlinewidth": 0,
              "ticks": ""
             }
            },
            "type": "scatterpolargl"
           }
          ],
          "scatterternary": [
           {
            "marker": {
             "colorbar": {
              "outlinewidth": 0,
              "ticks": ""
             }
            },
            "type": "scatterternary"
           }
          ],
          "surface": [
           {
            "colorbar": {
             "outlinewidth": 0,
             "ticks": ""
            },
            "colorscale": [
             [
              0,
              "#0d0887"
             ],
             [
              0.1111111111111111,
              "#46039f"
             ],
             [
              0.2222222222222222,
              "#7201a8"
             ],
             [
              0.3333333333333333,
              "#9c179e"
             ],
             [
              0.4444444444444444,
              "#bd3786"
             ],
             [
              0.5555555555555556,
              "#d8576b"
             ],
             [
              0.6666666666666666,
              "#ed7953"
             ],
             [
              0.7777777777777778,
              "#fb9f3a"
             ],
             [
              0.8888888888888888,
              "#fdca26"
             ],
             [
              1,
              "#f0f921"
             ]
            ],
            "type": "surface"
           }
          ],
          "table": [
           {
            "cells": {
             "fill": {
              "color": "#EBF0F8"
             },
             "line": {
              "color": "white"
             }
            },
            "header": {
             "fill": {
              "color": "#C8D4E3"
             },
             "line": {
              "color": "white"
             }
            },
            "type": "table"
           }
          ]
         },
         "layout": {
          "annotationdefaults": {
           "arrowcolor": "#2a3f5f",
           "arrowhead": 0,
           "arrowwidth": 1
          },
          "coloraxis": {
           "colorbar": {
            "outlinewidth": 0,
            "ticks": ""
           }
          },
          "colorscale": {
           "diverging": [
            [
             0,
             "#8e0152"
            ],
            [
             0.1,
             "#c51b7d"
            ],
            [
             0.2,
             "#de77ae"
            ],
            [
             0.3,
             "#f1b6da"
            ],
            [
             0.4,
             "#fde0ef"
            ],
            [
             0.5,
             "#f7f7f7"
            ],
            [
             0.6,
             "#e6f5d0"
            ],
            [
             0.7,
             "#b8e186"
            ],
            [
             0.8,
             "#7fbc41"
            ],
            [
             0.9,
             "#4d9221"
            ],
            [
             1,
             "#276419"
            ]
           ],
           "sequential": [
            [
             0,
             "#0d0887"
            ],
            [
             0.1111111111111111,
             "#46039f"
            ],
            [
             0.2222222222222222,
             "#7201a8"
            ],
            [
             0.3333333333333333,
             "#9c179e"
            ],
            [
             0.4444444444444444,
             "#bd3786"
            ],
            [
             0.5555555555555556,
             "#d8576b"
            ],
            [
             0.6666666666666666,
             "#ed7953"
            ],
            [
             0.7777777777777778,
             "#fb9f3a"
            ],
            [
             0.8888888888888888,
             "#fdca26"
            ],
            [
             1,
             "#f0f921"
            ]
           ],
           "sequentialminus": [
            [
             0,
             "#0d0887"
            ],
            [
             0.1111111111111111,
             "#46039f"
            ],
            [
             0.2222222222222222,
             "#7201a8"
            ],
            [
             0.3333333333333333,
             "#9c179e"
            ],
            [
             0.4444444444444444,
             "#bd3786"
            ],
            [
             0.5555555555555556,
             "#d8576b"
            ],
            [
             0.6666666666666666,
             "#ed7953"
            ],
            [
             0.7777777777777778,
             "#fb9f3a"
            ],
            [
             0.8888888888888888,
             "#fdca26"
            ],
            [
             1,
             "#f0f921"
            ]
           ]
          },
          "colorway": [
           "#636efa",
           "#EF553B",
           "#00cc96",
           "#ab63fa",
           "#FFA15A",
           "#19d3f3",
           "#FF6692",
           "#B6E880",
           "#FF97FF",
           "#FECB52"
          ],
          "font": {
           "color": "#2a3f5f"
          },
          "geo": {
           "bgcolor": "white",
           "lakecolor": "white",
           "landcolor": "#E5ECF6",
           "showlakes": true,
           "showland": true,
           "subunitcolor": "white"
          },
          "hoverlabel": {
           "align": "left"
          },
          "hovermode": "closest",
          "mapbox": {
           "style": "light"
          },
          "paper_bgcolor": "white",
          "plot_bgcolor": "#E5ECF6",
          "polar": {
           "angularaxis": {
            "gridcolor": "white",
            "linecolor": "white",
            "ticks": ""
           },
           "bgcolor": "#E5ECF6",
           "radialaxis": {
            "gridcolor": "white",
            "linecolor": "white",
            "ticks": ""
           }
          },
          "scene": {
           "xaxis": {
            "backgroundcolor": "#E5ECF6",
            "gridcolor": "white",
            "gridwidth": 2,
            "linecolor": "white",
            "showbackground": true,
            "ticks": "",
            "zerolinecolor": "white"
           },
           "yaxis": {
            "backgroundcolor": "#E5ECF6",
            "gridcolor": "white",
            "gridwidth": 2,
            "linecolor": "white",
            "showbackground": true,
            "ticks": "",
            "zerolinecolor": "white"
           },
           "zaxis": {
            "backgroundcolor": "#E5ECF6",
            "gridcolor": "white",
            "gridwidth": 2,
            "linecolor": "white",
            "showbackground": true,
            "ticks": "",
            "zerolinecolor": "white"
           }
          },
          "shapedefaults": {
           "line": {
            "color": "#2a3f5f"
           }
          },
          "ternary": {
           "aaxis": {
            "gridcolor": "white",
            "linecolor": "white",
            "ticks": ""
           },
           "baxis": {
            "gridcolor": "white",
            "linecolor": "white",
            "ticks": ""
           },
           "bgcolor": "#E5ECF6",
           "caxis": {
            "gridcolor": "white",
            "linecolor": "white",
            "ticks": ""
           }
          },
          "title": {
           "x": 0.05
          },
          "xaxis": {
           "automargin": true,
           "gridcolor": "white",
           "linecolor": "white",
           "ticks": "",
           "title": {
            "standoff": 15
           },
           "zerolinecolor": "white",
           "zerolinewidth": 2
          },
          "yaxis": {
           "automargin": true,
           "gridcolor": "white",
           "linecolor": "white",
           "ticks": "",
           "title": {
            "standoff": 15
           },
           "zerolinecolor": "white",
           "zerolinewidth": 2
          }
         }
        },
        "title": {
         "font": {
          "color": "#4D5663"
         }
        },
        "xaxis": {
         "gridcolor": "#E1E5ED",
         "showgrid": true,
         "tickfont": {
          "color": "#4D5663"
         },
         "title": {
          "font": {
           "color": "#4D5663"
          },
          "text": ""
         },
         "zerolinecolor": "#E1E5ED"
        },
        "yaxis": {
         "gridcolor": "#E1E5ED",
         "showgrid": true,
         "tickfont": {
          "color": "#4D5663"
         },
         "title": {
          "font": {
           "color": "#4D5663"
          },
          "text": ""
         },
         "zerolinecolor": "#E1E5ED"
        }
       }
      },
      "text/html": [
       "<div>\n",
       "        \n",
       "        \n",
       "            <div id=\"abea652a-ce6e-4650-b911-3b3bdebba439\" class=\"plotly-graph-div\" style=\"height:525px; width:100%;\"></div>\n",
       "            <script type=\"text/javascript\">\n",
       "                require([\"plotly\"], function(Plotly) {\n",
       "                    window.PLOTLYENV=window.PLOTLYENV || {};\n",
       "                    window.PLOTLYENV.BASE_URL='https://plot.ly';\n",
       "                    \n",
       "                if (document.getElementById(\"abea652a-ce6e-4650-b911-3b3bdebba439\")) {\n",
       "                    Plotly.newPlot(\n",
       "                        'abea652a-ce6e-4650-b911-3b3bdebba439',\n",
       "                        [{\"histfunc\": \"count\", \"histnorm\": \"\", \"marker\": {\"color\": \"rgba(255, 153, 51, 1.0)\", \"line\": {\"color\": \"#4D5663\", \"width\": 1.3}}, \"name\": \"A\", \"nbinsx\": 25, \"opacity\": 0.8, \"orientation\": \"v\", \"type\": \"histogram\", \"x\": [0.0890236266217388, -0.8787154704351006, -0.5977533695209157, 1.0698110062679522, -0.7988921083264098, 0.5832383049156543, -0.24864835278907027, -0.7060503899937032, -0.17782255970080588, -0.5971957707353813, -0.2848860906535149, -0.3742407187026039, 0.4907659776092099, 0.8454677262211716, -0.2397947222641649, -2.0292890390339724, -1.2343508942203125, -0.581627027911337, -1.0059985872873767, 0.5190498956176977, -0.8050834897018041, -1.2332096157124222, 0.24081560942118724, 0.21907435531661296, 1.0790880176319952, 0.28539811590176767, 0.7275582865688938, -1.3737352892335288, 1.5015902347610783, -0.7633820933736835, 0.24237512494715135, 0.8172121522015262, 1.8896732207751532, -0.6351466997131315, 2.005318523682665, -0.580700518779291, 0.7512582762225731, -0.8321393543297784, -0.3153980856329165, -0.02040788440319213, -2.2934222272134384, 1.6394351565028256, -0.6005020999661731, -0.20898877817830225, -0.4939393931678909, -1.0223010529305525, -1.2450682862014761, -0.3750143012290298, -0.708562296521142, 0.38878227084235917, -2.0559894255214224, 1.4177343229429362, 1.0125524763703015, 0.2736842677201433, -1.690076207277851, 0.5740214411230689, -1.4218587639089526, 1.131981541075113, 1.128790595206288, -1.7793271621875348, 0.41361726580124564, 0.06515589060216231, 0.4932317233002984, -0.7378656158118205, -1.2319379637683658, -1.0507998526899458, 1.0849106188488342, -0.2797600190915077, -1.4551367052371373, 0.1544462179019029, -0.202836471763666, -0.71769159845839, 1.2309494921041828, 1.2092282398002012, 0.3235255842564463, 1.3316864092620504, 0.1513431336912556, 0.21827249329865175, -0.9835328681268078, -1.0362844907669773, -0.32551882727349163, -1.0723468668606093, -0.45027418094012583, 1.799000436413313, -0.7762852907022613, -0.3060841118077056, -0.20171888994438966, 1.1142185433582568, -0.2855190215679157, -0.7151109629949621, -0.15342200469247758, 1.3878568278354564, -0.3913794385268874, -0.33413504032172014, 1.2125676256249207, -0.6690852370697338, 0.7818229887533782, 1.1108926635943865, 0.9868797129047022, 0.8217126939072327]}],\n",
       "                        {\"barmode\": \"overlay\", \"legend\": {\"bgcolor\": \"#F5F6F9\", \"font\": {\"color\": \"#4D5663\"}}, \"paper_bgcolor\": \"#F5F6F9\", \"plot_bgcolor\": \"#F5F6F9\", \"template\": {\"data\": {\"bar\": [{\"error_x\": {\"color\": \"#2a3f5f\"}, \"error_y\": {\"color\": \"#2a3f5f\"}, \"marker\": {\"line\": {\"color\": \"#E5ECF6\", \"width\": 0.5}}, \"type\": \"bar\"}], \"barpolar\": [{\"marker\": {\"line\": {\"color\": \"#E5ECF6\", \"width\": 0.5}}, \"type\": \"barpolar\"}], \"carpet\": [{\"aaxis\": {\"endlinecolor\": \"#2a3f5f\", \"gridcolor\": \"white\", \"linecolor\": \"white\", \"minorgridcolor\": \"white\", \"startlinecolor\": \"#2a3f5f\"}, \"baxis\": {\"endlinecolor\": \"#2a3f5f\", \"gridcolor\": \"white\", \"linecolor\": \"white\", \"minorgridcolor\": \"white\", \"startlinecolor\": \"#2a3f5f\"}, \"type\": \"carpet\"}], \"choropleth\": [{\"colorbar\": {\"outlinewidth\": 0, \"ticks\": \"\"}, \"type\": \"choropleth\"}], \"contour\": [{\"colorbar\": {\"outlinewidth\": 0, \"ticks\": \"\"}, \"colorscale\": [[0.0, \"#0d0887\"], [0.1111111111111111, \"#46039f\"], [0.2222222222222222, \"#7201a8\"], [0.3333333333333333, \"#9c179e\"], [0.4444444444444444, \"#bd3786\"], [0.5555555555555556, \"#d8576b\"], [0.6666666666666666, \"#ed7953\"], [0.7777777777777778, \"#fb9f3a\"], [0.8888888888888888, \"#fdca26\"], [1.0, \"#f0f921\"]], \"type\": \"contour\"}], \"contourcarpet\": [{\"colorbar\": {\"outlinewidth\": 0, \"ticks\": \"\"}, \"type\": \"contourcarpet\"}], \"heatmap\": [{\"colorbar\": {\"outlinewidth\": 0, \"ticks\": \"\"}, \"colorscale\": [[0.0, \"#0d0887\"], [0.1111111111111111, \"#46039f\"], [0.2222222222222222, \"#7201a8\"], [0.3333333333333333, \"#9c179e\"], [0.4444444444444444, \"#bd3786\"], [0.5555555555555556, \"#d8576b\"], [0.6666666666666666, \"#ed7953\"], [0.7777777777777778, \"#fb9f3a\"], [0.8888888888888888, \"#fdca26\"], [1.0, \"#f0f921\"]], \"type\": \"heatmap\"}], \"heatmapgl\": [{\"colorbar\": {\"outlinewidth\": 0, \"ticks\": \"\"}, \"colorscale\": [[0.0, \"#0d0887\"], [0.1111111111111111, \"#46039f\"], [0.2222222222222222, \"#7201a8\"], [0.3333333333333333, \"#9c179e\"], [0.4444444444444444, \"#bd3786\"], [0.5555555555555556, \"#d8576b\"], [0.6666666666666666, \"#ed7953\"], [0.7777777777777778, \"#fb9f3a\"], [0.8888888888888888, \"#fdca26\"], [1.0, \"#f0f921\"]], \"type\": \"heatmapgl\"}], \"histogram\": [{\"marker\": {\"colorbar\": {\"outlinewidth\": 0, \"ticks\": \"\"}}, \"type\": \"histogram\"}], \"histogram2d\": [{\"colorbar\": {\"outlinewidth\": 0, \"ticks\": \"\"}, \"colorscale\": [[0.0, \"#0d0887\"], [0.1111111111111111, \"#46039f\"], [0.2222222222222222, \"#7201a8\"], [0.3333333333333333, \"#9c179e\"], [0.4444444444444444, \"#bd3786\"], [0.5555555555555556, \"#d8576b\"], [0.6666666666666666, \"#ed7953\"], [0.7777777777777778, \"#fb9f3a\"], [0.8888888888888888, \"#fdca26\"], [1.0, \"#f0f921\"]], \"type\": \"histogram2d\"}], \"histogram2dcontour\": [{\"colorbar\": {\"outlinewidth\": 0, \"ticks\": \"\"}, \"colorscale\": [[0.0, \"#0d0887\"], [0.1111111111111111, \"#46039f\"], [0.2222222222222222, \"#7201a8\"], [0.3333333333333333, \"#9c179e\"], [0.4444444444444444, \"#bd3786\"], [0.5555555555555556, \"#d8576b\"], [0.6666666666666666, \"#ed7953\"], [0.7777777777777778, \"#fb9f3a\"], [0.8888888888888888, \"#fdca26\"], [1.0, \"#f0f921\"]], \"type\": \"histogram2dcontour\"}], \"mesh3d\": [{\"colorbar\": {\"outlinewidth\": 0, \"ticks\": \"\"}, \"type\": \"mesh3d\"}], \"parcoords\": [{\"line\": {\"colorbar\": {\"outlinewidth\": 0, \"ticks\": \"\"}}, \"type\": \"parcoords\"}], \"pie\": [{\"automargin\": true, \"type\": \"pie\"}], \"scatter\": [{\"marker\": {\"colorbar\": {\"outlinewidth\": 0, \"ticks\": \"\"}}, \"type\": \"scatter\"}], \"scatter3d\": [{\"line\": {\"colorbar\": {\"outlinewidth\": 0, \"ticks\": \"\"}}, \"marker\": {\"colorbar\": {\"outlinewidth\": 0, \"ticks\": \"\"}}, \"type\": \"scatter3d\"}], \"scattercarpet\": [{\"marker\": {\"colorbar\": {\"outlinewidth\": 0, \"ticks\": \"\"}}, \"type\": \"scattercarpet\"}], \"scattergeo\": [{\"marker\": {\"colorbar\": {\"outlinewidth\": 0, \"ticks\": \"\"}}, \"type\": \"scattergeo\"}], \"scattergl\": [{\"marker\": {\"colorbar\": {\"outlinewidth\": 0, \"ticks\": \"\"}}, \"type\": \"scattergl\"}], \"scattermapbox\": [{\"marker\": {\"colorbar\": {\"outlinewidth\": 0, \"ticks\": \"\"}}, \"type\": \"scattermapbox\"}], \"scatterpolar\": [{\"marker\": {\"colorbar\": {\"outlinewidth\": 0, \"ticks\": \"\"}}, \"type\": \"scatterpolar\"}], \"scatterpolargl\": [{\"marker\": {\"colorbar\": {\"outlinewidth\": 0, \"ticks\": \"\"}}, \"type\": \"scatterpolargl\"}], \"scatterternary\": [{\"marker\": {\"colorbar\": {\"outlinewidth\": 0, \"ticks\": \"\"}}, \"type\": \"scatterternary\"}], \"surface\": [{\"colorbar\": {\"outlinewidth\": 0, \"ticks\": \"\"}, \"colorscale\": [[0.0, \"#0d0887\"], [0.1111111111111111, \"#46039f\"], [0.2222222222222222, \"#7201a8\"], [0.3333333333333333, \"#9c179e\"], [0.4444444444444444, \"#bd3786\"], [0.5555555555555556, \"#d8576b\"], [0.6666666666666666, \"#ed7953\"], [0.7777777777777778, \"#fb9f3a\"], [0.8888888888888888, \"#fdca26\"], [1.0, \"#f0f921\"]], \"type\": \"surface\"}], \"table\": [{\"cells\": {\"fill\": {\"color\": \"#EBF0F8\"}, \"line\": {\"color\": \"white\"}}, \"header\": {\"fill\": {\"color\": \"#C8D4E3\"}, \"line\": {\"color\": \"white\"}}, \"type\": \"table\"}]}, \"layout\": {\"annotationdefaults\": {\"arrowcolor\": \"#2a3f5f\", \"arrowhead\": 0, \"arrowwidth\": 1}, \"coloraxis\": {\"colorbar\": {\"outlinewidth\": 0, \"ticks\": \"\"}}, \"colorscale\": {\"diverging\": [[0, \"#8e0152\"], [0.1, \"#c51b7d\"], [0.2, \"#de77ae\"], [0.3, \"#f1b6da\"], [0.4, \"#fde0ef\"], [0.5, \"#f7f7f7\"], [0.6, \"#e6f5d0\"], [0.7, \"#b8e186\"], [0.8, \"#7fbc41\"], [0.9, \"#4d9221\"], [1, \"#276419\"]], \"sequential\": [[0.0, \"#0d0887\"], [0.1111111111111111, \"#46039f\"], [0.2222222222222222, \"#7201a8\"], [0.3333333333333333, \"#9c179e\"], [0.4444444444444444, \"#bd3786\"], [0.5555555555555556, \"#d8576b\"], [0.6666666666666666, \"#ed7953\"], [0.7777777777777778, \"#fb9f3a\"], [0.8888888888888888, \"#fdca26\"], [1.0, \"#f0f921\"]], \"sequentialminus\": [[0.0, \"#0d0887\"], [0.1111111111111111, \"#46039f\"], [0.2222222222222222, \"#7201a8\"], [0.3333333333333333, \"#9c179e\"], [0.4444444444444444, \"#bd3786\"], [0.5555555555555556, \"#d8576b\"], [0.6666666666666666, \"#ed7953\"], [0.7777777777777778, \"#fb9f3a\"], [0.8888888888888888, \"#fdca26\"], [1.0, \"#f0f921\"]]}, \"colorway\": [\"#636efa\", \"#EF553B\", \"#00cc96\", \"#ab63fa\", \"#FFA15A\", \"#19d3f3\", \"#FF6692\", \"#B6E880\", \"#FF97FF\", \"#FECB52\"], \"font\": {\"color\": \"#2a3f5f\"}, \"geo\": {\"bgcolor\": \"white\", \"lakecolor\": \"white\", \"landcolor\": \"#E5ECF6\", \"showlakes\": true, \"showland\": true, \"subunitcolor\": \"white\"}, \"hoverlabel\": {\"align\": \"left\"}, \"hovermode\": \"closest\", \"mapbox\": {\"style\": \"light\"}, \"paper_bgcolor\": \"white\", \"plot_bgcolor\": \"#E5ECF6\", \"polar\": {\"angularaxis\": {\"gridcolor\": \"white\", \"linecolor\": \"white\", \"ticks\": \"\"}, \"bgcolor\": \"#E5ECF6\", \"radialaxis\": {\"gridcolor\": \"white\", \"linecolor\": \"white\", \"ticks\": \"\"}}, \"scene\": {\"xaxis\": {\"backgroundcolor\": \"#E5ECF6\", \"gridcolor\": \"white\", \"gridwidth\": 2, \"linecolor\": \"white\", \"showbackground\": true, \"ticks\": \"\", \"zerolinecolor\": \"white\"}, \"yaxis\": {\"backgroundcolor\": \"#E5ECF6\", \"gridcolor\": \"white\", \"gridwidth\": 2, \"linecolor\": \"white\", \"showbackground\": true, \"ticks\": \"\", \"zerolinecolor\": \"white\"}, \"zaxis\": {\"backgroundcolor\": \"#E5ECF6\", \"gridcolor\": \"white\", \"gridwidth\": 2, \"linecolor\": \"white\", \"showbackground\": true, \"ticks\": \"\", \"zerolinecolor\": \"white\"}}, \"shapedefaults\": {\"line\": {\"color\": \"#2a3f5f\"}}, \"ternary\": {\"aaxis\": {\"gridcolor\": \"white\", \"linecolor\": \"white\", \"ticks\": \"\"}, \"baxis\": {\"gridcolor\": \"white\", \"linecolor\": \"white\", \"ticks\": \"\"}, \"bgcolor\": \"#E5ECF6\", \"caxis\": {\"gridcolor\": \"white\", \"linecolor\": \"white\", \"ticks\": \"\"}}, \"title\": {\"x\": 0.05}, \"xaxis\": {\"automargin\": true, \"gridcolor\": \"white\", \"linecolor\": \"white\", \"ticks\": \"\", \"title\": {\"standoff\": 15}, \"zerolinecolor\": \"white\", \"zerolinewidth\": 2}, \"yaxis\": {\"automargin\": true, \"gridcolor\": \"white\", \"linecolor\": \"white\", \"ticks\": \"\", \"title\": {\"standoff\": 15}, \"zerolinecolor\": \"white\", \"zerolinewidth\": 2}}}, \"title\": {\"font\": {\"color\": \"#4D5663\"}}, \"xaxis\": {\"gridcolor\": \"#E1E5ED\", \"showgrid\": true, \"tickfont\": {\"color\": \"#4D5663\"}, \"title\": {\"font\": {\"color\": \"#4D5663\"}, \"text\": \"\"}, \"zerolinecolor\": \"#E1E5ED\"}, \"yaxis\": {\"gridcolor\": \"#E1E5ED\", \"showgrid\": true, \"tickfont\": {\"color\": \"#4D5663\"}, \"title\": {\"font\": {\"color\": \"#4D5663\"}, \"text\": \"\"}, \"zerolinecolor\": \"#E1E5ED\"}},\n",
       "                        {\"showLink\": true, \"linkText\": \"Export to plot.ly\", \"plotlyServerURL\": \"https://plot.ly\", \"responsive\": true}\n",
       "                    ).then(function(){\n",
       "                            \n",
       "var gd = document.getElementById('abea652a-ce6e-4650-b911-3b3bdebba439');\n",
       "var x = new MutationObserver(function (mutations, observer) {{\n",
       "        var display = window.getComputedStyle(gd).display;\n",
       "        if (!display || display === 'none') {{\n",
       "            console.log([gd, 'removed!']);\n",
       "            Plotly.purge(gd);\n",
       "            observer.disconnect();\n",
       "        }}\n",
       "}});\n",
       "\n",
       "// Listen for the removal of the full notebook cells\n",
       "var notebookContainer = gd.closest('#notebook-container');\n",
       "if (notebookContainer) {{\n",
       "    x.observe(notebookContainer, {childList: true});\n",
       "}}\n",
       "\n",
       "// Listen for the clearing of the current output cell\n",
       "var outputEl = gd.closest('.output');\n",
       "if (outputEl) {{\n",
       "    x.observe(outputEl, {childList: true});\n",
       "}}\n",
       "\n",
       "                        })\n",
       "                };\n",
       "                });\n",
       "            </script>\n",
       "        </div>"
      ]
     },
     "metadata": {},
     "output_type": "display_data"
    }
   ],
   "source": [
    "df['A'].iplot(kind='hist',bins=25)"
   ]
  },
  {
   "cell_type": "code",
   "execution_count": 18,
   "metadata": {},
   "outputs": [
    {
     "data": {
      "application/vnd.plotly.v1+json": {
       "config": {
        "linkText": "Export to plot.ly",
        "plotlyServerURL": "https://plot.ly",
        "showLink": true
       },
       "data": [
        {
         "marker": {
          "color": [
           "rgb(255, 153, 51)",
           "rgb(55, 128, 191)",
           "rgb(50, 171, 96)",
           "rgb(128, 0, 128)",
           "rgb(219, 64, 82)",
           "rgb(0, 128, 128)",
           "rgb(255, 255, 51)",
           "rgb(128, 128, 0)",
           "rgb(251, 128, 114)",
           "rgb(128, 177, 211)"
          ],
          "line": {
           "width": 1.3
          },
          "size": [
           68,
           77,
           62,
           81,
           45,
           60,
           20,
           64,
           104,
           81,
           67,
           75,
           44,
           12,
           44,
           76,
           59,
           51,
           62,
           27,
           60,
           25,
           86,
           70,
           58,
           105,
           83,
           73,
           54,
           80,
           61,
           89,
           62,
           73,
           64,
           108,
           47,
           63,
           60,
           21,
           42,
           105,
           53,
           64,
           63,
           79,
           72,
           99,
           93,
           66,
           79,
           83,
           54,
           71,
           86,
           92,
           69,
           90,
           101,
           108,
           74,
           66,
           112,
           55,
           88,
           68,
           108,
           86,
           87,
           67,
           79,
           108,
           74,
           95,
           75,
           38,
           101,
           73,
           65,
           92,
           97,
           78,
           82,
           68,
           63,
           63,
           67,
           48,
           33,
           91,
           73,
           97,
           56,
           79,
           62,
           107,
           70,
           34,
           53,
           102
          ],
          "symbol": "circle"
         },
         "mode": "markers",
         "text": "",
         "type": "scatter",
         "x": [
          0.0890236266217388,
          -0.8787154704351006,
          -0.5977533695209157,
          1.0698110062679522,
          -0.7988921083264098,
          0.5832383049156543,
          -0.24864835278907027,
          -0.7060503899937032,
          -0.17782255970080588,
          -0.5971957707353813,
          -0.2848860906535149,
          -0.3742407187026039,
          0.4907659776092099,
          0.8454677262211716,
          -0.2397947222641649,
          -2.0292890390339724,
          -1.2343508942203125,
          -0.581627027911337,
          -1.0059985872873767,
          0.5190498956176977,
          -0.8050834897018041,
          -1.2332096157124222,
          0.24081560942118724,
          0.21907435531661296,
          1.0790880176319952,
          0.28539811590176767,
          0.7275582865688938,
          -1.3737352892335288,
          1.5015902347610783,
          -0.7633820933736835,
          0.24237512494715135,
          0.8172121522015262,
          1.8896732207751532,
          -0.6351466997131315,
          2.005318523682665,
          -0.580700518779291,
          0.7512582762225731,
          -0.8321393543297784,
          -0.3153980856329165,
          -0.02040788440319213,
          -2.2934222272134384,
          1.6394351565028256,
          -0.6005020999661731,
          -0.20898877817830225,
          -0.4939393931678909,
          -1.0223010529305525,
          -1.2450682862014761,
          -0.3750143012290298,
          -0.708562296521142,
          0.38878227084235917,
          -2.0559894255214224,
          1.4177343229429362,
          1.0125524763703015,
          0.2736842677201433,
          -1.690076207277851,
          0.5740214411230689,
          -1.4218587639089526,
          1.131981541075113,
          1.128790595206288,
          -1.7793271621875348,
          0.41361726580124564,
          0.06515589060216231,
          0.4932317233002984,
          -0.7378656158118205,
          -1.2319379637683658,
          -1.0507998526899458,
          1.0849106188488342,
          -0.2797600190915077,
          -1.4551367052371373,
          0.1544462179019029,
          -0.202836471763666,
          -0.71769159845839,
          1.2309494921041828,
          1.2092282398002012,
          0.3235255842564463,
          1.3316864092620504,
          0.1513431336912556,
          0.21827249329865175,
          -0.9835328681268078,
          -1.0362844907669773,
          -0.32551882727349163,
          -1.0723468668606093,
          -0.45027418094012583,
          1.799000436413313,
          -0.7762852907022613,
          -0.3060841118077056,
          -0.20171888994438966,
          1.1142185433582568,
          -0.2855190215679157,
          -0.7151109629949621,
          -0.15342200469247758,
          1.3878568278354564,
          -0.3913794385268874,
          -0.33413504032172014,
          1.2125676256249207,
          -0.6690852370697338,
          0.7818229887533782,
          1.1108926635943865,
          0.9868797129047022,
          0.8217126939072327
         ],
         "y": [
          -0.35851340747689664,
          0.8964559064908013,
          0.8668851979644124,
          1.3201101066639465,
          0.8521632636565618,
          0.1678193389215071,
          0.7956218856845063,
          -1.485779184225525,
          -0.9397594214955171,
          -0.7276192600413182,
          0.48133426516235733,
          -1.5591885658424542,
          -0.686558641849801,
          2.18044367413078,
          -0.8224954720950357,
          0.834264245771014,
          1.1392133327228213,
          -0.056959375116270236,
          -0.08899218349335206,
          -0.770943166891278,
          1.2796388775496115,
          -0.3275552737219343,
          -0.9163903526244046,
          1.0538233753656439,
          -0.6853188384421511,
          -0.6275853279554117,
          0.9179813481937266,
          0.5189780842294516,
          0.3712018800035291,
          -1.8252779744693999,
          -0.34236610898251557,
          -0.019428628026250238,
          -0.8881594465059595,
          0.13060694430664255,
          -0.4121062043857643,
          -0.33180243234711787,
          -0.9683207227407323,
          0.009546301482904817,
          0.1895164509826522,
          -1.372607398389755,
          -0.2182857407326223,
          -0.9615140141635607,
          -0.7493604427082969,
          -0.2067713992218754,
          0.7429830323549378,
          -0.7720878333472194,
          -0.31734743841448415,
          0.3272924971873089,
          1.1832213404981857,
          -0.33702307554729777,
          -0.7105241760247889,
          -0.029703270945312988,
          -0.004807880039269839,
          -1.9973825785516937,
          2.5737789599651775,
          0.865139824506424,
          -1.6945802437900994,
          -0.5994672286457641,
          -0.5028030406421471,
          -0.02329024402120451,
          -0.5017263309388669,
          0.5785837836357898,
          -0.10987225399527062,
          1.6049998267882604,
          1.310629774867115,
          2.0585814106620783,
          -0.37476648312106,
          -0.6251191985799067,
          0.33967135556511246,
          0.09113891525380655,
          -0.2050970211327267,
          0.9770296374343848,
          -0.13155365069047867,
          1.4927636399521946,
          0.047661367603270104,
          -0.16380451935485263,
          -0.2037109505915858,
          0.8456429731125856,
          -2.293700224952948,
          1.14918628891375,
          -1.335207693057455,
          -0.41671154448101944,
          1.199664637188824,
          -0.12133532891653313,
          -0.6475928932098416,
          2.2874969525600846,
          -0.09027141045421477,
          -1.4881781082705703,
          -1.8618720474290251,
          0.2864564719476295,
          -1.0643714350281643,
          0.532804778438827,
          0.07101988852484521,
          1.2534553647894944,
          -0.609962890435716,
          1.301392841865941,
          0.008793702127127,
          0.9942304385437866,
          0.03762531473621305,
          -2.1766597195451514
         ]
        }
       ],
       "layout": {
        "legend": {
         "bgcolor": "#F5F6F9",
         "font": {
          "color": "#4D5663"
         }
        },
        "paper_bgcolor": "#F5F6F9",
        "plot_bgcolor": "#F5F6F9",
        "template": {
         "data": {
          "bar": [
           {
            "error_x": {
             "color": "#2a3f5f"
            },
            "error_y": {
             "color": "#2a3f5f"
            },
            "marker": {
             "line": {
              "color": "#E5ECF6",
              "width": 0.5
             }
            },
            "type": "bar"
           }
          ],
          "barpolar": [
           {
            "marker": {
             "line": {
              "color": "#E5ECF6",
              "width": 0.5
             }
            },
            "type": "barpolar"
           }
          ],
          "carpet": [
           {
            "aaxis": {
             "endlinecolor": "#2a3f5f",
             "gridcolor": "white",
             "linecolor": "white",
             "minorgridcolor": "white",
             "startlinecolor": "#2a3f5f"
            },
            "baxis": {
             "endlinecolor": "#2a3f5f",
             "gridcolor": "white",
             "linecolor": "white",
             "minorgridcolor": "white",
             "startlinecolor": "#2a3f5f"
            },
            "type": "carpet"
           }
          ],
          "choropleth": [
           {
            "colorbar": {
             "outlinewidth": 0,
             "ticks": ""
            },
            "type": "choropleth"
           }
          ],
          "contour": [
           {
            "colorbar": {
             "outlinewidth": 0,
             "ticks": ""
            },
            "colorscale": [
             [
              0,
              "#0d0887"
             ],
             [
              0.1111111111111111,
              "#46039f"
             ],
             [
              0.2222222222222222,
              "#7201a8"
             ],
             [
              0.3333333333333333,
              "#9c179e"
             ],
             [
              0.4444444444444444,
              "#bd3786"
             ],
             [
              0.5555555555555556,
              "#d8576b"
             ],
             [
              0.6666666666666666,
              "#ed7953"
             ],
             [
              0.7777777777777778,
              "#fb9f3a"
             ],
             [
              0.8888888888888888,
              "#fdca26"
             ],
             [
              1,
              "#f0f921"
             ]
            ],
            "type": "contour"
           }
          ],
          "contourcarpet": [
           {
            "colorbar": {
             "outlinewidth": 0,
             "ticks": ""
            },
            "type": "contourcarpet"
           }
          ],
          "heatmap": [
           {
            "colorbar": {
             "outlinewidth": 0,
             "ticks": ""
            },
            "colorscale": [
             [
              0,
              "#0d0887"
             ],
             [
              0.1111111111111111,
              "#46039f"
             ],
             [
              0.2222222222222222,
              "#7201a8"
             ],
             [
              0.3333333333333333,
              "#9c179e"
             ],
             [
              0.4444444444444444,
              "#bd3786"
             ],
             [
              0.5555555555555556,
              "#d8576b"
             ],
             [
              0.6666666666666666,
              "#ed7953"
             ],
             [
              0.7777777777777778,
              "#fb9f3a"
             ],
             [
              0.8888888888888888,
              "#fdca26"
             ],
             [
              1,
              "#f0f921"
             ]
            ],
            "type": "heatmap"
           }
          ],
          "heatmapgl": [
           {
            "colorbar": {
             "outlinewidth": 0,
             "ticks": ""
            },
            "colorscale": [
             [
              0,
              "#0d0887"
             ],
             [
              0.1111111111111111,
              "#46039f"
             ],
             [
              0.2222222222222222,
              "#7201a8"
             ],
             [
              0.3333333333333333,
              "#9c179e"
             ],
             [
              0.4444444444444444,
              "#bd3786"
             ],
             [
              0.5555555555555556,
              "#d8576b"
             ],
             [
              0.6666666666666666,
              "#ed7953"
             ],
             [
              0.7777777777777778,
              "#fb9f3a"
             ],
             [
              0.8888888888888888,
              "#fdca26"
             ],
             [
              1,
              "#f0f921"
             ]
            ],
            "type": "heatmapgl"
           }
          ],
          "histogram": [
           {
            "marker": {
             "colorbar": {
              "outlinewidth": 0,
              "ticks": ""
             }
            },
            "type": "histogram"
           }
          ],
          "histogram2d": [
           {
            "colorbar": {
             "outlinewidth": 0,
             "ticks": ""
            },
            "colorscale": [
             [
              0,
              "#0d0887"
             ],
             [
              0.1111111111111111,
              "#46039f"
             ],
             [
              0.2222222222222222,
              "#7201a8"
             ],
             [
              0.3333333333333333,
              "#9c179e"
             ],
             [
              0.4444444444444444,
              "#bd3786"
             ],
             [
              0.5555555555555556,
              "#d8576b"
             ],
             [
              0.6666666666666666,
              "#ed7953"
             ],
             [
              0.7777777777777778,
              "#fb9f3a"
             ],
             [
              0.8888888888888888,
              "#fdca26"
             ],
             [
              1,
              "#f0f921"
             ]
            ],
            "type": "histogram2d"
           }
          ],
          "histogram2dcontour": [
           {
            "colorbar": {
             "outlinewidth": 0,
             "ticks": ""
            },
            "colorscale": [
             [
              0,
              "#0d0887"
             ],
             [
              0.1111111111111111,
              "#46039f"
             ],
             [
              0.2222222222222222,
              "#7201a8"
             ],
             [
              0.3333333333333333,
              "#9c179e"
             ],
             [
              0.4444444444444444,
              "#bd3786"
             ],
             [
              0.5555555555555556,
              "#d8576b"
             ],
             [
              0.6666666666666666,
              "#ed7953"
             ],
             [
              0.7777777777777778,
              "#fb9f3a"
             ],
             [
              0.8888888888888888,
              "#fdca26"
             ],
             [
              1,
              "#f0f921"
             ]
            ],
            "type": "histogram2dcontour"
           }
          ],
          "mesh3d": [
           {
            "colorbar": {
             "outlinewidth": 0,
             "ticks": ""
            },
            "type": "mesh3d"
           }
          ],
          "parcoords": [
           {
            "line": {
             "colorbar": {
              "outlinewidth": 0,
              "ticks": ""
             }
            },
            "type": "parcoords"
           }
          ],
          "pie": [
           {
            "automargin": true,
            "type": "pie"
           }
          ],
          "scatter": [
           {
            "marker": {
             "colorbar": {
              "outlinewidth": 0,
              "ticks": ""
             }
            },
            "type": "scatter"
           }
          ],
          "scatter3d": [
           {
            "line": {
             "colorbar": {
              "outlinewidth": 0,
              "ticks": ""
             }
            },
            "marker": {
             "colorbar": {
              "outlinewidth": 0,
              "ticks": ""
             }
            },
            "type": "scatter3d"
           }
          ],
          "scattercarpet": [
           {
            "marker": {
             "colorbar": {
              "outlinewidth": 0,
              "ticks": ""
             }
            },
            "type": "scattercarpet"
           }
          ],
          "scattergeo": [
           {
            "marker": {
             "colorbar": {
              "outlinewidth": 0,
              "ticks": ""
             }
            },
            "type": "scattergeo"
           }
          ],
          "scattergl": [
           {
            "marker": {
             "colorbar": {
              "outlinewidth": 0,
              "ticks": ""
             }
            },
            "type": "scattergl"
           }
          ],
          "scattermapbox": [
           {
            "marker": {
             "colorbar": {
              "outlinewidth": 0,
              "ticks": ""
             }
            },
            "type": "scattermapbox"
           }
          ],
          "scatterpolar": [
           {
            "marker": {
             "colorbar": {
              "outlinewidth": 0,
              "ticks": ""
             }
            },
            "type": "scatterpolar"
           }
          ],
          "scatterpolargl": [
           {
            "marker": {
             "colorbar": {
              "outlinewidth": 0,
              "ticks": ""
             }
            },
            "type": "scatterpolargl"
           }
          ],
          "scatterternary": [
           {
            "marker": {
             "colorbar": {
              "outlinewidth": 0,
              "ticks": ""
             }
            },
            "type": "scatterternary"
           }
          ],
          "surface": [
           {
            "colorbar": {
             "outlinewidth": 0,
             "ticks": ""
            },
            "colorscale": [
             [
              0,
              "#0d0887"
             ],
             [
              0.1111111111111111,
              "#46039f"
             ],
             [
              0.2222222222222222,
              "#7201a8"
             ],
             [
              0.3333333333333333,
              "#9c179e"
             ],
             [
              0.4444444444444444,
              "#bd3786"
             ],
             [
              0.5555555555555556,
              "#d8576b"
             ],
             [
              0.6666666666666666,
              "#ed7953"
             ],
             [
              0.7777777777777778,
              "#fb9f3a"
             ],
             [
              0.8888888888888888,
              "#fdca26"
             ],
             [
              1,
              "#f0f921"
             ]
            ],
            "type": "surface"
           }
          ],
          "table": [
           {
            "cells": {
             "fill": {
              "color": "#EBF0F8"
             },
             "line": {
              "color": "white"
             }
            },
            "header": {
             "fill": {
              "color": "#C8D4E3"
             },
             "line": {
              "color": "white"
             }
            },
            "type": "table"
           }
          ]
         },
         "layout": {
          "annotationdefaults": {
           "arrowcolor": "#2a3f5f",
           "arrowhead": 0,
           "arrowwidth": 1
          },
          "coloraxis": {
           "colorbar": {
            "outlinewidth": 0,
            "ticks": ""
           }
          },
          "colorscale": {
           "diverging": [
            [
             0,
             "#8e0152"
            ],
            [
             0.1,
             "#c51b7d"
            ],
            [
             0.2,
             "#de77ae"
            ],
            [
             0.3,
             "#f1b6da"
            ],
            [
             0.4,
             "#fde0ef"
            ],
            [
             0.5,
             "#f7f7f7"
            ],
            [
             0.6,
             "#e6f5d0"
            ],
            [
             0.7,
             "#b8e186"
            ],
            [
             0.8,
             "#7fbc41"
            ],
            [
             0.9,
             "#4d9221"
            ],
            [
             1,
             "#276419"
            ]
           ],
           "sequential": [
            [
             0,
             "#0d0887"
            ],
            [
             0.1111111111111111,
             "#46039f"
            ],
            [
             0.2222222222222222,
             "#7201a8"
            ],
            [
             0.3333333333333333,
             "#9c179e"
            ],
            [
             0.4444444444444444,
             "#bd3786"
            ],
            [
             0.5555555555555556,
             "#d8576b"
            ],
            [
             0.6666666666666666,
             "#ed7953"
            ],
            [
             0.7777777777777778,
             "#fb9f3a"
            ],
            [
             0.8888888888888888,
             "#fdca26"
            ],
            [
             1,
             "#f0f921"
            ]
           ],
           "sequentialminus": [
            [
             0,
             "#0d0887"
            ],
            [
             0.1111111111111111,
             "#46039f"
            ],
            [
             0.2222222222222222,
             "#7201a8"
            ],
            [
             0.3333333333333333,
             "#9c179e"
            ],
            [
             0.4444444444444444,
             "#bd3786"
            ],
            [
             0.5555555555555556,
             "#d8576b"
            ],
            [
             0.6666666666666666,
             "#ed7953"
            ],
            [
             0.7777777777777778,
             "#fb9f3a"
            ],
            [
             0.8888888888888888,
             "#fdca26"
            ],
            [
             1,
             "#f0f921"
            ]
           ]
          },
          "colorway": [
           "#636efa",
           "#EF553B",
           "#00cc96",
           "#ab63fa",
           "#FFA15A",
           "#19d3f3",
           "#FF6692",
           "#B6E880",
           "#FF97FF",
           "#FECB52"
          ],
          "font": {
           "color": "#2a3f5f"
          },
          "geo": {
           "bgcolor": "white",
           "lakecolor": "white",
           "landcolor": "#E5ECF6",
           "showlakes": true,
           "showland": true,
           "subunitcolor": "white"
          },
          "hoverlabel": {
           "align": "left"
          },
          "hovermode": "closest",
          "mapbox": {
           "style": "light"
          },
          "paper_bgcolor": "white",
          "plot_bgcolor": "#E5ECF6",
          "polar": {
           "angularaxis": {
            "gridcolor": "white",
            "linecolor": "white",
            "ticks": ""
           },
           "bgcolor": "#E5ECF6",
           "radialaxis": {
            "gridcolor": "white",
            "linecolor": "white",
            "ticks": ""
           }
          },
          "scene": {
           "xaxis": {
            "backgroundcolor": "#E5ECF6",
            "gridcolor": "white",
            "gridwidth": 2,
            "linecolor": "white",
            "showbackground": true,
            "ticks": "",
            "zerolinecolor": "white"
           },
           "yaxis": {
            "backgroundcolor": "#E5ECF6",
            "gridcolor": "white",
            "gridwidth": 2,
            "linecolor": "white",
            "showbackground": true,
            "ticks": "",
            "zerolinecolor": "white"
           },
           "zaxis": {
            "backgroundcolor": "#E5ECF6",
            "gridcolor": "white",
            "gridwidth": 2,
            "linecolor": "white",
            "showbackground": true,
            "ticks": "",
            "zerolinecolor": "white"
           }
          },
          "shapedefaults": {
           "line": {
            "color": "#2a3f5f"
           }
          },
          "ternary": {
           "aaxis": {
            "gridcolor": "white",
            "linecolor": "white",
            "ticks": ""
           },
           "baxis": {
            "gridcolor": "white",
            "linecolor": "white",
            "ticks": ""
           },
           "bgcolor": "#E5ECF6",
           "caxis": {
            "gridcolor": "white",
            "linecolor": "white",
            "ticks": ""
           }
          },
          "title": {
           "x": 0.05
          },
          "xaxis": {
           "automargin": true,
           "gridcolor": "white",
           "linecolor": "white",
           "ticks": "",
           "title": {
            "standoff": 15
           },
           "zerolinecolor": "white",
           "zerolinewidth": 2
          },
          "yaxis": {
           "automargin": true,
           "gridcolor": "white",
           "linecolor": "white",
           "ticks": "",
           "title": {
            "standoff": 15
           },
           "zerolinecolor": "white",
           "zerolinewidth": 2
          }
         }
        },
        "title": {
         "font": {
          "color": "#4D5663"
         }
        },
        "xaxis": {
         "gridcolor": "#E1E5ED",
         "showgrid": true,
         "tickfont": {
          "color": "#4D5663"
         },
         "title": {
          "font": {
           "color": "#4D5663"
          },
          "text": ""
         },
         "zerolinecolor": "#E1E5ED"
        },
        "yaxis": {
         "gridcolor": "#E1E5ED",
         "showgrid": true,
         "tickfont": {
          "color": "#4D5663"
         },
         "title": {
          "font": {
           "color": "#4D5663"
          },
          "text": ""
         },
         "zerolinecolor": "#E1E5ED"
        }
       }
      },
      "text/html": [
       "<div>\n",
       "        \n",
       "        \n",
       "            <div id=\"2b5eee11-16bf-444c-82b0-6a16a16234e6\" class=\"plotly-graph-div\" style=\"height:525px; width:100%;\"></div>\n",
       "            <script type=\"text/javascript\">\n",
       "                require([\"plotly\"], function(Plotly) {\n",
       "                    window.PLOTLYENV=window.PLOTLYENV || {};\n",
       "                    window.PLOTLYENV.BASE_URL='https://plot.ly';\n",
       "                    \n",
       "                if (document.getElementById(\"2b5eee11-16bf-444c-82b0-6a16a16234e6\")) {\n",
       "                    Plotly.newPlot(\n",
       "                        '2b5eee11-16bf-444c-82b0-6a16a16234e6',\n",
       "                        [{\"marker\": {\"color\": [\"rgb(255, 153, 51)\", \"rgb(55, 128, 191)\", \"rgb(50, 171, 96)\", \"rgb(128, 0, 128)\", \"rgb(219, 64, 82)\", \"rgb(0, 128, 128)\", \"rgb(255, 255, 51)\", \"rgb(128, 128, 0)\", \"rgb(251, 128, 114)\", \"rgb(128, 177, 211)\"], \"line\": {\"width\": 1.3}, \"size\": [68, 77, 62, 81, 45, 60, 20, 64, 104, 81, 67, 75, 44, 12, 44, 76, 59, 51, 62, 27, 60, 25, 86, 70, 58, 105, 83, 73, 54, 80, 61, 89, 62, 73, 64, 108, 47, 63, 60, 21, 42, 105, 53, 64, 63, 79, 72, 99, 93, 66, 79, 83, 54, 71, 86, 92, 69, 90, 101, 108, 74, 66, 112, 55, 88, 68, 108, 86, 87, 67, 79, 108, 74, 95, 75, 38, 101, 73, 65, 92, 97, 78, 82, 68, 63, 63, 67, 48, 33, 91, 73, 97, 56, 79, 62, 107, 70, 34, 53, 102], \"symbol\": \"circle\"}, \"mode\": \"markers\", \"text\": \"\", \"type\": \"scatter\", \"x\": [0.0890236266217388, -0.8787154704351006, -0.5977533695209157, 1.0698110062679522, -0.7988921083264098, 0.5832383049156543, -0.24864835278907027, -0.7060503899937032, -0.17782255970080588, -0.5971957707353813, -0.2848860906535149, -0.3742407187026039, 0.4907659776092099, 0.8454677262211716, -0.2397947222641649, -2.0292890390339724, -1.2343508942203125, -0.581627027911337, -1.0059985872873767, 0.5190498956176977, -0.8050834897018041, -1.2332096157124222, 0.24081560942118724, 0.21907435531661296, 1.0790880176319952, 0.28539811590176767, 0.7275582865688938, -1.3737352892335288, 1.5015902347610783, -0.7633820933736835, 0.24237512494715135, 0.8172121522015262, 1.8896732207751532, -0.6351466997131315, 2.005318523682665, -0.580700518779291, 0.7512582762225731, -0.8321393543297784, -0.3153980856329165, -0.02040788440319213, -2.2934222272134384, 1.6394351565028256, -0.6005020999661731, -0.20898877817830225, -0.4939393931678909, -1.0223010529305525, -1.2450682862014761, -0.3750143012290298, -0.708562296521142, 0.38878227084235917, -2.0559894255214224, 1.4177343229429362, 1.0125524763703015, 0.2736842677201433, -1.690076207277851, 0.5740214411230689, -1.4218587639089526, 1.131981541075113, 1.128790595206288, -1.7793271621875348, 0.41361726580124564, 0.06515589060216231, 0.4932317233002984, -0.7378656158118205, -1.2319379637683658, -1.0507998526899458, 1.0849106188488342, -0.2797600190915077, -1.4551367052371373, 0.1544462179019029, -0.202836471763666, -0.71769159845839, 1.2309494921041828, 1.2092282398002012, 0.3235255842564463, 1.3316864092620504, 0.1513431336912556, 0.21827249329865175, -0.9835328681268078, -1.0362844907669773, -0.32551882727349163, -1.0723468668606093, -0.45027418094012583, 1.799000436413313, -0.7762852907022613, -0.3060841118077056, -0.20171888994438966, 1.1142185433582568, -0.2855190215679157, -0.7151109629949621, -0.15342200469247758, 1.3878568278354564, -0.3913794385268874, -0.33413504032172014, 1.2125676256249207, -0.6690852370697338, 0.7818229887533782, 1.1108926635943865, 0.9868797129047022, 0.8217126939072327], \"y\": [-0.35851340747689664, 0.8964559064908013, 0.8668851979644124, 1.3201101066639465, 0.8521632636565618, 0.1678193389215071, 0.7956218856845063, -1.485779184225525, -0.9397594214955171, -0.7276192600413182, 0.48133426516235733, -1.5591885658424542, -0.686558641849801, 2.18044367413078, -0.8224954720950357, 0.834264245771014, 1.1392133327228213, -0.056959375116270236, -0.08899218349335206, -0.770943166891278, 1.2796388775496115, -0.3275552737219343, -0.9163903526244046, 1.0538233753656439, -0.6853188384421511, -0.6275853279554117, 0.9179813481937266, 0.5189780842294516, 0.3712018800035291, -1.8252779744693999, -0.34236610898251557, -0.019428628026250238, -0.8881594465059595, 0.13060694430664255, -0.4121062043857643, -0.33180243234711787, -0.9683207227407323, 0.009546301482904817, 0.1895164509826522, -1.372607398389755, -0.2182857407326223, -0.9615140141635607, -0.7493604427082969, -0.2067713992218754, 0.7429830323549378, -0.7720878333472194, -0.31734743841448415, 0.3272924971873089, 1.1832213404981857, -0.33702307554729777, -0.7105241760247889, -0.029703270945312988, -0.004807880039269839, -1.9973825785516937, 2.5737789599651775, 0.865139824506424, -1.6945802437900994, -0.5994672286457641, -0.5028030406421471, -0.02329024402120451, -0.5017263309388669, 0.5785837836357898, -0.10987225399527062, 1.6049998267882604, 1.310629774867115, 2.0585814106620783, -0.37476648312106, -0.6251191985799067, 0.33967135556511246, 0.09113891525380655, -0.2050970211327267, 0.9770296374343848, -0.13155365069047867, 1.4927636399521946, 0.047661367603270104, -0.16380451935485263, -0.2037109505915858, 0.8456429731125856, -2.293700224952948, 1.14918628891375, -1.335207693057455, -0.41671154448101944, 1.199664637188824, -0.12133532891653313, -0.6475928932098416, 2.2874969525600846, -0.09027141045421477, -1.4881781082705703, -1.8618720474290251, 0.2864564719476295, -1.0643714350281643, 0.532804778438827, 0.07101988852484521, 1.2534553647894944, -0.609962890435716, 1.301392841865941, 0.008793702127127, 0.9942304385437866, 0.03762531473621305, -2.1766597195451514]}],\n",
       "                        {\"legend\": {\"bgcolor\": \"#F5F6F9\", \"font\": {\"color\": \"#4D5663\"}}, \"paper_bgcolor\": \"#F5F6F9\", \"plot_bgcolor\": \"#F5F6F9\", \"template\": {\"data\": {\"bar\": [{\"error_x\": {\"color\": \"#2a3f5f\"}, \"error_y\": {\"color\": \"#2a3f5f\"}, \"marker\": {\"line\": {\"color\": \"#E5ECF6\", \"width\": 0.5}}, \"type\": \"bar\"}], \"barpolar\": [{\"marker\": {\"line\": {\"color\": \"#E5ECF6\", \"width\": 0.5}}, \"type\": \"barpolar\"}], \"carpet\": [{\"aaxis\": {\"endlinecolor\": \"#2a3f5f\", \"gridcolor\": \"white\", \"linecolor\": \"white\", \"minorgridcolor\": \"white\", \"startlinecolor\": \"#2a3f5f\"}, \"baxis\": {\"endlinecolor\": \"#2a3f5f\", \"gridcolor\": \"white\", \"linecolor\": \"white\", \"minorgridcolor\": \"white\", \"startlinecolor\": \"#2a3f5f\"}, \"type\": \"carpet\"}], \"choropleth\": [{\"colorbar\": {\"outlinewidth\": 0, \"ticks\": \"\"}, \"type\": \"choropleth\"}], \"contour\": [{\"colorbar\": {\"outlinewidth\": 0, \"ticks\": \"\"}, \"colorscale\": [[0.0, \"#0d0887\"], [0.1111111111111111, \"#46039f\"], [0.2222222222222222, \"#7201a8\"], [0.3333333333333333, \"#9c179e\"], [0.4444444444444444, \"#bd3786\"], [0.5555555555555556, \"#d8576b\"], [0.6666666666666666, \"#ed7953\"], [0.7777777777777778, \"#fb9f3a\"], [0.8888888888888888, \"#fdca26\"], [1.0, \"#f0f921\"]], \"type\": \"contour\"}], \"contourcarpet\": [{\"colorbar\": {\"outlinewidth\": 0, \"ticks\": \"\"}, \"type\": \"contourcarpet\"}], \"heatmap\": [{\"colorbar\": {\"outlinewidth\": 0, \"ticks\": \"\"}, \"colorscale\": [[0.0, \"#0d0887\"], [0.1111111111111111, \"#46039f\"], [0.2222222222222222, \"#7201a8\"], [0.3333333333333333, \"#9c179e\"], [0.4444444444444444, \"#bd3786\"], [0.5555555555555556, \"#d8576b\"], [0.6666666666666666, \"#ed7953\"], [0.7777777777777778, \"#fb9f3a\"], [0.8888888888888888, \"#fdca26\"], [1.0, \"#f0f921\"]], \"type\": \"heatmap\"}], \"heatmapgl\": [{\"colorbar\": {\"outlinewidth\": 0, \"ticks\": \"\"}, \"colorscale\": [[0.0, \"#0d0887\"], [0.1111111111111111, \"#46039f\"], [0.2222222222222222, \"#7201a8\"], [0.3333333333333333, \"#9c179e\"], [0.4444444444444444, \"#bd3786\"], [0.5555555555555556, \"#d8576b\"], [0.6666666666666666, \"#ed7953\"], [0.7777777777777778, \"#fb9f3a\"], [0.8888888888888888, \"#fdca26\"], [1.0, \"#f0f921\"]], \"type\": \"heatmapgl\"}], \"histogram\": [{\"marker\": {\"colorbar\": {\"outlinewidth\": 0, \"ticks\": \"\"}}, \"type\": \"histogram\"}], \"histogram2d\": [{\"colorbar\": {\"outlinewidth\": 0, \"ticks\": \"\"}, \"colorscale\": [[0.0, \"#0d0887\"], [0.1111111111111111, \"#46039f\"], [0.2222222222222222, \"#7201a8\"], [0.3333333333333333, \"#9c179e\"], [0.4444444444444444, \"#bd3786\"], [0.5555555555555556, \"#d8576b\"], [0.6666666666666666, \"#ed7953\"], [0.7777777777777778, \"#fb9f3a\"], [0.8888888888888888, \"#fdca26\"], [1.0, \"#f0f921\"]], \"type\": \"histogram2d\"}], \"histogram2dcontour\": [{\"colorbar\": {\"outlinewidth\": 0, \"ticks\": \"\"}, \"colorscale\": [[0.0, \"#0d0887\"], [0.1111111111111111, \"#46039f\"], [0.2222222222222222, \"#7201a8\"], [0.3333333333333333, \"#9c179e\"], [0.4444444444444444, \"#bd3786\"], [0.5555555555555556, \"#d8576b\"], [0.6666666666666666, \"#ed7953\"], [0.7777777777777778, \"#fb9f3a\"], [0.8888888888888888, \"#fdca26\"], [1.0, \"#f0f921\"]], \"type\": \"histogram2dcontour\"}], \"mesh3d\": [{\"colorbar\": {\"outlinewidth\": 0, \"ticks\": \"\"}, \"type\": \"mesh3d\"}], \"parcoords\": [{\"line\": {\"colorbar\": {\"outlinewidth\": 0, \"ticks\": \"\"}}, \"type\": \"parcoords\"}], \"pie\": [{\"automargin\": true, \"type\": \"pie\"}], \"scatter\": [{\"marker\": {\"colorbar\": {\"outlinewidth\": 0, \"ticks\": \"\"}}, \"type\": \"scatter\"}], \"scatter3d\": [{\"line\": {\"colorbar\": {\"outlinewidth\": 0, \"ticks\": \"\"}}, \"marker\": {\"colorbar\": {\"outlinewidth\": 0, \"ticks\": \"\"}}, \"type\": \"scatter3d\"}], \"scattercarpet\": [{\"marker\": {\"colorbar\": {\"outlinewidth\": 0, \"ticks\": \"\"}}, \"type\": \"scattercarpet\"}], \"scattergeo\": [{\"marker\": {\"colorbar\": {\"outlinewidth\": 0, \"ticks\": \"\"}}, \"type\": \"scattergeo\"}], \"scattergl\": [{\"marker\": {\"colorbar\": {\"outlinewidth\": 0, \"ticks\": \"\"}}, \"type\": \"scattergl\"}], \"scattermapbox\": [{\"marker\": {\"colorbar\": {\"outlinewidth\": 0, \"ticks\": \"\"}}, \"type\": \"scattermapbox\"}], \"scatterpolar\": [{\"marker\": {\"colorbar\": {\"outlinewidth\": 0, \"ticks\": \"\"}}, \"type\": \"scatterpolar\"}], \"scatterpolargl\": [{\"marker\": {\"colorbar\": {\"outlinewidth\": 0, \"ticks\": \"\"}}, \"type\": \"scatterpolargl\"}], \"scatterternary\": [{\"marker\": {\"colorbar\": {\"outlinewidth\": 0, \"ticks\": \"\"}}, \"type\": \"scatterternary\"}], \"surface\": [{\"colorbar\": {\"outlinewidth\": 0, \"ticks\": \"\"}, \"colorscale\": [[0.0, \"#0d0887\"], [0.1111111111111111, \"#46039f\"], [0.2222222222222222, \"#7201a8\"], [0.3333333333333333, \"#9c179e\"], [0.4444444444444444, \"#bd3786\"], [0.5555555555555556, \"#d8576b\"], [0.6666666666666666, \"#ed7953\"], [0.7777777777777778, \"#fb9f3a\"], [0.8888888888888888, \"#fdca26\"], [1.0, \"#f0f921\"]], \"type\": \"surface\"}], \"table\": [{\"cells\": {\"fill\": {\"color\": \"#EBF0F8\"}, \"line\": {\"color\": \"white\"}}, \"header\": {\"fill\": {\"color\": \"#C8D4E3\"}, \"line\": {\"color\": \"white\"}}, \"type\": \"table\"}]}, \"layout\": {\"annotationdefaults\": {\"arrowcolor\": \"#2a3f5f\", \"arrowhead\": 0, \"arrowwidth\": 1}, \"coloraxis\": {\"colorbar\": {\"outlinewidth\": 0, \"ticks\": \"\"}}, \"colorscale\": {\"diverging\": [[0, \"#8e0152\"], [0.1, \"#c51b7d\"], [0.2, \"#de77ae\"], [0.3, \"#f1b6da\"], [0.4, \"#fde0ef\"], [0.5, \"#f7f7f7\"], [0.6, \"#e6f5d0\"], [0.7, \"#b8e186\"], [0.8, \"#7fbc41\"], [0.9, \"#4d9221\"], [1, \"#276419\"]], \"sequential\": [[0.0, \"#0d0887\"], [0.1111111111111111, \"#46039f\"], [0.2222222222222222, \"#7201a8\"], [0.3333333333333333, \"#9c179e\"], [0.4444444444444444, \"#bd3786\"], [0.5555555555555556, \"#d8576b\"], [0.6666666666666666, \"#ed7953\"], [0.7777777777777778, \"#fb9f3a\"], [0.8888888888888888, \"#fdca26\"], [1.0, \"#f0f921\"]], \"sequentialminus\": [[0.0, \"#0d0887\"], [0.1111111111111111, \"#46039f\"], [0.2222222222222222, \"#7201a8\"], [0.3333333333333333, \"#9c179e\"], [0.4444444444444444, \"#bd3786\"], [0.5555555555555556, \"#d8576b\"], [0.6666666666666666, \"#ed7953\"], [0.7777777777777778, \"#fb9f3a\"], [0.8888888888888888, \"#fdca26\"], [1.0, \"#f0f921\"]]}, \"colorway\": [\"#636efa\", \"#EF553B\", \"#00cc96\", \"#ab63fa\", \"#FFA15A\", \"#19d3f3\", \"#FF6692\", \"#B6E880\", \"#FF97FF\", \"#FECB52\"], \"font\": {\"color\": \"#2a3f5f\"}, \"geo\": {\"bgcolor\": \"white\", \"lakecolor\": \"white\", \"landcolor\": \"#E5ECF6\", \"showlakes\": true, \"showland\": true, \"subunitcolor\": \"white\"}, \"hoverlabel\": {\"align\": \"left\"}, \"hovermode\": \"closest\", \"mapbox\": {\"style\": \"light\"}, \"paper_bgcolor\": \"white\", \"plot_bgcolor\": \"#E5ECF6\", \"polar\": {\"angularaxis\": {\"gridcolor\": \"white\", \"linecolor\": \"white\", \"ticks\": \"\"}, \"bgcolor\": \"#E5ECF6\", \"radialaxis\": {\"gridcolor\": \"white\", \"linecolor\": \"white\", \"ticks\": \"\"}}, \"scene\": {\"xaxis\": {\"backgroundcolor\": \"#E5ECF6\", \"gridcolor\": \"white\", \"gridwidth\": 2, \"linecolor\": \"white\", \"showbackground\": true, \"ticks\": \"\", \"zerolinecolor\": \"white\"}, \"yaxis\": {\"backgroundcolor\": \"#E5ECF6\", \"gridcolor\": \"white\", \"gridwidth\": 2, \"linecolor\": \"white\", \"showbackground\": true, \"ticks\": \"\", \"zerolinecolor\": \"white\"}, \"zaxis\": {\"backgroundcolor\": \"#E5ECF6\", \"gridcolor\": \"white\", \"gridwidth\": 2, \"linecolor\": \"white\", \"showbackground\": true, \"ticks\": \"\", \"zerolinecolor\": \"white\"}}, \"shapedefaults\": {\"line\": {\"color\": \"#2a3f5f\"}}, \"ternary\": {\"aaxis\": {\"gridcolor\": \"white\", \"linecolor\": \"white\", \"ticks\": \"\"}, \"baxis\": {\"gridcolor\": \"white\", \"linecolor\": \"white\", \"ticks\": \"\"}, \"bgcolor\": \"#E5ECF6\", \"caxis\": {\"gridcolor\": \"white\", \"linecolor\": \"white\", \"ticks\": \"\"}}, \"title\": {\"x\": 0.05}, \"xaxis\": {\"automargin\": true, \"gridcolor\": \"white\", \"linecolor\": \"white\", \"ticks\": \"\", \"title\": {\"standoff\": 15}, \"zerolinecolor\": \"white\", \"zerolinewidth\": 2}, \"yaxis\": {\"automargin\": true, \"gridcolor\": \"white\", \"linecolor\": \"white\", \"ticks\": \"\", \"title\": {\"standoff\": 15}, \"zerolinecolor\": \"white\", \"zerolinewidth\": 2}}}, \"title\": {\"font\": {\"color\": \"#4D5663\"}}, \"xaxis\": {\"gridcolor\": \"#E1E5ED\", \"showgrid\": true, \"tickfont\": {\"color\": \"#4D5663\"}, \"title\": {\"font\": {\"color\": \"#4D5663\"}, \"text\": \"\"}, \"zerolinecolor\": \"#E1E5ED\"}, \"yaxis\": {\"gridcolor\": \"#E1E5ED\", \"showgrid\": true, \"tickfont\": {\"color\": \"#4D5663\"}, \"title\": {\"font\": {\"color\": \"#4D5663\"}, \"text\": \"\"}, \"zerolinecolor\": \"#E1E5ED\"}},\n",
       "                        {\"showLink\": true, \"linkText\": \"Export to plot.ly\", \"plotlyServerURL\": \"https://plot.ly\", \"responsive\": true}\n",
       "                    ).then(function(){\n",
       "                            \n",
       "var gd = document.getElementById('2b5eee11-16bf-444c-82b0-6a16a16234e6');\n",
       "var x = new MutationObserver(function (mutations, observer) {{\n",
       "        var display = window.getComputedStyle(gd).display;\n",
       "        if (!display || display === 'none') {{\n",
       "            console.log([gd, 'removed!']);\n",
       "            Plotly.purge(gd);\n",
       "            observer.disconnect();\n",
       "        }}\n",
       "}});\n",
       "\n",
       "// Listen for the removal of the full notebook cells\n",
       "var notebookContainer = gd.closest('#notebook-container');\n",
       "if (notebookContainer) {{\n",
       "    x.observe(notebookContainer, {childList: true});\n",
       "}}\n",
       "\n",
       "// Listen for the clearing of the current output cell\n",
       "var outputEl = gd.closest('.output');\n",
       "if (outputEl) {{\n",
       "    x.observe(outputEl, {childList: true});\n",
       "}}\n",
       "\n",
       "                        })\n",
       "                };\n",
       "                });\n",
       "            </script>\n",
       "        </div>"
      ]
     },
     "metadata": {},
     "output_type": "display_data"
    }
   ],
   "source": [
    "df.iplot(kind='bubble',x='A',y='B',size='C')"
   ]
  },
  {
   "cell_type": "markdown",
   "metadata": {},
   "source": [
    "## scatter_matrix()\n",
    "\n",
    "Similar to sns.pairplot()"
   ]
  },
  {
   "cell_type": "code",
   "execution_count": 19,
   "metadata": {},
   "outputs": [
    {
     "data": {
      "application/vnd.plotly.v1+json": {
       "config": {
        "linkText": "Export to plot.ly",
        "plotlyServerURL": "https://plot.ly",
        "showLink": true
       },
       "data": [
        {
         "histfunc": "count",
         "histnorm": "",
         "marker": {
          "color": "rgba(255, 153, 51, 1.0)",
          "line": {
           "color": "#4D5663",
           "width": 1.3
          }
         },
         "name": "A",
         "nbinsx": 10,
         "opacity": 0.8,
         "orientation": "v",
         "type": "histogram",
         "x": [
          0.0890236266217388,
          -0.8787154704351006,
          -0.5977533695209157,
          1.0698110062679522,
          -0.7988921083264098,
          0.5832383049156543,
          -0.24864835278907027,
          -0.7060503899937032,
          -0.17782255970080588,
          -0.5971957707353813,
          -0.2848860906535149,
          -0.3742407187026039,
          0.4907659776092099,
          0.8454677262211716,
          -0.2397947222641649,
          -2.0292890390339724,
          -1.2343508942203125,
          -0.581627027911337,
          -1.0059985872873767,
          0.5190498956176977,
          -0.8050834897018041,
          -1.2332096157124222,
          0.24081560942118724,
          0.21907435531661296,
          1.0790880176319952,
          0.28539811590176767,
          0.7275582865688938,
          -1.3737352892335288,
          1.5015902347610783,
          -0.7633820933736835,
          0.24237512494715135,
          0.8172121522015262,
          1.8896732207751532,
          -0.6351466997131315,
          2.005318523682665,
          -0.580700518779291,
          0.7512582762225731,
          -0.8321393543297784,
          -0.3153980856329165,
          -0.02040788440319213,
          -2.2934222272134384,
          1.6394351565028256,
          -0.6005020999661731,
          -0.20898877817830225,
          -0.4939393931678909,
          -1.0223010529305525,
          -1.2450682862014761,
          -0.3750143012290298,
          -0.708562296521142,
          0.38878227084235917,
          -2.0559894255214224,
          1.4177343229429362,
          1.0125524763703015,
          0.2736842677201433,
          -1.690076207277851,
          0.5740214411230689,
          -1.4218587639089526,
          1.131981541075113,
          1.128790595206288,
          -1.7793271621875348,
          0.41361726580124564,
          0.06515589060216231,
          0.4932317233002984,
          -0.7378656158118205,
          -1.2319379637683658,
          -1.0507998526899458,
          1.0849106188488342,
          -0.2797600190915077,
          -1.4551367052371373,
          0.1544462179019029,
          -0.202836471763666,
          -0.71769159845839,
          1.2309494921041828,
          1.2092282398002012,
          0.3235255842564463,
          1.3316864092620504,
          0.1513431336912556,
          0.21827249329865175,
          -0.9835328681268078,
          -1.0362844907669773,
          -0.32551882727349163,
          -1.0723468668606093,
          -0.45027418094012583,
          1.799000436413313,
          -0.7762852907022613,
          -0.3060841118077056,
          -0.20171888994438966,
          1.1142185433582568,
          -0.2855190215679157,
          -0.7151109629949621,
          -0.15342200469247758,
          1.3878568278354564,
          -0.3913794385268874,
          -0.33413504032172014,
          1.2125676256249207,
          -0.6690852370697338,
          0.7818229887533782,
          1.1108926635943865,
          0.9868797129047022,
          0.8217126939072327
         ],
         "xaxis": "x",
         "yaxis": "y"
        },
        {
         "line": {
          "color": "rgba(128, 128, 128, 1.0)",
          "dash": "solid",
          "shape": "linear",
          "width": 1.3
         },
         "marker": {
          "size": 2,
          "symbol": "circle"
         },
         "mode": "markers",
         "name": "A",
         "text": "",
         "type": "scatter",
         "x": [
          -0.35851340747689664,
          0.8964559064908013,
          0.8668851979644124,
          1.3201101066639465,
          0.8521632636565618,
          0.1678193389215071,
          0.7956218856845063,
          -1.485779184225525,
          -0.9397594214955171,
          -0.7276192600413182,
          0.48133426516235733,
          -1.5591885658424542,
          -0.686558641849801,
          2.18044367413078,
          -0.8224954720950357,
          0.834264245771014,
          1.1392133327228213,
          -0.056959375116270236,
          -0.08899218349335206,
          -0.770943166891278,
          1.2796388775496115,
          -0.3275552737219343,
          -0.9163903526244046,
          1.0538233753656439,
          -0.6853188384421511,
          -0.6275853279554117,
          0.9179813481937266,
          0.5189780842294516,
          0.3712018800035291,
          -1.8252779744693999,
          -0.34236610898251557,
          -0.019428628026250238,
          -0.8881594465059595,
          0.13060694430664255,
          -0.4121062043857643,
          -0.33180243234711787,
          -0.9683207227407323,
          0.009546301482904817,
          0.1895164509826522,
          -1.372607398389755,
          -0.2182857407326223,
          -0.9615140141635607,
          -0.7493604427082969,
          -0.2067713992218754,
          0.7429830323549378,
          -0.7720878333472194,
          -0.31734743841448415,
          0.3272924971873089,
          1.1832213404981857,
          -0.33702307554729777,
          -0.7105241760247889,
          -0.029703270945312988,
          -0.004807880039269839,
          -1.9973825785516937,
          2.5737789599651775,
          0.865139824506424,
          -1.6945802437900994,
          -0.5994672286457641,
          -0.5028030406421471,
          -0.02329024402120451,
          -0.5017263309388669,
          0.5785837836357898,
          -0.10987225399527062,
          1.6049998267882604,
          1.310629774867115,
          2.0585814106620783,
          -0.37476648312106,
          -0.6251191985799067,
          0.33967135556511246,
          0.09113891525380655,
          -0.2050970211327267,
          0.9770296374343848,
          -0.13155365069047867,
          1.4927636399521946,
          0.047661367603270104,
          -0.16380451935485263,
          -0.2037109505915858,
          0.8456429731125856,
          -2.293700224952948,
          1.14918628891375,
          -1.335207693057455,
          -0.41671154448101944,
          1.199664637188824,
          -0.12133532891653313,
          -0.6475928932098416,
          2.2874969525600846,
          -0.09027141045421477,
          -1.4881781082705703,
          -1.8618720474290251,
          0.2864564719476295,
          -1.0643714350281643,
          0.532804778438827,
          0.07101988852484521,
          1.2534553647894944,
          -0.609962890435716,
          1.301392841865941,
          0.008793702127127,
          0.9942304385437866,
          0.03762531473621305,
          -2.1766597195451514
         ],
         "xaxis": "x2",
         "y": [
          0.0890236266217388,
          -0.8787154704351006,
          -0.5977533695209157,
          1.0698110062679522,
          -0.7988921083264098,
          0.5832383049156543,
          -0.24864835278907027,
          -0.7060503899937032,
          -0.17782255970080588,
          -0.5971957707353813,
          -0.2848860906535149,
          -0.3742407187026039,
          0.4907659776092099,
          0.8454677262211716,
          -0.2397947222641649,
          -2.0292890390339724,
          -1.2343508942203125,
          -0.581627027911337,
          -1.0059985872873767,
          0.5190498956176977,
          -0.8050834897018041,
          -1.2332096157124222,
          0.24081560942118724,
          0.21907435531661296,
          1.0790880176319952,
          0.28539811590176767,
          0.7275582865688938,
          -1.3737352892335288,
          1.5015902347610783,
          -0.7633820933736835,
          0.24237512494715135,
          0.8172121522015262,
          1.8896732207751532,
          -0.6351466997131315,
          2.005318523682665,
          -0.580700518779291,
          0.7512582762225731,
          -0.8321393543297784,
          -0.3153980856329165,
          -0.02040788440319213,
          -2.2934222272134384,
          1.6394351565028256,
          -0.6005020999661731,
          -0.20898877817830225,
          -0.4939393931678909,
          -1.0223010529305525,
          -1.2450682862014761,
          -0.3750143012290298,
          -0.708562296521142,
          0.38878227084235917,
          -2.0559894255214224,
          1.4177343229429362,
          1.0125524763703015,
          0.2736842677201433,
          -1.690076207277851,
          0.5740214411230689,
          -1.4218587639089526,
          1.131981541075113,
          1.128790595206288,
          -1.7793271621875348,
          0.41361726580124564,
          0.06515589060216231,
          0.4932317233002984,
          -0.7378656158118205,
          -1.2319379637683658,
          -1.0507998526899458,
          1.0849106188488342,
          -0.2797600190915077,
          -1.4551367052371373,
          0.1544462179019029,
          -0.202836471763666,
          -0.71769159845839,
          1.2309494921041828,
          1.2092282398002012,
          0.3235255842564463,
          1.3316864092620504,
          0.1513431336912556,
          0.21827249329865175,
          -0.9835328681268078,
          -1.0362844907669773,
          -0.32551882727349163,
          -1.0723468668606093,
          -0.45027418094012583,
          1.799000436413313,
          -0.7762852907022613,
          -0.3060841118077056,
          -0.20171888994438966,
          1.1142185433582568,
          -0.2855190215679157,
          -0.7151109629949621,
          -0.15342200469247758,
          1.3878568278354564,
          -0.3913794385268874,
          -0.33413504032172014,
          1.2125676256249207,
          -0.6690852370697338,
          0.7818229887533782,
          1.1108926635943865,
          0.9868797129047022,
          0.8217126939072327
         ],
         "yaxis": "y2"
        },
        {
         "line": {
          "color": "rgba(128, 128, 128, 1.0)",
          "dash": "solid",
          "shape": "linear",
          "width": 1.3
         },
         "marker": {
          "size": 2,
          "symbol": "circle"
         },
         "mode": "markers",
         "name": "A",
         "text": "",
         "type": "scatter",
         "x": [
          -0.11275925141961757,
          0.3476799754393253,
          -0.4222275113565367,
          0.5533885742370918,
          -1.2618938484167306,
          -0.5225563147703599,
          -2.4637488309598474,
          -0.32297644342073123,
          1.655453076134819,
          0.5611652676172526,
          -0.1463547139411557,
          0.22294346660957187,
          -1.2848909161847697,
          -2.8953873095258653,
          -1.2858758734249582,
          0.3150031005153985,
          -0.5241827171605921,
          -0.9677883853597803,
          -0.41615752366769,
          -2.138197601571739,
          -0.4856048104597748,
          -2.208874988217804,
          0.7766175342969884,
          0.003981694482013667,
          -0.5760140059397335,
          1.733478462455027,
          0.648449369253872,
          0.14815875081281407,
          -0.7938797605490059,
          0.5120027211135333,
          -0.4473141501599969,
          0.9570576074312408,
          -0.4167440712465049,
          0.13046875318394702,
          -0.2989690625987172,
          1.8900651522155112,
          -1.134321957221086,
          -0.3371303733545989,
          -0.4949685301033872,
          -2.4028955664079303,
          -1.3764338656713238,
          1.709581760931209,
          -0.8547303860428226,
          -0.3149556010230478,
          -0.374553916081469,
          0.43515801975860335,
          0.09649635852917099,
          1.418215881721197,
          1.1220089708810042,
          -0.20618963037628144,
          0.46011134015735206,
          0.6360593891343618,
          -0.8147195954404538,
          0.06409563637292645,
          0.781220903119957,
          1.0754186229775857,
          -0.07728213237324322,
          0.9616681430757147,
          1.5127215679977948,
          1.8749832102624002,
          0.1977303749530275,
          -0.20031516120938428,
          2.0446348592707735,
          -0.7238402077148619,
          0.8928523950448867,
          -0.09669631361290285,
          1.8832892333063425,
          0.784132498196328,
          0.8290132687489427,
          -0.1585240196211482,
          0.445792973227965,
          1.8722297239655787,
          0.18973706149240266,
          1.244891218326293,
          0.2401429256485272,
          -1.6090592771705234,
          1.5485034332944003,
          0.1653515824228414,
          -0.27592835675953226,
          1.1048075195682239,
          1.3176340005226554,
          0.36589922365388666,
          0.6115832779061945,
          -0.08736946889834596,
          -0.36000692139755774,
          -0.3667361367016704,
          -0.14460340722744572,
          -1.0873584985226108,
          -1.8492459999215174,
          1.0231139215358867,
          0.14559327389942203,
          1.3358572110183067,
          -0.7173796458946975,
          0.4212905502749479,
          -0.4152493201284364,
          1.8217397831118682,
          0.0036652386587695874,
          -1.782871248603041,
          -0.8529133973128455,
          1.596156020677351
         ],
         "xaxis": "x3",
         "y": [
          0.0890236266217388,
          -0.8787154704351006,
          -0.5977533695209157,
          1.0698110062679522,
          -0.7988921083264098,
          0.5832383049156543,
          -0.24864835278907027,
          -0.7060503899937032,
          -0.17782255970080588,
          -0.5971957707353813,
          -0.2848860906535149,
          -0.3742407187026039,
          0.4907659776092099,
          0.8454677262211716,
          -0.2397947222641649,
          -2.0292890390339724,
          -1.2343508942203125,
          -0.581627027911337,
          -1.0059985872873767,
          0.5190498956176977,
          -0.8050834897018041,
          -1.2332096157124222,
          0.24081560942118724,
          0.21907435531661296,
          1.0790880176319952,
          0.28539811590176767,
          0.7275582865688938,
          -1.3737352892335288,
          1.5015902347610783,
          -0.7633820933736835,
          0.24237512494715135,
          0.8172121522015262,
          1.8896732207751532,
          -0.6351466997131315,
          2.005318523682665,
          -0.580700518779291,
          0.7512582762225731,
          -0.8321393543297784,
          -0.3153980856329165,
          -0.02040788440319213,
          -2.2934222272134384,
          1.6394351565028256,
          -0.6005020999661731,
          -0.20898877817830225,
          -0.4939393931678909,
          -1.0223010529305525,
          -1.2450682862014761,
          -0.3750143012290298,
          -0.708562296521142,
          0.38878227084235917,
          -2.0559894255214224,
          1.4177343229429362,
          1.0125524763703015,
          0.2736842677201433,
          -1.690076207277851,
          0.5740214411230689,
          -1.4218587639089526,
          1.131981541075113,
          1.128790595206288,
          -1.7793271621875348,
          0.41361726580124564,
          0.06515589060216231,
          0.4932317233002984,
          -0.7378656158118205,
          -1.2319379637683658,
          -1.0507998526899458,
          1.0849106188488342,
          -0.2797600190915077,
          -1.4551367052371373,
          0.1544462179019029,
          -0.202836471763666,
          -0.71769159845839,
          1.2309494921041828,
          1.2092282398002012,
          0.3235255842564463,
          1.3316864092620504,
          0.1513431336912556,
          0.21827249329865175,
          -0.9835328681268078,
          -1.0362844907669773,
          -0.32551882727349163,
          -1.0723468668606093,
          -0.45027418094012583,
          1.799000436413313,
          -0.7762852907022613,
          -0.3060841118077056,
          -0.20171888994438966,
          1.1142185433582568,
          -0.2855190215679157,
          -0.7151109629949621,
          -0.15342200469247758,
          1.3878568278354564,
          -0.3913794385268874,
          -0.33413504032172014,
          1.2125676256249207,
          -0.6690852370697338,
          0.7818229887533782,
          1.1108926635943865,
          0.9868797129047022,
          0.8217126939072327
         ],
         "yaxis": "y3"
        },
        {
         "line": {
          "color": "rgba(128, 128, 128, 1.0)",
          "dash": "solid",
          "shape": "linear",
          "width": 1.3
         },
         "marker": {
          "size": 2,
          "symbol": "circle"
         },
         "mode": "markers",
         "name": "A",
         "text": "",
         "type": "scatter",
         "x": [
          -0.32785208772956326,
          -0.06785803886552143,
          0.20531277500386613,
          1.1951903582338812,
          -1.3976623215796298,
          -0.05871598819976506,
          -0.5294115576305654,
          1.4731210019457235,
          0.4112288382342981,
          -2.5170159355144417,
          0.10801255709274726,
          -0.3807757452226713,
          2.044644936930708,
          0.24499358691169149,
          -0.7666279920351564,
          0.6104682681053788,
          0.3362963098401381,
          -0.8537002883618845,
          -0.5691842677127584,
          0.3133093675134218,
          1.67455516186429,
          0.6624779633708933,
          -2.564941929444399,
          0.9497679680477368,
          -0.26468253669595415,
          -0.8030759549069167,
          1.6064268390110041,
          -0.5904341907257554,
          -0.3253397858315221,
          -0.24463358595745335,
          0.5394263995862915,
          -0.24304145750373965,
          -0.4188003240686415,
          -0.9593082349504745,
          -0.9571437349163218,
          2.4554534048231234,
          1.0456371545377205,
          -0.1603843503282899,
          0.9821803641723885,
          0.22763427608915662,
          -0.1493895459373003,
          0.5712932576948321,
          0.453468290428403,
          0.14368171659714662,
          -1.9274903782955992,
          -0.5360630198493472,
          0.9334914802418602,
          -0.7529071572883291,
          0.041681949193690324,
          -0.41794614524461193,
          1.339952326312011,
          0.566465592776908,
          -0.5974302780754731,
          2.0051855211135137,
          -1.1486865592916764,
          -0.5819448606996918,
          -0.34736492823631593,
          0.026228848500067313,
          1.1794267510272693,
          0.7905500286476467,
          -1.061605327673259,
          -0.7139254327582141,
          -1.341527939318605,
          0.38222804304121344,
          -2.8238152736465336,
          -0.9123395223296985,
          1.8251162865311854,
          0.2797056325200032,
          -0.38842532149643644,
          1.4783250956420955,
          1.5364754691186921,
          1.1896479818453225,
          -1.5938518041805747,
          0.840228873308692,
          -0.7754603383189963,
          2.2701265901423278,
          1.5034880861574493,
          2.2081760131045667,
          1.2588621415207644,
          2.701189047720629,
          -0.2688536704889822,
          0.2367784995191865,
          0.7194877791314278,
          0.4963944188483984,
          -1.0703684430172578,
          -0.9213741542279265,
          -0.009955609904234169,
          -1.7982565873940162,
          0.8761520296140257,
          0.3446337763129536,
          -0.8364595748617735,
          1.746335937290738,
          -0.7441707689549959,
          -0.1276963160568414,
          0.8617653680657681,
          0.6155834742815333,
          0.9728811960262296,
          -0.6265655910074107,
          1.6701753458924138,
          2.3141180106435315
         ],
         "xaxis": "x4",
         "y": [
          0.0890236266217388,
          -0.8787154704351006,
          -0.5977533695209157,
          1.0698110062679522,
          -0.7988921083264098,
          0.5832383049156543,
          -0.24864835278907027,
          -0.7060503899937032,
          -0.17782255970080588,
          -0.5971957707353813,
          -0.2848860906535149,
          -0.3742407187026039,
          0.4907659776092099,
          0.8454677262211716,
          -0.2397947222641649,
          -2.0292890390339724,
          -1.2343508942203125,
          -0.581627027911337,
          -1.0059985872873767,
          0.5190498956176977,
          -0.8050834897018041,
          -1.2332096157124222,
          0.24081560942118724,
          0.21907435531661296,
          1.0790880176319952,
          0.28539811590176767,
          0.7275582865688938,
          -1.3737352892335288,
          1.5015902347610783,
          -0.7633820933736835,
          0.24237512494715135,
          0.8172121522015262,
          1.8896732207751532,
          -0.6351466997131315,
          2.005318523682665,
          -0.580700518779291,
          0.7512582762225731,
          -0.8321393543297784,
          -0.3153980856329165,
          -0.02040788440319213,
          -2.2934222272134384,
          1.6394351565028256,
          -0.6005020999661731,
          -0.20898877817830225,
          -0.4939393931678909,
          -1.0223010529305525,
          -1.2450682862014761,
          -0.3750143012290298,
          -0.708562296521142,
          0.38878227084235917,
          -2.0559894255214224,
          1.4177343229429362,
          1.0125524763703015,
          0.2736842677201433,
          -1.690076207277851,
          0.5740214411230689,
          -1.4218587639089526,
          1.131981541075113,
          1.128790595206288,
          -1.7793271621875348,
          0.41361726580124564,
          0.06515589060216231,
          0.4932317233002984,
          -0.7378656158118205,
          -1.2319379637683658,
          -1.0507998526899458,
          1.0849106188488342,
          -0.2797600190915077,
          -1.4551367052371373,
          0.1544462179019029,
          -0.202836471763666,
          -0.71769159845839,
          1.2309494921041828,
          1.2092282398002012,
          0.3235255842564463,
          1.3316864092620504,
          0.1513431336912556,
          0.21827249329865175,
          -0.9835328681268078,
          -1.0362844907669773,
          -0.32551882727349163,
          -1.0723468668606093,
          -0.45027418094012583,
          1.799000436413313,
          -0.7762852907022613,
          -0.3060841118077056,
          -0.20171888994438966,
          1.1142185433582568,
          -0.2855190215679157,
          -0.7151109629949621,
          -0.15342200469247758,
          1.3878568278354564,
          -0.3913794385268874,
          -0.33413504032172014,
          1.2125676256249207,
          -0.6690852370697338,
          0.7818229887533782,
          1.1108926635943865,
          0.9868797129047022,
          0.8217126939072327
         ],
         "yaxis": "y4"
        },
        {
         "line": {
          "color": "rgba(128, 128, 128, 1.0)",
          "dash": "solid",
          "shape": "linear",
          "width": 1.3
         },
         "marker": {
          "size": 2,
          "symbol": "circle"
         },
         "mode": "markers",
         "name": "B",
         "text": "",
         "type": "scatter",
         "x": [
          0.0890236266217388,
          -0.8787154704351006,
          -0.5977533695209157,
          1.0698110062679522,
          -0.7988921083264098,
          0.5832383049156543,
          -0.24864835278907027,
          -0.7060503899937032,
          -0.17782255970080588,
          -0.5971957707353813,
          -0.2848860906535149,
          -0.3742407187026039,
          0.4907659776092099,
          0.8454677262211716,
          -0.2397947222641649,
          -2.0292890390339724,
          -1.2343508942203125,
          -0.581627027911337,
          -1.0059985872873767,
          0.5190498956176977,
          -0.8050834897018041,
          -1.2332096157124222,
          0.24081560942118724,
          0.21907435531661296,
          1.0790880176319952,
          0.28539811590176767,
          0.7275582865688938,
          -1.3737352892335288,
          1.5015902347610783,
          -0.7633820933736835,
          0.24237512494715135,
          0.8172121522015262,
          1.8896732207751532,
          -0.6351466997131315,
          2.005318523682665,
          -0.580700518779291,
          0.7512582762225731,
          -0.8321393543297784,
          -0.3153980856329165,
          -0.02040788440319213,
          -2.2934222272134384,
          1.6394351565028256,
          -0.6005020999661731,
          -0.20898877817830225,
          -0.4939393931678909,
          -1.0223010529305525,
          -1.2450682862014761,
          -0.3750143012290298,
          -0.708562296521142,
          0.38878227084235917,
          -2.0559894255214224,
          1.4177343229429362,
          1.0125524763703015,
          0.2736842677201433,
          -1.690076207277851,
          0.5740214411230689,
          -1.4218587639089526,
          1.131981541075113,
          1.128790595206288,
          -1.7793271621875348,
          0.41361726580124564,
          0.06515589060216231,
          0.4932317233002984,
          -0.7378656158118205,
          -1.2319379637683658,
          -1.0507998526899458,
          1.0849106188488342,
          -0.2797600190915077,
          -1.4551367052371373,
          0.1544462179019029,
          -0.202836471763666,
          -0.71769159845839,
          1.2309494921041828,
          1.2092282398002012,
          0.3235255842564463,
          1.3316864092620504,
          0.1513431336912556,
          0.21827249329865175,
          -0.9835328681268078,
          -1.0362844907669773,
          -0.32551882727349163,
          -1.0723468668606093,
          -0.45027418094012583,
          1.799000436413313,
          -0.7762852907022613,
          -0.3060841118077056,
          -0.20171888994438966,
          1.1142185433582568,
          -0.2855190215679157,
          -0.7151109629949621,
          -0.15342200469247758,
          1.3878568278354564,
          -0.3913794385268874,
          -0.33413504032172014,
          1.2125676256249207,
          -0.6690852370697338,
          0.7818229887533782,
          1.1108926635943865,
          0.9868797129047022,
          0.8217126939072327
         ],
         "xaxis": "x5",
         "y": [
          -0.35851340747689664,
          0.8964559064908013,
          0.8668851979644124,
          1.3201101066639465,
          0.8521632636565618,
          0.1678193389215071,
          0.7956218856845063,
          -1.485779184225525,
          -0.9397594214955171,
          -0.7276192600413182,
          0.48133426516235733,
          -1.5591885658424542,
          -0.686558641849801,
          2.18044367413078,
          -0.8224954720950357,
          0.834264245771014,
          1.1392133327228213,
          -0.056959375116270236,
          -0.08899218349335206,
          -0.770943166891278,
          1.2796388775496115,
          -0.3275552737219343,
          -0.9163903526244046,
          1.0538233753656439,
          -0.6853188384421511,
          -0.6275853279554117,
          0.9179813481937266,
          0.5189780842294516,
          0.3712018800035291,
          -1.8252779744693999,
          -0.34236610898251557,
          -0.019428628026250238,
          -0.8881594465059595,
          0.13060694430664255,
          -0.4121062043857643,
          -0.33180243234711787,
          -0.9683207227407323,
          0.009546301482904817,
          0.1895164509826522,
          -1.372607398389755,
          -0.2182857407326223,
          -0.9615140141635607,
          -0.7493604427082969,
          -0.2067713992218754,
          0.7429830323549378,
          -0.7720878333472194,
          -0.31734743841448415,
          0.3272924971873089,
          1.1832213404981857,
          -0.33702307554729777,
          -0.7105241760247889,
          -0.029703270945312988,
          -0.004807880039269839,
          -1.9973825785516937,
          2.5737789599651775,
          0.865139824506424,
          -1.6945802437900994,
          -0.5994672286457641,
          -0.5028030406421471,
          -0.02329024402120451,
          -0.5017263309388669,
          0.5785837836357898,
          -0.10987225399527062,
          1.6049998267882604,
          1.310629774867115,
          2.0585814106620783,
          -0.37476648312106,
          -0.6251191985799067,
          0.33967135556511246,
          0.09113891525380655,
          -0.2050970211327267,
          0.9770296374343848,
          -0.13155365069047867,
          1.4927636399521946,
          0.047661367603270104,
          -0.16380451935485263,
          -0.2037109505915858,
          0.8456429731125856,
          -2.293700224952948,
          1.14918628891375,
          -1.335207693057455,
          -0.41671154448101944,
          1.199664637188824,
          -0.12133532891653313,
          -0.6475928932098416,
          2.2874969525600846,
          -0.09027141045421477,
          -1.4881781082705703,
          -1.8618720474290251,
          0.2864564719476295,
          -1.0643714350281643,
          0.532804778438827,
          0.07101988852484521,
          1.2534553647894944,
          -0.609962890435716,
          1.301392841865941,
          0.008793702127127,
          0.9942304385437866,
          0.03762531473621305,
          -2.1766597195451514
         ],
         "yaxis": "y5"
        },
        {
         "histfunc": "count",
         "histnorm": "",
         "marker": {
          "color": "rgba(55, 128, 191, 1.0)",
          "line": {
           "color": "#4D5663",
           "width": 1.3
          }
         },
         "name": "B",
         "nbinsx": 10,
         "opacity": 0.8,
         "orientation": "v",
         "type": "histogram",
         "x": [
          -0.35851340747689664,
          0.8964559064908013,
          0.8668851979644124,
          1.3201101066639465,
          0.8521632636565618,
          0.1678193389215071,
          0.7956218856845063,
          -1.485779184225525,
          -0.9397594214955171,
          -0.7276192600413182,
          0.48133426516235733,
          -1.5591885658424542,
          -0.686558641849801,
          2.18044367413078,
          -0.8224954720950357,
          0.834264245771014,
          1.1392133327228213,
          -0.056959375116270236,
          -0.08899218349335206,
          -0.770943166891278,
          1.2796388775496115,
          -0.3275552737219343,
          -0.9163903526244046,
          1.0538233753656439,
          -0.6853188384421511,
          -0.6275853279554117,
          0.9179813481937266,
          0.5189780842294516,
          0.3712018800035291,
          -1.8252779744693999,
          -0.34236610898251557,
          -0.019428628026250238,
          -0.8881594465059595,
          0.13060694430664255,
          -0.4121062043857643,
          -0.33180243234711787,
          -0.9683207227407323,
          0.009546301482904817,
          0.1895164509826522,
          -1.372607398389755,
          -0.2182857407326223,
          -0.9615140141635607,
          -0.7493604427082969,
          -0.2067713992218754,
          0.7429830323549378,
          -0.7720878333472194,
          -0.31734743841448415,
          0.3272924971873089,
          1.1832213404981857,
          -0.33702307554729777,
          -0.7105241760247889,
          -0.029703270945312988,
          -0.004807880039269839,
          -1.9973825785516937,
          2.5737789599651775,
          0.865139824506424,
          -1.6945802437900994,
          -0.5994672286457641,
          -0.5028030406421471,
          -0.02329024402120451,
          -0.5017263309388669,
          0.5785837836357898,
          -0.10987225399527062,
          1.6049998267882604,
          1.310629774867115,
          2.0585814106620783,
          -0.37476648312106,
          -0.6251191985799067,
          0.33967135556511246,
          0.09113891525380655,
          -0.2050970211327267,
          0.9770296374343848,
          -0.13155365069047867,
          1.4927636399521946,
          0.047661367603270104,
          -0.16380451935485263,
          -0.2037109505915858,
          0.8456429731125856,
          -2.293700224952948,
          1.14918628891375,
          -1.335207693057455,
          -0.41671154448101944,
          1.199664637188824,
          -0.12133532891653313,
          -0.6475928932098416,
          2.2874969525600846,
          -0.09027141045421477,
          -1.4881781082705703,
          -1.8618720474290251,
          0.2864564719476295,
          -1.0643714350281643,
          0.532804778438827,
          0.07101988852484521,
          1.2534553647894944,
          -0.609962890435716,
          1.301392841865941,
          0.008793702127127,
          0.9942304385437866,
          0.03762531473621305,
          -2.1766597195451514
         ],
         "xaxis": "x6",
         "yaxis": "y6"
        },
        {
         "line": {
          "color": "rgba(128, 128, 128, 1.0)",
          "dash": "solid",
          "shape": "linear",
          "width": 1.3
         },
         "marker": {
          "size": 2,
          "symbol": "circle"
         },
         "mode": "markers",
         "name": "B",
         "text": "",
         "type": "scatter",
         "x": [
          -0.11275925141961757,
          0.3476799754393253,
          -0.4222275113565367,
          0.5533885742370918,
          -1.2618938484167306,
          -0.5225563147703599,
          -2.4637488309598474,
          -0.32297644342073123,
          1.655453076134819,
          0.5611652676172526,
          -0.1463547139411557,
          0.22294346660957187,
          -1.2848909161847697,
          -2.8953873095258653,
          -1.2858758734249582,
          0.3150031005153985,
          -0.5241827171605921,
          -0.9677883853597803,
          -0.41615752366769,
          -2.138197601571739,
          -0.4856048104597748,
          -2.208874988217804,
          0.7766175342969884,
          0.003981694482013667,
          -0.5760140059397335,
          1.733478462455027,
          0.648449369253872,
          0.14815875081281407,
          -0.7938797605490059,
          0.5120027211135333,
          -0.4473141501599969,
          0.9570576074312408,
          -0.4167440712465049,
          0.13046875318394702,
          -0.2989690625987172,
          1.8900651522155112,
          -1.134321957221086,
          -0.3371303733545989,
          -0.4949685301033872,
          -2.4028955664079303,
          -1.3764338656713238,
          1.709581760931209,
          -0.8547303860428226,
          -0.3149556010230478,
          -0.374553916081469,
          0.43515801975860335,
          0.09649635852917099,
          1.418215881721197,
          1.1220089708810042,
          -0.20618963037628144,
          0.46011134015735206,
          0.6360593891343618,
          -0.8147195954404538,
          0.06409563637292645,
          0.781220903119957,
          1.0754186229775857,
          -0.07728213237324322,
          0.9616681430757147,
          1.5127215679977948,
          1.8749832102624002,
          0.1977303749530275,
          -0.20031516120938428,
          2.0446348592707735,
          -0.7238402077148619,
          0.8928523950448867,
          -0.09669631361290285,
          1.8832892333063425,
          0.784132498196328,
          0.8290132687489427,
          -0.1585240196211482,
          0.445792973227965,
          1.8722297239655787,
          0.18973706149240266,
          1.244891218326293,
          0.2401429256485272,
          -1.6090592771705234,
          1.5485034332944003,
          0.1653515824228414,
          -0.27592835675953226,
          1.1048075195682239,
          1.3176340005226554,
          0.36589922365388666,
          0.6115832779061945,
          -0.08736946889834596,
          -0.36000692139755774,
          -0.3667361367016704,
          -0.14460340722744572,
          -1.0873584985226108,
          -1.8492459999215174,
          1.0231139215358867,
          0.14559327389942203,
          1.3358572110183067,
          -0.7173796458946975,
          0.4212905502749479,
          -0.4152493201284364,
          1.8217397831118682,
          0.0036652386587695874,
          -1.782871248603041,
          -0.8529133973128455,
          1.596156020677351
         ],
         "xaxis": "x7",
         "y": [
          -0.35851340747689664,
          0.8964559064908013,
          0.8668851979644124,
          1.3201101066639465,
          0.8521632636565618,
          0.1678193389215071,
          0.7956218856845063,
          -1.485779184225525,
          -0.9397594214955171,
          -0.7276192600413182,
          0.48133426516235733,
          -1.5591885658424542,
          -0.686558641849801,
          2.18044367413078,
          -0.8224954720950357,
          0.834264245771014,
          1.1392133327228213,
          -0.056959375116270236,
          -0.08899218349335206,
          -0.770943166891278,
          1.2796388775496115,
          -0.3275552737219343,
          -0.9163903526244046,
          1.0538233753656439,
          -0.6853188384421511,
          -0.6275853279554117,
          0.9179813481937266,
          0.5189780842294516,
          0.3712018800035291,
          -1.8252779744693999,
          -0.34236610898251557,
          -0.019428628026250238,
          -0.8881594465059595,
          0.13060694430664255,
          -0.4121062043857643,
          -0.33180243234711787,
          -0.9683207227407323,
          0.009546301482904817,
          0.1895164509826522,
          -1.372607398389755,
          -0.2182857407326223,
          -0.9615140141635607,
          -0.7493604427082969,
          -0.2067713992218754,
          0.7429830323549378,
          -0.7720878333472194,
          -0.31734743841448415,
          0.3272924971873089,
          1.1832213404981857,
          -0.33702307554729777,
          -0.7105241760247889,
          -0.029703270945312988,
          -0.004807880039269839,
          -1.9973825785516937,
          2.5737789599651775,
          0.865139824506424,
          -1.6945802437900994,
          -0.5994672286457641,
          -0.5028030406421471,
          -0.02329024402120451,
          -0.5017263309388669,
          0.5785837836357898,
          -0.10987225399527062,
          1.6049998267882604,
          1.310629774867115,
          2.0585814106620783,
          -0.37476648312106,
          -0.6251191985799067,
          0.33967135556511246,
          0.09113891525380655,
          -0.2050970211327267,
          0.9770296374343848,
          -0.13155365069047867,
          1.4927636399521946,
          0.047661367603270104,
          -0.16380451935485263,
          -0.2037109505915858,
          0.8456429731125856,
          -2.293700224952948,
          1.14918628891375,
          -1.335207693057455,
          -0.41671154448101944,
          1.199664637188824,
          -0.12133532891653313,
          -0.6475928932098416,
          2.2874969525600846,
          -0.09027141045421477,
          -1.4881781082705703,
          -1.8618720474290251,
          0.2864564719476295,
          -1.0643714350281643,
          0.532804778438827,
          0.07101988852484521,
          1.2534553647894944,
          -0.609962890435716,
          1.301392841865941,
          0.008793702127127,
          0.9942304385437866,
          0.03762531473621305,
          -2.1766597195451514
         ],
         "yaxis": "y7"
        },
        {
         "line": {
          "color": "rgba(128, 128, 128, 1.0)",
          "dash": "solid",
          "shape": "linear",
          "width": 1.3
         },
         "marker": {
          "size": 2,
          "symbol": "circle"
         },
         "mode": "markers",
         "name": "B",
         "text": "",
         "type": "scatter",
         "x": [
          -0.32785208772956326,
          -0.06785803886552143,
          0.20531277500386613,
          1.1951903582338812,
          -1.3976623215796298,
          -0.05871598819976506,
          -0.5294115576305654,
          1.4731210019457235,
          0.4112288382342981,
          -2.5170159355144417,
          0.10801255709274726,
          -0.3807757452226713,
          2.044644936930708,
          0.24499358691169149,
          -0.7666279920351564,
          0.6104682681053788,
          0.3362963098401381,
          -0.8537002883618845,
          -0.5691842677127584,
          0.3133093675134218,
          1.67455516186429,
          0.6624779633708933,
          -2.564941929444399,
          0.9497679680477368,
          -0.26468253669595415,
          -0.8030759549069167,
          1.6064268390110041,
          -0.5904341907257554,
          -0.3253397858315221,
          -0.24463358595745335,
          0.5394263995862915,
          -0.24304145750373965,
          -0.4188003240686415,
          -0.9593082349504745,
          -0.9571437349163218,
          2.4554534048231234,
          1.0456371545377205,
          -0.1603843503282899,
          0.9821803641723885,
          0.22763427608915662,
          -0.1493895459373003,
          0.5712932576948321,
          0.453468290428403,
          0.14368171659714662,
          -1.9274903782955992,
          -0.5360630198493472,
          0.9334914802418602,
          -0.7529071572883291,
          0.041681949193690324,
          -0.41794614524461193,
          1.339952326312011,
          0.566465592776908,
          -0.5974302780754731,
          2.0051855211135137,
          -1.1486865592916764,
          -0.5819448606996918,
          -0.34736492823631593,
          0.026228848500067313,
          1.1794267510272693,
          0.7905500286476467,
          -1.061605327673259,
          -0.7139254327582141,
          -1.341527939318605,
          0.38222804304121344,
          -2.8238152736465336,
          -0.9123395223296985,
          1.8251162865311854,
          0.2797056325200032,
          -0.38842532149643644,
          1.4783250956420955,
          1.5364754691186921,
          1.1896479818453225,
          -1.5938518041805747,
          0.840228873308692,
          -0.7754603383189963,
          2.2701265901423278,
          1.5034880861574493,
          2.2081760131045667,
          1.2588621415207644,
          2.701189047720629,
          -0.2688536704889822,
          0.2367784995191865,
          0.7194877791314278,
          0.4963944188483984,
          -1.0703684430172578,
          -0.9213741542279265,
          -0.009955609904234169,
          -1.7982565873940162,
          0.8761520296140257,
          0.3446337763129536,
          -0.8364595748617735,
          1.746335937290738,
          -0.7441707689549959,
          -0.1276963160568414,
          0.8617653680657681,
          0.6155834742815333,
          0.9728811960262296,
          -0.6265655910074107,
          1.6701753458924138,
          2.3141180106435315
         ],
         "xaxis": "x8",
         "y": [
          -0.35851340747689664,
          0.8964559064908013,
          0.8668851979644124,
          1.3201101066639465,
          0.8521632636565618,
          0.1678193389215071,
          0.7956218856845063,
          -1.485779184225525,
          -0.9397594214955171,
          -0.7276192600413182,
          0.48133426516235733,
          -1.5591885658424542,
          -0.686558641849801,
          2.18044367413078,
          -0.8224954720950357,
          0.834264245771014,
          1.1392133327228213,
          -0.056959375116270236,
          -0.08899218349335206,
          -0.770943166891278,
          1.2796388775496115,
          -0.3275552737219343,
          -0.9163903526244046,
          1.0538233753656439,
          -0.6853188384421511,
          -0.6275853279554117,
          0.9179813481937266,
          0.5189780842294516,
          0.3712018800035291,
          -1.8252779744693999,
          -0.34236610898251557,
          -0.019428628026250238,
          -0.8881594465059595,
          0.13060694430664255,
          -0.4121062043857643,
          -0.33180243234711787,
          -0.9683207227407323,
          0.009546301482904817,
          0.1895164509826522,
          -1.372607398389755,
          -0.2182857407326223,
          -0.9615140141635607,
          -0.7493604427082969,
          -0.2067713992218754,
          0.7429830323549378,
          -0.7720878333472194,
          -0.31734743841448415,
          0.3272924971873089,
          1.1832213404981857,
          -0.33702307554729777,
          -0.7105241760247889,
          -0.029703270945312988,
          -0.004807880039269839,
          -1.9973825785516937,
          2.5737789599651775,
          0.865139824506424,
          -1.6945802437900994,
          -0.5994672286457641,
          -0.5028030406421471,
          -0.02329024402120451,
          -0.5017263309388669,
          0.5785837836357898,
          -0.10987225399527062,
          1.6049998267882604,
          1.310629774867115,
          2.0585814106620783,
          -0.37476648312106,
          -0.6251191985799067,
          0.33967135556511246,
          0.09113891525380655,
          -0.2050970211327267,
          0.9770296374343848,
          -0.13155365069047867,
          1.4927636399521946,
          0.047661367603270104,
          -0.16380451935485263,
          -0.2037109505915858,
          0.8456429731125856,
          -2.293700224952948,
          1.14918628891375,
          -1.335207693057455,
          -0.41671154448101944,
          1.199664637188824,
          -0.12133532891653313,
          -0.6475928932098416,
          2.2874969525600846,
          -0.09027141045421477,
          -1.4881781082705703,
          -1.8618720474290251,
          0.2864564719476295,
          -1.0643714350281643,
          0.532804778438827,
          0.07101988852484521,
          1.2534553647894944,
          -0.609962890435716,
          1.301392841865941,
          0.008793702127127,
          0.9942304385437866,
          0.03762531473621305,
          -2.1766597195451514
         ],
         "yaxis": "y8"
        },
        {
         "line": {
          "color": "rgba(128, 128, 128, 1.0)",
          "dash": "solid",
          "shape": "linear",
          "width": 1.3
         },
         "marker": {
          "size": 2,
          "symbol": "circle"
         },
         "mode": "markers",
         "name": "C",
         "text": "",
         "type": "scatter",
         "x": [
          0.0890236266217388,
          -0.8787154704351006,
          -0.5977533695209157,
          1.0698110062679522,
          -0.7988921083264098,
          0.5832383049156543,
          -0.24864835278907027,
          -0.7060503899937032,
          -0.17782255970080588,
          -0.5971957707353813,
          -0.2848860906535149,
          -0.3742407187026039,
          0.4907659776092099,
          0.8454677262211716,
          -0.2397947222641649,
          -2.0292890390339724,
          -1.2343508942203125,
          -0.581627027911337,
          -1.0059985872873767,
          0.5190498956176977,
          -0.8050834897018041,
          -1.2332096157124222,
          0.24081560942118724,
          0.21907435531661296,
          1.0790880176319952,
          0.28539811590176767,
          0.7275582865688938,
          -1.3737352892335288,
          1.5015902347610783,
          -0.7633820933736835,
          0.24237512494715135,
          0.8172121522015262,
          1.8896732207751532,
          -0.6351466997131315,
          2.005318523682665,
          -0.580700518779291,
          0.7512582762225731,
          -0.8321393543297784,
          -0.3153980856329165,
          -0.02040788440319213,
          -2.2934222272134384,
          1.6394351565028256,
          -0.6005020999661731,
          -0.20898877817830225,
          -0.4939393931678909,
          -1.0223010529305525,
          -1.2450682862014761,
          -0.3750143012290298,
          -0.708562296521142,
          0.38878227084235917,
          -2.0559894255214224,
          1.4177343229429362,
          1.0125524763703015,
          0.2736842677201433,
          -1.690076207277851,
          0.5740214411230689,
          -1.4218587639089526,
          1.131981541075113,
          1.128790595206288,
          -1.7793271621875348,
          0.41361726580124564,
          0.06515589060216231,
          0.4932317233002984,
          -0.7378656158118205,
          -1.2319379637683658,
          -1.0507998526899458,
          1.0849106188488342,
          -0.2797600190915077,
          -1.4551367052371373,
          0.1544462179019029,
          -0.202836471763666,
          -0.71769159845839,
          1.2309494921041828,
          1.2092282398002012,
          0.3235255842564463,
          1.3316864092620504,
          0.1513431336912556,
          0.21827249329865175,
          -0.9835328681268078,
          -1.0362844907669773,
          -0.32551882727349163,
          -1.0723468668606093,
          -0.45027418094012583,
          1.799000436413313,
          -0.7762852907022613,
          -0.3060841118077056,
          -0.20171888994438966,
          1.1142185433582568,
          -0.2855190215679157,
          -0.7151109629949621,
          -0.15342200469247758,
          1.3878568278354564,
          -0.3913794385268874,
          -0.33413504032172014,
          1.2125676256249207,
          -0.6690852370697338,
          0.7818229887533782,
          1.1108926635943865,
          0.9868797129047022,
          0.8217126939072327
         ],
         "xaxis": "x9",
         "y": [
          -0.11275925141961757,
          0.3476799754393253,
          -0.4222275113565367,
          0.5533885742370918,
          -1.2618938484167306,
          -0.5225563147703599,
          -2.4637488309598474,
          -0.32297644342073123,
          1.655453076134819,
          0.5611652676172526,
          -0.1463547139411557,
          0.22294346660957187,
          -1.2848909161847697,
          -2.8953873095258653,
          -1.2858758734249582,
          0.3150031005153985,
          -0.5241827171605921,
          -0.9677883853597803,
          -0.41615752366769,
          -2.138197601571739,
          -0.4856048104597748,
          -2.208874988217804,
          0.7766175342969884,
          0.003981694482013667,
          -0.5760140059397335,
          1.733478462455027,
          0.648449369253872,
          0.14815875081281407,
          -0.7938797605490059,
          0.5120027211135333,
          -0.4473141501599969,
          0.9570576074312408,
          -0.4167440712465049,
          0.13046875318394702,
          -0.2989690625987172,
          1.8900651522155112,
          -1.134321957221086,
          -0.3371303733545989,
          -0.4949685301033872,
          -2.4028955664079303,
          -1.3764338656713238,
          1.709581760931209,
          -0.8547303860428226,
          -0.3149556010230478,
          -0.374553916081469,
          0.43515801975860335,
          0.09649635852917099,
          1.418215881721197,
          1.1220089708810042,
          -0.20618963037628144,
          0.46011134015735206,
          0.6360593891343618,
          -0.8147195954404538,
          0.06409563637292645,
          0.781220903119957,
          1.0754186229775857,
          -0.07728213237324322,
          0.9616681430757147,
          1.5127215679977948,
          1.8749832102624002,
          0.1977303749530275,
          -0.20031516120938428,
          2.0446348592707735,
          -0.7238402077148619,
          0.8928523950448867,
          -0.09669631361290285,
          1.8832892333063425,
          0.784132498196328,
          0.8290132687489427,
          -0.1585240196211482,
          0.445792973227965,
          1.8722297239655787,
          0.18973706149240266,
          1.244891218326293,
          0.2401429256485272,
          -1.6090592771705234,
          1.5485034332944003,
          0.1653515824228414,
          -0.27592835675953226,
          1.1048075195682239,
          1.3176340005226554,
          0.36589922365388666,
          0.6115832779061945,
          -0.08736946889834596,
          -0.36000692139755774,
          -0.3667361367016704,
          -0.14460340722744572,
          -1.0873584985226108,
          -1.8492459999215174,
          1.0231139215358867,
          0.14559327389942203,
          1.3358572110183067,
          -0.7173796458946975,
          0.4212905502749479,
          -0.4152493201284364,
          1.8217397831118682,
          0.0036652386587695874,
          -1.782871248603041,
          -0.8529133973128455,
          1.596156020677351
         ],
         "yaxis": "y9"
        },
        {
         "line": {
          "color": "rgba(128, 128, 128, 1.0)",
          "dash": "solid",
          "shape": "linear",
          "width": 1.3
         },
         "marker": {
          "size": 2,
          "symbol": "circle"
         },
         "mode": "markers",
         "name": "C",
         "text": "",
         "type": "scatter",
         "x": [
          -0.35851340747689664,
          0.8964559064908013,
          0.8668851979644124,
          1.3201101066639465,
          0.8521632636565618,
          0.1678193389215071,
          0.7956218856845063,
          -1.485779184225525,
          -0.9397594214955171,
          -0.7276192600413182,
          0.48133426516235733,
          -1.5591885658424542,
          -0.686558641849801,
          2.18044367413078,
          -0.8224954720950357,
          0.834264245771014,
          1.1392133327228213,
          -0.056959375116270236,
          -0.08899218349335206,
          -0.770943166891278,
          1.2796388775496115,
          -0.3275552737219343,
          -0.9163903526244046,
          1.0538233753656439,
          -0.6853188384421511,
          -0.6275853279554117,
          0.9179813481937266,
          0.5189780842294516,
          0.3712018800035291,
          -1.8252779744693999,
          -0.34236610898251557,
          -0.019428628026250238,
          -0.8881594465059595,
          0.13060694430664255,
          -0.4121062043857643,
          -0.33180243234711787,
          -0.9683207227407323,
          0.009546301482904817,
          0.1895164509826522,
          -1.372607398389755,
          -0.2182857407326223,
          -0.9615140141635607,
          -0.7493604427082969,
          -0.2067713992218754,
          0.7429830323549378,
          -0.7720878333472194,
          -0.31734743841448415,
          0.3272924971873089,
          1.1832213404981857,
          -0.33702307554729777,
          -0.7105241760247889,
          -0.029703270945312988,
          -0.004807880039269839,
          -1.9973825785516937,
          2.5737789599651775,
          0.865139824506424,
          -1.6945802437900994,
          -0.5994672286457641,
          -0.5028030406421471,
          -0.02329024402120451,
          -0.5017263309388669,
          0.5785837836357898,
          -0.10987225399527062,
          1.6049998267882604,
          1.310629774867115,
          2.0585814106620783,
          -0.37476648312106,
          -0.6251191985799067,
          0.33967135556511246,
          0.09113891525380655,
          -0.2050970211327267,
          0.9770296374343848,
          -0.13155365069047867,
          1.4927636399521946,
          0.047661367603270104,
          -0.16380451935485263,
          -0.2037109505915858,
          0.8456429731125856,
          -2.293700224952948,
          1.14918628891375,
          -1.335207693057455,
          -0.41671154448101944,
          1.199664637188824,
          -0.12133532891653313,
          -0.6475928932098416,
          2.2874969525600846,
          -0.09027141045421477,
          -1.4881781082705703,
          -1.8618720474290251,
          0.2864564719476295,
          -1.0643714350281643,
          0.532804778438827,
          0.07101988852484521,
          1.2534553647894944,
          -0.609962890435716,
          1.301392841865941,
          0.008793702127127,
          0.9942304385437866,
          0.03762531473621305,
          -2.1766597195451514
         ],
         "xaxis": "x10",
         "y": [
          -0.11275925141961757,
          0.3476799754393253,
          -0.4222275113565367,
          0.5533885742370918,
          -1.2618938484167306,
          -0.5225563147703599,
          -2.4637488309598474,
          -0.32297644342073123,
          1.655453076134819,
          0.5611652676172526,
          -0.1463547139411557,
          0.22294346660957187,
          -1.2848909161847697,
          -2.8953873095258653,
          -1.2858758734249582,
          0.3150031005153985,
          -0.5241827171605921,
          -0.9677883853597803,
          -0.41615752366769,
          -2.138197601571739,
          -0.4856048104597748,
          -2.208874988217804,
          0.7766175342969884,
          0.003981694482013667,
          -0.5760140059397335,
          1.733478462455027,
          0.648449369253872,
          0.14815875081281407,
          -0.7938797605490059,
          0.5120027211135333,
          -0.4473141501599969,
          0.9570576074312408,
          -0.4167440712465049,
          0.13046875318394702,
          -0.2989690625987172,
          1.8900651522155112,
          -1.134321957221086,
          -0.3371303733545989,
          -0.4949685301033872,
          -2.4028955664079303,
          -1.3764338656713238,
          1.709581760931209,
          -0.8547303860428226,
          -0.3149556010230478,
          -0.374553916081469,
          0.43515801975860335,
          0.09649635852917099,
          1.418215881721197,
          1.1220089708810042,
          -0.20618963037628144,
          0.46011134015735206,
          0.6360593891343618,
          -0.8147195954404538,
          0.06409563637292645,
          0.781220903119957,
          1.0754186229775857,
          -0.07728213237324322,
          0.9616681430757147,
          1.5127215679977948,
          1.8749832102624002,
          0.1977303749530275,
          -0.20031516120938428,
          2.0446348592707735,
          -0.7238402077148619,
          0.8928523950448867,
          -0.09669631361290285,
          1.8832892333063425,
          0.784132498196328,
          0.8290132687489427,
          -0.1585240196211482,
          0.445792973227965,
          1.8722297239655787,
          0.18973706149240266,
          1.244891218326293,
          0.2401429256485272,
          -1.6090592771705234,
          1.5485034332944003,
          0.1653515824228414,
          -0.27592835675953226,
          1.1048075195682239,
          1.3176340005226554,
          0.36589922365388666,
          0.6115832779061945,
          -0.08736946889834596,
          -0.36000692139755774,
          -0.3667361367016704,
          -0.14460340722744572,
          -1.0873584985226108,
          -1.8492459999215174,
          1.0231139215358867,
          0.14559327389942203,
          1.3358572110183067,
          -0.7173796458946975,
          0.4212905502749479,
          -0.4152493201284364,
          1.8217397831118682,
          0.0036652386587695874,
          -1.782871248603041,
          -0.8529133973128455,
          1.596156020677351
         ],
         "yaxis": "y10"
        },
        {
         "histfunc": "count",
         "histnorm": "",
         "marker": {
          "color": "rgba(50, 171, 96, 1.0)",
          "line": {
           "color": "#4D5663",
           "width": 1.3
          }
         },
         "name": "C",
         "nbinsx": 10,
         "opacity": 0.8,
         "orientation": "v",
         "type": "histogram",
         "x": [
          -0.11275925141961757,
          0.3476799754393253,
          -0.4222275113565367,
          0.5533885742370918,
          -1.2618938484167306,
          -0.5225563147703599,
          -2.4637488309598474,
          -0.32297644342073123,
          1.655453076134819,
          0.5611652676172526,
          -0.1463547139411557,
          0.22294346660957187,
          -1.2848909161847697,
          -2.8953873095258653,
          -1.2858758734249582,
          0.3150031005153985,
          -0.5241827171605921,
          -0.9677883853597803,
          -0.41615752366769,
          -2.138197601571739,
          -0.4856048104597748,
          -2.208874988217804,
          0.7766175342969884,
          0.003981694482013667,
          -0.5760140059397335,
          1.733478462455027,
          0.648449369253872,
          0.14815875081281407,
          -0.7938797605490059,
          0.5120027211135333,
          -0.4473141501599969,
          0.9570576074312408,
          -0.4167440712465049,
          0.13046875318394702,
          -0.2989690625987172,
          1.8900651522155112,
          -1.134321957221086,
          -0.3371303733545989,
          -0.4949685301033872,
          -2.4028955664079303,
          -1.3764338656713238,
          1.709581760931209,
          -0.8547303860428226,
          -0.3149556010230478,
          -0.374553916081469,
          0.43515801975860335,
          0.09649635852917099,
          1.418215881721197,
          1.1220089708810042,
          -0.20618963037628144,
          0.46011134015735206,
          0.6360593891343618,
          -0.8147195954404538,
          0.06409563637292645,
          0.781220903119957,
          1.0754186229775857,
          -0.07728213237324322,
          0.9616681430757147,
          1.5127215679977948,
          1.8749832102624002,
          0.1977303749530275,
          -0.20031516120938428,
          2.0446348592707735,
          -0.7238402077148619,
          0.8928523950448867,
          -0.09669631361290285,
          1.8832892333063425,
          0.784132498196328,
          0.8290132687489427,
          -0.1585240196211482,
          0.445792973227965,
          1.8722297239655787,
          0.18973706149240266,
          1.244891218326293,
          0.2401429256485272,
          -1.6090592771705234,
          1.5485034332944003,
          0.1653515824228414,
          -0.27592835675953226,
          1.1048075195682239,
          1.3176340005226554,
          0.36589922365388666,
          0.6115832779061945,
          -0.08736946889834596,
          -0.36000692139755774,
          -0.3667361367016704,
          -0.14460340722744572,
          -1.0873584985226108,
          -1.8492459999215174,
          1.0231139215358867,
          0.14559327389942203,
          1.3358572110183067,
          -0.7173796458946975,
          0.4212905502749479,
          -0.4152493201284364,
          1.8217397831118682,
          0.0036652386587695874,
          -1.782871248603041,
          -0.8529133973128455,
          1.596156020677351
         ],
         "xaxis": "x11",
         "yaxis": "y11"
        },
        {
         "line": {
          "color": "rgba(128, 128, 128, 1.0)",
          "dash": "solid",
          "shape": "linear",
          "width": 1.3
         },
         "marker": {
          "size": 2,
          "symbol": "circle"
         },
         "mode": "markers",
         "name": "C",
         "text": "",
         "type": "scatter",
         "x": [
          -0.32785208772956326,
          -0.06785803886552143,
          0.20531277500386613,
          1.1951903582338812,
          -1.3976623215796298,
          -0.05871598819976506,
          -0.5294115576305654,
          1.4731210019457235,
          0.4112288382342981,
          -2.5170159355144417,
          0.10801255709274726,
          -0.3807757452226713,
          2.044644936930708,
          0.24499358691169149,
          -0.7666279920351564,
          0.6104682681053788,
          0.3362963098401381,
          -0.8537002883618845,
          -0.5691842677127584,
          0.3133093675134218,
          1.67455516186429,
          0.6624779633708933,
          -2.564941929444399,
          0.9497679680477368,
          -0.26468253669595415,
          -0.8030759549069167,
          1.6064268390110041,
          -0.5904341907257554,
          -0.3253397858315221,
          -0.24463358595745335,
          0.5394263995862915,
          -0.24304145750373965,
          -0.4188003240686415,
          -0.9593082349504745,
          -0.9571437349163218,
          2.4554534048231234,
          1.0456371545377205,
          -0.1603843503282899,
          0.9821803641723885,
          0.22763427608915662,
          -0.1493895459373003,
          0.5712932576948321,
          0.453468290428403,
          0.14368171659714662,
          -1.9274903782955992,
          -0.5360630198493472,
          0.9334914802418602,
          -0.7529071572883291,
          0.041681949193690324,
          -0.41794614524461193,
          1.339952326312011,
          0.566465592776908,
          -0.5974302780754731,
          2.0051855211135137,
          -1.1486865592916764,
          -0.5819448606996918,
          -0.34736492823631593,
          0.026228848500067313,
          1.1794267510272693,
          0.7905500286476467,
          -1.061605327673259,
          -0.7139254327582141,
          -1.341527939318605,
          0.38222804304121344,
          -2.8238152736465336,
          -0.9123395223296985,
          1.8251162865311854,
          0.2797056325200032,
          -0.38842532149643644,
          1.4783250956420955,
          1.5364754691186921,
          1.1896479818453225,
          -1.5938518041805747,
          0.840228873308692,
          -0.7754603383189963,
          2.2701265901423278,
          1.5034880861574493,
          2.2081760131045667,
          1.2588621415207644,
          2.701189047720629,
          -0.2688536704889822,
          0.2367784995191865,
          0.7194877791314278,
          0.4963944188483984,
          -1.0703684430172578,
          -0.9213741542279265,
          -0.009955609904234169,
          -1.7982565873940162,
          0.8761520296140257,
          0.3446337763129536,
          -0.8364595748617735,
          1.746335937290738,
          -0.7441707689549959,
          -0.1276963160568414,
          0.8617653680657681,
          0.6155834742815333,
          0.9728811960262296,
          -0.6265655910074107,
          1.6701753458924138,
          2.3141180106435315
         ],
         "xaxis": "x12",
         "y": [
          -0.11275925141961757,
          0.3476799754393253,
          -0.4222275113565367,
          0.5533885742370918,
          -1.2618938484167306,
          -0.5225563147703599,
          -2.4637488309598474,
          -0.32297644342073123,
          1.655453076134819,
          0.5611652676172526,
          -0.1463547139411557,
          0.22294346660957187,
          -1.2848909161847697,
          -2.8953873095258653,
          -1.2858758734249582,
          0.3150031005153985,
          -0.5241827171605921,
          -0.9677883853597803,
          -0.41615752366769,
          -2.138197601571739,
          -0.4856048104597748,
          -2.208874988217804,
          0.7766175342969884,
          0.003981694482013667,
          -0.5760140059397335,
          1.733478462455027,
          0.648449369253872,
          0.14815875081281407,
          -0.7938797605490059,
          0.5120027211135333,
          -0.4473141501599969,
          0.9570576074312408,
          -0.4167440712465049,
          0.13046875318394702,
          -0.2989690625987172,
          1.8900651522155112,
          -1.134321957221086,
          -0.3371303733545989,
          -0.4949685301033872,
          -2.4028955664079303,
          -1.3764338656713238,
          1.709581760931209,
          -0.8547303860428226,
          -0.3149556010230478,
          -0.374553916081469,
          0.43515801975860335,
          0.09649635852917099,
          1.418215881721197,
          1.1220089708810042,
          -0.20618963037628144,
          0.46011134015735206,
          0.6360593891343618,
          -0.8147195954404538,
          0.06409563637292645,
          0.781220903119957,
          1.0754186229775857,
          -0.07728213237324322,
          0.9616681430757147,
          1.5127215679977948,
          1.8749832102624002,
          0.1977303749530275,
          -0.20031516120938428,
          2.0446348592707735,
          -0.7238402077148619,
          0.8928523950448867,
          -0.09669631361290285,
          1.8832892333063425,
          0.784132498196328,
          0.8290132687489427,
          -0.1585240196211482,
          0.445792973227965,
          1.8722297239655787,
          0.18973706149240266,
          1.244891218326293,
          0.2401429256485272,
          -1.6090592771705234,
          1.5485034332944003,
          0.1653515824228414,
          -0.27592835675953226,
          1.1048075195682239,
          1.3176340005226554,
          0.36589922365388666,
          0.6115832779061945,
          -0.08736946889834596,
          -0.36000692139755774,
          -0.3667361367016704,
          -0.14460340722744572,
          -1.0873584985226108,
          -1.8492459999215174,
          1.0231139215358867,
          0.14559327389942203,
          1.3358572110183067,
          -0.7173796458946975,
          0.4212905502749479,
          -0.4152493201284364,
          1.8217397831118682,
          0.0036652386587695874,
          -1.782871248603041,
          -0.8529133973128455,
          1.596156020677351
         ],
         "yaxis": "y12"
        },
        {
         "line": {
          "color": "rgba(128, 128, 128, 1.0)",
          "dash": "solid",
          "shape": "linear",
          "width": 1.3
         },
         "marker": {
          "size": 2,
          "symbol": "circle"
         },
         "mode": "markers",
         "name": "D",
         "text": "",
         "type": "scatter",
         "x": [
          0.0890236266217388,
          -0.8787154704351006,
          -0.5977533695209157,
          1.0698110062679522,
          -0.7988921083264098,
          0.5832383049156543,
          -0.24864835278907027,
          -0.7060503899937032,
          -0.17782255970080588,
          -0.5971957707353813,
          -0.2848860906535149,
          -0.3742407187026039,
          0.4907659776092099,
          0.8454677262211716,
          -0.2397947222641649,
          -2.0292890390339724,
          -1.2343508942203125,
          -0.581627027911337,
          -1.0059985872873767,
          0.5190498956176977,
          -0.8050834897018041,
          -1.2332096157124222,
          0.24081560942118724,
          0.21907435531661296,
          1.0790880176319952,
          0.28539811590176767,
          0.7275582865688938,
          -1.3737352892335288,
          1.5015902347610783,
          -0.7633820933736835,
          0.24237512494715135,
          0.8172121522015262,
          1.8896732207751532,
          -0.6351466997131315,
          2.005318523682665,
          -0.580700518779291,
          0.7512582762225731,
          -0.8321393543297784,
          -0.3153980856329165,
          -0.02040788440319213,
          -2.2934222272134384,
          1.6394351565028256,
          -0.6005020999661731,
          -0.20898877817830225,
          -0.4939393931678909,
          -1.0223010529305525,
          -1.2450682862014761,
          -0.3750143012290298,
          -0.708562296521142,
          0.38878227084235917,
          -2.0559894255214224,
          1.4177343229429362,
          1.0125524763703015,
          0.2736842677201433,
          -1.690076207277851,
          0.5740214411230689,
          -1.4218587639089526,
          1.131981541075113,
          1.128790595206288,
          -1.7793271621875348,
          0.41361726580124564,
          0.06515589060216231,
          0.4932317233002984,
          -0.7378656158118205,
          -1.2319379637683658,
          -1.0507998526899458,
          1.0849106188488342,
          -0.2797600190915077,
          -1.4551367052371373,
          0.1544462179019029,
          -0.202836471763666,
          -0.71769159845839,
          1.2309494921041828,
          1.2092282398002012,
          0.3235255842564463,
          1.3316864092620504,
          0.1513431336912556,
          0.21827249329865175,
          -0.9835328681268078,
          -1.0362844907669773,
          -0.32551882727349163,
          -1.0723468668606093,
          -0.45027418094012583,
          1.799000436413313,
          -0.7762852907022613,
          -0.3060841118077056,
          -0.20171888994438966,
          1.1142185433582568,
          -0.2855190215679157,
          -0.7151109629949621,
          -0.15342200469247758,
          1.3878568278354564,
          -0.3913794385268874,
          -0.33413504032172014,
          1.2125676256249207,
          -0.6690852370697338,
          0.7818229887533782,
          1.1108926635943865,
          0.9868797129047022,
          0.8217126939072327
         ],
         "xaxis": "x13",
         "y": [
          -0.32785208772956326,
          -0.06785803886552143,
          0.20531277500386613,
          1.1951903582338812,
          -1.3976623215796298,
          -0.05871598819976506,
          -0.5294115576305654,
          1.4731210019457235,
          0.4112288382342981,
          -2.5170159355144417,
          0.10801255709274726,
          -0.3807757452226713,
          2.044644936930708,
          0.24499358691169149,
          -0.7666279920351564,
          0.6104682681053788,
          0.3362963098401381,
          -0.8537002883618845,
          -0.5691842677127584,
          0.3133093675134218,
          1.67455516186429,
          0.6624779633708933,
          -2.564941929444399,
          0.9497679680477368,
          -0.26468253669595415,
          -0.8030759549069167,
          1.6064268390110041,
          -0.5904341907257554,
          -0.3253397858315221,
          -0.24463358595745335,
          0.5394263995862915,
          -0.24304145750373965,
          -0.4188003240686415,
          -0.9593082349504745,
          -0.9571437349163218,
          2.4554534048231234,
          1.0456371545377205,
          -0.1603843503282899,
          0.9821803641723885,
          0.22763427608915662,
          -0.1493895459373003,
          0.5712932576948321,
          0.453468290428403,
          0.14368171659714662,
          -1.9274903782955992,
          -0.5360630198493472,
          0.9334914802418602,
          -0.7529071572883291,
          0.041681949193690324,
          -0.41794614524461193,
          1.339952326312011,
          0.566465592776908,
          -0.5974302780754731,
          2.0051855211135137,
          -1.1486865592916764,
          -0.5819448606996918,
          -0.34736492823631593,
          0.026228848500067313,
          1.1794267510272693,
          0.7905500286476467,
          -1.061605327673259,
          -0.7139254327582141,
          -1.341527939318605,
          0.38222804304121344,
          -2.8238152736465336,
          -0.9123395223296985,
          1.8251162865311854,
          0.2797056325200032,
          -0.38842532149643644,
          1.4783250956420955,
          1.5364754691186921,
          1.1896479818453225,
          -1.5938518041805747,
          0.840228873308692,
          -0.7754603383189963,
          2.2701265901423278,
          1.5034880861574493,
          2.2081760131045667,
          1.2588621415207644,
          2.701189047720629,
          -0.2688536704889822,
          0.2367784995191865,
          0.7194877791314278,
          0.4963944188483984,
          -1.0703684430172578,
          -0.9213741542279265,
          -0.009955609904234169,
          -1.7982565873940162,
          0.8761520296140257,
          0.3446337763129536,
          -0.8364595748617735,
          1.746335937290738,
          -0.7441707689549959,
          -0.1276963160568414,
          0.8617653680657681,
          0.6155834742815333,
          0.9728811960262296,
          -0.6265655910074107,
          1.6701753458924138,
          2.3141180106435315
         ],
         "yaxis": "y13"
        },
        {
         "line": {
          "color": "rgba(128, 128, 128, 1.0)",
          "dash": "solid",
          "shape": "linear",
          "width": 1.3
         },
         "marker": {
          "size": 2,
          "symbol": "circle"
         },
         "mode": "markers",
         "name": "D",
         "text": "",
         "type": "scatter",
         "x": [
          -0.35851340747689664,
          0.8964559064908013,
          0.8668851979644124,
          1.3201101066639465,
          0.8521632636565618,
          0.1678193389215071,
          0.7956218856845063,
          -1.485779184225525,
          -0.9397594214955171,
          -0.7276192600413182,
          0.48133426516235733,
          -1.5591885658424542,
          -0.686558641849801,
          2.18044367413078,
          -0.8224954720950357,
          0.834264245771014,
          1.1392133327228213,
          -0.056959375116270236,
          -0.08899218349335206,
          -0.770943166891278,
          1.2796388775496115,
          -0.3275552737219343,
          -0.9163903526244046,
          1.0538233753656439,
          -0.6853188384421511,
          -0.6275853279554117,
          0.9179813481937266,
          0.5189780842294516,
          0.3712018800035291,
          -1.8252779744693999,
          -0.34236610898251557,
          -0.019428628026250238,
          -0.8881594465059595,
          0.13060694430664255,
          -0.4121062043857643,
          -0.33180243234711787,
          -0.9683207227407323,
          0.009546301482904817,
          0.1895164509826522,
          -1.372607398389755,
          -0.2182857407326223,
          -0.9615140141635607,
          -0.7493604427082969,
          -0.2067713992218754,
          0.7429830323549378,
          -0.7720878333472194,
          -0.31734743841448415,
          0.3272924971873089,
          1.1832213404981857,
          -0.33702307554729777,
          -0.7105241760247889,
          -0.029703270945312988,
          -0.004807880039269839,
          -1.9973825785516937,
          2.5737789599651775,
          0.865139824506424,
          -1.6945802437900994,
          -0.5994672286457641,
          -0.5028030406421471,
          -0.02329024402120451,
          -0.5017263309388669,
          0.5785837836357898,
          -0.10987225399527062,
          1.6049998267882604,
          1.310629774867115,
          2.0585814106620783,
          -0.37476648312106,
          -0.6251191985799067,
          0.33967135556511246,
          0.09113891525380655,
          -0.2050970211327267,
          0.9770296374343848,
          -0.13155365069047867,
          1.4927636399521946,
          0.047661367603270104,
          -0.16380451935485263,
          -0.2037109505915858,
          0.8456429731125856,
          -2.293700224952948,
          1.14918628891375,
          -1.335207693057455,
          -0.41671154448101944,
          1.199664637188824,
          -0.12133532891653313,
          -0.6475928932098416,
          2.2874969525600846,
          -0.09027141045421477,
          -1.4881781082705703,
          -1.8618720474290251,
          0.2864564719476295,
          -1.0643714350281643,
          0.532804778438827,
          0.07101988852484521,
          1.2534553647894944,
          -0.609962890435716,
          1.301392841865941,
          0.008793702127127,
          0.9942304385437866,
          0.03762531473621305,
          -2.1766597195451514
         ],
         "xaxis": "x14",
         "y": [
          -0.32785208772956326,
          -0.06785803886552143,
          0.20531277500386613,
          1.1951903582338812,
          -1.3976623215796298,
          -0.05871598819976506,
          -0.5294115576305654,
          1.4731210019457235,
          0.4112288382342981,
          -2.5170159355144417,
          0.10801255709274726,
          -0.3807757452226713,
          2.044644936930708,
          0.24499358691169149,
          -0.7666279920351564,
          0.6104682681053788,
          0.3362963098401381,
          -0.8537002883618845,
          -0.5691842677127584,
          0.3133093675134218,
          1.67455516186429,
          0.6624779633708933,
          -2.564941929444399,
          0.9497679680477368,
          -0.26468253669595415,
          -0.8030759549069167,
          1.6064268390110041,
          -0.5904341907257554,
          -0.3253397858315221,
          -0.24463358595745335,
          0.5394263995862915,
          -0.24304145750373965,
          -0.4188003240686415,
          -0.9593082349504745,
          -0.9571437349163218,
          2.4554534048231234,
          1.0456371545377205,
          -0.1603843503282899,
          0.9821803641723885,
          0.22763427608915662,
          -0.1493895459373003,
          0.5712932576948321,
          0.453468290428403,
          0.14368171659714662,
          -1.9274903782955992,
          -0.5360630198493472,
          0.9334914802418602,
          -0.7529071572883291,
          0.041681949193690324,
          -0.41794614524461193,
          1.339952326312011,
          0.566465592776908,
          -0.5974302780754731,
          2.0051855211135137,
          -1.1486865592916764,
          -0.5819448606996918,
          -0.34736492823631593,
          0.026228848500067313,
          1.1794267510272693,
          0.7905500286476467,
          -1.061605327673259,
          -0.7139254327582141,
          -1.341527939318605,
          0.38222804304121344,
          -2.8238152736465336,
          -0.9123395223296985,
          1.8251162865311854,
          0.2797056325200032,
          -0.38842532149643644,
          1.4783250956420955,
          1.5364754691186921,
          1.1896479818453225,
          -1.5938518041805747,
          0.840228873308692,
          -0.7754603383189963,
          2.2701265901423278,
          1.5034880861574493,
          2.2081760131045667,
          1.2588621415207644,
          2.701189047720629,
          -0.2688536704889822,
          0.2367784995191865,
          0.7194877791314278,
          0.4963944188483984,
          -1.0703684430172578,
          -0.9213741542279265,
          -0.009955609904234169,
          -1.7982565873940162,
          0.8761520296140257,
          0.3446337763129536,
          -0.8364595748617735,
          1.746335937290738,
          -0.7441707689549959,
          -0.1276963160568414,
          0.8617653680657681,
          0.6155834742815333,
          0.9728811960262296,
          -0.6265655910074107,
          1.6701753458924138,
          2.3141180106435315
         ],
         "yaxis": "y14"
        },
        {
         "line": {
          "color": "rgba(128, 128, 128, 1.0)",
          "dash": "solid",
          "shape": "linear",
          "width": 1.3
         },
         "marker": {
          "size": 2,
          "symbol": "circle"
         },
         "mode": "markers",
         "name": "D",
         "text": "",
         "type": "scatter",
         "x": [
          -0.11275925141961757,
          0.3476799754393253,
          -0.4222275113565367,
          0.5533885742370918,
          -1.2618938484167306,
          -0.5225563147703599,
          -2.4637488309598474,
          -0.32297644342073123,
          1.655453076134819,
          0.5611652676172526,
          -0.1463547139411557,
          0.22294346660957187,
          -1.2848909161847697,
          -2.8953873095258653,
          -1.2858758734249582,
          0.3150031005153985,
          -0.5241827171605921,
          -0.9677883853597803,
          -0.41615752366769,
          -2.138197601571739,
          -0.4856048104597748,
          -2.208874988217804,
          0.7766175342969884,
          0.003981694482013667,
          -0.5760140059397335,
          1.733478462455027,
          0.648449369253872,
          0.14815875081281407,
          -0.7938797605490059,
          0.5120027211135333,
          -0.4473141501599969,
          0.9570576074312408,
          -0.4167440712465049,
          0.13046875318394702,
          -0.2989690625987172,
          1.8900651522155112,
          -1.134321957221086,
          -0.3371303733545989,
          -0.4949685301033872,
          -2.4028955664079303,
          -1.3764338656713238,
          1.709581760931209,
          -0.8547303860428226,
          -0.3149556010230478,
          -0.374553916081469,
          0.43515801975860335,
          0.09649635852917099,
          1.418215881721197,
          1.1220089708810042,
          -0.20618963037628144,
          0.46011134015735206,
          0.6360593891343618,
          -0.8147195954404538,
          0.06409563637292645,
          0.781220903119957,
          1.0754186229775857,
          -0.07728213237324322,
          0.9616681430757147,
          1.5127215679977948,
          1.8749832102624002,
          0.1977303749530275,
          -0.20031516120938428,
          2.0446348592707735,
          -0.7238402077148619,
          0.8928523950448867,
          -0.09669631361290285,
          1.8832892333063425,
          0.784132498196328,
          0.8290132687489427,
          -0.1585240196211482,
          0.445792973227965,
          1.8722297239655787,
          0.18973706149240266,
          1.244891218326293,
          0.2401429256485272,
          -1.6090592771705234,
          1.5485034332944003,
          0.1653515824228414,
          -0.27592835675953226,
          1.1048075195682239,
          1.3176340005226554,
          0.36589922365388666,
          0.6115832779061945,
          -0.08736946889834596,
          -0.36000692139755774,
          -0.3667361367016704,
          -0.14460340722744572,
          -1.0873584985226108,
          -1.8492459999215174,
          1.0231139215358867,
          0.14559327389942203,
          1.3358572110183067,
          -0.7173796458946975,
          0.4212905502749479,
          -0.4152493201284364,
          1.8217397831118682,
          0.0036652386587695874,
          -1.782871248603041,
          -0.8529133973128455,
          1.596156020677351
         ],
         "xaxis": "x15",
         "y": [
          -0.32785208772956326,
          -0.06785803886552143,
          0.20531277500386613,
          1.1951903582338812,
          -1.3976623215796298,
          -0.05871598819976506,
          -0.5294115576305654,
          1.4731210019457235,
          0.4112288382342981,
          -2.5170159355144417,
          0.10801255709274726,
          -0.3807757452226713,
          2.044644936930708,
          0.24499358691169149,
          -0.7666279920351564,
          0.6104682681053788,
          0.3362963098401381,
          -0.8537002883618845,
          -0.5691842677127584,
          0.3133093675134218,
          1.67455516186429,
          0.6624779633708933,
          -2.564941929444399,
          0.9497679680477368,
          -0.26468253669595415,
          -0.8030759549069167,
          1.6064268390110041,
          -0.5904341907257554,
          -0.3253397858315221,
          -0.24463358595745335,
          0.5394263995862915,
          -0.24304145750373965,
          -0.4188003240686415,
          -0.9593082349504745,
          -0.9571437349163218,
          2.4554534048231234,
          1.0456371545377205,
          -0.1603843503282899,
          0.9821803641723885,
          0.22763427608915662,
          -0.1493895459373003,
          0.5712932576948321,
          0.453468290428403,
          0.14368171659714662,
          -1.9274903782955992,
          -0.5360630198493472,
          0.9334914802418602,
          -0.7529071572883291,
          0.041681949193690324,
          -0.41794614524461193,
          1.339952326312011,
          0.566465592776908,
          -0.5974302780754731,
          2.0051855211135137,
          -1.1486865592916764,
          -0.5819448606996918,
          -0.34736492823631593,
          0.026228848500067313,
          1.1794267510272693,
          0.7905500286476467,
          -1.061605327673259,
          -0.7139254327582141,
          -1.341527939318605,
          0.38222804304121344,
          -2.8238152736465336,
          -0.9123395223296985,
          1.8251162865311854,
          0.2797056325200032,
          -0.38842532149643644,
          1.4783250956420955,
          1.5364754691186921,
          1.1896479818453225,
          -1.5938518041805747,
          0.840228873308692,
          -0.7754603383189963,
          2.2701265901423278,
          1.5034880861574493,
          2.2081760131045667,
          1.2588621415207644,
          2.701189047720629,
          -0.2688536704889822,
          0.2367784995191865,
          0.7194877791314278,
          0.4963944188483984,
          -1.0703684430172578,
          -0.9213741542279265,
          -0.009955609904234169,
          -1.7982565873940162,
          0.8761520296140257,
          0.3446337763129536,
          -0.8364595748617735,
          1.746335937290738,
          -0.7441707689549959,
          -0.1276963160568414,
          0.8617653680657681,
          0.6155834742815333,
          0.9728811960262296,
          -0.6265655910074107,
          1.6701753458924138,
          2.3141180106435315
         ],
         "yaxis": "y15"
        },
        {
         "histfunc": "count",
         "histnorm": "",
         "marker": {
          "color": "rgba(128, 0, 128, 1.0)",
          "line": {
           "color": "#4D5663",
           "width": 1.3
          }
         },
         "name": "D",
         "nbinsx": 10,
         "opacity": 0.8,
         "orientation": "v",
         "type": "histogram",
         "x": [
          -0.32785208772956326,
          -0.06785803886552143,
          0.20531277500386613,
          1.1951903582338812,
          -1.3976623215796298,
          -0.05871598819976506,
          -0.5294115576305654,
          1.4731210019457235,
          0.4112288382342981,
          -2.5170159355144417,
          0.10801255709274726,
          -0.3807757452226713,
          2.044644936930708,
          0.24499358691169149,
          -0.7666279920351564,
          0.6104682681053788,
          0.3362963098401381,
          -0.8537002883618845,
          -0.5691842677127584,
          0.3133093675134218,
          1.67455516186429,
          0.6624779633708933,
          -2.564941929444399,
          0.9497679680477368,
          -0.26468253669595415,
          -0.8030759549069167,
          1.6064268390110041,
          -0.5904341907257554,
          -0.3253397858315221,
          -0.24463358595745335,
          0.5394263995862915,
          -0.24304145750373965,
          -0.4188003240686415,
          -0.9593082349504745,
          -0.9571437349163218,
          2.4554534048231234,
          1.0456371545377205,
          -0.1603843503282899,
          0.9821803641723885,
          0.22763427608915662,
          -0.1493895459373003,
          0.5712932576948321,
          0.453468290428403,
          0.14368171659714662,
          -1.9274903782955992,
          -0.5360630198493472,
          0.9334914802418602,
          -0.7529071572883291,
          0.041681949193690324,
          -0.41794614524461193,
          1.339952326312011,
          0.566465592776908,
          -0.5974302780754731,
          2.0051855211135137,
          -1.1486865592916764,
          -0.5819448606996918,
          -0.34736492823631593,
          0.026228848500067313,
          1.1794267510272693,
          0.7905500286476467,
          -1.061605327673259,
          -0.7139254327582141,
          -1.341527939318605,
          0.38222804304121344,
          -2.8238152736465336,
          -0.9123395223296985,
          1.8251162865311854,
          0.2797056325200032,
          -0.38842532149643644,
          1.4783250956420955,
          1.5364754691186921,
          1.1896479818453225,
          -1.5938518041805747,
          0.840228873308692,
          -0.7754603383189963,
          2.2701265901423278,
          1.5034880861574493,
          2.2081760131045667,
          1.2588621415207644,
          2.701189047720629,
          -0.2688536704889822,
          0.2367784995191865,
          0.7194877791314278,
          0.4963944188483984,
          -1.0703684430172578,
          -0.9213741542279265,
          -0.009955609904234169,
          -1.7982565873940162,
          0.8761520296140257,
          0.3446337763129536,
          -0.8364595748617735,
          1.746335937290738,
          -0.7441707689549959,
          -0.1276963160568414,
          0.8617653680657681,
          0.6155834742815333,
          0.9728811960262296,
          -0.6265655910074107,
          1.6701753458924138,
          2.3141180106435315
         ],
         "xaxis": "x16",
         "yaxis": "y16"
        }
       ],
       "layout": {
        "bargap": 0.02,
        "legend": {
         "bgcolor": "#F5F6F9",
         "font": {
          "color": "#4D5663"
         }
        },
        "paper_bgcolor": "#F5F6F9",
        "plot_bgcolor": "#F5F6F9",
        "showlegend": false,
        "template": {
         "data": {
          "bar": [
           {
            "error_x": {
             "color": "#2a3f5f"
            },
            "error_y": {
             "color": "#2a3f5f"
            },
            "marker": {
             "line": {
              "color": "#E5ECF6",
              "width": 0.5
             }
            },
            "type": "bar"
           }
          ],
          "barpolar": [
           {
            "marker": {
             "line": {
              "color": "#E5ECF6",
              "width": 0.5
             }
            },
            "type": "barpolar"
           }
          ],
          "carpet": [
           {
            "aaxis": {
             "endlinecolor": "#2a3f5f",
             "gridcolor": "white",
             "linecolor": "white",
             "minorgridcolor": "white",
             "startlinecolor": "#2a3f5f"
            },
            "baxis": {
             "endlinecolor": "#2a3f5f",
             "gridcolor": "white",
             "linecolor": "white",
             "minorgridcolor": "white",
             "startlinecolor": "#2a3f5f"
            },
            "type": "carpet"
           }
          ],
          "choropleth": [
           {
            "colorbar": {
             "outlinewidth": 0,
             "ticks": ""
            },
            "type": "choropleth"
           }
          ],
          "contour": [
           {
            "colorbar": {
             "outlinewidth": 0,
             "ticks": ""
            },
            "colorscale": [
             [
              0,
              "#0d0887"
             ],
             [
              0.1111111111111111,
              "#46039f"
             ],
             [
              0.2222222222222222,
              "#7201a8"
             ],
             [
              0.3333333333333333,
              "#9c179e"
             ],
             [
              0.4444444444444444,
              "#bd3786"
             ],
             [
              0.5555555555555556,
              "#d8576b"
             ],
             [
              0.6666666666666666,
              "#ed7953"
             ],
             [
              0.7777777777777778,
              "#fb9f3a"
             ],
             [
              0.8888888888888888,
              "#fdca26"
             ],
             [
              1,
              "#f0f921"
             ]
            ],
            "type": "contour"
           }
          ],
          "contourcarpet": [
           {
            "colorbar": {
             "outlinewidth": 0,
             "ticks": ""
            },
            "type": "contourcarpet"
           }
          ],
          "heatmap": [
           {
            "colorbar": {
             "outlinewidth": 0,
             "ticks": ""
            },
            "colorscale": [
             [
              0,
              "#0d0887"
             ],
             [
              0.1111111111111111,
              "#46039f"
             ],
             [
              0.2222222222222222,
              "#7201a8"
             ],
             [
              0.3333333333333333,
              "#9c179e"
             ],
             [
              0.4444444444444444,
              "#bd3786"
             ],
             [
              0.5555555555555556,
              "#d8576b"
             ],
             [
              0.6666666666666666,
              "#ed7953"
             ],
             [
              0.7777777777777778,
              "#fb9f3a"
             ],
             [
              0.8888888888888888,
              "#fdca26"
             ],
             [
              1,
              "#f0f921"
             ]
            ],
            "type": "heatmap"
           }
          ],
          "heatmapgl": [
           {
            "colorbar": {
             "outlinewidth": 0,
             "ticks": ""
            },
            "colorscale": [
             [
              0,
              "#0d0887"
             ],
             [
              0.1111111111111111,
              "#46039f"
             ],
             [
              0.2222222222222222,
              "#7201a8"
             ],
             [
              0.3333333333333333,
              "#9c179e"
             ],
             [
              0.4444444444444444,
              "#bd3786"
             ],
             [
              0.5555555555555556,
              "#d8576b"
             ],
             [
              0.6666666666666666,
              "#ed7953"
             ],
             [
              0.7777777777777778,
              "#fb9f3a"
             ],
             [
              0.8888888888888888,
              "#fdca26"
             ],
             [
              1,
              "#f0f921"
             ]
            ],
            "type": "heatmapgl"
           }
          ],
          "histogram": [
           {
            "marker": {
             "colorbar": {
              "outlinewidth": 0,
              "ticks": ""
             }
            },
            "type": "histogram"
           }
          ],
          "histogram2d": [
           {
            "colorbar": {
             "outlinewidth": 0,
             "ticks": ""
            },
            "colorscale": [
             [
              0,
              "#0d0887"
             ],
             [
              0.1111111111111111,
              "#46039f"
             ],
             [
              0.2222222222222222,
              "#7201a8"
             ],
             [
              0.3333333333333333,
              "#9c179e"
             ],
             [
              0.4444444444444444,
              "#bd3786"
             ],
             [
              0.5555555555555556,
              "#d8576b"
             ],
             [
              0.6666666666666666,
              "#ed7953"
             ],
             [
              0.7777777777777778,
              "#fb9f3a"
             ],
             [
              0.8888888888888888,
              "#fdca26"
             ],
             [
              1,
              "#f0f921"
             ]
            ],
            "type": "histogram2d"
           }
          ],
          "histogram2dcontour": [
           {
            "colorbar": {
             "outlinewidth": 0,
             "ticks": ""
            },
            "colorscale": [
             [
              0,
              "#0d0887"
             ],
             [
              0.1111111111111111,
              "#46039f"
             ],
             [
              0.2222222222222222,
              "#7201a8"
             ],
             [
              0.3333333333333333,
              "#9c179e"
             ],
             [
              0.4444444444444444,
              "#bd3786"
             ],
             [
              0.5555555555555556,
              "#d8576b"
             ],
             [
              0.6666666666666666,
              "#ed7953"
             ],
             [
              0.7777777777777778,
              "#fb9f3a"
             ],
             [
              0.8888888888888888,
              "#fdca26"
             ],
             [
              1,
              "#f0f921"
             ]
            ],
            "type": "histogram2dcontour"
           }
          ],
          "mesh3d": [
           {
            "colorbar": {
             "outlinewidth": 0,
             "ticks": ""
            },
            "type": "mesh3d"
           }
          ],
          "parcoords": [
           {
            "line": {
             "colorbar": {
              "outlinewidth": 0,
              "ticks": ""
             }
            },
            "type": "parcoords"
           }
          ],
          "pie": [
           {
            "automargin": true,
            "type": "pie"
           }
          ],
          "scatter": [
           {
            "marker": {
             "colorbar": {
              "outlinewidth": 0,
              "ticks": ""
             }
            },
            "type": "scatter"
           }
          ],
          "scatter3d": [
           {
            "line": {
             "colorbar": {
              "outlinewidth": 0,
              "ticks": ""
             }
            },
            "marker": {
             "colorbar": {
              "outlinewidth": 0,
              "ticks": ""
             }
            },
            "type": "scatter3d"
           }
          ],
          "scattercarpet": [
           {
            "marker": {
             "colorbar": {
              "outlinewidth": 0,
              "ticks": ""
             }
            },
            "type": "scattercarpet"
           }
          ],
          "scattergeo": [
           {
            "marker": {
             "colorbar": {
              "outlinewidth": 0,
              "ticks": ""
             }
            },
            "type": "scattergeo"
           }
          ],
          "scattergl": [
           {
            "marker": {
             "colorbar": {
              "outlinewidth": 0,
              "ticks": ""
             }
            },
            "type": "scattergl"
           }
          ],
          "scattermapbox": [
           {
            "marker": {
             "colorbar": {
              "outlinewidth": 0,
              "ticks": ""
             }
            },
            "type": "scattermapbox"
           }
          ],
          "scatterpolar": [
           {
            "marker": {
             "colorbar": {
              "outlinewidth": 0,
              "ticks": ""
             }
            },
            "type": "scatterpolar"
           }
          ],
          "scatterpolargl": [
           {
            "marker": {
             "colorbar": {
              "outlinewidth": 0,
              "ticks": ""
             }
            },
            "type": "scatterpolargl"
           }
          ],
          "scatterternary": [
           {
            "marker": {
             "colorbar": {
              "outlinewidth": 0,
              "ticks": ""
             }
            },
            "type": "scatterternary"
           }
          ],
          "surface": [
           {
            "colorbar": {
             "outlinewidth": 0,
             "ticks": ""
            },
            "colorscale": [
             [
              0,
              "#0d0887"
             ],
             [
              0.1111111111111111,
              "#46039f"
             ],
             [
              0.2222222222222222,
              "#7201a8"
             ],
             [
              0.3333333333333333,
              "#9c179e"
             ],
             [
              0.4444444444444444,
              "#bd3786"
             ],
             [
              0.5555555555555556,
              "#d8576b"
             ],
             [
              0.6666666666666666,
              "#ed7953"
             ],
             [
              0.7777777777777778,
              "#fb9f3a"
             ],
             [
              0.8888888888888888,
              "#fdca26"
             ],
             [
              1,
              "#f0f921"
             ]
            ],
            "type": "surface"
           }
          ],
          "table": [
           {
            "cells": {
             "fill": {
              "color": "#EBF0F8"
             },
             "line": {
              "color": "white"
             }
            },
            "header": {
             "fill": {
              "color": "#C8D4E3"
             },
             "line": {
              "color": "white"
             }
            },
            "type": "table"
           }
          ]
         },
         "layout": {
          "annotationdefaults": {
           "arrowcolor": "#2a3f5f",
           "arrowhead": 0,
           "arrowwidth": 1
          },
          "coloraxis": {
           "colorbar": {
            "outlinewidth": 0,
            "ticks": ""
           }
          },
          "colorscale": {
           "diverging": [
            [
             0,
             "#8e0152"
            ],
            [
             0.1,
             "#c51b7d"
            ],
            [
             0.2,
             "#de77ae"
            ],
            [
             0.3,
             "#f1b6da"
            ],
            [
             0.4,
             "#fde0ef"
            ],
            [
             0.5,
             "#f7f7f7"
            ],
            [
             0.6,
             "#e6f5d0"
            ],
            [
             0.7,
             "#b8e186"
            ],
            [
             0.8,
             "#7fbc41"
            ],
            [
             0.9,
             "#4d9221"
            ],
            [
             1,
             "#276419"
            ]
           ],
           "sequential": [
            [
             0,
             "#0d0887"
            ],
            [
             0.1111111111111111,
             "#46039f"
            ],
            [
             0.2222222222222222,
             "#7201a8"
            ],
            [
             0.3333333333333333,
             "#9c179e"
            ],
            [
             0.4444444444444444,
             "#bd3786"
            ],
            [
             0.5555555555555556,
             "#d8576b"
            ],
            [
             0.6666666666666666,
             "#ed7953"
            ],
            [
             0.7777777777777778,
             "#fb9f3a"
            ],
            [
             0.8888888888888888,
             "#fdca26"
            ],
            [
             1,
             "#f0f921"
            ]
           ],
           "sequentialminus": [
            [
             0,
             "#0d0887"
            ],
            [
             0.1111111111111111,
             "#46039f"
            ],
            [
             0.2222222222222222,
             "#7201a8"
            ],
            [
             0.3333333333333333,
             "#9c179e"
            ],
            [
             0.4444444444444444,
             "#bd3786"
            ],
            [
             0.5555555555555556,
             "#d8576b"
            ],
            [
             0.6666666666666666,
             "#ed7953"
            ],
            [
             0.7777777777777778,
             "#fb9f3a"
            ],
            [
             0.8888888888888888,
             "#fdca26"
            ],
            [
             1,
             "#f0f921"
            ]
           ]
          },
          "colorway": [
           "#636efa",
           "#EF553B",
           "#00cc96",
           "#ab63fa",
           "#FFA15A",
           "#19d3f3",
           "#FF6692",
           "#B6E880",
           "#FF97FF",
           "#FECB52"
          ],
          "font": {
           "color": "#2a3f5f"
          },
          "geo": {
           "bgcolor": "white",
           "lakecolor": "white",
           "landcolor": "#E5ECF6",
           "showlakes": true,
           "showland": true,
           "subunitcolor": "white"
          },
          "hoverlabel": {
           "align": "left"
          },
          "hovermode": "closest",
          "mapbox": {
           "style": "light"
          },
          "paper_bgcolor": "white",
          "plot_bgcolor": "#E5ECF6",
          "polar": {
           "angularaxis": {
            "gridcolor": "white",
            "linecolor": "white",
            "ticks": ""
           },
           "bgcolor": "#E5ECF6",
           "radialaxis": {
            "gridcolor": "white",
            "linecolor": "white",
            "ticks": ""
           }
          },
          "scene": {
           "xaxis": {
            "backgroundcolor": "#E5ECF6",
            "gridcolor": "white",
            "gridwidth": 2,
            "linecolor": "white",
            "showbackground": true,
            "ticks": "",
            "zerolinecolor": "white"
           },
           "yaxis": {
            "backgroundcolor": "#E5ECF6",
            "gridcolor": "white",
            "gridwidth": 2,
            "linecolor": "white",
            "showbackground": true,
            "ticks": "",
            "zerolinecolor": "white"
           },
           "zaxis": {
            "backgroundcolor": "#E5ECF6",
            "gridcolor": "white",
            "gridwidth": 2,
            "linecolor": "white",
            "showbackground": true,
            "ticks": "",
            "zerolinecolor": "white"
           }
          },
          "shapedefaults": {
           "line": {
            "color": "#2a3f5f"
           }
          },
          "ternary": {
           "aaxis": {
            "gridcolor": "white",
            "linecolor": "white",
            "ticks": ""
           },
           "baxis": {
            "gridcolor": "white",
            "linecolor": "white",
            "ticks": ""
           },
           "bgcolor": "#E5ECF6",
           "caxis": {
            "gridcolor": "white",
            "linecolor": "white",
            "ticks": ""
           }
          },
          "title": {
           "x": 0.05
          },
          "xaxis": {
           "automargin": true,
           "gridcolor": "white",
           "linecolor": "white",
           "ticks": "",
           "title": {
            "standoff": 15
           },
           "zerolinecolor": "white",
           "zerolinewidth": 2
          },
          "yaxis": {
           "automargin": true,
           "gridcolor": "white",
           "linecolor": "white",
           "ticks": "",
           "title": {
            "standoff": 15
           },
           "zerolinecolor": "white",
           "zerolinewidth": 2
          }
         }
        },
        "title": {
         "font": {
          "color": "#4D5663"
         }
        },
        "xaxis": {
         "anchor": "y",
         "domain": [
          0,
          0.2125
         ],
         "gridcolor": "#E1E5ED",
         "showgrid": false,
         "tickfont": {
          "color": "#4D5663"
         },
         "title": {
          "font": {
           "color": "#4D5663"
          },
          "text": ""
         },
         "zerolinecolor": "#E1E5ED"
        },
        "xaxis10": {
         "anchor": "y10",
         "domain": [
          0.2625,
          0.475
         ],
         "gridcolor": "#E1E5ED",
         "showgrid": false,
         "tickfont": {
          "color": "#4D5663"
         },
         "title": {
          "font": {
           "color": "#4D5663"
          },
          "text": ""
         },
         "zerolinecolor": "#E1E5ED"
        },
        "xaxis11": {
         "anchor": "y11",
         "domain": [
          0.525,
          0.7375
         ],
         "gridcolor": "#E1E5ED",
         "showgrid": false,
         "tickfont": {
          "color": "#4D5663"
         },
         "title": {
          "font": {
           "color": "#4D5663"
          },
          "text": ""
         },
         "zerolinecolor": "#E1E5ED"
        },
        "xaxis12": {
         "anchor": "y12",
         "domain": [
          0.7875,
          1
         ],
         "gridcolor": "#E1E5ED",
         "showgrid": false,
         "tickfont": {
          "color": "#4D5663"
         },
         "title": {
          "font": {
           "color": "#4D5663"
          },
          "text": ""
         },
         "zerolinecolor": "#E1E5ED"
        },
        "xaxis13": {
         "anchor": "y13",
         "domain": [
          0,
          0.2125
         ],
         "gridcolor": "#E1E5ED",
         "showgrid": false,
         "tickfont": {
          "color": "#4D5663"
         },
         "title": {
          "font": {
           "color": "#4D5663"
          },
          "text": ""
         },
         "zerolinecolor": "#E1E5ED"
        },
        "xaxis14": {
         "anchor": "y14",
         "domain": [
          0.2625,
          0.475
         ],
         "gridcolor": "#E1E5ED",
         "showgrid": false,
         "tickfont": {
          "color": "#4D5663"
         },
         "title": {
          "font": {
           "color": "#4D5663"
          },
          "text": ""
         },
         "zerolinecolor": "#E1E5ED"
        },
        "xaxis15": {
         "anchor": "y15",
         "domain": [
          0.525,
          0.7375
         ],
         "gridcolor": "#E1E5ED",
         "showgrid": false,
         "tickfont": {
          "color": "#4D5663"
         },
         "title": {
          "font": {
           "color": "#4D5663"
          },
          "text": ""
         },
         "zerolinecolor": "#E1E5ED"
        },
        "xaxis16": {
         "anchor": "y16",
         "domain": [
          0.7875,
          1
         ],
         "gridcolor": "#E1E5ED",
         "showgrid": false,
         "tickfont": {
          "color": "#4D5663"
         },
         "title": {
          "font": {
           "color": "#4D5663"
          },
          "text": ""
         },
         "zerolinecolor": "#E1E5ED"
        },
        "xaxis2": {
         "anchor": "y2",
         "domain": [
          0.2625,
          0.475
         ],
         "gridcolor": "#E1E5ED",
         "showgrid": false,
         "tickfont": {
          "color": "#4D5663"
         },
         "title": {
          "font": {
           "color": "#4D5663"
          },
          "text": ""
         },
         "zerolinecolor": "#E1E5ED"
        },
        "xaxis3": {
         "anchor": "y3",
         "domain": [
          0.525,
          0.7375
         ],
         "gridcolor": "#E1E5ED",
         "showgrid": false,
         "tickfont": {
          "color": "#4D5663"
         },
         "title": {
          "font": {
           "color": "#4D5663"
          },
          "text": ""
         },
         "zerolinecolor": "#E1E5ED"
        },
        "xaxis4": {
         "anchor": "y4",
         "domain": [
          0.7875,
          1
         ],
         "gridcolor": "#E1E5ED",
         "showgrid": false,
         "tickfont": {
          "color": "#4D5663"
         },
         "title": {
          "font": {
           "color": "#4D5663"
          },
          "text": ""
         },
         "zerolinecolor": "#E1E5ED"
        },
        "xaxis5": {
         "anchor": "y5",
         "domain": [
          0,
          0.2125
         ],
         "gridcolor": "#E1E5ED",
         "showgrid": false,
         "tickfont": {
          "color": "#4D5663"
         },
         "title": {
          "font": {
           "color": "#4D5663"
          },
          "text": ""
         },
         "zerolinecolor": "#E1E5ED"
        },
        "xaxis6": {
         "anchor": "y6",
         "domain": [
          0.2625,
          0.475
         ],
         "gridcolor": "#E1E5ED",
         "showgrid": false,
         "tickfont": {
          "color": "#4D5663"
         },
         "title": {
          "font": {
           "color": "#4D5663"
          },
          "text": ""
         },
         "zerolinecolor": "#E1E5ED"
        },
        "xaxis7": {
         "anchor": "y7",
         "domain": [
          0.525,
          0.7375
         ],
         "gridcolor": "#E1E5ED",
         "showgrid": false,
         "tickfont": {
          "color": "#4D5663"
         },
         "title": {
          "font": {
           "color": "#4D5663"
          },
          "text": ""
         },
         "zerolinecolor": "#E1E5ED"
        },
        "xaxis8": {
         "anchor": "y8",
         "domain": [
          0.7875,
          1
         ],
         "gridcolor": "#E1E5ED",
         "showgrid": false,
         "tickfont": {
          "color": "#4D5663"
         },
         "title": {
          "font": {
           "color": "#4D5663"
          },
          "text": ""
         },
         "zerolinecolor": "#E1E5ED"
        },
        "xaxis9": {
         "anchor": "y9",
         "domain": [
          0,
          0.2125
         ],
         "gridcolor": "#E1E5ED",
         "showgrid": false,
         "tickfont": {
          "color": "#4D5663"
         },
         "title": {
          "font": {
           "color": "#4D5663"
          },
          "text": ""
         },
         "zerolinecolor": "#E1E5ED"
        },
        "yaxis": {
         "anchor": "x",
         "domain": [
          0.8025,
          1
         ],
         "gridcolor": "#E1E5ED",
         "showgrid": false,
         "tickfont": {
          "color": "#4D5663"
         },
         "title": {
          "font": {
           "color": "#4D5663"
          },
          "text": ""
         },
         "zerolinecolor": "#E1E5ED"
        },
        "yaxis10": {
         "anchor": "x10",
         "domain": [
          0.2675,
          0.465
         ],
         "gridcolor": "#E1E5ED",
         "showgrid": false,
         "tickfont": {
          "color": "#4D5663"
         },
         "title": {
          "font": {
           "color": "#4D5663"
          },
          "text": ""
         },
         "zerolinecolor": "#E1E5ED"
        },
        "yaxis11": {
         "anchor": "x11",
         "domain": [
          0.2675,
          0.465
         ],
         "gridcolor": "#E1E5ED",
         "showgrid": false,
         "tickfont": {
          "color": "#4D5663"
         },
         "title": {
          "font": {
           "color": "#4D5663"
          },
          "text": ""
         },
         "zerolinecolor": "#E1E5ED"
        },
        "yaxis12": {
         "anchor": "x12",
         "domain": [
          0.2675,
          0.465
         ],
         "gridcolor": "#E1E5ED",
         "showgrid": false,
         "tickfont": {
          "color": "#4D5663"
         },
         "title": {
          "font": {
           "color": "#4D5663"
          },
          "text": ""
         },
         "zerolinecolor": "#E1E5ED"
        },
        "yaxis13": {
         "anchor": "x13",
         "domain": [
          0,
          0.1975
         ],
         "gridcolor": "#E1E5ED",
         "showgrid": false,
         "tickfont": {
          "color": "#4D5663"
         },
         "title": {
          "font": {
           "color": "#4D5663"
          },
          "text": ""
         },
         "zerolinecolor": "#E1E5ED"
        },
        "yaxis14": {
         "anchor": "x14",
         "domain": [
          0,
          0.1975
         ],
         "gridcolor": "#E1E5ED",
         "showgrid": false,
         "tickfont": {
          "color": "#4D5663"
         },
         "title": {
          "font": {
           "color": "#4D5663"
          },
          "text": ""
         },
         "zerolinecolor": "#E1E5ED"
        },
        "yaxis15": {
         "anchor": "x15",
         "domain": [
          0,
          0.1975
         ],
         "gridcolor": "#E1E5ED",
         "showgrid": false,
         "tickfont": {
          "color": "#4D5663"
         },
         "title": {
          "font": {
           "color": "#4D5663"
          },
          "text": ""
         },
         "zerolinecolor": "#E1E5ED"
        },
        "yaxis16": {
         "anchor": "x16",
         "domain": [
          0,
          0.1975
         ],
         "gridcolor": "#E1E5ED",
         "showgrid": false,
         "tickfont": {
          "color": "#4D5663"
         },
         "title": {
          "font": {
           "color": "#4D5663"
          },
          "text": ""
         },
         "zerolinecolor": "#E1E5ED"
        },
        "yaxis2": {
         "anchor": "x2",
         "domain": [
          0.8025,
          1
         ],
         "gridcolor": "#E1E5ED",
         "showgrid": false,
         "tickfont": {
          "color": "#4D5663"
         },
         "title": {
          "font": {
           "color": "#4D5663"
          },
          "text": ""
         },
         "zerolinecolor": "#E1E5ED"
        },
        "yaxis3": {
         "anchor": "x3",
         "domain": [
          0.8025,
          1
         ],
         "gridcolor": "#E1E5ED",
         "showgrid": false,
         "tickfont": {
          "color": "#4D5663"
         },
         "title": {
          "font": {
           "color": "#4D5663"
          },
          "text": ""
         },
         "zerolinecolor": "#E1E5ED"
        },
        "yaxis4": {
         "anchor": "x4",
         "domain": [
          0.8025,
          1
         ],
         "gridcolor": "#E1E5ED",
         "showgrid": false,
         "tickfont": {
          "color": "#4D5663"
         },
         "title": {
          "font": {
           "color": "#4D5663"
          },
          "text": ""
         },
         "zerolinecolor": "#E1E5ED"
        },
        "yaxis5": {
         "anchor": "x5",
         "domain": [
          0.535,
          0.7325
         ],
         "gridcolor": "#E1E5ED",
         "showgrid": false,
         "tickfont": {
          "color": "#4D5663"
         },
         "title": {
          "font": {
           "color": "#4D5663"
          },
          "text": ""
         },
         "zerolinecolor": "#E1E5ED"
        },
        "yaxis6": {
         "anchor": "x6",
         "domain": [
          0.535,
          0.7325
         ],
         "gridcolor": "#E1E5ED",
         "showgrid": false,
         "tickfont": {
          "color": "#4D5663"
         },
         "title": {
          "font": {
           "color": "#4D5663"
          },
          "text": ""
         },
         "zerolinecolor": "#E1E5ED"
        },
        "yaxis7": {
         "anchor": "x7",
         "domain": [
          0.535,
          0.7325
         ],
         "gridcolor": "#E1E5ED",
         "showgrid": false,
         "tickfont": {
          "color": "#4D5663"
         },
         "title": {
          "font": {
           "color": "#4D5663"
          },
          "text": ""
         },
         "zerolinecolor": "#E1E5ED"
        },
        "yaxis8": {
         "anchor": "x8",
         "domain": [
          0.535,
          0.7325
         ],
         "gridcolor": "#E1E5ED",
         "showgrid": false,
         "tickfont": {
          "color": "#4D5663"
         },
         "title": {
          "font": {
           "color": "#4D5663"
          },
          "text": ""
         },
         "zerolinecolor": "#E1E5ED"
        },
        "yaxis9": {
         "anchor": "x9",
         "domain": [
          0.2675,
          0.465
         ],
         "gridcolor": "#E1E5ED",
         "showgrid": false,
         "tickfont": {
          "color": "#4D5663"
         },
         "title": {
          "font": {
           "color": "#4D5663"
          },
          "text": ""
         },
         "zerolinecolor": "#E1E5ED"
        }
       }
      },
      "text/html": [
       "<div>\n",
       "        \n",
       "        \n",
       "            <div id=\"f6fb0d20-d2f9-4ecb-8baf-17ff63b190d7\" class=\"plotly-graph-div\" style=\"height:525px; width:100%;\"></div>\n",
       "            <script type=\"text/javascript\">\n",
       "                require([\"plotly\"], function(Plotly) {\n",
       "                    window.PLOTLYENV=window.PLOTLYENV || {};\n",
       "                    window.PLOTLYENV.BASE_URL='https://plot.ly';\n",
       "                    \n",
       "                if (document.getElementById(\"f6fb0d20-d2f9-4ecb-8baf-17ff63b190d7\")) {\n",
       "                    Plotly.newPlot(\n",
       "                        'f6fb0d20-d2f9-4ecb-8baf-17ff63b190d7',\n",
       "                        [{\"histfunc\": \"count\", \"histnorm\": \"\", \"marker\": {\"color\": \"rgba(255, 153, 51, 1.0)\", \"line\": {\"color\": \"#4D5663\", \"width\": 1.3}}, \"name\": \"A\", \"nbinsx\": 10, \"opacity\": 0.8, \"orientation\": \"v\", \"type\": \"histogram\", \"x\": [0.0890236266217388, -0.8787154704351006, -0.5977533695209157, 1.0698110062679522, -0.7988921083264098, 0.5832383049156543, -0.24864835278907027, -0.7060503899937032, -0.17782255970080588, -0.5971957707353813, -0.2848860906535149, -0.3742407187026039, 0.4907659776092099, 0.8454677262211716, -0.2397947222641649, -2.0292890390339724, -1.2343508942203125, -0.581627027911337, -1.0059985872873767, 0.5190498956176977, -0.8050834897018041, -1.2332096157124222, 0.24081560942118724, 0.21907435531661296, 1.0790880176319952, 0.28539811590176767, 0.7275582865688938, -1.3737352892335288, 1.5015902347610783, -0.7633820933736835, 0.24237512494715135, 0.8172121522015262, 1.8896732207751532, -0.6351466997131315, 2.005318523682665, -0.580700518779291, 0.7512582762225731, -0.8321393543297784, -0.3153980856329165, -0.02040788440319213, -2.2934222272134384, 1.6394351565028256, -0.6005020999661731, -0.20898877817830225, -0.4939393931678909, -1.0223010529305525, -1.2450682862014761, -0.3750143012290298, -0.708562296521142, 0.38878227084235917, -2.0559894255214224, 1.4177343229429362, 1.0125524763703015, 0.2736842677201433, -1.690076207277851, 0.5740214411230689, -1.4218587639089526, 1.131981541075113, 1.128790595206288, -1.7793271621875348, 0.41361726580124564, 0.06515589060216231, 0.4932317233002984, -0.7378656158118205, -1.2319379637683658, -1.0507998526899458, 1.0849106188488342, -0.2797600190915077, -1.4551367052371373, 0.1544462179019029, -0.202836471763666, -0.71769159845839, 1.2309494921041828, 1.2092282398002012, 0.3235255842564463, 1.3316864092620504, 0.1513431336912556, 0.21827249329865175, -0.9835328681268078, -1.0362844907669773, -0.32551882727349163, -1.0723468668606093, -0.45027418094012583, 1.799000436413313, -0.7762852907022613, -0.3060841118077056, -0.20171888994438966, 1.1142185433582568, -0.2855190215679157, -0.7151109629949621, -0.15342200469247758, 1.3878568278354564, -0.3913794385268874, -0.33413504032172014, 1.2125676256249207, -0.6690852370697338, 0.7818229887533782, 1.1108926635943865, 0.9868797129047022, 0.8217126939072327], \"xaxis\": \"x\", \"yaxis\": \"y\"}, {\"line\": {\"color\": \"rgba(128, 128, 128, 1.0)\", \"dash\": \"solid\", \"shape\": \"linear\", \"width\": 1.3}, \"marker\": {\"size\": 2, \"symbol\": \"circle\"}, \"mode\": \"markers\", \"name\": \"A\", \"text\": \"\", \"type\": \"scatter\", \"x\": [-0.35851340747689664, 0.8964559064908013, 0.8668851979644124, 1.3201101066639465, 0.8521632636565618, 0.1678193389215071, 0.7956218856845063, -1.485779184225525, -0.9397594214955171, -0.7276192600413182, 0.48133426516235733, -1.5591885658424542, -0.686558641849801, 2.18044367413078, -0.8224954720950357, 0.834264245771014, 1.1392133327228213, -0.056959375116270236, -0.08899218349335206, -0.770943166891278, 1.2796388775496115, -0.3275552737219343, -0.9163903526244046, 1.0538233753656439, -0.6853188384421511, -0.6275853279554117, 0.9179813481937266, 0.5189780842294516, 0.3712018800035291, -1.8252779744693999, -0.34236610898251557, -0.019428628026250238, -0.8881594465059595, 0.13060694430664255, -0.4121062043857643, -0.33180243234711787, -0.9683207227407323, 0.009546301482904817, 0.1895164509826522, -1.372607398389755, -0.2182857407326223, -0.9615140141635607, -0.7493604427082969, -0.2067713992218754, 0.7429830323549378, -0.7720878333472194, -0.31734743841448415, 0.3272924971873089, 1.1832213404981857, -0.33702307554729777, -0.7105241760247889, -0.029703270945312988, -0.004807880039269839, -1.9973825785516937, 2.5737789599651775, 0.865139824506424, -1.6945802437900994, -0.5994672286457641, -0.5028030406421471, -0.02329024402120451, -0.5017263309388669, 0.5785837836357898, -0.10987225399527062, 1.6049998267882604, 1.310629774867115, 2.0585814106620783, -0.37476648312106, -0.6251191985799067, 0.33967135556511246, 0.09113891525380655, -0.2050970211327267, 0.9770296374343848, -0.13155365069047867, 1.4927636399521946, 0.047661367603270104, -0.16380451935485263, -0.2037109505915858, 0.8456429731125856, -2.293700224952948, 1.14918628891375, -1.335207693057455, -0.41671154448101944, 1.199664637188824, -0.12133532891653313, -0.6475928932098416, 2.2874969525600846, -0.09027141045421477, -1.4881781082705703, -1.8618720474290251, 0.2864564719476295, -1.0643714350281643, 0.532804778438827, 0.07101988852484521, 1.2534553647894944, -0.609962890435716, 1.301392841865941, 0.008793702127127, 0.9942304385437866, 0.03762531473621305, -2.1766597195451514], \"xaxis\": \"x2\", \"y\": [0.0890236266217388, -0.8787154704351006, -0.5977533695209157, 1.0698110062679522, -0.7988921083264098, 0.5832383049156543, -0.24864835278907027, -0.7060503899937032, -0.17782255970080588, -0.5971957707353813, -0.2848860906535149, -0.3742407187026039, 0.4907659776092099, 0.8454677262211716, -0.2397947222641649, -2.0292890390339724, -1.2343508942203125, -0.581627027911337, -1.0059985872873767, 0.5190498956176977, -0.8050834897018041, -1.2332096157124222, 0.24081560942118724, 0.21907435531661296, 1.0790880176319952, 0.28539811590176767, 0.7275582865688938, -1.3737352892335288, 1.5015902347610783, -0.7633820933736835, 0.24237512494715135, 0.8172121522015262, 1.8896732207751532, -0.6351466997131315, 2.005318523682665, -0.580700518779291, 0.7512582762225731, -0.8321393543297784, -0.3153980856329165, -0.02040788440319213, -2.2934222272134384, 1.6394351565028256, -0.6005020999661731, -0.20898877817830225, -0.4939393931678909, -1.0223010529305525, -1.2450682862014761, -0.3750143012290298, -0.708562296521142, 0.38878227084235917, -2.0559894255214224, 1.4177343229429362, 1.0125524763703015, 0.2736842677201433, -1.690076207277851, 0.5740214411230689, -1.4218587639089526, 1.131981541075113, 1.128790595206288, -1.7793271621875348, 0.41361726580124564, 0.06515589060216231, 0.4932317233002984, -0.7378656158118205, -1.2319379637683658, -1.0507998526899458, 1.0849106188488342, -0.2797600190915077, -1.4551367052371373, 0.1544462179019029, -0.202836471763666, -0.71769159845839, 1.2309494921041828, 1.2092282398002012, 0.3235255842564463, 1.3316864092620504, 0.1513431336912556, 0.21827249329865175, -0.9835328681268078, -1.0362844907669773, -0.32551882727349163, -1.0723468668606093, -0.45027418094012583, 1.799000436413313, -0.7762852907022613, -0.3060841118077056, -0.20171888994438966, 1.1142185433582568, -0.2855190215679157, -0.7151109629949621, -0.15342200469247758, 1.3878568278354564, -0.3913794385268874, -0.33413504032172014, 1.2125676256249207, -0.6690852370697338, 0.7818229887533782, 1.1108926635943865, 0.9868797129047022, 0.8217126939072327], \"yaxis\": \"y2\"}, {\"line\": {\"color\": \"rgba(128, 128, 128, 1.0)\", \"dash\": \"solid\", \"shape\": \"linear\", \"width\": 1.3}, \"marker\": {\"size\": 2, \"symbol\": \"circle\"}, \"mode\": \"markers\", \"name\": \"A\", \"text\": \"\", \"type\": \"scatter\", \"x\": [-0.11275925141961757, 0.3476799754393253, -0.4222275113565367, 0.5533885742370918, -1.2618938484167306, -0.5225563147703599, -2.4637488309598474, -0.32297644342073123, 1.655453076134819, 0.5611652676172526, -0.1463547139411557, 0.22294346660957187, -1.2848909161847697, -2.8953873095258653, -1.2858758734249582, 0.3150031005153985, -0.5241827171605921, -0.9677883853597803, -0.41615752366769, -2.138197601571739, -0.4856048104597748, -2.208874988217804, 0.7766175342969884, 0.003981694482013667, -0.5760140059397335, 1.733478462455027, 0.648449369253872, 0.14815875081281407, -0.7938797605490059, 0.5120027211135333, -0.4473141501599969, 0.9570576074312408, -0.4167440712465049, 0.13046875318394702, -0.2989690625987172, 1.8900651522155112, -1.134321957221086, -0.3371303733545989, -0.4949685301033872, -2.4028955664079303, -1.3764338656713238, 1.709581760931209, -0.8547303860428226, -0.3149556010230478, -0.374553916081469, 0.43515801975860335, 0.09649635852917099, 1.418215881721197, 1.1220089708810042, -0.20618963037628144, 0.46011134015735206, 0.6360593891343618, -0.8147195954404538, 0.06409563637292645, 0.781220903119957, 1.0754186229775857, -0.07728213237324322, 0.9616681430757147, 1.5127215679977948, 1.8749832102624002, 0.1977303749530275, -0.20031516120938428, 2.0446348592707735, -0.7238402077148619, 0.8928523950448867, -0.09669631361290285, 1.8832892333063425, 0.784132498196328, 0.8290132687489427, -0.1585240196211482, 0.445792973227965, 1.8722297239655787, 0.18973706149240266, 1.244891218326293, 0.2401429256485272, -1.6090592771705234, 1.5485034332944003, 0.1653515824228414, -0.27592835675953226, 1.1048075195682239, 1.3176340005226554, 0.36589922365388666, 0.6115832779061945, -0.08736946889834596, -0.36000692139755774, -0.3667361367016704, -0.14460340722744572, -1.0873584985226108, -1.8492459999215174, 1.0231139215358867, 0.14559327389942203, 1.3358572110183067, -0.7173796458946975, 0.4212905502749479, -0.4152493201284364, 1.8217397831118682, 0.0036652386587695874, -1.782871248603041, -0.8529133973128455, 1.596156020677351], \"xaxis\": \"x3\", \"y\": [0.0890236266217388, -0.8787154704351006, -0.5977533695209157, 1.0698110062679522, -0.7988921083264098, 0.5832383049156543, -0.24864835278907027, -0.7060503899937032, -0.17782255970080588, -0.5971957707353813, -0.2848860906535149, -0.3742407187026039, 0.4907659776092099, 0.8454677262211716, -0.2397947222641649, -2.0292890390339724, -1.2343508942203125, -0.581627027911337, -1.0059985872873767, 0.5190498956176977, -0.8050834897018041, -1.2332096157124222, 0.24081560942118724, 0.21907435531661296, 1.0790880176319952, 0.28539811590176767, 0.7275582865688938, -1.3737352892335288, 1.5015902347610783, -0.7633820933736835, 0.24237512494715135, 0.8172121522015262, 1.8896732207751532, -0.6351466997131315, 2.005318523682665, -0.580700518779291, 0.7512582762225731, -0.8321393543297784, -0.3153980856329165, -0.02040788440319213, -2.2934222272134384, 1.6394351565028256, -0.6005020999661731, -0.20898877817830225, -0.4939393931678909, -1.0223010529305525, -1.2450682862014761, -0.3750143012290298, -0.708562296521142, 0.38878227084235917, -2.0559894255214224, 1.4177343229429362, 1.0125524763703015, 0.2736842677201433, -1.690076207277851, 0.5740214411230689, -1.4218587639089526, 1.131981541075113, 1.128790595206288, -1.7793271621875348, 0.41361726580124564, 0.06515589060216231, 0.4932317233002984, -0.7378656158118205, -1.2319379637683658, -1.0507998526899458, 1.0849106188488342, -0.2797600190915077, -1.4551367052371373, 0.1544462179019029, -0.202836471763666, -0.71769159845839, 1.2309494921041828, 1.2092282398002012, 0.3235255842564463, 1.3316864092620504, 0.1513431336912556, 0.21827249329865175, -0.9835328681268078, -1.0362844907669773, -0.32551882727349163, -1.0723468668606093, -0.45027418094012583, 1.799000436413313, -0.7762852907022613, -0.3060841118077056, -0.20171888994438966, 1.1142185433582568, -0.2855190215679157, -0.7151109629949621, -0.15342200469247758, 1.3878568278354564, -0.3913794385268874, -0.33413504032172014, 1.2125676256249207, -0.6690852370697338, 0.7818229887533782, 1.1108926635943865, 0.9868797129047022, 0.8217126939072327], \"yaxis\": \"y3\"}, {\"line\": {\"color\": \"rgba(128, 128, 128, 1.0)\", \"dash\": \"solid\", \"shape\": \"linear\", \"width\": 1.3}, \"marker\": {\"size\": 2, \"symbol\": \"circle\"}, \"mode\": \"markers\", \"name\": \"A\", \"text\": \"\", \"type\": \"scatter\", \"x\": [-0.32785208772956326, -0.06785803886552143, 0.20531277500386613, 1.1951903582338812, -1.3976623215796298, -0.05871598819976506, -0.5294115576305654, 1.4731210019457235, 0.4112288382342981, -2.5170159355144417, 0.10801255709274726, -0.3807757452226713, 2.044644936930708, 0.24499358691169149, -0.7666279920351564, 0.6104682681053788, 0.3362963098401381, -0.8537002883618845, -0.5691842677127584, 0.3133093675134218, 1.67455516186429, 0.6624779633708933, -2.564941929444399, 0.9497679680477368, -0.26468253669595415, -0.8030759549069167, 1.6064268390110041, -0.5904341907257554, -0.3253397858315221, -0.24463358595745335, 0.5394263995862915, -0.24304145750373965, -0.4188003240686415, -0.9593082349504745, -0.9571437349163218, 2.4554534048231234, 1.0456371545377205, -0.1603843503282899, 0.9821803641723885, 0.22763427608915662, -0.1493895459373003, 0.5712932576948321, 0.453468290428403, 0.14368171659714662, -1.9274903782955992, -0.5360630198493472, 0.9334914802418602, -0.7529071572883291, 0.041681949193690324, -0.41794614524461193, 1.339952326312011, 0.566465592776908, -0.5974302780754731, 2.0051855211135137, -1.1486865592916764, -0.5819448606996918, -0.34736492823631593, 0.026228848500067313, 1.1794267510272693, 0.7905500286476467, -1.061605327673259, -0.7139254327582141, -1.341527939318605, 0.38222804304121344, -2.8238152736465336, -0.9123395223296985, 1.8251162865311854, 0.2797056325200032, -0.38842532149643644, 1.4783250956420955, 1.5364754691186921, 1.1896479818453225, -1.5938518041805747, 0.840228873308692, -0.7754603383189963, 2.2701265901423278, 1.5034880861574493, 2.2081760131045667, 1.2588621415207644, 2.701189047720629, -0.2688536704889822, 0.2367784995191865, 0.7194877791314278, 0.4963944188483984, -1.0703684430172578, -0.9213741542279265, -0.009955609904234169, -1.7982565873940162, 0.8761520296140257, 0.3446337763129536, -0.8364595748617735, 1.746335937290738, -0.7441707689549959, -0.1276963160568414, 0.8617653680657681, 0.6155834742815333, 0.9728811960262296, -0.6265655910074107, 1.6701753458924138, 2.3141180106435315], \"xaxis\": \"x4\", \"y\": [0.0890236266217388, -0.8787154704351006, -0.5977533695209157, 1.0698110062679522, -0.7988921083264098, 0.5832383049156543, -0.24864835278907027, -0.7060503899937032, -0.17782255970080588, -0.5971957707353813, -0.2848860906535149, -0.3742407187026039, 0.4907659776092099, 0.8454677262211716, -0.2397947222641649, -2.0292890390339724, -1.2343508942203125, -0.581627027911337, -1.0059985872873767, 0.5190498956176977, -0.8050834897018041, -1.2332096157124222, 0.24081560942118724, 0.21907435531661296, 1.0790880176319952, 0.28539811590176767, 0.7275582865688938, -1.3737352892335288, 1.5015902347610783, -0.7633820933736835, 0.24237512494715135, 0.8172121522015262, 1.8896732207751532, -0.6351466997131315, 2.005318523682665, -0.580700518779291, 0.7512582762225731, -0.8321393543297784, -0.3153980856329165, -0.02040788440319213, -2.2934222272134384, 1.6394351565028256, -0.6005020999661731, -0.20898877817830225, -0.4939393931678909, -1.0223010529305525, -1.2450682862014761, -0.3750143012290298, -0.708562296521142, 0.38878227084235917, -2.0559894255214224, 1.4177343229429362, 1.0125524763703015, 0.2736842677201433, -1.690076207277851, 0.5740214411230689, -1.4218587639089526, 1.131981541075113, 1.128790595206288, -1.7793271621875348, 0.41361726580124564, 0.06515589060216231, 0.4932317233002984, -0.7378656158118205, -1.2319379637683658, -1.0507998526899458, 1.0849106188488342, -0.2797600190915077, -1.4551367052371373, 0.1544462179019029, -0.202836471763666, -0.71769159845839, 1.2309494921041828, 1.2092282398002012, 0.3235255842564463, 1.3316864092620504, 0.1513431336912556, 0.21827249329865175, -0.9835328681268078, -1.0362844907669773, -0.32551882727349163, -1.0723468668606093, -0.45027418094012583, 1.799000436413313, -0.7762852907022613, -0.3060841118077056, -0.20171888994438966, 1.1142185433582568, -0.2855190215679157, -0.7151109629949621, -0.15342200469247758, 1.3878568278354564, -0.3913794385268874, -0.33413504032172014, 1.2125676256249207, -0.6690852370697338, 0.7818229887533782, 1.1108926635943865, 0.9868797129047022, 0.8217126939072327], \"yaxis\": \"y4\"}, {\"line\": {\"color\": \"rgba(128, 128, 128, 1.0)\", \"dash\": \"solid\", \"shape\": \"linear\", \"width\": 1.3}, \"marker\": {\"size\": 2, \"symbol\": \"circle\"}, \"mode\": \"markers\", \"name\": \"B\", \"text\": \"\", \"type\": \"scatter\", \"x\": [0.0890236266217388, -0.8787154704351006, -0.5977533695209157, 1.0698110062679522, -0.7988921083264098, 0.5832383049156543, -0.24864835278907027, -0.7060503899937032, -0.17782255970080588, -0.5971957707353813, -0.2848860906535149, -0.3742407187026039, 0.4907659776092099, 0.8454677262211716, -0.2397947222641649, -2.0292890390339724, -1.2343508942203125, -0.581627027911337, -1.0059985872873767, 0.5190498956176977, -0.8050834897018041, -1.2332096157124222, 0.24081560942118724, 0.21907435531661296, 1.0790880176319952, 0.28539811590176767, 0.7275582865688938, -1.3737352892335288, 1.5015902347610783, -0.7633820933736835, 0.24237512494715135, 0.8172121522015262, 1.8896732207751532, -0.6351466997131315, 2.005318523682665, -0.580700518779291, 0.7512582762225731, -0.8321393543297784, -0.3153980856329165, -0.02040788440319213, -2.2934222272134384, 1.6394351565028256, -0.6005020999661731, -0.20898877817830225, -0.4939393931678909, -1.0223010529305525, -1.2450682862014761, -0.3750143012290298, -0.708562296521142, 0.38878227084235917, -2.0559894255214224, 1.4177343229429362, 1.0125524763703015, 0.2736842677201433, -1.690076207277851, 0.5740214411230689, -1.4218587639089526, 1.131981541075113, 1.128790595206288, -1.7793271621875348, 0.41361726580124564, 0.06515589060216231, 0.4932317233002984, -0.7378656158118205, -1.2319379637683658, -1.0507998526899458, 1.0849106188488342, -0.2797600190915077, -1.4551367052371373, 0.1544462179019029, -0.202836471763666, -0.71769159845839, 1.2309494921041828, 1.2092282398002012, 0.3235255842564463, 1.3316864092620504, 0.1513431336912556, 0.21827249329865175, -0.9835328681268078, -1.0362844907669773, -0.32551882727349163, -1.0723468668606093, -0.45027418094012583, 1.799000436413313, -0.7762852907022613, -0.3060841118077056, -0.20171888994438966, 1.1142185433582568, -0.2855190215679157, -0.7151109629949621, -0.15342200469247758, 1.3878568278354564, -0.3913794385268874, -0.33413504032172014, 1.2125676256249207, -0.6690852370697338, 0.7818229887533782, 1.1108926635943865, 0.9868797129047022, 0.8217126939072327], \"xaxis\": \"x5\", \"y\": [-0.35851340747689664, 0.8964559064908013, 0.8668851979644124, 1.3201101066639465, 0.8521632636565618, 0.1678193389215071, 0.7956218856845063, -1.485779184225525, -0.9397594214955171, -0.7276192600413182, 0.48133426516235733, -1.5591885658424542, -0.686558641849801, 2.18044367413078, -0.8224954720950357, 0.834264245771014, 1.1392133327228213, -0.056959375116270236, -0.08899218349335206, -0.770943166891278, 1.2796388775496115, -0.3275552737219343, -0.9163903526244046, 1.0538233753656439, -0.6853188384421511, -0.6275853279554117, 0.9179813481937266, 0.5189780842294516, 0.3712018800035291, -1.8252779744693999, -0.34236610898251557, -0.019428628026250238, -0.8881594465059595, 0.13060694430664255, -0.4121062043857643, -0.33180243234711787, -0.9683207227407323, 0.009546301482904817, 0.1895164509826522, -1.372607398389755, -0.2182857407326223, -0.9615140141635607, -0.7493604427082969, -0.2067713992218754, 0.7429830323549378, -0.7720878333472194, -0.31734743841448415, 0.3272924971873089, 1.1832213404981857, -0.33702307554729777, -0.7105241760247889, -0.029703270945312988, -0.004807880039269839, -1.9973825785516937, 2.5737789599651775, 0.865139824506424, -1.6945802437900994, -0.5994672286457641, -0.5028030406421471, -0.02329024402120451, -0.5017263309388669, 0.5785837836357898, -0.10987225399527062, 1.6049998267882604, 1.310629774867115, 2.0585814106620783, -0.37476648312106, -0.6251191985799067, 0.33967135556511246, 0.09113891525380655, -0.2050970211327267, 0.9770296374343848, -0.13155365069047867, 1.4927636399521946, 0.047661367603270104, -0.16380451935485263, -0.2037109505915858, 0.8456429731125856, -2.293700224952948, 1.14918628891375, -1.335207693057455, -0.41671154448101944, 1.199664637188824, -0.12133532891653313, -0.6475928932098416, 2.2874969525600846, -0.09027141045421477, -1.4881781082705703, -1.8618720474290251, 0.2864564719476295, -1.0643714350281643, 0.532804778438827, 0.07101988852484521, 1.2534553647894944, -0.609962890435716, 1.301392841865941, 0.008793702127127, 0.9942304385437866, 0.03762531473621305, -2.1766597195451514], \"yaxis\": \"y5\"}, {\"histfunc\": \"count\", \"histnorm\": \"\", \"marker\": {\"color\": \"rgba(55, 128, 191, 1.0)\", \"line\": {\"color\": \"#4D5663\", \"width\": 1.3}}, \"name\": \"B\", \"nbinsx\": 10, \"opacity\": 0.8, \"orientation\": \"v\", \"type\": \"histogram\", \"x\": [-0.35851340747689664, 0.8964559064908013, 0.8668851979644124, 1.3201101066639465, 0.8521632636565618, 0.1678193389215071, 0.7956218856845063, -1.485779184225525, -0.9397594214955171, -0.7276192600413182, 0.48133426516235733, -1.5591885658424542, -0.686558641849801, 2.18044367413078, -0.8224954720950357, 0.834264245771014, 1.1392133327228213, -0.056959375116270236, -0.08899218349335206, -0.770943166891278, 1.2796388775496115, -0.3275552737219343, -0.9163903526244046, 1.0538233753656439, -0.6853188384421511, -0.6275853279554117, 0.9179813481937266, 0.5189780842294516, 0.3712018800035291, -1.8252779744693999, -0.34236610898251557, -0.019428628026250238, -0.8881594465059595, 0.13060694430664255, -0.4121062043857643, -0.33180243234711787, -0.9683207227407323, 0.009546301482904817, 0.1895164509826522, -1.372607398389755, -0.2182857407326223, -0.9615140141635607, -0.7493604427082969, -0.2067713992218754, 0.7429830323549378, -0.7720878333472194, -0.31734743841448415, 0.3272924971873089, 1.1832213404981857, -0.33702307554729777, -0.7105241760247889, -0.029703270945312988, -0.004807880039269839, -1.9973825785516937, 2.5737789599651775, 0.865139824506424, -1.6945802437900994, -0.5994672286457641, -0.5028030406421471, -0.02329024402120451, -0.5017263309388669, 0.5785837836357898, -0.10987225399527062, 1.6049998267882604, 1.310629774867115, 2.0585814106620783, -0.37476648312106, -0.6251191985799067, 0.33967135556511246, 0.09113891525380655, -0.2050970211327267, 0.9770296374343848, -0.13155365069047867, 1.4927636399521946, 0.047661367603270104, -0.16380451935485263, -0.2037109505915858, 0.8456429731125856, -2.293700224952948, 1.14918628891375, -1.335207693057455, -0.41671154448101944, 1.199664637188824, -0.12133532891653313, -0.6475928932098416, 2.2874969525600846, -0.09027141045421477, -1.4881781082705703, -1.8618720474290251, 0.2864564719476295, -1.0643714350281643, 0.532804778438827, 0.07101988852484521, 1.2534553647894944, -0.609962890435716, 1.301392841865941, 0.008793702127127, 0.9942304385437866, 0.03762531473621305, -2.1766597195451514], \"xaxis\": \"x6\", \"yaxis\": \"y6\"}, {\"line\": {\"color\": \"rgba(128, 128, 128, 1.0)\", \"dash\": \"solid\", \"shape\": \"linear\", \"width\": 1.3}, \"marker\": {\"size\": 2, \"symbol\": \"circle\"}, \"mode\": \"markers\", \"name\": \"B\", \"text\": \"\", \"type\": \"scatter\", \"x\": [-0.11275925141961757, 0.3476799754393253, -0.4222275113565367, 0.5533885742370918, -1.2618938484167306, -0.5225563147703599, -2.4637488309598474, -0.32297644342073123, 1.655453076134819, 0.5611652676172526, -0.1463547139411557, 0.22294346660957187, -1.2848909161847697, -2.8953873095258653, -1.2858758734249582, 0.3150031005153985, -0.5241827171605921, -0.9677883853597803, -0.41615752366769, -2.138197601571739, -0.4856048104597748, -2.208874988217804, 0.7766175342969884, 0.003981694482013667, -0.5760140059397335, 1.733478462455027, 0.648449369253872, 0.14815875081281407, -0.7938797605490059, 0.5120027211135333, -0.4473141501599969, 0.9570576074312408, -0.4167440712465049, 0.13046875318394702, -0.2989690625987172, 1.8900651522155112, -1.134321957221086, -0.3371303733545989, -0.4949685301033872, -2.4028955664079303, -1.3764338656713238, 1.709581760931209, -0.8547303860428226, -0.3149556010230478, -0.374553916081469, 0.43515801975860335, 0.09649635852917099, 1.418215881721197, 1.1220089708810042, -0.20618963037628144, 0.46011134015735206, 0.6360593891343618, -0.8147195954404538, 0.06409563637292645, 0.781220903119957, 1.0754186229775857, -0.07728213237324322, 0.9616681430757147, 1.5127215679977948, 1.8749832102624002, 0.1977303749530275, -0.20031516120938428, 2.0446348592707735, -0.7238402077148619, 0.8928523950448867, -0.09669631361290285, 1.8832892333063425, 0.784132498196328, 0.8290132687489427, -0.1585240196211482, 0.445792973227965, 1.8722297239655787, 0.18973706149240266, 1.244891218326293, 0.2401429256485272, -1.6090592771705234, 1.5485034332944003, 0.1653515824228414, -0.27592835675953226, 1.1048075195682239, 1.3176340005226554, 0.36589922365388666, 0.6115832779061945, -0.08736946889834596, -0.36000692139755774, -0.3667361367016704, -0.14460340722744572, -1.0873584985226108, -1.8492459999215174, 1.0231139215358867, 0.14559327389942203, 1.3358572110183067, -0.7173796458946975, 0.4212905502749479, -0.4152493201284364, 1.8217397831118682, 0.0036652386587695874, -1.782871248603041, -0.8529133973128455, 1.596156020677351], \"xaxis\": \"x7\", \"y\": [-0.35851340747689664, 0.8964559064908013, 0.8668851979644124, 1.3201101066639465, 0.8521632636565618, 0.1678193389215071, 0.7956218856845063, -1.485779184225525, -0.9397594214955171, -0.7276192600413182, 0.48133426516235733, -1.5591885658424542, -0.686558641849801, 2.18044367413078, -0.8224954720950357, 0.834264245771014, 1.1392133327228213, -0.056959375116270236, -0.08899218349335206, -0.770943166891278, 1.2796388775496115, -0.3275552737219343, -0.9163903526244046, 1.0538233753656439, -0.6853188384421511, -0.6275853279554117, 0.9179813481937266, 0.5189780842294516, 0.3712018800035291, -1.8252779744693999, -0.34236610898251557, -0.019428628026250238, -0.8881594465059595, 0.13060694430664255, -0.4121062043857643, -0.33180243234711787, -0.9683207227407323, 0.009546301482904817, 0.1895164509826522, -1.372607398389755, -0.2182857407326223, -0.9615140141635607, -0.7493604427082969, -0.2067713992218754, 0.7429830323549378, -0.7720878333472194, -0.31734743841448415, 0.3272924971873089, 1.1832213404981857, -0.33702307554729777, -0.7105241760247889, -0.029703270945312988, -0.004807880039269839, -1.9973825785516937, 2.5737789599651775, 0.865139824506424, -1.6945802437900994, -0.5994672286457641, -0.5028030406421471, -0.02329024402120451, -0.5017263309388669, 0.5785837836357898, -0.10987225399527062, 1.6049998267882604, 1.310629774867115, 2.0585814106620783, -0.37476648312106, -0.6251191985799067, 0.33967135556511246, 0.09113891525380655, -0.2050970211327267, 0.9770296374343848, -0.13155365069047867, 1.4927636399521946, 0.047661367603270104, -0.16380451935485263, -0.2037109505915858, 0.8456429731125856, -2.293700224952948, 1.14918628891375, -1.335207693057455, -0.41671154448101944, 1.199664637188824, -0.12133532891653313, -0.6475928932098416, 2.2874969525600846, -0.09027141045421477, -1.4881781082705703, -1.8618720474290251, 0.2864564719476295, -1.0643714350281643, 0.532804778438827, 0.07101988852484521, 1.2534553647894944, -0.609962890435716, 1.301392841865941, 0.008793702127127, 0.9942304385437866, 0.03762531473621305, -2.1766597195451514], \"yaxis\": \"y7\"}, {\"line\": {\"color\": \"rgba(128, 128, 128, 1.0)\", \"dash\": \"solid\", \"shape\": \"linear\", \"width\": 1.3}, \"marker\": {\"size\": 2, \"symbol\": \"circle\"}, \"mode\": \"markers\", \"name\": \"B\", \"text\": \"\", \"type\": \"scatter\", \"x\": [-0.32785208772956326, -0.06785803886552143, 0.20531277500386613, 1.1951903582338812, -1.3976623215796298, -0.05871598819976506, -0.5294115576305654, 1.4731210019457235, 0.4112288382342981, -2.5170159355144417, 0.10801255709274726, -0.3807757452226713, 2.044644936930708, 0.24499358691169149, -0.7666279920351564, 0.6104682681053788, 0.3362963098401381, -0.8537002883618845, -0.5691842677127584, 0.3133093675134218, 1.67455516186429, 0.6624779633708933, -2.564941929444399, 0.9497679680477368, -0.26468253669595415, -0.8030759549069167, 1.6064268390110041, -0.5904341907257554, -0.3253397858315221, -0.24463358595745335, 0.5394263995862915, -0.24304145750373965, -0.4188003240686415, -0.9593082349504745, -0.9571437349163218, 2.4554534048231234, 1.0456371545377205, -0.1603843503282899, 0.9821803641723885, 0.22763427608915662, -0.1493895459373003, 0.5712932576948321, 0.453468290428403, 0.14368171659714662, -1.9274903782955992, -0.5360630198493472, 0.9334914802418602, -0.7529071572883291, 0.041681949193690324, -0.41794614524461193, 1.339952326312011, 0.566465592776908, -0.5974302780754731, 2.0051855211135137, -1.1486865592916764, -0.5819448606996918, -0.34736492823631593, 0.026228848500067313, 1.1794267510272693, 0.7905500286476467, -1.061605327673259, -0.7139254327582141, -1.341527939318605, 0.38222804304121344, -2.8238152736465336, -0.9123395223296985, 1.8251162865311854, 0.2797056325200032, -0.38842532149643644, 1.4783250956420955, 1.5364754691186921, 1.1896479818453225, -1.5938518041805747, 0.840228873308692, -0.7754603383189963, 2.2701265901423278, 1.5034880861574493, 2.2081760131045667, 1.2588621415207644, 2.701189047720629, -0.2688536704889822, 0.2367784995191865, 0.7194877791314278, 0.4963944188483984, -1.0703684430172578, -0.9213741542279265, -0.009955609904234169, -1.7982565873940162, 0.8761520296140257, 0.3446337763129536, -0.8364595748617735, 1.746335937290738, -0.7441707689549959, -0.1276963160568414, 0.8617653680657681, 0.6155834742815333, 0.9728811960262296, -0.6265655910074107, 1.6701753458924138, 2.3141180106435315], \"xaxis\": \"x8\", \"y\": [-0.35851340747689664, 0.8964559064908013, 0.8668851979644124, 1.3201101066639465, 0.8521632636565618, 0.1678193389215071, 0.7956218856845063, -1.485779184225525, -0.9397594214955171, -0.7276192600413182, 0.48133426516235733, -1.5591885658424542, -0.686558641849801, 2.18044367413078, -0.8224954720950357, 0.834264245771014, 1.1392133327228213, -0.056959375116270236, -0.08899218349335206, -0.770943166891278, 1.2796388775496115, -0.3275552737219343, -0.9163903526244046, 1.0538233753656439, -0.6853188384421511, -0.6275853279554117, 0.9179813481937266, 0.5189780842294516, 0.3712018800035291, -1.8252779744693999, -0.34236610898251557, -0.019428628026250238, -0.8881594465059595, 0.13060694430664255, -0.4121062043857643, -0.33180243234711787, -0.9683207227407323, 0.009546301482904817, 0.1895164509826522, -1.372607398389755, -0.2182857407326223, -0.9615140141635607, -0.7493604427082969, -0.2067713992218754, 0.7429830323549378, -0.7720878333472194, -0.31734743841448415, 0.3272924971873089, 1.1832213404981857, -0.33702307554729777, -0.7105241760247889, -0.029703270945312988, -0.004807880039269839, -1.9973825785516937, 2.5737789599651775, 0.865139824506424, -1.6945802437900994, -0.5994672286457641, -0.5028030406421471, -0.02329024402120451, -0.5017263309388669, 0.5785837836357898, -0.10987225399527062, 1.6049998267882604, 1.310629774867115, 2.0585814106620783, -0.37476648312106, -0.6251191985799067, 0.33967135556511246, 0.09113891525380655, -0.2050970211327267, 0.9770296374343848, -0.13155365069047867, 1.4927636399521946, 0.047661367603270104, -0.16380451935485263, -0.2037109505915858, 0.8456429731125856, -2.293700224952948, 1.14918628891375, -1.335207693057455, -0.41671154448101944, 1.199664637188824, -0.12133532891653313, -0.6475928932098416, 2.2874969525600846, -0.09027141045421477, -1.4881781082705703, -1.8618720474290251, 0.2864564719476295, -1.0643714350281643, 0.532804778438827, 0.07101988852484521, 1.2534553647894944, -0.609962890435716, 1.301392841865941, 0.008793702127127, 0.9942304385437866, 0.03762531473621305, -2.1766597195451514], \"yaxis\": \"y8\"}, {\"line\": {\"color\": \"rgba(128, 128, 128, 1.0)\", \"dash\": \"solid\", \"shape\": \"linear\", \"width\": 1.3}, \"marker\": {\"size\": 2, \"symbol\": \"circle\"}, \"mode\": \"markers\", \"name\": \"C\", \"text\": \"\", \"type\": \"scatter\", \"x\": [0.0890236266217388, -0.8787154704351006, -0.5977533695209157, 1.0698110062679522, -0.7988921083264098, 0.5832383049156543, -0.24864835278907027, -0.7060503899937032, -0.17782255970080588, -0.5971957707353813, -0.2848860906535149, -0.3742407187026039, 0.4907659776092099, 0.8454677262211716, -0.2397947222641649, -2.0292890390339724, -1.2343508942203125, -0.581627027911337, -1.0059985872873767, 0.5190498956176977, -0.8050834897018041, -1.2332096157124222, 0.24081560942118724, 0.21907435531661296, 1.0790880176319952, 0.28539811590176767, 0.7275582865688938, -1.3737352892335288, 1.5015902347610783, -0.7633820933736835, 0.24237512494715135, 0.8172121522015262, 1.8896732207751532, -0.6351466997131315, 2.005318523682665, -0.580700518779291, 0.7512582762225731, -0.8321393543297784, -0.3153980856329165, -0.02040788440319213, -2.2934222272134384, 1.6394351565028256, -0.6005020999661731, -0.20898877817830225, -0.4939393931678909, -1.0223010529305525, -1.2450682862014761, -0.3750143012290298, -0.708562296521142, 0.38878227084235917, -2.0559894255214224, 1.4177343229429362, 1.0125524763703015, 0.2736842677201433, -1.690076207277851, 0.5740214411230689, -1.4218587639089526, 1.131981541075113, 1.128790595206288, -1.7793271621875348, 0.41361726580124564, 0.06515589060216231, 0.4932317233002984, -0.7378656158118205, -1.2319379637683658, -1.0507998526899458, 1.0849106188488342, -0.2797600190915077, -1.4551367052371373, 0.1544462179019029, -0.202836471763666, -0.71769159845839, 1.2309494921041828, 1.2092282398002012, 0.3235255842564463, 1.3316864092620504, 0.1513431336912556, 0.21827249329865175, -0.9835328681268078, -1.0362844907669773, -0.32551882727349163, -1.0723468668606093, -0.45027418094012583, 1.799000436413313, -0.7762852907022613, -0.3060841118077056, -0.20171888994438966, 1.1142185433582568, -0.2855190215679157, -0.7151109629949621, -0.15342200469247758, 1.3878568278354564, -0.3913794385268874, -0.33413504032172014, 1.2125676256249207, -0.6690852370697338, 0.7818229887533782, 1.1108926635943865, 0.9868797129047022, 0.8217126939072327], \"xaxis\": \"x9\", \"y\": [-0.11275925141961757, 0.3476799754393253, -0.4222275113565367, 0.5533885742370918, -1.2618938484167306, -0.5225563147703599, -2.4637488309598474, -0.32297644342073123, 1.655453076134819, 0.5611652676172526, -0.1463547139411557, 0.22294346660957187, -1.2848909161847697, -2.8953873095258653, -1.2858758734249582, 0.3150031005153985, -0.5241827171605921, -0.9677883853597803, -0.41615752366769, -2.138197601571739, -0.4856048104597748, -2.208874988217804, 0.7766175342969884, 0.003981694482013667, -0.5760140059397335, 1.733478462455027, 0.648449369253872, 0.14815875081281407, -0.7938797605490059, 0.5120027211135333, -0.4473141501599969, 0.9570576074312408, -0.4167440712465049, 0.13046875318394702, -0.2989690625987172, 1.8900651522155112, -1.134321957221086, -0.3371303733545989, -0.4949685301033872, -2.4028955664079303, -1.3764338656713238, 1.709581760931209, -0.8547303860428226, -0.3149556010230478, -0.374553916081469, 0.43515801975860335, 0.09649635852917099, 1.418215881721197, 1.1220089708810042, -0.20618963037628144, 0.46011134015735206, 0.6360593891343618, -0.8147195954404538, 0.06409563637292645, 0.781220903119957, 1.0754186229775857, -0.07728213237324322, 0.9616681430757147, 1.5127215679977948, 1.8749832102624002, 0.1977303749530275, -0.20031516120938428, 2.0446348592707735, -0.7238402077148619, 0.8928523950448867, -0.09669631361290285, 1.8832892333063425, 0.784132498196328, 0.8290132687489427, -0.1585240196211482, 0.445792973227965, 1.8722297239655787, 0.18973706149240266, 1.244891218326293, 0.2401429256485272, -1.6090592771705234, 1.5485034332944003, 0.1653515824228414, -0.27592835675953226, 1.1048075195682239, 1.3176340005226554, 0.36589922365388666, 0.6115832779061945, -0.08736946889834596, -0.36000692139755774, -0.3667361367016704, -0.14460340722744572, -1.0873584985226108, -1.8492459999215174, 1.0231139215358867, 0.14559327389942203, 1.3358572110183067, -0.7173796458946975, 0.4212905502749479, -0.4152493201284364, 1.8217397831118682, 0.0036652386587695874, -1.782871248603041, -0.8529133973128455, 1.596156020677351], \"yaxis\": \"y9\"}, {\"line\": {\"color\": \"rgba(128, 128, 128, 1.0)\", \"dash\": \"solid\", \"shape\": \"linear\", \"width\": 1.3}, \"marker\": {\"size\": 2, \"symbol\": \"circle\"}, \"mode\": \"markers\", \"name\": \"C\", \"text\": \"\", \"type\": \"scatter\", \"x\": [-0.35851340747689664, 0.8964559064908013, 0.8668851979644124, 1.3201101066639465, 0.8521632636565618, 0.1678193389215071, 0.7956218856845063, -1.485779184225525, -0.9397594214955171, -0.7276192600413182, 0.48133426516235733, -1.5591885658424542, -0.686558641849801, 2.18044367413078, -0.8224954720950357, 0.834264245771014, 1.1392133327228213, -0.056959375116270236, -0.08899218349335206, -0.770943166891278, 1.2796388775496115, -0.3275552737219343, -0.9163903526244046, 1.0538233753656439, -0.6853188384421511, -0.6275853279554117, 0.9179813481937266, 0.5189780842294516, 0.3712018800035291, -1.8252779744693999, -0.34236610898251557, -0.019428628026250238, -0.8881594465059595, 0.13060694430664255, -0.4121062043857643, -0.33180243234711787, -0.9683207227407323, 0.009546301482904817, 0.1895164509826522, -1.372607398389755, -0.2182857407326223, -0.9615140141635607, -0.7493604427082969, -0.2067713992218754, 0.7429830323549378, -0.7720878333472194, -0.31734743841448415, 0.3272924971873089, 1.1832213404981857, -0.33702307554729777, -0.7105241760247889, -0.029703270945312988, -0.004807880039269839, -1.9973825785516937, 2.5737789599651775, 0.865139824506424, -1.6945802437900994, -0.5994672286457641, -0.5028030406421471, -0.02329024402120451, -0.5017263309388669, 0.5785837836357898, -0.10987225399527062, 1.6049998267882604, 1.310629774867115, 2.0585814106620783, -0.37476648312106, -0.6251191985799067, 0.33967135556511246, 0.09113891525380655, -0.2050970211327267, 0.9770296374343848, -0.13155365069047867, 1.4927636399521946, 0.047661367603270104, -0.16380451935485263, -0.2037109505915858, 0.8456429731125856, -2.293700224952948, 1.14918628891375, -1.335207693057455, -0.41671154448101944, 1.199664637188824, -0.12133532891653313, -0.6475928932098416, 2.2874969525600846, -0.09027141045421477, -1.4881781082705703, -1.8618720474290251, 0.2864564719476295, -1.0643714350281643, 0.532804778438827, 0.07101988852484521, 1.2534553647894944, -0.609962890435716, 1.301392841865941, 0.008793702127127, 0.9942304385437866, 0.03762531473621305, -2.1766597195451514], \"xaxis\": \"x10\", \"y\": [-0.11275925141961757, 0.3476799754393253, -0.4222275113565367, 0.5533885742370918, -1.2618938484167306, -0.5225563147703599, -2.4637488309598474, -0.32297644342073123, 1.655453076134819, 0.5611652676172526, -0.1463547139411557, 0.22294346660957187, -1.2848909161847697, -2.8953873095258653, -1.2858758734249582, 0.3150031005153985, -0.5241827171605921, -0.9677883853597803, -0.41615752366769, -2.138197601571739, -0.4856048104597748, -2.208874988217804, 0.7766175342969884, 0.003981694482013667, -0.5760140059397335, 1.733478462455027, 0.648449369253872, 0.14815875081281407, -0.7938797605490059, 0.5120027211135333, -0.4473141501599969, 0.9570576074312408, -0.4167440712465049, 0.13046875318394702, -0.2989690625987172, 1.8900651522155112, -1.134321957221086, -0.3371303733545989, -0.4949685301033872, -2.4028955664079303, -1.3764338656713238, 1.709581760931209, -0.8547303860428226, -0.3149556010230478, -0.374553916081469, 0.43515801975860335, 0.09649635852917099, 1.418215881721197, 1.1220089708810042, -0.20618963037628144, 0.46011134015735206, 0.6360593891343618, -0.8147195954404538, 0.06409563637292645, 0.781220903119957, 1.0754186229775857, -0.07728213237324322, 0.9616681430757147, 1.5127215679977948, 1.8749832102624002, 0.1977303749530275, -0.20031516120938428, 2.0446348592707735, -0.7238402077148619, 0.8928523950448867, -0.09669631361290285, 1.8832892333063425, 0.784132498196328, 0.8290132687489427, -0.1585240196211482, 0.445792973227965, 1.8722297239655787, 0.18973706149240266, 1.244891218326293, 0.2401429256485272, -1.6090592771705234, 1.5485034332944003, 0.1653515824228414, -0.27592835675953226, 1.1048075195682239, 1.3176340005226554, 0.36589922365388666, 0.6115832779061945, -0.08736946889834596, -0.36000692139755774, -0.3667361367016704, -0.14460340722744572, -1.0873584985226108, -1.8492459999215174, 1.0231139215358867, 0.14559327389942203, 1.3358572110183067, -0.7173796458946975, 0.4212905502749479, -0.4152493201284364, 1.8217397831118682, 0.0036652386587695874, -1.782871248603041, -0.8529133973128455, 1.596156020677351], \"yaxis\": \"y10\"}, {\"histfunc\": \"count\", \"histnorm\": \"\", \"marker\": {\"color\": \"rgba(50, 171, 96, 1.0)\", \"line\": {\"color\": \"#4D5663\", \"width\": 1.3}}, \"name\": \"C\", \"nbinsx\": 10, \"opacity\": 0.8, \"orientation\": \"v\", \"type\": \"histogram\", \"x\": [-0.11275925141961757, 0.3476799754393253, -0.4222275113565367, 0.5533885742370918, -1.2618938484167306, -0.5225563147703599, -2.4637488309598474, -0.32297644342073123, 1.655453076134819, 0.5611652676172526, -0.1463547139411557, 0.22294346660957187, -1.2848909161847697, -2.8953873095258653, -1.2858758734249582, 0.3150031005153985, -0.5241827171605921, -0.9677883853597803, -0.41615752366769, -2.138197601571739, -0.4856048104597748, -2.208874988217804, 0.7766175342969884, 0.003981694482013667, -0.5760140059397335, 1.733478462455027, 0.648449369253872, 0.14815875081281407, -0.7938797605490059, 0.5120027211135333, -0.4473141501599969, 0.9570576074312408, -0.4167440712465049, 0.13046875318394702, -0.2989690625987172, 1.8900651522155112, -1.134321957221086, -0.3371303733545989, -0.4949685301033872, -2.4028955664079303, -1.3764338656713238, 1.709581760931209, -0.8547303860428226, -0.3149556010230478, -0.374553916081469, 0.43515801975860335, 0.09649635852917099, 1.418215881721197, 1.1220089708810042, -0.20618963037628144, 0.46011134015735206, 0.6360593891343618, -0.8147195954404538, 0.06409563637292645, 0.781220903119957, 1.0754186229775857, -0.07728213237324322, 0.9616681430757147, 1.5127215679977948, 1.8749832102624002, 0.1977303749530275, -0.20031516120938428, 2.0446348592707735, -0.7238402077148619, 0.8928523950448867, -0.09669631361290285, 1.8832892333063425, 0.784132498196328, 0.8290132687489427, -0.1585240196211482, 0.445792973227965, 1.8722297239655787, 0.18973706149240266, 1.244891218326293, 0.2401429256485272, -1.6090592771705234, 1.5485034332944003, 0.1653515824228414, -0.27592835675953226, 1.1048075195682239, 1.3176340005226554, 0.36589922365388666, 0.6115832779061945, -0.08736946889834596, -0.36000692139755774, -0.3667361367016704, -0.14460340722744572, -1.0873584985226108, -1.8492459999215174, 1.0231139215358867, 0.14559327389942203, 1.3358572110183067, -0.7173796458946975, 0.4212905502749479, -0.4152493201284364, 1.8217397831118682, 0.0036652386587695874, -1.782871248603041, -0.8529133973128455, 1.596156020677351], \"xaxis\": \"x11\", \"yaxis\": \"y11\"}, {\"line\": {\"color\": \"rgba(128, 128, 128, 1.0)\", \"dash\": \"solid\", \"shape\": \"linear\", \"width\": 1.3}, \"marker\": {\"size\": 2, \"symbol\": \"circle\"}, \"mode\": \"markers\", \"name\": \"C\", \"text\": \"\", \"type\": \"scatter\", \"x\": [-0.32785208772956326, -0.06785803886552143, 0.20531277500386613, 1.1951903582338812, -1.3976623215796298, -0.05871598819976506, -0.5294115576305654, 1.4731210019457235, 0.4112288382342981, -2.5170159355144417, 0.10801255709274726, -0.3807757452226713, 2.044644936930708, 0.24499358691169149, -0.7666279920351564, 0.6104682681053788, 0.3362963098401381, -0.8537002883618845, -0.5691842677127584, 0.3133093675134218, 1.67455516186429, 0.6624779633708933, -2.564941929444399, 0.9497679680477368, -0.26468253669595415, -0.8030759549069167, 1.6064268390110041, -0.5904341907257554, -0.3253397858315221, -0.24463358595745335, 0.5394263995862915, -0.24304145750373965, -0.4188003240686415, -0.9593082349504745, -0.9571437349163218, 2.4554534048231234, 1.0456371545377205, -0.1603843503282899, 0.9821803641723885, 0.22763427608915662, -0.1493895459373003, 0.5712932576948321, 0.453468290428403, 0.14368171659714662, -1.9274903782955992, -0.5360630198493472, 0.9334914802418602, -0.7529071572883291, 0.041681949193690324, -0.41794614524461193, 1.339952326312011, 0.566465592776908, -0.5974302780754731, 2.0051855211135137, -1.1486865592916764, -0.5819448606996918, -0.34736492823631593, 0.026228848500067313, 1.1794267510272693, 0.7905500286476467, -1.061605327673259, -0.7139254327582141, -1.341527939318605, 0.38222804304121344, -2.8238152736465336, -0.9123395223296985, 1.8251162865311854, 0.2797056325200032, -0.38842532149643644, 1.4783250956420955, 1.5364754691186921, 1.1896479818453225, -1.5938518041805747, 0.840228873308692, -0.7754603383189963, 2.2701265901423278, 1.5034880861574493, 2.2081760131045667, 1.2588621415207644, 2.701189047720629, -0.2688536704889822, 0.2367784995191865, 0.7194877791314278, 0.4963944188483984, -1.0703684430172578, -0.9213741542279265, -0.009955609904234169, -1.7982565873940162, 0.8761520296140257, 0.3446337763129536, -0.8364595748617735, 1.746335937290738, -0.7441707689549959, -0.1276963160568414, 0.8617653680657681, 0.6155834742815333, 0.9728811960262296, -0.6265655910074107, 1.6701753458924138, 2.3141180106435315], \"xaxis\": \"x12\", \"y\": [-0.11275925141961757, 0.3476799754393253, -0.4222275113565367, 0.5533885742370918, -1.2618938484167306, -0.5225563147703599, -2.4637488309598474, -0.32297644342073123, 1.655453076134819, 0.5611652676172526, -0.1463547139411557, 0.22294346660957187, -1.2848909161847697, -2.8953873095258653, -1.2858758734249582, 0.3150031005153985, -0.5241827171605921, -0.9677883853597803, -0.41615752366769, -2.138197601571739, -0.4856048104597748, -2.208874988217804, 0.7766175342969884, 0.003981694482013667, -0.5760140059397335, 1.733478462455027, 0.648449369253872, 0.14815875081281407, -0.7938797605490059, 0.5120027211135333, -0.4473141501599969, 0.9570576074312408, -0.4167440712465049, 0.13046875318394702, -0.2989690625987172, 1.8900651522155112, -1.134321957221086, -0.3371303733545989, -0.4949685301033872, -2.4028955664079303, -1.3764338656713238, 1.709581760931209, -0.8547303860428226, -0.3149556010230478, -0.374553916081469, 0.43515801975860335, 0.09649635852917099, 1.418215881721197, 1.1220089708810042, -0.20618963037628144, 0.46011134015735206, 0.6360593891343618, -0.8147195954404538, 0.06409563637292645, 0.781220903119957, 1.0754186229775857, -0.07728213237324322, 0.9616681430757147, 1.5127215679977948, 1.8749832102624002, 0.1977303749530275, -0.20031516120938428, 2.0446348592707735, -0.7238402077148619, 0.8928523950448867, -0.09669631361290285, 1.8832892333063425, 0.784132498196328, 0.8290132687489427, -0.1585240196211482, 0.445792973227965, 1.8722297239655787, 0.18973706149240266, 1.244891218326293, 0.2401429256485272, -1.6090592771705234, 1.5485034332944003, 0.1653515824228414, -0.27592835675953226, 1.1048075195682239, 1.3176340005226554, 0.36589922365388666, 0.6115832779061945, -0.08736946889834596, -0.36000692139755774, -0.3667361367016704, -0.14460340722744572, -1.0873584985226108, -1.8492459999215174, 1.0231139215358867, 0.14559327389942203, 1.3358572110183067, -0.7173796458946975, 0.4212905502749479, -0.4152493201284364, 1.8217397831118682, 0.0036652386587695874, -1.782871248603041, -0.8529133973128455, 1.596156020677351], \"yaxis\": \"y12\"}, {\"line\": {\"color\": \"rgba(128, 128, 128, 1.0)\", \"dash\": \"solid\", \"shape\": \"linear\", \"width\": 1.3}, \"marker\": {\"size\": 2, \"symbol\": \"circle\"}, \"mode\": \"markers\", \"name\": \"D\", \"text\": \"\", \"type\": \"scatter\", \"x\": [0.0890236266217388, -0.8787154704351006, -0.5977533695209157, 1.0698110062679522, -0.7988921083264098, 0.5832383049156543, -0.24864835278907027, -0.7060503899937032, -0.17782255970080588, -0.5971957707353813, -0.2848860906535149, -0.3742407187026039, 0.4907659776092099, 0.8454677262211716, -0.2397947222641649, -2.0292890390339724, -1.2343508942203125, -0.581627027911337, -1.0059985872873767, 0.5190498956176977, -0.8050834897018041, -1.2332096157124222, 0.24081560942118724, 0.21907435531661296, 1.0790880176319952, 0.28539811590176767, 0.7275582865688938, -1.3737352892335288, 1.5015902347610783, -0.7633820933736835, 0.24237512494715135, 0.8172121522015262, 1.8896732207751532, -0.6351466997131315, 2.005318523682665, -0.580700518779291, 0.7512582762225731, -0.8321393543297784, -0.3153980856329165, -0.02040788440319213, -2.2934222272134384, 1.6394351565028256, -0.6005020999661731, -0.20898877817830225, -0.4939393931678909, -1.0223010529305525, -1.2450682862014761, -0.3750143012290298, -0.708562296521142, 0.38878227084235917, -2.0559894255214224, 1.4177343229429362, 1.0125524763703015, 0.2736842677201433, -1.690076207277851, 0.5740214411230689, -1.4218587639089526, 1.131981541075113, 1.128790595206288, -1.7793271621875348, 0.41361726580124564, 0.06515589060216231, 0.4932317233002984, -0.7378656158118205, -1.2319379637683658, -1.0507998526899458, 1.0849106188488342, -0.2797600190915077, -1.4551367052371373, 0.1544462179019029, -0.202836471763666, -0.71769159845839, 1.2309494921041828, 1.2092282398002012, 0.3235255842564463, 1.3316864092620504, 0.1513431336912556, 0.21827249329865175, -0.9835328681268078, -1.0362844907669773, -0.32551882727349163, -1.0723468668606093, -0.45027418094012583, 1.799000436413313, -0.7762852907022613, -0.3060841118077056, -0.20171888994438966, 1.1142185433582568, -0.2855190215679157, -0.7151109629949621, -0.15342200469247758, 1.3878568278354564, -0.3913794385268874, -0.33413504032172014, 1.2125676256249207, -0.6690852370697338, 0.7818229887533782, 1.1108926635943865, 0.9868797129047022, 0.8217126939072327], \"xaxis\": \"x13\", \"y\": [-0.32785208772956326, -0.06785803886552143, 0.20531277500386613, 1.1951903582338812, -1.3976623215796298, -0.05871598819976506, -0.5294115576305654, 1.4731210019457235, 0.4112288382342981, -2.5170159355144417, 0.10801255709274726, -0.3807757452226713, 2.044644936930708, 0.24499358691169149, -0.7666279920351564, 0.6104682681053788, 0.3362963098401381, -0.8537002883618845, -0.5691842677127584, 0.3133093675134218, 1.67455516186429, 0.6624779633708933, -2.564941929444399, 0.9497679680477368, -0.26468253669595415, -0.8030759549069167, 1.6064268390110041, -0.5904341907257554, -0.3253397858315221, -0.24463358595745335, 0.5394263995862915, -0.24304145750373965, -0.4188003240686415, -0.9593082349504745, -0.9571437349163218, 2.4554534048231234, 1.0456371545377205, -0.1603843503282899, 0.9821803641723885, 0.22763427608915662, -0.1493895459373003, 0.5712932576948321, 0.453468290428403, 0.14368171659714662, -1.9274903782955992, -0.5360630198493472, 0.9334914802418602, -0.7529071572883291, 0.041681949193690324, -0.41794614524461193, 1.339952326312011, 0.566465592776908, -0.5974302780754731, 2.0051855211135137, -1.1486865592916764, -0.5819448606996918, -0.34736492823631593, 0.026228848500067313, 1.1794267510272693, 0.7905500286476467, -1.061605327673259, -0.7139254327582141, -1.341527939318605, 0.38222804304121344, -2.8238152736465336, -0.9123395223296985, 1.8251162865311854, 0.2797056325200032, -0.38842532149643644, 1.4783250956420955, 1.5364754691186921, 1.1896479818453225, -1.5938518041805747, 0.840228873308692, -0.7754603383189963, 2.2701265901423278, 1.5034880861574493, 2.2081760131045667, 1.2588621415207644, 2.701189047720629, -0.2688536704889822, 0.2367784995191865, 0.7194877791314278, 0.4963944188483984, -1.0703684430172578, -0.9213741542279265, -0.009955609904234169, -1.7982565873940162, 0.8761520296140257, 0.3446337763129536, -0.8364595748617735, 1.746335937290738, -0.7441707689549959, -0.1276963160568414, 0.8617653680657681, 0.6155834742815333, 0.9728811960262296, -0.6265655910074107, 1.6701753458924138, 2.3141180106435315], \"yaxis\": \"y13\"}, {\"line\": {\"color\": \"rgba(128, 128, 128, 1.0)\", \"dash\": \"solid\", \"shape\": \"linear\", \"width\": 1.3}, \"marker\": {\"size\": 2, \"symbol\": \"circle\"}, \"mode\": \"markers\", \"name\": \"D\", \"text\": \"\", \"type\": \"scatter\", \"x\": [-0.35851340747689664, 0.8964559064908013, 0.8668851979644124, 1.3201101066639465, 0.8521632636565618, 0.1678193389215071, 0.7956218856845063, -1.485779184225525, -0.9397594214955171, -0.7276192600413182, 0.48133426516235733, -1.5591885658424542, -0.686558641849801, 2.18044367413078, -0.8224954720950357, 0.834264245771014, 1.1392133327228213, -0.056959375116270236, -0.08899218349335206, -0.770943166891278, 1.2796388775496115, -0.3275552737219343, -0.9163903526244046, 1.0538233753656439, -0.6853188384421511, -0.6275853279554117, 0.9179813481937266, 0.5189780842294516, 0.3712018800035291, -1.8252779744693999, -0.34236610898251557, -0.019428628026250238, -0.8881594465059595, 0.13060694430664255, -0.4121062043857643, -0.33180243234711787, -0.9683207227407323, 0.009546301482904817, 0.1895164509826522, -1.372607398389755, -0.2182857407326223, -0.9615140141635607, -0.7493604427082969, -0.2067713992218754, 0.7429830323549378, -0.7720878333472194, -0.31734743841448415, 0.3272924971873089, 1.1832213404981857, -0.33702307554729777, -0.7105241760247889, -0.029703270945312988, -0.004807880039269839, -1.9973825785516937, 2.5737789599651775, 0.865139824506424, -1.6945802437900994, -0.5994672286457641, -0.5028030406421471, -0.02329024402120451, -0.5017263309388669, 0.5785837836357898, -0.10987225399527062, 1.6049998267882604, 1.310629774867115, 2.0585814106620783, -0.37476648312106, -0.6251191985799067, 0.33967135556511246, 0.09113891525380655, -0.2050970211327267, 0.9770296374343848, -0.13155365069047867, 1.4927636399521946, 0.047661367603270104, -0.16380451935485263, -0.2037109505915858, 0.8456429731125856, -2.293700224952948, 1.14918628891375, -1.335207693057455, -0.41671154448101944, 1.199664637188824, -0.12133532891653313, -0.6475928932098416, 2.2874969525600846, -0.09027141045421477, -1.4881781082705703, -1.8618720474290251, 0.2864564719476295, -1.0643714350281643, 0.532804778438827, 0.07101988852484521, 1.2534553647894944, -0.609962890435716, 1.301392841865941, 0.008793702127127, 0.9942304385437866, 0.03762531473621305, -2.1766597195451514], \"xaxis\": \"x14\", \"y\": [-0.32785208772956326, -0.06785803886552143, 0.20531277500386613, 1.1951903582338812, -1.3976623215796298, -0.05871598819976506, -0.5294115576305654, 1.4731210019457235, 0.4112288382342981, -2.5170159355144417, 0.10801255709274726, -0.3807757452226713, 2.044644936930708, 0.24499358691169149, -0.7666279920351564, 0.6104682681053788, 0.3362963098401381, -0.8537002883618845, -0.5691842677127584, 0.3133093675134218, 1.67455516186429, 0.6624779633708933, -2.564941929444399, 0.9497679680477368, -0.26468253669595415, -0.8030759549069167, 1.6064268390110041, -0.5904341907257554, -0.3253397858315221, -0.24463358595745335, 0.5394263995862915, -0.24304145750373965, -0.4188003240686415, -0.9593082349504745, -0.9571437349163218, 2.4554534048231234, 1.0456371545377205, -0.1603843503282899, 0.9821803641723885, 0.22763427608915662, -0.1493895459373003, 0.5712932576948321, 0.453468290428403, 0.14368171659714662, -1.9274903782955992, -0.5360630198493472, 0.9334914802418602, -0.7529071572883291, 0.041681949193690324, -0.41794614524461193, 1.339952326312011, 0.566465592776908, -0.5974302780754731, 2.0051855211135137, -1.1486865592916764, -0.5819448606996918, -0.34736492823631593, 0.026228848500067313, 1.1794267510272693, 0.7905500286476467, -1.061605327673259, -0.7139254327582141, -1.341527939318605, 0.38222804304121344, -2.8238152736465336, -0.9123395223296985, 1.8251162865311854, 0.2797056325200032, -0.38842532149643644, 1.4783250956420955, 1.5364754691186921, 1.1896479818453225, -1.5938518041805747, 0.840228873308692, -0.7754603383189963, 2.2701265901423278, 1.5034880861574493, 2.2081760131045667, 1.2588621415207644, 2.701189047720629, -0.2688536704889822, 0.2367784995191865, 0.7194877791314278, 0.4963944188483984, -1.0703684430172578, -0.9213741542279265, -0.009955609904234169, -1.7982565873940162, 0.8761520296140257, 0.3446337763129536, -0.8364595748617735, 1.746335937290738, -0.7441707689549959, -0.1276963160568414, 0.8617653680657681, 0.6155834742815333, 0.9728811960262296, -0.6265655910074107, 1.6701753458924138, 2.3141180106435315], \"yaxis\": \"y14\"}, {\"line\": {\"color\": \"rgba(128, 128, 128, 1.0)\", \"dash\": \"solid\", \"shape\": \"linear\", \"width\": 1.3}, \"marker\": {\"size\": 2, \"symbol\": \"circle\"}, \"mode\": \"markers\", \"name\": \"D\", \"text\": \"\", \"type\": \"scatter\", \"x\": [-0.11275925141961757, 0.3476799754393253, -0.4222275113565367, 0.5533885742370918, -1.2618938484167306, -0.5225563147703599, -2.4637488309598474, -0.32297644342073123, 1.655453076134819, 0.5611652676172526, -0.1463547139411557, 0.22294346660957187, -1.2848909161847697, -2.8953873095258653, -1.2858758734249582, 0.3150031005153985, -0.5241827171605921, -0.9677883853597803, -0.41615752366769, -2.138197601571739, -0.4856048104597748, -2.208874988217804, 0.7766175342969884, 0.003981694482013667, -0.5760140059397335, 1.733478462455027, 0.648449369253872, 0.14815875081281407, -0.7938797605490059, 0.5120027211135333, -0.4473141501599969, 0.9570576074312408, -0.4167440712465049, 0.13046875318394702, -0.2989690625987172, 1.8900651522155112, -1.134321957221086, -0.3371303733545989, -0.4949685301033872, -2.4028955664079303, -1.3764338656713238, 1.709581760931209, -0.8547303860428226, -0.3149556010230478, -0.374553916081469, 0.43515801975860335, 0.09649635852917099, 1.418215881721197, 1.1220089708810042, -0.20618963037628144, 0.46011134015735206, 0.6360593891343618, -0.8147195954404538, 0.06409563637292645, 0.781220903119957, 1.0754186229775857, -0.07728213237324322, 0.9616681430757147, 1.5127215679977948, 1.8749832102624002, 0.1977303749530275, -0.20031516120938428, 2.0446348592707735, -0.7238402077148619, 0.8928523950448867, -0.09669631361290285, 1.8832892333063425, 0.784132498196328, 0.8290132687489427, -0.1585240196211482, 0.445792973227965, 1.8722297239655787, 0.18973706149240266, 1.244891218326293, 0.2401429256485272, -1.6090592771705234, 1.5485034332944003, 0.1653515824228414, -0.27592835675953226, 1.1048075195682239, 1.3176340005226554, 0.36589922365388666, 0.6115832779061945, -0.08736946889834596, -0.36000692139755774, -0.3667361367016704, -0.14460340722744572, -1.0873584985226108, -1.8492459999215174, 1.0231139215358867, 0.14559327389942203, 1.3358572110183067, -0.7173796458946975, 0.4212905502749479, -0.4152493201284364, 1.8217397831118682, 0.0036652386587695874, -1.782871248603041, -0.8529133973128455, 1.596156020677351], \"xaxis\": \"x15\", \"y\": [-0.32785208772956326, -0.06785803886552143, 0.20531277500386613, 1.1951903582338812, -1.3976623215796298, -0.05871598819976506, -0.5294115576305654, 1.4731210019457235, 0.4112288382342981, -2.5170159355144417, 0.10801255709274726, -0.3807757452226713, 2.044644936930708, 0.24499358691169149, -0.7666279920351564, 0.6104682681053788, 0.3362963098401381, -0.8537002883618845, -0.5691842677127584, 0.3133093675134218, 1.67455516186429, 0.6624779633708933, -2.564941929444399, 0.9497679680477368, -0.26468253669595415, -0.8030759549069167, 1.6064268390110041, -0.5904341907257554, -0.3253397858315221, -0.24463358595745335, 0.5394263995862915, -0.24304145750373965, -0.4188003240686415, -0.9593082349504745, -0.9571437349163218, 2.4554534048231234, 1.0456371545377205, -0.1603843503282899, 0.9821803641723885, 0.22763427608915662, -0.1493895459373003, 0.5712932576948321, 0.453468290428403, 0.14368171659714662, -1.9274903782955992, -0.5360630198493472, 0.9334914802418602, -0.7529071572883291, 0.041681949193690324, -0.41794614524461193, 1.339952326312011, 0.566465592776908, -0.5974302780754731, 2.0051855211135137, -1.1486865592916764, -0.5819448606996918, -0.34736492823631593, 0.026228848500067313, 1.1794267510272693, 0.7905500286476467, -1.061605327673259, -0.7139254327582141, -1.341527939318605, 0.38222804304121344, -2.8238152736465336, -0.9123395223296985, 1.8251162865311854, 0.2797056325200032, -0.38842532149643644, 1.4783250956420955, 1.5364754691186921, 1.1896479818453225, -1.5938518041805747, 0.840228873308692, -0.7754603383189963, 2.2701265901423278, 1.5034880861574493, 2.2081760131045667, 1.2588621415207644, 2.701189047720629, -0.2688536704889822, 0.2367784995191865, 0.7194877791314278, 0.4963944188483984, -1.0703684430172578, -0.9213741542279265, -0.009955609904234169, -1.7982565873940162, 0.8761520296140257, 0.3446337763129536, -0.8364595748617735, 1.746335937290738, -0.7441707689549959, -0.1276963160568414, 0.8617653680657681, 0.6155834742815333, 0.9728811960262296, -0.6265655910074107, 1.6701753458924138, 2.3141180106435315], \"yaxis\": \"y15\"}, {\"histfunc\": \"count\", \"histnorm\": \"\", \"marker\": {\"color\": \"rgba(128, 0, 128, 1.0)\", \"line\": {\"color\": \"#4D5663\", \"width\": 1.3}}, \"name\": \"D\", \"nbinsx\": 10, \"opacity\": 0.8, \"orientation\": \"v\", \"type\": \"histogram\", \"x\": [-0.32785208772956326, -0.06785803886552143, 0.20531277500386613, 1.1951903582338812, -1.3976623215796298, -0.05871598819976506, -0.5294115576305654, 1.4731210019457235, 0.4112288382342981, -2.5170159355144417, 0.10801255709274726, -0.3807757452226713, 2.044644936930708, 0.24499358691169149, -0.7666279920351564, 0.6104682681053788, 0.3362963098401381, -0.8537002883618845, -0.5691842677127584, 0.3133093675134218, 1.67455516186429, 0.6624779633708933, -2.564941929444399, 0.9497679680477368, -0.26468253669595415, -0.8030759549069167, 1.6064268390110041, -0.5904341907257554, -0.3253397858315221, -0.24463358595745335, 0.5394263995862915, -0.24304145750373965, -0.4188003240686415, -0.9593082349504745, -0.9571437349163218, 2.4554534048231234, 1.0456371545377205, -0.1603843503282899, 0.9821803641723885, 0.22763427608915662, -0.1493895459373003, 0.5712932576948321, 0.453468290428403, 0.14368171659714662, -1.9274903782955992, -0.5360630198493472, 0.9334914802418602, -0.7529071572883291, 0.041681949193690324, -0.41794614524461193, 1.339952326312011, 0.566465592776908, -0.5974302780754731, 2.0051855211135137, -1.1486865592916764, -0.5819448606996918, -0.34736492823631593, 0.026228848500067313, 1.1794267510272693, 0.7905500286476467, -1.061605327673259, -0.7139254327582141, -1.341527939318605, 0.38222804304121344, -2.8238152736465336, -0.9123395223296985, 1.8251162865311854, 0.2797056325200032, -0.38842532149643644, 1.4783250956420955, 1.5364754691186921, 1.1896479818453225, -1.5938518041805747, 0.840228873308692, -0.7754603383189963, 2.2701265901423278, 1.5034880861574493, 2.2081760131045667, 1.2588621415207644, 2.701189047720629, -0.2688536704889822, 0.2367784995191865, 0.7194877791314278, 0.4963944188483984, -1.0703684430172578, -0.9213741542279265, -0.009955609904234169, -1.7982565873940162, 0.8761520296140257, 0.3446337763129536, -0.8364595748617735, 1.746335937290738, -0.7441707689549959, -0.1276963160568414, 0.8617653680657681, 0.6155834742815333, 0.9728811960262296, -0.6265655910074107, 1.6701753458924138, 2.3141180106435315], \"xaxis\": \"x16\", \"yaxis\": \"y16\"}],\n",
       "                        {\"bargap\": 0.02, \"legend\": {\"bgcolor\": \"#F5F6F9\", \"font\": {\"color\": \"#4D5663\"}}, \"paper_bgcolor\": \"#F5F6F9\", \"plot_bgcolor\": \"#F5F6F9\", \"showlegend\": false, \"template\": {\"data\": {\"bar\": [{\"error_x\": {\"color\": \"#2a3f5f\"}, \"error_y\": {\"color\": \"#2a3f5f\"}, \"marker\": {\"line\": {\"color\": \"#E5ECF6\", \"width\": 0.5}}, \"type\": \"bar\"}], \"barpolar\": [{\"marker\": {\"line\": {\"color\": \"#E5ECF6\", \"width\": 0.5}}, \"type\": \"barpolar\"}], \"carpet\": [{\"aaxis\": {\"endlinecolor\": \"#2a3f5f\", \"gridcolor\": \"white\", \"linecolor\": \"white\", \"minorgridcolor\": \"white\", \"startlinecolor\": \"#2a3f5f\"}, \"baxis\": {\"endlinecolor\": \"#2a3f5f\", \"gridcolor\": \"white\", \"linecolor\": \"white\", \"minorgridcolor\": \"white\", \"startlinecolor\": \"#2a3f5f\"}, \"type\": \"carpet\"}], \"choropleth\": [{\"colorbar\": {\"outlinewidth\": 0, \"ticks\": \"\"}, \"type\": \"choropleth\"}], \"contour\": [{\"colorbar\": {\"outlinewidth\": 0, \"ticks\": \"\"}, \"colorscale\": [[0.0, \"#0d0887\"], [0.1111111111111111, \"#46039f\"], [0.2222222222222222, \"#7201a8\"], [0.3333333333333333, \"#9c179e\"], [0.4444444444444444, \"#bd3786\"], [0.5555555555555556, \"#d8576b\"], [0.6666666666666666, \"#ed7953\"], [0.7777777777777778, \"#fb9f3a\"], [0.8888888888888888, \"#fdca26\"], [1.0, \"#f0f921\"]], \"type\": \"contour\"}], \"contourcarpet\": [{\"colorbar\": {\"outlinewidth\": 0, \"ticks\": \"\"}, \"type\": \"contourcarpet\"}], \"heatmap\": [{\"colorbar\": {\"outlinewidth\": 0, \"ticks\": \"\"}, \"colorscale\": [[0.0, \"#0d0887\"], [0.1111111111111111, \"#46039f\"], [0.2222222222222222, \"#7201a8\"], [0.3333333333333333, \"#9c179e\"], [0.4444444444444444, \"#bd3786\"], [0.5555555555555556, \"#d8576b\"], [0.6666666666666666, \"#ed7953\"], [0.7777777777777778, \"#fb9f3a\"], [0.8888888888888888, \"#fdca26\"], [1.0, \"#f0f921\"]], \"type\": \"heatmap\"}], \"heatmapgl\": [{\"colorbar\": {\"outlinewidth\": 0, \"ticks\": \"\"}, \"colorscale\": [[0.0, \"#0d0887\"], [0.1111111111111111, \"#46039f\"], [0.2222222222222222, \"#7201a8\"], [0.3333333333333333, \"#9c179e\"], [0.4444444444444444, \"#bd3786\"], [0.5555555555555556, \"#d8576b\"], [0.6666666666666666, \"#ed7953\"], [0.7777777777777778, \"#fb9f3a\"], [0.8888888888888888, \"#fdca26\"], [1.0, \"#f0f921\"]], \"type\": \"heatmapgl\"}], \"histogram\": [{\"marker\": {\"colorbar\": {\"outlinewidth\": 0, \"ticks\": \"\"}}, \"type\": \"histogram\"}], \"histogram2d\": [{\"colorbar\": {\"outlinewidth\": 0, \"ticks\": \"\"}, \"colorscale\": [[0.0, \"#0d0887\"], [0.1111111111111111, \"#46039f\"], [0.2222222222222222, \"#7201a8\"], [0.3333333333333333, \"#9c179e\"], [0.4444444444444444, \"#bd3786\"], [0.5555555555555556, \"#d8576b\"], [0.6666666666666666, \"#ed7953\"], [0.7777777777777778, \"#fb9f3a\"], [0.8888888888888888, \"#fdca26\"], [1.0, \"#f0f921\"]], \"type\": \"histogram2d\"}], \"histogram2dcontour\": [{\"colorbar\": {\"outlinewidth\": 0, \"ticks\": \"\"}, \"colorscale\": [[0.0, \"#0d0887\"], [0.1111111111111111, \"#46039f\"], [0.2222222222222222, \"#7201a8\"], [0.3333333333333333, \"#9c179e\"], [0.4444444444444444, \"#bd3786\"], [0.5555555555555556, \"#d8576b\"], [0.6666666666666666, \"#ed7953\"], [0.7777777777777778, \"#fb9f3a\"], [0.8888888888888888, \"#fdca26\"], [1.0, \"#f0f921\"]], \"type\": \"histogram2dcontour\"}], \"mesh3d\": [{\"colorbar\": {\"outlinewidth\": 0, \"ticks\": \"\"}, \"type\": \"mesh3d\"}], \"parcoords\": [{\"line\": {\"colorbar\": {\"outlinewidth\": 0, \"ticks\": \"\"}}, \"type\": \"parcoords\"}], \"pie\": [{\"automargin\": true, \"type\": \"pie\"}], \"scatter\": [{\"marker\": {\"colorbar\": {\"outlinewidth\": 0, \"ticks\": \"\"}}, \"type\": \"scatter\"}], \"scatter3d\": [{\"line\": {\"colorbar\": {\"outlinewidth\": 0, \"ticks\": \"\"}}, \"marker\": {\"colorbar\": {\"outlinewidth\": 0, \"ticks\": \"\"}}, \"type\": \"scatter3d\"}], \"scattercarpet\": [{\"marker\": {\"colorbar\": {\"outlinewidth\": 0, \"ticks\": \"\"}}, \"type\": \"scattercarpet\"}], \"scattergeo\": [{\"marker\": {\"colorbar\": {\"outlinewidth\": 0, \"ticks\": \"\"}}, \"type\": \"scattergeo\"}], \"scattergl\": [{\"marker\": {\"colorbar\": {\"outlinewidth\": 0, \"ticks\": \"\"}}, \"type\": \"scattergl\"}], \"scattermapbox\": [{\"marker\": {\"colorbar\": {\"outlinewidth\": 0, \"ticks\": \"\"}}, \"type\": \"scattermapbox\"}], \"scatterpolar\": [{\"marker\": {\"colorbar\": {\"outlinewidth\": 0, \"ticks\": \"\"}}, \"type\": \"scatterpolar\"}], \"scatterpolargl\": [{\"marker\": {\"colorbar\": {\"outlinewidth\": 0, \"ticks\": \"\"}}, \"type\": \"scatterpolargl\"}], \"scatterternary\": [{\"marker\": {\"colorbar\": {\"outlinewidth\": 0, \"ticks\": \"\"}}, \"type\": \"scatterternary\"}], \"surface\": [{\"colorbar\": {\"outlinewidth\": 0, \"ticks\": \"\"}, \"colorscale\": [[0.0, \"#0d0887\"], [0.1111111111111111, \"#46039f\"], [0.2222222222222222, \"#7201a8\"], [0.3333333333333333, \"#9c179e\"], [0.4444444444444444, \"#bd3786\"], [0.5555555555555556, \"#d8576b\"], [0.6666666666666666, \"#ed7953\"], [0.7777777777777778, \"#fb9f3a\"], [0.8888888888888888, \"#fdca26\"], [1.0, \"#f0f921\"]], \"type\": \"surface\"}], \"table\": [{\"cells\": {\"fill\": {\"color\": \"#EBF0F8\"}, \"line\": {\"color\": \"white\"}}, \"header\": {\"fill\": {\"color\": \"#C8D4E3\"}, \"line\": {\"color\": \"white\"}}, \"type\": \"table\"}]}, \"layout\": {\"annotationdefaults\": {\"arrowcolor\": \"#2a3f5f\", \"arrowhead\": 0, \"arrowwidth\": 1}, \"coloraxis\": {\"colorbar\": {\"outlinewidth\": 0, \"ticks\": \"\"}}, \"colorscale\": {\"diverging\": [[0, \"#8e0152\"], [0.1, \"#c51b7d\"], [0.2, \"#de77ae\"], [0.3, \"#f1b6da\"], [0.4, \"#fde0ef\"], [0.5, \"#f7f7f7\"], [0.6, \"#e6f5d0\"], [0.7, \"#b8e186\"], [0.8, \"#7fbc41\"], [0.9, \"#4d9221\"], [1, \"#276419\"]], \"sequential\": [[0.0, \"#0d0887\"], [0.1111111111111111, \"#46039f\"], [0.2222222222222222, \"#7201a8\"], [0.3333333333333333, \"#9c179e\"], [0.4444444444444444, \"#bd3786\"], [0.5555555555555556, \"#d8576b\"], [0.6666666666666666, \"#ed7953\"], [0.7777777777777778, \"#fb9f3a\"], [0.8888888888888888, \"#fdca26\"], [1.0, \"#f0f921\"]], \"sequentialminus\": [[0.0, \"#0d0887\"], [0.1111111111111111, \"#46039f\"], [0.2222222222222222, \"#7201a8\"], [0.3333333333333333, \"#9c179e\"], [0.4444444444444444, \"#bd3786\"], [0.5555555555555556, \"#d8576b\"], [0.6666666666666666, \"#ed7953\"], [0.7777777777777778, \"#fb9f3a\"], [0.8888888888888888, \"#fdca26\"], [1.0, \"#f0f921\"]]}, \"colorway\": [\"#636efa\", \"#EF553B\", \"#00cc96\", \"#ab63fa\", \"#FFA15A\", \"#19d3f3\", \"#FF6692\", \"#B6E880\", \"#FF97FF\", \"#FECB52\"], \"font\": {\"color\": \"#2a3f5f\"}, \"geo\": {\"bgcolor\": \"white\", \"lakecolor\": \"white\", \"landcolor\": \"#E5ECF6\", \"showlakes\": true, \"showland\": true, \"subunitcolor\": \"white\"}, \"hoverlabel\": {\"align\": \"left\"}, \"hovermode\": \"closest\", \"mapbox\": {\"style\": \"light\"}, \"paper_bgcolor\": \"white\", \"plot_bgcolor\": \"#E5ECF6\", \"polar\": {\"angularaxis\": {\"gridcolor\": \"white\", \"linecolor\": \"white\", \"ticks\": \"\"}, \"bgcolor\": \"#E5ECF6\", \"radialaxis\": {\"gridcolor\": \"white\", \"linecolor\": \"white\", \"ticks\": \"\"}}, \"scene\": {\"xaxis\": {\"backgroundcolor\": \"#E5ECF6\", \"gridcolor\": \"white\", \"gridwidth\": 2, \"linecolor\": \"white\", \"showbackground\": true, \"ticks\": \"\", \"zerolinecolor\": \"white\"}, \"yaxis\": {\"backgroundcolor\": \"#E5ECF6\", \"gridcolor\": \"white\", \"gridwidth\": 2, \"linecolor\": \"white\", \"showbackground\": true, \"ticks\": \"\", \"zerolinecolor\": \"white\"}, \"zaxis\": {\"backgroundcolor\": \"#E5ECF6\", \"gridcolor\": \"white\", \"gridwidth\": 2, \"linecolor\": \"white\", \"showbackground\": true, \"ticks\": \"\", \"zerolinecolor\": \"white\"}}, \"shapedefaults\": {\"line\": {\"color\": \"#2a3f5f\"}}, \"ternary\": {\"aaxis\": {\"gridcolor\": \"white\", \"linecolor\": \"white\", \"ticks\": \"\"}, \"baxis\": {\"gridcolor\": \"white\", \"linecolor\": \"white\", \"ticks\": \"\"}, \"bgcolor\": \"#E5ECF6\", \"caxis\": {\"gridcolor\": \"white\", \"linecolor\": \"white\", \"ticks\": \"\"}}, \"title\": {\"x\": 0.05}, \"xaxis\": {\"automargin\": true, \"gridcolor\": \"white\", \"linecolor\": \"white\", \"ticks\": \"\", \"title\": {\"standoff\": 15}, \"zerolinecolor\": \"white\", \"zerolinewidth\": 2}, \"yaxis\": {\"automargin\": true, \"gridcolor\": \"white\", \"linecolor\": \"white\", \"ticks\": \"\", \"title\": {\"standoff\": 15}, \"zerolinecolor\": \"white\", \"zerolinewidth\": 2}}}, \"title\": {\"font\": {\"color\": \"#4D5663\"}}, \"xaxis\": {\"anchor\": \"y\", \"domain\": [0.0, 0.2125], \"gridcolor\": \"#E1E5ED\", \"showgrid\": false, \"tickfont\": {\"color\": \"#4D5663\"}, \"title\": {\"font\": {\"color\": \"#4D5663\"}, \"text\": \"\"}, \"zerolinecolor\": \"#E1E5ED\"}, \"xaxis10\": {\"anchor\": \"y10\", \"domain\": [0.2625, 0.475], \"gridcolor\": \"#E1E5ED\", \"showgrid\": false, \"tickfont\": {\"color\": \"#4D5663\"}, \"title\": {\"font\": {\"color\": \"#4D5663\"}, \"text\": \"\"}, \"zerolinecolor\": \"#E1E5ED\"}, \"xaxis11\": {\"anchor\": \"y11\", \"domain\": [0.525, 0.7375], \"gridcolor\": \"#E1E5ED\", \"showgrid\": false, \"tickfont\": {\"color\": \"#4D5663\"}, \"title\": {\"font\": {\"color\": \"#4D5663\"}, \"text\": \"\"}, \"zerolinecolor\": \"#E1E5ED\"}, \"xaxis12\": {\"anchor\": \"y12\", \"domain\": [0.7875, 1.0], \"gridcolor\": \"#E1E5ED\", \"showgrid\": false, \"tickfont\": {\"color\": \"#4D5663\"}, \"title\": {\"font\": {\"color\": \"#4D5663\"}, \"text\": \"\"}, \"zerolinecolor\": \"#E1E5ED\"}, \"xaxis13\": {\"anchor\": \"y13\", \"domain\": [0.0, 0.2125], \"gridcolor\": \"#E1E5ED\", \"showgrid\": false, \"tickfont\": {\"color\": \"#4D5663\"}, \"title\": {\"font\": {\"color\": \"#4D5663\"}, \"text\": \"\"}, \"zerolinecolor\": \"#E1E5ED\"}, \"xaxis14\": {\"anchor\": \"y14\", \"domain\": [0.2625, 0.475], \"gridcolor\": \"#E1E5ED\", \"showgrid\": false, \"tickfont\": {\"color\": \"#4D5663\"}, \"title\": {\"font\": {\"color\": \"#4D5663\"}, \"text\": \"\"}, \"zerolinecolor\": \"#E1E5ED\"}, \"xaxis15\": {\"anchor\": \"y15\", \"domain\": [0.525, 0.7375], \"gridcolor\": \"#E1E5ED\", \"showgrid\": false, \"tickfont\": {\"color\": \"#4D5663\"}, \"title\": {\"font\": {\"color\": \"#4D5663\"}, \"text\": \"\"}, \"zerolinecolor\": \"#E1E5ED\"}, \"xaxis16\": {\"anchor\": \"y16\", \"domain\": [0.7875, 1.0], \"gridcolor\": \"#E1E5ED\", \"showgrid\": false, \"tickfont\": {\"color\": \"#4D5663\"}, \"title\": {\"font\": {\"color\": \"#4D5663\"}, \"text\": \"\"}, \"zerolinecolor\": \"#E1E5ED\"}, \"xaxis2\": {\"anchor\": \"y2\", \"domain\": [0.2625, 0.475], \"gridcolor\": \"#E1E5ED\", \"showgrid\": false, \"tickfont\": {\"color\": \"#4D5663\"}, \"title\": {\"font\": {\"color\": \"#4D5663\"}, \"text\": \"\"}, \"zerolinecolor\": \"#E1E5ED\"}, \"xaxis3\": {\"anchor\": \"y3\", \"domain\": [0.525, 0.7375], \"gridcolor\": \"#E1E5ED\", \"showgrid\": false, \"tickfont\": {\"color\": \"#4D5663\"}, \"title\": {\"font\": {\"color\": \"#4D5663\"}, \"text\": \"\"}, \"zerolinecolor\": \"#E1E5ED\"}, \"xaxis4\": {\"anchor\": \"y4\", \"domain\": [0.7875, 1.0], \"gridcolor\": \"#E1E5ED\", \"showgrid\": false, \"tickfont\": {\"color\": \"#4D5663\"}, \"title\": {\"font\": {\"color\": \"#4D5663\"}, \"text\": \"\"}, \"zerolinecolor\": \"#E1E5ED\"}, \"xaxis5\": {\"anchor\": \"y5\", \"domain\": [0.0, 0.2125], \"gridcolor\": \"#E1E5ED\", \"showgrid\": false, \"tickfont\": {\"color\": \"#4D5663\"}, \"title\": {\"font\": {\"color\": \"#4D5663\"}, \"text\": \"\"}, \"zerolinecolor\": \"#E1E5ED\"}, \"xaxis6\": {\"anchor\": \"y6\", \"domain\": [0.2625, 0.475], \"gridcolor\": \"#E1E5ED\", \"showgrid\": false, \"tickfont\": {\"color\": \"#4D5663\"}, \"title\": {\"font\": {\"color\": \"#4D5663\"}, \"text\": \"\"}, \"zerolinecolor\": \"#E1E5ED\"}, \"xaxis7\": {\"anchor\": \"y7\", \"domain\": [0.525, 0.7375], \"gridcolor\": \"#E1E5ED\", \"showgrid\": false, \"tickfont\": {\"color\": \"#4D5663\"}, \"title\": {\"font\": {\"color\": \"#4D5663\"}, \"text\": \"\"}, \"zerolinecolor\": \"#E1E5ED\"}, \"xaxis8\": {\"anchor\": \"y8\", \"domain\": [0.7875, 1.0], \"gridcolor\": \"#E1E5ED\", \"showgrid\": false, \"tickfont\": {\"color\": \"#4D5663\"}, \"title\": {\"font\": {\"color\": \"#4D5663\"}, \"text\": \"\"}, \"zerolinecolor\": \"#E1E5ED\"}, \"xaxis9\": {\"anchor\": \"y9\", \"domain\": [0.0, 0.2125], \"gridcolor\": \"#E1E5ED\", \"showgrid\": false, \"tickfont\": {\"color\": \"#4D5663\"}, \"title\": {\"font\": {\"color\": \"#4D5663\"}, \"text\": \"\"}, \"zerolinecolor\": \"#E1E5ED\"}, \"yaxis\": {\"anchor\": \"x\", \"domain\": [0.8025, 1.0], \"gridcolor\": \"#E1E5ED\", \"showgrid\": false, \"tickfont\": {\"color\": \"#4D5663\"}, \"title\": {\"font\": {\"color\": \"#4D5663\"}, \"text\": \"\"}, \"zerolinecolor\": \"#E1E5ED\"}, \"yaxis10\": {\"anchor\": \"x10\", \"domain\": [0.2675, 0.465], \"gridcolor\": \"#E1E5ED\", \"showgrid\": false, \"tickfont\": {\"color\": \"#4D5663\"}, \"title\": {\"font\": {\"color\": \"#4D5663\"}, \"text\": \"\"}, \"zerolinecolor\": \"#E1E5ED\"}, \"yaxis11\": {\"anchor\": \"x11\", \"domain\": [0.2675, 0.465], \"gridcolor\": \"#E1E5ED\", \"showgrid\": false, \"tickfont\": {\"color\": \"#4D5663\"}, \"title\": {\"font\": {\"color\": \"#4D5663\"}, \"text\": \"\"}, \"zerolinecolor\": \"#E1E5ED\"}, \"yaxis12\": {\"anchor\": \"x12\", \"domain\": [0.2675, 0.465], \"gridcolor\": \"#E1E5ED\", \"showgrid\": false, \"tickfont\": {\"color\": \"#4D5663\"}, \"title\": {\"font\": {\"color\": \"#4D5663\"}, \"text\": \"\"}, \"zerolinecolor\": \"#E1E5ED\"}, \"yaxis13\": {\"anchor\": \"x13\", \"domain\": [0.0, 0.1975], \"gridcolor\": \"#E1E5ED\", \"showgrid\": false, \"tickfont\": {\"color\": \"#4D5663\"}, \"title\": {\"font\": {\"color\": \"#4D5663\"}, \"text\": \"\"}, \"zerolinecolor\": \"#E1E5ED\"}, \"yaxis14\": {\"anchor\": \"x14\", \"domain\": [0.0, 0.1975], \"gridcolor\": \"#E1E5ED\", \"showgrid\": false, \"tickfont\": {\"color\": \"#4D5663\"}, \"title\": {\"font\": {\"color\": \"#4D5663\"}, \"text\": \"\"}, \"zerolinecolor\": \"#E1E5ED\"}, \"yaxis15\": {\"anchor\": \"x15\", \"domain\": [0.0, 0.1975], \"gridcolor\": \"#E1E5ED\", \"showgrid\": false, \"tickfont\": {\"color\": \"#4D5663\"}, \"title\": {\"font\": {\"color\": \"#4D5663\"}, \"text\": \"\"}, \"zerolinecolor\": \"#E1E5ED\"}, \"yaxis16\": {\"anchor\": \"x16\", \"domain\": [0.0, 0.1975], \"gridcolor\": \"#E1E5ED\", \"showgrid\": false, \"tickfont\": {\"color\": \"#4D5663\"}, \"title\": {\"font\": {\"color\": \"#4D5663\"}, \"text\": \"\"}, \"zerolinecolor\": \"#E1E5ED\"}, \"yaxis2\": {\"anchor\": \"x2\", \"domain\": [0.8025, 1.0], \"gridcolor\": \"#E1E5ED\", \"showgrid\": false, \"tickfont\": {\"color\": \"#4D5663\"}, \"title\": {\"font\": {\"color\": \"#4D5663\"}, \"text\": \"\"}, \"zerolinecolor\": \"#E1E5ED\"}, \"yaxis3\": {\"anchor\": \"x3\", \"domain\": [0.8025, 1.0], \"gridcolor\": \"#E1E5ED\", \"showgrid\": false, \"tickfont\": {\"color\": \"#4D5663\"}, \"title\": {\"font\": {\"color\": \"#4D5663\"}, \"text\": \"\"}, \"zerolinecolor\": \"#E1E5ED\"}, \"yaxis4\": {\"anchor\": \"x4\", \"domain\": [0.8025, 1.0], \"gridcolor\": \"#E1E5ED\", \"showgrid\": false, \"tickfont\": {\"color\": \"#4D5663\"}, \"title\": {\"font\": {\"color\": \"#4D5663\"}, \"text\": \"\"}, \"zerolinecolor\": \"#E1E5ED\"}, \"yaxis5\": {\"anchor\": \"x5\", \"domain\": [0.535, 0.7325], \"gridcolor\": \"#E1E5ED\", \"showgrid\": false, \"tickfont\": {\"color\": \"#4D5663\"}, \"title\": {\"font\": {\"color\": \"#4D5663\"}, \"text\": \"\"}, \"zerolinecolor\": \"#E1E5ED\"}, \"yaxis6\": {\"anchor\": \"x6\", \"domain\": [0.535, 0.7325], \"gridcolor\": \"#E1E5ED\", \"showgrid\": false, \"tickfont\": {\"color\": \"#4D5663\"}, \"title\": {\"font\": {\"color\": \"#4D5663\"}, \"text\": \"\"}, \"zerolinecolor\": \"#E1E5ED\"}, \"yaxis7\": {\"anchor\": \"x7\", \"domain\": [0.535, 0.7325], \"gridcolor\": \"#E1E5ED\", \"showgrid\": false, \"tickfont\": {\"color\": \"#4D5663\"}, \"title\": {\"font\": {\"color\": \"#4D5663\"}, \"text\": \"\"}, \"zerolinecolor\": \"#E1E5ED\"}, \"yaxis8\": {\"anchor\": \"x8\", \"domain\": [0.535, 0.7325], \"gridcolor\": \"#E1E5ED\", \"showgrid\": false, \"tickfont\": {\"color\": \"#4D5663\"}, \"title\": {\"font\": {\"color\": \"#4D5663\"}, \"text\": \"\"}, \"zerolinecolor\": \"#E1E5ED\"}, \"yaxis9\": {\"anchor\": \"x9\", \"domain\": [0.2675, 0.465], \"gridcolor\": \"#E1E5ED\", \"showgrid\": false, \"tickfont\": {\"color\": \"#4D5663\"}, \"title\": {\"font\": {\"color\": \"#4D5663\"}, \"text\": \"\"}, \"zerolinecolor\": \"#E1E5ED\"}},\n",
       "                        {\"showLink\": true, \"linkText\": \"Export to plot.ly\", \"plotlyServerURL\": \"https://plot.ly\", \"responsive\": true}\n",
       "                    ).then(function(){\n",
       "                            \n",
       "var gd = document.getElementById('f6fb0d20-d2f9-4ecb-8baf-17ff63b190d7');\n",
       "var x = new MutationObserver(function (mutations, observer) {{\n",
       "        var display = window.getComputedStyle(gd).display;\n",
       "        if (!display || display === 'none') {{\n",
       "            console.log([gd, 'removed!']);\n",
       "            Plotly.purge(gd);\n",
       "            observer.disconnect();\n",
       "        }}\n",
       "}});\n",
       "\n",
       "// Listen for the removal of the full notebook cells\n",
       "var notebookContainer = gd.closest('#notebook-container');\n",
       "if (notebookContainer) {{\n",
       "    x.observe(notebookContainer, {childList: true});\n",
       "}}\n",
       "\n",
       "// Listen for the clearing of the current output cell\n",
       "var outputEl = gd.closest('.output');\n",
       "if (outputEl) {{\n",
       "    x.observe(outputEl, {childList: true});\n",
       "}}\n",
       "\n",
       "                        })\n",
       "                };\n",
       "                });\n",
       "            </script>\n",
       "        </div>"
      ]
     },
     "metadata": {},
     "output_type": "display_data"
    }
   ],
   "source": [
    "df.scatter_matrix()"
   ]
  },
  {
   "cell_type": "markdown",
   "metadata": {
    "collapsed": true
   },
   "source": [
    "# Great Job!"
   ]
  }
 ],
 "metadata": {
  "kernelspec": {
   "display_name": "Python 3",
   "language": "python",
   "name": "python3"
  },
  "language_info": {
   "codemirror_mode": {
    "name": "ipython",
    "version": 3
   },
   "file_extension": ".py",
   "mimetype": "text/x-python",
   "name": "python",
   "nbconvert_exporter": "python",
   "pygments_lexer": "ipython3",
   "version": "3.7.4"
  }
 },
 "nbformat": 4,
 "nbformat_minor": 1
}
